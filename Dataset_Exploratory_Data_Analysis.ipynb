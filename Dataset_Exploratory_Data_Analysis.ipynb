{
 "cells": [
  {
   "cell_type": "markdown",
   "id": "44f1536d",
   "metadata": {},
   "source": [
    "## Preparation"
   ]
  },
  {
   "cell_type": "markdown",
   "id": "17fede65",
   "metadata": {},
   "source": [
    "#### Import libraries needed."
   ]
  },
  {
   "cell_type": "code",
   "execution_count": 2,
   "id": "e1bf956a",
   "metadata": {},
   "outputs": [],
   "source": [
    "import pandas as pd\n",
    "import re \n",
    "import xlrd # to read excel\n",
    "import nltk # NLP toolkit\n",
    "import matplotlib.pyplot as plt # for visualization\n",
    "import string # for handling string\n",
    "import seaborn as sns\n",
    "import spacy"
   ]
  },
  {
   "cell_type": "markdown",
   "id": "a0dd5bba",
   "metadata": {},
   "source": [
    "#### Access the location of origin file by declaring the path"
   ]
  },
  {
   "cell_type": "code",
   "execution_count": 3,
   "id": "b1e96910",
   "metadata": {},
   "outputs": [],
   "source": [
    "# give the location \n",
    "data_path = '/Users/cathzzr2/Desktop/dataset/'\n",
    "data_filename = 'dataset.xlsx'\n",
    "# default path to the origin_file\n",
    "summary = pd.read_excel(data_path + data_filename,header=0) # (default: 0)"
   ]
  },
  {
   "cell_type": "markdown",
   "id": "9c83fc61",
   "metadata": {},
   "source": [
    "#### 1.1 Basic Properties - size, head, tail, etc. "
   ]
  },
  {
   "cell_type": "code",
   "execution_count": null,
   "id": "64b3b485",
   "metadata": {},
   "outputs": [],
   "source": [
    "print(summary.shape) # size of the excel: (row, colume)\n",
    "print(summary.columns) # index of columns\n",
    "print(summary.head(3)) # preview top 3 rows (default: 5)\n",
    "print(summary.tail(3)) # preview top 3 rows (default: 5)\n",
    "print(summary.describe) # only integer variables are shown\n",
    "print(summary.nunique)\n",
    "print(summary['Authors'].unique())"
   ]
  },
  {
   "cell_type": "markdown",
   "id": "481f82b8",
   "metadata": {},
   "source": [
    "#### 2.1 Cleaning the Data - remove null cells, convert to lowercases, remove punctuations"
   ]
  },
  {
   "cell_type": "code",
   "execution_count": null,
   "id": "dcaf624c",
   "metadata": {},
   "outputs": [],
   "source": [
    "# number of null cells in each columns\n",
    "print(summary.isnull().sum()) \n",
    "# drop unnecessary index and store it to a new file\n",
    "new = summary.drop(['Date', 'UID', 'PDF URL', 'Cyber_Risk', 'Not_Cyber'], axis=1) \n",
    "# Lowercase the summary\n",
    "new['summary_in_lowercase']=new['Summary'].apply(lambda x: x.lower())\n",
    "new['summary_without_punkt']=new['summary_in_lowercase'].apply(lambda x: re.sub('[%s]' % re.escape(string.punctuation), '', x))\n",
    "print(new.head(1))"
   ]
  },
  {
   "cell_type": "markdown",
   "id": "f903be76",
   "metadata": {},
   "source": [
    "#### 2.2 Cleaning the Data - remove stopwords"
   ]
  },
  {
   "cell_type": "code",
   "execution_count": null,
   "id": "8f6a79f3",
   "metadata": {},
   "outputs": [],
   "source": [
    "from nltk.corpus import stopwords\n",
    "stoplist = set(stopwords.words(\"english\"))\n",
    "nltk.download('punkt')"
   ]
  },
  {
   "cell_type": "markdown",
   "id": "debdc217",
   "metadata": {},
   "source": [
    "## Exploratory Data Analysis"
   ]
  },
  {
   "cell_type": "markdown",
   "id": "310b0c9e",
   "metadata": {},
   "source": [
    "#### 3.1 Tokenization"
   ]
  },
  {
   "cell_type": "code",
   "execution_count": 7,
   "id": "99013196",
   "metadata": {},
   "outputs": [],
   "source": [
    "from nltk.tokenize import word_tokenize \n",
    "\n",
    "# tokenization\n",
    "def preprocess(text):\n",
    "  formatted_text = text.lower()\n",
    "  tokens = []\n",
    "  for token in nltk.word_tokenize(formatted_text):\n",
    "    tokens.append(token)\n",
    "  tokens = [word for word in tokens if word not in stoplist and word not in string.punctuation]\n",
    "  formatted_text = ' '.join(element for element in tokens)\n",
    "\n",
    "  return formatted_text\n",
    "# remove stop words\n",
    "new['summary_without_stopw']=new['summary_without_punkt'].apply(lambda x: preprocess(x))\n",
    "\n",
    "# Loading model\n",
    "nlp = spacy.load('en_core_web_sm',disable=['parser', 'ner'])\n",
    "\n",
    "# Lemmatization with stopwords removal\n",
    "new['lemmatized']=new['summary_without_stopw'].apply(lambda x: ' '.join([token.lemma_ for token in list(nlp(x)) if (token.is_stop==False)]))\n"
   ]
  },
  {
   "cell_type": "markdown",
   "id": "5b6c0fee",
   "metadata": {},
   "source": [
    "#### 4.1 Word Frequency - Document Term Matrix"
   ]
  },
  {
   "cell_type": "code",
   "execution_count": null,
   "id": "7a5a9459",
   "metadata": {},
   "outputs": [],
   "source": [
    "# Creating Document Term Matrix\n",
    "from sklearn.feature_extraction.text import CountVectorizer\n",
    "cv=CountVectorizer(analyzer='word')\n",
    "data=cv.fit_transform(new['lemmatized'])\n",
    "new_dtm = pd.DataFrame(data.toarray(), columns=cv.get_feature_names())\n",
    "new_dtm.index=new.index\n",
    "new_dtm.head(30) # customize rows"
   ]
  },
  {
   "cell_type": "markdown",
   "id": "bd2a2ca2",
   "metadata": {},
   "source": [
    "#### 4.2.1 Word Frequency - Visualization - Word Cloud "
   ]
  },
  {
   "cell_type": "code",
   "execution_count": null,
   "id": "43df4b44",
   "metadata": {},
   "outputs": [],
   "source": [
    "from wordcloud import WordCloud\n",
    "from textwrap import wrap\n",
    "# Function for generating word clouds\n",
    "def generate_wordcloud(data,title):\n",
    "  wc = WordCloud(width=400, height=330, max_words=150,colormap=\"Dark2\").generate_from_frequencies(data)\n",
    "  plt.figure(figsize=(10,8))\n",
    "  plt.imshow(wc, interpolation='bilinear')\n",
    "  plt.axis(\"off\")\n",
    "  plt.title('\\n'.join(wrap(title,60)),fontsize=13)\n",
    "  plt.show()\n",
    "  \n",
    "# Transposing document term matrix\n",
    "new_dtm=new_dtm.transpose()\n",
    "\n",
    "# Plotting word cloud for each product\n",
    "for index,product in enumerate(new_dtm.columns):\n",
    "  generate_wordcloud(new_dtm[product].sort_values(ascending=False),product)"
   ]
  },
  {
   "cell_type": "markdown",
   "id": "596c30e9",
   "metadata": {},
   "source": [
    "#### 4.2.2 Word Frequency - Visualization - Plot with MATLAB"
   ]
  },
  {
   "cell_type": "code",
   "execution_count": null,
   "id": "7d38cb32",
   "metadata": {},
   "outputs": [],
   "source": []
  }
 ],
 "metadata": {
  "kernelspec": {
   "display_name": "Python 3 (ipykernel)",
   "language": "python",
   "name": "python3"
  },
  "language_info": {
   "codemirror_mode": {
    "name": "ipython",
    "version": 3
   },
   "file_extension": ".py",
   "mimetype": "text/x-python",
   "name": "python",
   "nbconvert_exporter": "python",
   "pygments_lexer": "ipython3",
   "version": "3.9.7"
  }
 },
 "nbformat": 4,
 "nbformat_minor": 5
}
