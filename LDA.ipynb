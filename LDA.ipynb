{
 "cells": [
  {
   "cell_type": "code",
   "execution_count": 1,
   "id": "d32f900a",
   "metadata": {},
   "outputs": [
    {
     "name": "stdout",
     "output_type": "stream",
     "text": [
      "Requirement already satisfied: nltk in c:\\users\\zhiruoz2\\anaconda3\\lib\\site-packages (3.6.5)\n",
      "Requirement already satisfied: click in c:\\users\\zhiruoz2\\anaconda3\\lib\\site-packages (from nltk) (8.0.3)\n",
      "Requirement already satisfied: joblib in c:\\users\\zhiruoz2\\anaconda3\\lib\\site-packages (from nltk) (1.1.0)\n",
      "Requirement already satisfied: regex>=2021.8.3 in c:\\users\\zhiruoz2\\anaconda3\\lib\\site-packages (from nltk) (2021.8.3)\n",
      "Requirement already satisfied: tqdm in c:\\users\\zhiruoz2\\anaconda3\\lib\\site-packages (from nltk) (4.62.3)\n",
      "Requirement already satisfied: colorama in c:\\users\\zhiruoz2\\anaconda3\\lib\\site-packages (from click->nltk) (0.4.4)\n",
      "Collecting gensim\n",
      "  Downloading gensim-4.1.2-cp39-cp39-win_amd64.whl (24.0 MB)\n",
      "Requirement already satisfied: numpy>=1.17.0 in c:\\users\\zhiruoz2\\anaconda3\\lib\\site-packages (from gensim) (1.20.3)\n",
      "Collecting Cython==0.29.23\n",
      "  Downloading Cython-0.29.23-cp39-cp39-win_amd64.whl (1.7 MB)\n",
      "Requirement already satisfied: scipy>=0.18.1 in c:\\users\\zhiruoz2\\anaconda3\\lib\\site-packages (from gensim) (1.7.1)\n",
      "Collecting smart-open>=1.8.1\n",
      "  Downloading smart_open-5.2.1-py3-none-any.whl (58 kB)\n",
      "Installing collected packages: smart-open, Cython, gensim\n",
      "  Attempting uninstall: Cython\n",
      "    Found existing installation: Cython 0.29.24\n",
      "    Uninstalling Cython-0.29.24:\n",
      "      Successfully uninstalled Cython-0.29.24\n",
      "Successfully installed Cython-0.29.23 gensim-4.1.2 smart-open-5.2.1\n"
     ]
    }
   ],
   "source": [
    "!pip install nltk\n",
    "!pip install gensim "
   ]
  },
  {
   "cell_type": "code",
   "execution_count": 2,
   "id": "c55b1ecb",
   "metadata": {},
   "outputs": [
    {
     "name": "stdout",
     "output_type": "stream",
     "text": [
      "Collecting pyldavis\n",
      "  Downloading pyLDAvis-3.3.1.tar.gz (1.7 MB)\n",
      "  Installing build dependencies: started\n",
      "  Installing build dependencies: finished with status 'done'\n",
      "  Getting requirements to build wheel: started\n",
      "  Getting requirements to build wheel: finished with status 'done'\n",
      "  Installing backend dependencies: started\n",
      "  Installing backend dependencies: finished with status 'done'\n",
      "    Preparing wheel metadata: started\n",
      "    Preparing wheel metadata: finished with status 'done'\n",
      "Requirement already satisfied: scipy in c:\\users\\zhiruoz2\\anaconda3\\lib\\site-packages (from pyldavis) (1.7.1)\n",
      "Requirement already satisfied: setuptools in c:\\users\\zhiruoz2\\anaconda3\\lib\\site-packages (from pyldavis) (58.0.4)\n",
      "Requirement already satisfied: numexpr in c:\\users\\zhiruoz2\\anaconda3\\lib\\site-packages (from pyldavis) (2.7.3)\n",
      "Requirement already satisfied: numpy>=1.20.0 in c:\\users\\zhiruoz2\\anaconda3\\lib\\site-packages (from pyldavis) (1.20.3)\n",
      "Requirement already satisfied: future in c:\\users\\zhiruoz2\\anaconda3\\lib\\site-packages (from pyldavis) (0.18.2)\n",
      "Requirement already satisfied: scikit-learn in c:\\users\\zhiruoz2\\anaconda3\\lib\\site-packages (from pyldavis) (0.24.2)\n",
      "Collecting sklearn\n",
      "  Downloading sklearn-0.0.tar.gz (1.1 kB)\n",
      "Requirement already satisfied: jinja2 in c:\\users\\zhiruoz2\\anaconda3\\lib\\site-packages (from pyldavis) (2.11.3)\n",
      "Requirement already satisfied: gensim in c:\\users\\zhiruoz2\\anaconda3\\lib\\site-packages (from pyldavis) (4.1.2)\n",
      "Requirement already satisfied: joblib in c:\\users\\zhiruoz2\\anaconda3\\lib\\site-packages (from pyldavis) (1.1.0)\n",
      "Collecting funcy\n",
      "  Downloading funcy-1.17-py2.py3-none-any.whl (33 kB)\n",
      "Requirement already satisfied: pandas>=1.2.0 in c:\\users\\zhiruoz2\\anaconda3\\lib\\site-packages (from pyldavis) (1.3.4)\n",
      "Requirement already satisfied: python-dateutil>=2.7.3 in c:\\users\\zhiruoz2\\anaconda3\\lib\\site-packages (from pandas>=1.2.0->pyldavis) (2.8.2)\n",
      "Requirement already satisfied: pytz>=2017.3 in c:\\users\\zhiruoz2\\anaconda3\\lib\\site-packages (from pandas>=1.2.0->pyldavis) (2021.3)\n",
      "Requirement already satisfied: six>=1.5 in c:\\users\\zhiruoz2\\anaconda3\\lib\\site-packages (from python-dateutil>=2.7.3->pandas>=1.2.0->pyldavis) (1.16.0)\n",
      "Requirement already satisfied: smart-open>=1.8.1 in c:\\users\\zhiruoz2\\anaconda3\\lib\\site-packages (from gensim->pyldavis) (5.2.1)\n",
      "Requirement already satisfied: Cython==0.29.23 in c:\\users\\zhiruoz2\\anaconda3\\lib\\site-packages (from gensim->pyldavis) (0.29.23)\n",
      "Requirement already satisfied: MarkupSafe>=0.23 in c:\\users\\zhiruoz2\\anaconda3\\lib\\site-packages (from jinja2->pyldavis) (1.1.1)\n",
      "Requirement already satisfied: threadpoolctl>=2.0.0 in c:\\users\\zhiruoz2\\anaconda3\\lib\\site-packages (from scikit-learn->pyldavis) (2.2.0)\n",
      "Building wheels for collected packages: pyldavis, sklearn\n",
      "  Building wheel for pyldavis (PEP 517): started\n",
      "  Building wheel for pyldavis (PEP 517): finished with status 'done'\n",
      "  Created wheel for pyldavis: filename=pyLDAvis-3.3.1-py2.py3-none-any.whl size=136900 sha256=70ae4ae6a535164fa9db069915595d8b7dcd88ed15c6f7a91b25cc89ead343eb\n",
      "  Stored in directory: c:\\users\\zhiruoz2\\appdata\\local\\pip\\cache\\wheels\\57\\a4\\86\\d10c6c2e0bf149fbc0afb0aa5a6528ac35b30a133a0270c477\n",
      "  Building wheel for sklearn (setup.py): started\n",
      "  Building wheel for sklearn (setup.py): finished with status 'done'\n",
      "  Created wheel for sklearn: filename=sklearn-0.0-py2.py3-none-any.whl size=1309 sha256=554758c2376677f0841c64be5510ad41150aa9dc517a36d257bd4c84286acdff\n",
      "  Stored in directory: c:\\users\\zhiruoz2\\appdata\\local\\pip\\cache\\wheels\\e4\\7b\\98\\b6466d71b8d738a0c547008b9eb39bf8676d1ff6ca4b22af1c\n",
      "Successfully built pyldavis sklearn\n",
      "Installing collected packages: sklearn, funcy, pyldavis\n",
      "Successfully installed funcy-1.17 pyldavis-3.3.1 sklearn-0.0\n"
     ]
    }
   ],
   "source": [
    "!pip install pyldavis"
   ]
  },
  {
   "cell_type": "code",
   "execution_count": 6,
   "id": "2c889ad1",
   "metadata": {},
   "outputs": [
    {
     "name": "stdout",
     "output_type": "stream",
     "text": [
      "Requirement already satisfied: pip in c:\\users\\zhiruoz2\\anaconda3\\lib\\site-packages (21.2.4)\n",
      "Collecting pip\n",
      "  Downloading pip-22.0.4-py3-none-any.whl (2.1 MB)\n",
      "Requirement already satisfied: setuptools in c:\\users\\zhiruoz2\\anaconda3\\lib\\site-packages (58.0.4)\n",
      "Collecting setuptools\n",
      "  Using cached setuptools-62.1.0-py3-none-any.whl (1.1 MB)\n",
      "Requirement already satisfied: wheel in c:\\users\\zhiruoz2\\anaconda3\\lib\\site-packages (0.37.0)\n",
      "Collecting wheel\n",
      "  Using cached wheel-0.37.1-py2.py3-none-any.whl (35 kB)\n",
      "Installing collected packages: wheel, setuptools, pip\n",
      "  Attempting uninstall: wheel\n",
      "    Found existing installation: wheel 0.37.0\n",
      "    Uninstalling wheel-0.37.0:\n",
      "      Successfully uninstalled wheel-0.37.0\n",
      "  Attempting uninstall: setuptools\n",
      "    Found existing installation: setuptools 58.0.4\n",
      "    Uninstalling setuptools-58.0.4:\n",
      "      Successfully uninstalled setuptools-58.0.4\n",
      "  Attempting uninstall: pip\n",
      "    Found existing installation: pip 21.2.4\n",
      "    Uninstalling pip-21.2.4:\n",
      "      Successfully uninstalled pip-21.2.4\n"
     ]
    },
    {
     "name": "stderr",
     "output_type": "stream",
     "text": [
      "ERROR: Could not install packages due to an OSError: [WinError 5] Access is denied: 'C:\\\\Users\\\\zhiruoz2\\\\AppData\\\\Local\\\\Temp\\\\pip-uninstall-y38ct92q\\\\pip.exe'\n",
      "Consider using the `--user` option or check the permissions.\n",
      "\n"
     ]
    },
    {
     "name": "stdout",
     "output_type": "stream",
     "text": [
      "Collecting spacy\n",
      "  Downloading spacy-3.2.4-cp39-cp39-win_amd64.whl (11.3 MB)\n",
      "     --------------------------------------- 11.3/11.3 MB 40.9 MB/s eta 0:00:00\n",
      "Collecting blis<0.8.0,>=0.4.0\n",
      "  Downloading blis-0.7.7-cp39-cp39-win_amd64.whl (6.6 MB)\n",
      "     ---------------------------------------- 6.6/6.6 MB 52.5 MB/s eta 0:00:00\n",
      "Collecting typer<0.5.0,>=0.3.0\n",
      "  Downloading typer-0.4.1-py3-none-any.whl (27 kB)\n",
      "Collecting preshed<3.1.0,>=3.0.2\n",
      "  Downloading preshed-3.0.6-cp39-cp39-win_amd64.whl (112 kB)\n",
      "     -------------------------------------- 112.4/112.4 KB 6.4 MB/s eta 0:00:00\n",
      "Collecting pydantic!=1.8,!=1.8.1,<1.9.0,>=1.7.4\n",
      "  Downloading pydantic-1.8.2-cp39-cp39-win_amd64.whl (1.9 MB)\n",
      "     ---------------------------------------- 1.9/1.9 MB 62.6 MB/s eta 0:00:00\n",
      "Collecting catalogue<2.1.0,>=2.0.6\n",
      "  Downloading catalogue-2.0.7-py3-none-any.whl (17 kB)\n",
      "Collecting langcodes<4.0.0,>=3.2.0\n",
      "  Downloading langcodes-3.3.0-py3-none-any.whl (181 kB)\n",
      "     ---------------------------------------- 181.6/181.6 KB ? eta 0:00:00\n",
      "Collecting wasabi<1.1.0,>=0.8.1\n",
      "  Downloading wasabi-0.9.1-py3-none-any.whl (26 kB)\n",
      "Requirement already satisfied: requests<3.0.0,>=2.13.0 in c:\\users\\zhiruoz2\\anaconda3\\lib\\site-packages (from spacy) (2.26.0)\n",
      "Collecting spacy-loggers<2.0.0,>=1.0.0\n",
      "  Downloading spacy_loggers-1.0.2-py3-none-any.whl (7.2 kB)\n",
      "Requirement already satisfied: setuptools in c:\\users\\zhiruoz2\\anaconda3\\lib\\site-packages (from spacy) (62.1.0)\n",
      "Requirement already satisfied: click<8.1.0 in c:\\users\\zhiruoz2\\anaconda3\\lib\\site-packages (from spacy) (8.0.3)\n",
      "Requirement already satisfied: tqdm<5.0.0,>=4.38.0 in c:\\users\\zhiruoz2\\anaconda3\\lib\\site-packages (from spacy) (4.62.3)\n",
      "Requirement already satisfied: numpy>=1.15.0 in c:\\users\\zhiruoz2\\anaconda3\\lib\\site-packages (from spacy) (1.20.3)\n",
      "Requirement already satisfied: jinja2 in c:\\users\\zhiruoz2\\anaconda3\\lib\\site-packages (from spacy) (2.11.3)\n",
      "Collecting murmurhash<1.1.0,>=0.28.0\n",
      "  Downloading murmurhash-1.0.6-cp39-cp39-win_amd64.whl (21 kB)\n",
      "Collecting cymem<2.1.0,>=2.0.2\n",
      "  Downloading cymem-2.0.6-cp39-cp39-win_amd64.whl (36 kB)\n",
      "Collecting pathy>=0.3.5\n",
      "  Downloading pathy-0.6.1-py3-none-any.whl (42 kB)\n",
      "     ---------------------------------------- 42.8/42.8 KB ? eta 0:00:00\n",
      "Collecting spacy-legacy<3.1.0,>=3.0.8\n",
      "  Downloading spacy_legacy-3.0.9-py2.py3-none-any.whl (20 kB)\n",
      "Collecting thinc<8.1.0,>=8.0.12\n",
      "  Downloading thinc-8.0.15-cp39-cp39-win_amd64.whl (1.0 MB)\n",
      "     ---------------------------------------- 1.0/1.0 MB 67.5 MB/s eta 0:00:00\n",
      "Requirement already satisfied: packaging>=20.0 in c:\\users\\zhiruoz2\\anaconda3\\lib\\site-packages (from spacy) (21.0)\n",
      "Collecting srsly<3.0.0,>=2.4.1\n",
      "  Downloading srsly-2.4.2-cp39-cp39-win_amd64.whl (451 kB)\n",
      "     ------------------------------------- 451.8/451.8 KB 27.6 MB/s eta 0:00:00\n",
      "Requirement already satisfied: colorama in c:\\users\\zhiruoz2\\anaconda3\\lib\\site-packages (from click<8.1.0->spacy) (0.4.4)\n",
      "Requirement already satisfied: pyparsing>=2.0.2 in c:\\users\\zhiruoz2\\anaconda3\\lib\\site-packages (from packaging>=20.0->spacy) (3.0.4)\n",
      "Requirement already satisfied: smart-open<6.0.0,>=5.0.0 in c:\\users\\zhiruoz2\\anaconda3\\lib\\site-packages (from pathy>=0.3.5->spacy) (5.2.1)\n",
      "Requirement already satisfied: typing-extensions>=3.7.4.3 in c:\\users\\zhiruoz2\\anaconda3\\lib\\site-packages (from pydantic!=1.8,!=1.8.1,<1.9.0,>=1.7.4->spacy) (3.10.0.2)\n",
      "Requirement already satisfied: certifi>=2017.4.17 in c:\\users\\zhiruoz2\\anaconda3\\lib\\site-packages (from requests<3.0.0,>=2.13.0->spacy) (2021.10.8)\n",
      "Requirement already satisfied: idna<4,>=2.5 in c:\\users\\zhiruoz2\\anaconda3\\lib\\site-packages (from requests<3.0.0,>=2.13.0->spacy) (3.2)\n",
      "Requirement already satisfied: charset-normalizer~=2.0.0 in c:\\users\\zhiruoz2\\anaconda3\\lib\\site-packages (from requests<3.0.0,>=2.13.0->spacy) (2.0.4)\n",
      "Requirement already satisfied: urllib3<1.27,>=1.21.1 in c:\\users\\zhiruoz2\\anaconda3\\lib\\site-packages (from requests<3.0.0,>=2.13.0->spacy) (1.26.7)\n",
      "Requirement already satisfied: MarkupSafe>=0.23 in c:\\users\\zhiruoz2\\anaconda3\\lib\\site-packages (from jinja2->spacy) (1.1.1)\n",
      "Installing collected packages: wasabi, murmurhash, cymem, spacy-loggers, spacy-legacy, pydantic, preshed, langcodes, catalogue, blis, typer, srsly, thinc, pathy, spacy\n",
      "Successfully installed blis-0.7.7 catalogue-2.0.7 cymem-2.0.6 langcodes-3.3.0 murmurhash-1.0.6 pathy-0.6.1 preshed-3.0.6 pydantic-1.8.2 spacy-3.2.4 spacy-legacy-3.0.9 spacy-loggers-1.0.2 srsly-2.4.2 thinc-8.0.15 typer-0.4.1 wasabi-0.9.1\n",
      "Collecting en-core-web-sm==3.2.0\n",
      "  Downloading https://github.com/explosion/spacy-models/releases/download/en_core_web_sm-3.2.0/en_core_web_sm-3.2.0-py3-none-any.whl (13.9 MB)\n",
      "     --------------------------------------- 13.9/13.9 MB 38.5 MB/s eta 0:00:00\n",
      "Requirement already satisfied: spacy<3.3.0,>=3.2.0 in c:\\users\\zhiruoz2\\anaconda3\\lib\\site-packages (from en-core-web-sm==3.2.0) (3.2.4)\n",
      "Requirement already satisfied: tqdm<5.0.0,>=4.38.0 in c:\\users\\zhiruoz2\\anaconda3\\lib\\site-packages (from spacy<3.3.0,>=3.2.0->en-core-web-sm==3.2.0) (4.62.3)\n",
      "Requirement already satisfied: pathy>=0.3.5 in c:\\users\\zhiruoz2\\anaconda3\\lib\\site-packages (from spacy<3.3.0,>=3.2.0->en-core-web-sm==3.2.0) (0.6.1)\n",
      "Requirement already satisfied: pydantic!=1.8,!=1.8.1,<1.9.0,>=1.7.4 in c:\\users\\zhiruoz2\\anaconda3\\lib\\site-packages (from spacy<3.3.0,>=3.2.0->en-core-web-sm==3.2.0) (1.8.2)\n",
      "Requirement already satisfied: setuptools in c:\\users\\zhiruoz2\\anaconda3\\lib\\site-packages (from spacy<3.3.0,>=3.2.0->en-core-web-sm==3.2.0) (62.1.0)\n",
      "Requirement already satisfied: numpy>=1.15.0 in c:\\users\\zhiruoz2\\anaconda3\\lib\\site-packages (from spacy<3.3.0,>=3.2.0->en-core-web-sm==3.2.0) (1.20.3)\n",
      "Requirement already satisfied: blis<0.8.0,>=0.4.0 in c:\\users\\zhiruoz2\\anaconda3\\lib\\site-packages (from spacy<3.3.0,>=3.2.0->en-core-web-sm==3.2.0) (0.7.7)\n",
      "Requirement already satisfied: preshed<3.1.0,>=3.0.2 in c:\\users\\zhiruoz2\\anaconda3\\lib\\site-packages (from spacy<3.3.0,>=3.2.0->en-core-web-sm==3.2.0) (3.0.6)\n",
      "Requirement already satisfied: cymem<2.1.0,>=2.0.2 in c:\\users\\zhiruoz2\\anaconda3\\lib\\site-packages (from spacy<3.3.0,>=3.2.0->en-core-web-sm==3.2.0) (2.0.6)\n",
      "Requirement already satisfied: spacy-legacy<3.1.0,>=3.0.8 in c:\\users\\zhiruoz2\\anaconda3\\lib\\site-packages (from spacy<3.3.0,>=3.2.0->en-core-web-sm==3.2.0) (3.0.9)\n",
      "Requirement already satisfied: catalogue<2.1.0,>=2.0.6 in c:\\users\\zhiruoz2\\anaconda3\\lib\\site-packages (from spacy<3.3.0,>=3.2.0->en-core-web-sm==3.2.0) (2.0.7)\n",
      "Requirement already satisfied: requests<3.0.0,>=2.13.0 in c:\\users\\zhiruoz2\\anaconda3\\lib\\site-packages (from spacy<3.3.0,>=3.2.0->en-core-web-sm==3.2.0) (2.26.0)\n",
      "Requirement already satisfied: wasabi<1.1.0,>=0.8.1 in c:\\users\\zhiruoz2\\anaconda3\\lib\\site-packages (from spacy<3.3.0,>=3.2.0->en-core-web-sm==3.2.0) (0.9.1)\n",
      "Requirement already satisfied: srsly<3.0.0,>=2.4.1 in c:\\users\\zhiruoz2\\anaconda3\\lib\\site-packages (from spacy<3.3.0,>=3.2.0->en-core-web-sm==3.2.0) (2.4.2)\n",
      "Requirement already satisfied: typer<0.5.0,>=0.3.0 in c:\\users\\zhiruoz2\\anaconda3\\lib\\site-packages (from spacy<3.3.0,>=3.2.0->en-core-web-sm==3.2.0) (0.4.1)\n",
      "Requirement already satisfied: click<8.1.0 in c:\\users\\zhiruoz2\\anaconda3\\lib\\site-packages (from spacy<3.3.0,>=3.2.0->en-core-web-sm==3.2.0) (8.0.3)\n",
      "Requirement already satisfied: spacy-loggers<2.0.0,>=1.0.0 in c:\\users\\zhiruoz2\\anaconda3\\lib\\site-packages (from spacy<3.3.0,>=3.2.0->en-core-web-sm==3.2.0) (1.0.2)\n",
      "Requirement already satisfied: jinja2 in c:\\users\\zhiruoz2\\anaconda3\\lib\\site-packages (from spacy<3.3.0,>=3.2.0->en-core-web-sm==3.2.0) (2.11.3)\n",
      "Requirement already satisfied: langcodes<4.0.0,>=3.2.0 in c:\\users\\zhiruoz2\\anaconda3\\lib\\site-packages (from spacy<3.3.0,>=3.2.0->en-core-web-sm==3.2.0) (3.3.0)\n",
      "Requirement already satisfied: packaging>=20.0 in c:\\users\\zhiruoz2\\anaconda3\\lib\\site-packages (from spacy<3.3.0,>=3.2.0->en-core-web-sm==3.2.0) (21.0)\n",
      "Requirement already satisfied: murmurhash<1.1.0,>=0.28.0 in c:\\users\\zhiruoz2\\anaconda3\\lib\\site-packages (from spacy<3.3.0,>=3.2.0->en-core-web-sm==3.2.0) (1.0.6)\n",
      "Requirement already satisfied: thinc<8.1.0,>=8.0.12 in c:\\users\\zhiruoz2\\anaconda3\\lib\\site-packages (from spacy<3.3.0,>=3.2.0->en-core-web-sm==3.2.0) (8.0.15)\n",
      "Requirement already satisfied: colorama in c:\\users\\zhiruoz2\\anaconda3\\lib\\site-packages (from click<8.1.0->spacy<3.3.0,>=3.2.0->en-core-web-sm==3.2.0) (0.4.4)\n",
      "Requirement already satisfied: pyparsing>=2.0.2 in c:\\users\\zhiruoz2\\anaconda3\\lib\\site-packages (from packaging>=20.0->spacy<3.3.0,>=3.2.0->en-core-web-sm==3.2.0) (3.0.4)\n",
      "Requirement already satisfied: smart-open<6.0.0,>=5.0.0 in c:\\users\\zhiruoz2\\anaconda3\\lib\\site-packages (from pathy>=0.3.5->spacy<3.3.0,>=3.2.0->en-core-web-sm==3.2.0) (5.2.1)\n",
      "Requirement already satisfied: typing-extensions>=3.7.4.3 in c:\\users\\zhiruoz2\\anaconda3\\lib\\site-packages (from pydantic!=1.8,!=1.8.1,<1.9.0,>=1.7.4->spacy<3.3.0,>=3.2.0->en-core-web-sm==3.2.0) (3.10.0.2)\n",
      "Requirement already satisfied: urllib3<1.27,>=1.21.1 in c:\\users\\zhiruoz2\\anaconda3\\lib\\site-packages (from requests<3.0.0,>=2.13.0->spacy<3.3.0,>=3.2.0->en-core-web-sm==3.2.0) (1.26.7)\n",
      "Requirement already satisfied: charset-normalizer~=2.0.0 in c:\\users\\zhiruoz2\\anaconda3\\lib\\site-packages (from requests<3.0.0,>=2.13.0->spacy<3.3.0,>=3.2.0->en-core-web-sm==3.2.0) (2.0.4)\n",
      "Requirement already satisfied: idna<4,>=2.5 in c:\\users\\zhiruoz2\\anaconda3\\lib\\site-packages (from requests<3.0.0,>=2.13.0->spacy<3.3.0,>=3.2.0->en-core-web-sm==3.2.0) (3.2)\n",
      "Requirement already satisfied: certifi>=2017.4.17 in c:\\users\\zhiruoz2\\anaconda3\\lib\\site-packages (from requests<3.0.0,>=2.13.0->spacy<3.3.0,>=3.2.0->en-core-web-sm==3.2.0) (2021.10.8)\n",
      "Requirement already satisfied: MarkupSafe>=0.23 in c:\\users\\zhiruoz2\\anaconda3\\lib\\site-packages (from jinja2->spacy<3.3.0,>=3.2.0->en-core-web-sm==3.2.0) (1.1.1)\n",
      "Installing collected packages: en-core-web-sm\n",
      "Successfully installed en-core-web-sm-3.2.0\n",
      "[+] Download and installation successful\n",
      "You can now load the package via spacy.load('en_core_web_sm')\n"
     ]
    }
   ],
   "source": [
    "!pip install -U pip setuptools wheel\n",
    "!pip install -U spacy\n",
    "!python -m spacy download en_core_web_sm"
   ]
  },
  {
   "cell_type": "code",
   "execution_count": 7,
   "id": "3906301e",
   "metadata": {},
   "outputs": [],
   "source": [
    "import numpy as np\n",
    "import pandas as pd\n",
    "import xlrd # to read excel\n",
    "import nltk # NLP toolkit\n",
    "import re \n",
    "import json\n",
    "import glob\n",
    "import matplotlib.pyplot as plt # for visualization\n",
    "import string # for handling string\n",
    "import seaborn as sns\n",
    "#Gensim\n",
    "import gensim\n",
    "#spacy \n",
    "import spacy\n",
    "#vis\n",
    "import pyLDAvis"
   ]
  },
  {
   "cell_type": "code",
   "execution_count": 8,
   "id": "a0e1253e",
   "metadata": {},
   "outputs": [],
   "source": [
    "summary = pd.read_excel('dataset.xlsx') \n",
    "new = summary.drop(['Date', 'UID', 'PDF URL', 'Cyber_Risk', 'Not_Cyber'], axis=1) \n",
    "' '.join(new['Summary'].tolist())\n",
    "new['summary_in_lowercase']=new['Summary'].apply(lambda x: x.lower())\n",
    "new['summary_without_punkt']=new['summary_in_lowercase'].apply(lambda x: re.sub('[%s]' % re.escape(string.punctuation), '', x))"
   ]
  },
  {
   "cell_type": "code",
   "execution_count": 31,
   "id": "16eded8a",
   "metadata": {},
   "outputs": [
    {
     "name": "stderr",
     "output_type": "stream",
     "text": [
      "[nltk_data] Downloading package punkt to\n",
      "[nltk_data]     C:\\Users\\zhiruoz2\\AppData\\Roaming\\nltk_data...\n",
      "[nltk_data]   Package punkt is already up-to-date!\n",
      "[nltk_data] Downloading package stopwords to\n",
      "[nltk_data]     C:\\Users\\zhiruoz2\\AppData\\Roaming\\nltk_data...\n",
      "[nltk_data]   Package stopwords is already up-to-date!\n"
     ]
    }
   ],
   "source": [
    "from nltk.corpus import stopwords\n",
    "nltk.download('punkt')\n",
    "nltk.download('stopwords')"
   ]
  },
  {
   "cell_type": "code",
   "execution_count": 37,
   "id": "e789d796",
   "metadata": {},
   "outputs": [],
   "source": [
    "Noun = []\n",
    "for line in open('noun.txt.txt','r').readlines():\n",
    "    Noun.append(line.strip())"
   ]
  },
  {
   "cell_type": "code",
   "execution_count": 38,
   "id": "052f05ea",
   "metadata": {},
   "outputs": [],
   "source": [
    "Verb = []\n",
    "for line in open('verb.txt.txt','r').readlines():\n",
    "    Noun.append(line.strip())"
   ]
  },
  {
   "cell_type": "code",
   "execution_count": 68,
   "id": "82e59ca9",
   "metadata": {},
   "outputs": [],
   "source": [
    "Other = []\n",
    "for line in open('other.txt.txt','r').readlines():\n",
    "    Noun.append(line.strip())"
   ]
  },
  {
   "cell_type": "code",
   "execution_count": 69,
   "id": "f2c528f3",
   "metadata": {},
   "outputs": [
    {
     "name": "stdout",
     "output_type": "stream",
     "text": [
      "['system', 'model', 'paper', 'approach', 'information', 'detection', 'method', 'result', 'research', 'user', 'application', 'analysis', 'challenge', 'technique', 'framework', 'machine', 'learning', 'work', 'problem', 'algorithm', 'technology', 'device', 'service', 'time', 'solution', 'performance', 'feature', 'cloud', 'communication', 'issue', 'data', 'tool', 'set', 'environment', 'case', 'key', 'number', 'power', 'software', 'impact', 'type', 'graph', 'training', 'infrastructure', 'knowledge', 'target', 'game', 'development', 'event', 'strategy', 'intelligence', 'support', 'future', 'level', 'computer', 'test', 'create', 'cost', 'management', 'experiment', 'scenario', 'field', 'operation', 'platform', 'task', 'order', 'policy', 'scheme', 'state', 'behavior', 'concern', 'eg', 'organization', 'example', 'classification', 'way', 'rate', 'source', 'human', 'decision', 'traffic', 'file', 'code', 'year', 'implementation', 'node', 'concept', 'area', 'sample', 'requirement', 'evaluation', 'industry', 'protection', 'practice', 'assessment', 'capability', 'activity', 'resource', 'point', 'vehicle', 'ai', 'computing', 'value', 'processing', 'range', 'community', 'article', 'generation', 'thing', 'cause', 'energy', 'survey', 'loss', 'offer', 'researcher', 'business', 'major', 'expert', 'class', 'factor', 'image', 'call', 'form', 'program', 'world', 'property', 'question', 'benefit', 'size', 'characteristic', 'awareness', 'action', 'role', 'ie', 'nature', 'attention', 'addition', 'student', 'goal', 'ability', 'representation', 'prediction', 'aspect', 'direction', 'testing', 'effect', 'company', 'insight', 'engineering', 'step', 'effort', 'quality', 'promise', 'demand', 'face', 'condition', 'theory', 'scale', 'entity', 'experience', 'operator', 'topic', 'gap', 'science', 'execution', 'element', 'account', 'advantage', 'importance', 'market', 'record', 'group', 'finding', 'recommendation', 'analyst', 'perspective', 'difficult', 'product', 'purpose', 'end', 'play', 'discussion', 'opportunity', 'people', 'project', 'sequence', 'score', 'label', 'variety', 'day', 'attempt', 'center', 'update', 'channel', 'pose', 'party', 'transfer', 'video', 'improvement', 'expect', 'adoption', 'tree', 'life', 'availability', 'evidence', 'damage', 'principle', 'resilience', 'influence', 'behaviour', 'scalability', 'manner', 'course', 'failure', 'team', 'usage', 'interest', 'stage', 'rule', 'sharing', 'family', 'observation', 'instance', 'overview', 'supply', 'reason', 'situation', 'hand', 'asset', 'relationship', 'payment', 'core', 'today', 'million', 'procedure', 'city', 'document', 'measurement', 'subject', 'comparison', 'deal', 'idea', 'kind', 'contribution', 'insider', 'success', 'client', 'evolution', 'start', 'functionality', 'uncertainty', 'estimation', 'assumption', 'consequence', 'category', 'detail', 'volume', 'skill', 'growth', 'decade', 'prevention', 'consumer', 'consumer', 'answer', 'surface', 'capacity', 'choice', 'presence', 'place', 'plan', 'aid', 'interview', 'investment', 'sense', 'selection', 'ic', 'country', 'light', 'building', 'combination', 'connection', 'diversity', 'consideration', 'outcome', 'apt', 'connectivity', 'foundation', 'exercise', 'basis', 'author', 'chapter', 'outline', 'extension', 'university', 'mission', 'society', 'reference', 'difficulty', 'description', 'age', 'website', 'desire', 'ground', 'line', 'material', 'infer', 'scan', 'strength', 'reduction', 'speed', 'criterion', 'one', 'creation', 'fact', 'background', 'majority', 'weakness', 'discovery', 'forest', 'assurance', 'recovery', 'couple', 'operating', 'version', 'part', 'existence', 'workshop', 'progress', 'word', 'home', 'conflict', 'bus', 'understanding', 'profile', 'definition', 'list', 'opinion', 'care', 'perception', 'graphs', 'pipeline', 'price', 'likelihood', 'principal', 'window', 'disclosure', 'body', 'applicability', 'cycle', 'learner', 'consumption', 'alarm', 'production', 'conclusion', 'guide', 'date', 'format', 'period', 'handson', 'car', 'relation', 'fog', 'systems', 'innovation', 'reward', 'enforcement', 'engineer', 'advancement', 'zero', 'curve', 'population', 'billion', 'position', 'variation', 'shift', 'infection', 'institution', 'flexibility', 'rank', 'sophistication', 'force', 'star', 'option', 'guidance', 'break', 'lesson', 'priority', 'modelling', 'contrast', 'count', 'manager', 'augment', 'construction', 'bit', 'academia', 'box', 'explanation', 'exploration', 'history', 'instruction', 'session', 'planning', 'post', 'reasoning', 'administrator', 'utilization', 'proposal', 'region', 'gate', 'card', 'trading', 'bridge', 'facility', 'ratio', 'emergence', 'specification', 'era', 'weight', 'comment', 'publication', 'usability', 'opponent', 'mode', 'claim', 'avoidance', 'fragment', 'shed', 'belief', 'amount', 'harm', 'expertise', 'flag', 'length', 'forum', 'election', 'manufacture', 'calculation', 'table', 'road', 'motivation', 'firm', 'frame', 'candidate', 'emergency', 'water', 'navigation', 'educator', 'preference', 'portion', 'equation', 'phenomenon', 'characterization', 'crisis', 'competition', 'expectation', 'plant', 'flaw', 'employee', 'workload', 'cat', 'chance', 'percentage', 'meter', 'dependence', 'bank', 'complement', 'expense', 'expression', 'confidence', 'engagement', 'instructor', 'manufacturing', 'shortcoming', 'necessity', 'states', 'mixture', 'mass', 'pdf', 'seven', 'workflow', 'absence', 'm', 'budget', 'introduction', 'suggestion', 'subsystem', 'conference', 'movement', 'reconstruct', 'circumstance', 'pool', 'disk', 'month', 'dollar', 'branch', 'teaching', 'voting', 'scoring', 'craft', 'pair', 'member', 'package', 'depth', 'intensity', 'diffusion', 'disease', 'treatment', 'equipment', 'note', 'restriction', 'intention', 'round', 'generalization', 'maker', 'manipulation', 'sign', 'adaptation', 'emphasis', 'cooperation', 'status', 'accept', 'matter', 'correctness', 'profit', 'initiative', 'hope', 'programme', 'resistance', 'shape', 'migration', 'revolution', 'thousand', 'significance', 'inclusion', 'advice', 'dot', 'proportion', 'court', 'ease', 'banking', 'january', '', '', '', '', '', '', '', '', '', '', '', '', '', '', '', '', '', '', '', '', '', '', '', '', '', '', '', '', '', '', '', '', '', '', '', '', '', '', '', '', '', '', '', '', '', '', '', '', 'propose', 'provide', 'present', 'use', 'study', 'learn', 'design', 'control', 'develop', 'process', 'increase', 'detect', 'identify', 'exist', 'include', 'need', 'demonstrate', 'evaluate', 'improve', 'consider', 'introduce', 'apply', 'achieve', 'show', 'generate', 'analyze', 'enable', 'allow', 'discuss', 'require', 'find', 'focus', 'perform', 'review', 'compare', 'implement', 'aim', 'give', 'share', 'compute', 'train', 'make', 'change', 'lead', 'understand', 'protect', 'measure', 'help', 'emerge', 'conduct', 'build', 'report', 'investigate', 'know', 'reduce', 'explore', 'obtain', 'describe', 'like', 'collect', 'ensure', 'enhance', 'utilize', 'lack', 'grow', 'gain', 'solve', 'relate', 'follow', 'associate', 'integrate', 'highlight', 'assess', 'rely', 'combine', 'capture', 'employ', 'compromise', 'define', 'take', 'adopt', 'involve', 'reveal', 'suggest', 'maintain', 'affect', 'predict', 'examine', 'prove', 'indicate', 'derive', 'view', 'determine', 'observe', 'produce', 'manage', 'validate', 'facilitate', 'run', 'illustrate', 'contain', 'classify', 'represent', 'guarantee', 'construct', 'raise', 'drive', 'search', 'despite', 'incorporate', 'establish', 'attribute', 'contribute', 'bring', 'analyse', 'connect', 'discover', 'evolve', 'consist', 'estimate', 'select', 'extend', 'characterize', 'conclude', 'remain', 'hide', 'exchange', 'overcome', 'arise', 'rise', 'cover', 'receive', 'operate', 'load', 'explain', 'handle', 'fail', 'adapt', 'underlie', 'serve', 'look', 'come', 'carry', 'preserve', 'add', 'occur', 'accord', 'continue', 'turn', 'quantify', 'choose', 'deliver', 'exhibit', 'refer', 'pay', 'publish', 'avoid', 'decrease', 'close', 'verify', 'act', 'correspond', 'seek', 'fix', 'move', 'live', 'argue', 'draw', 'motivate', 'send', 'believe', 'release', 'forward', 'widespread', 'track', 'meet', 'yield', 'hold', 'keep', 'suffer', 'assume', 'see', 'recognize', 'coordinate', 'optimize', 'reflect', 'vary', 'confirm', 'intend', 'delivery', 'boost', 'formulate', 'reach', 'launch', 'remove', 'recommend', 'assist', 'gather', 'transform', 'manipulate', 'perceive', 'enforce', 'write', 'regard', 'encourage', 'acquire', 'leave', 'inspire', 'realize', 'communicate', 'engineer', 'devise', 'ensemble', 'evade', 'begin', 'expand', 'accelerate', 'extent', 'comprise', 'teach', 'check', 'request', 'charge', 'assign', 'miss', 'generalize', 'resolve', 'return', 'promote', 'strengthen', 'eliminate', 'specify', 'compose', 'try', 'corporate', 'disclose', 'go', 'do', 'incur', 'inform', 'happen', 'uncover', 'read', 'encounter', 'get', 'download', 'fall', 'correlate', 'tend', 'attract', 'participate', 'engage', 'constrain', 'categorize', 'treat', 'bind', 'abuse', 'differ', 'organize', 'lie', 'forgery', 'drawback', 'repair', 'mention', 'induce', 'enhancement', 'resiliency', 'calculate', 'pass', 'impose', 'thank', 'constitute', 'prepare', 'cope', 'ignore', 'inject', 'express', 'sort', 'satisfy', 'mix', 'recall', 'lose', 'decide', 'anticipate', 'debate', 'push', 'fill', 'fit', 'contact', 'think', 'want', 'formalize', 'guess', 'vote', 'merge', 'localize', 'submit', 'owe', 'institute', 'align', 'everincrease', 'reuse', 'fight', 'depict', 'differentiate', 'succeed', 'register', 'emphasize', 'pertain', '', '', '', '', '', '', '', '', '', '', '', '', '', '', '', '', '', '', '', '', '', '', '', '', '', '', '', '', '', '', '', '', '', '', '', '', '', '', '', '', '', '', '', '', '', '', '', '', 'new', 'different', 'smart', 'large', 'adversarial', 'high', 'deep', 'important', 'dynamic', 'recent', 'critical', 'current', 'grid', 'real', 'neural', 'significant', 'social', 'effective', 'online', 'multiple', 'individual', 'particular', 'digital', 'finally', 'available', 'public', 'good', 'traditional', 'possible', 'standard', 'well', 'main', 'complex', 'low', 'common', 'open', 'comprehensive', 'general', 'small', 'modern', 'able', 'furthermore', 'specific', 'industrial', 'advanced', 'specifically', 'recently', 'big', 'increasingly', 'especially', 'false', 'analytic', 'technical', 'overall', 'medium', 'fast', 'relevant', 'advance', 'significantly', 'previous', 'second', 'average', 'objective', 'highly', 'widely', 'intelligent', 'mean', 'positive', 'long', 'related', 'limited', 'extensive', 'effectively', 'single', 'great', 'natural', 'active', 'global', 'complete', 'necessary', 'popular', 'unique', 'simple', 'etc', 'potentially', 'local', 'early', 'wide', 'fundamental', 'currently', 'particularly', 'binary', 'essential', 'national', 'theoretical', 'overhead', 'similar', 'fully', 'past', 'diverse', 'numerical', 'sophisticated', 'adaptive', 'crucial', 'successful', 'useful', 'additionally', 'systematic', 'original', 'strong', 'capable', 'mainly', 'certain', 'actor', 'typically', 'connected', 'professional', 'easily', 'detailed', 'rapidly', 'directly', 'usually', 'short', 'direct', 'patient', 'publicly', 'little', 'formal', 'additional', 'continuous', 'actual', 'strategic', 'academic', 'sufficient', 'instead', 'initial', 'massive', 'commonly', 'special', 'true', 'suitable', 'successfully', 'late', 'total', 'electric', 'timely', 'simultaneously', 'prior', 'numerous', 'appropriate', 'classical', 'valuable', 'vital', 'negative', 'hard', 'entire', 'far', 'likely', 'rapid', 'alternative', 'incentive', 'technological', 'powerful', 'resilient', 'broad', 'previously', 'respectively', 'wellknown', 'central', 'huge', 'predictive', 'generally', 'difference', 'scientific', 'largely', 'ongoing', 'severe', 'relatively', 'persistent', 'external', 'parallel', 'proper', 'lot', 'typical', 'fake', 'et', 'al', 'international', 'flexible', 'easy', 'generic', 'daily', 'differential', 'unfortunately', 'basic', 'correct', 'ubiquitous', 'impossible', 'weak', 'item', 'arbitrary', 'clear', 'rigorous', 'consequently', 'representative', 'heavily', 'distinct', 'continuously', 'nowadays', 'correctly', 'responsible', 'empirically', 'raw', 'motivated', 'bad', 'applicable', 'prominent', 'primary', 'shortterm', 'unlike', 'quickly', 'innovative', 'everyday', 'newly', 'partially', 'vast', 'optical', 'interesting', 'anomalous', 'globally', 'aware', 'separate', 'greatly', 'rich', 'completely', 'incomplete', 'considerable', 'extensively', 'distinguish', 'comparative', 'near', 'relative', 'comparable', 'attractive', 'longterm', 'importantly', 'superior', 'noisy', 'thorough', 'intrinsic', 'viable', 'final', 'expensive', 'subsequently', 'observed', 'dependent', 'constant', 'independently', 'nearly', 'not', 'precisely', 'old', 'inside', 'contemporary', 'extremely', 'regular', 'costly', 'premium', 'slow', 'substantial', 'genetic', 'adequate', 'manufacturing', 'enormous', 'firstly', 'proposed', 'free', 'naive', 'promising', 'meaningful', 'accessible', 'tremendous', 'renewable', 'unified', 'prevalent', 'wearable', 'consistent', 'dangerous', 'exact', 'improved', 'primitive', 'right', 'carefully', 'chaotic', 'primarily', 'extreme', 'hidden', 'outside', 'constantly', 'urgent', 'explicitly', 'ultimately', 'explainable', 'imperative', 'properly', 'actually', 'actionable', 'later', 'abnormal', 'informed', 'upper', 'finite', 'jointly', 'insufficient', 'boolean', 'excellent', 'naturally', 'systemic', 'matching', 'offensive', 'poor', 'lastly', 'inventory', 'resistant', 'pervasive', 'substantially', 'specialized', '', '', '', '', '', '', '', '', '', '', '', '', '', '', '', '', '', '', '', '', '', 'new', 'different', 'smart', 'large', 'adversarial', 'high', 'deep', 'important', 'dynamic', 'recent', 'critical', 'current', 'grid', 'real', 'neural', 'significant', 'social', 'effective', 'online', 'multiple', 'individual', 'particular', 'digital', 'finally', 'available', 'public', 'good', 'traditional', 'possible', 'standard', 'well', 'main', 'complex', 'low', 'common', 'open', 'comprehensive', 'general', 'small', 'modern', 'able', 'furthermore', 'specific', 'industrial', 'advanced', 'specifically', 'recently', 'big', 'increasingly', 'especially', 'false', 'analytic', 'technical', 'overall', 'medium', 'fast', 'relevant', 'advance', 'significantly', 'previous', 'second', 'average', 'objective', 'highly', 'widely', 'intelligent', 'mean', 'positive', 'long', 'related', 'limited', 'extensive', 'effectively', 'single', 'great', 'natural', 'active', 'global', 'complete', 'necessary', 'popular', 'unique', 'simple', 'etc', 'potentially', 'local', 'early', 'wide', 'fundamental', 'currently', 'particularly', 'binary', 'essential', 'national', 'theoretical', 'overhead', 'similar', 'fully', 'past', 'diverse', 'numerical', 'sophisticated', 'adaptive', 'crucial', 'successful', 'useful', 'additionally', 'systematic', 'original', 'strong', 'capable', 'mainly', 'certain', 'actor', 'typically', 'connected', 'professional', 'easily', 'detailed', 'rapidly', 'directly', 'usually', 'short', 'direct', 'patient', 'publicly', 'little', 'formal', 'additional', 'continuous', 'actual', 'strategic', 'academic', 'sufficient', 'instead', 'initial', 'massive', 'commonly', 'special', 'true', 'suitable', 'successfully', 'late', 'total', 'electric', 'timely', 'simultaneously', 'prior', 'numerous', 'appropriate', 'classical', 'valuable', 'vital', 'negative', 'hard', 'entire', 'far', 'likely', 'rapid', 'alternative', 'incentive', 'technological', 'powerful', 'resilient', 'broad', 'previously', 'respectively', 'wellknown', 'central', 'huge', 'predictive', 'generally', 'difference', 'scientific', 'largely', 'ongoing', 'severe', 'relatively', 'persistent', 'external', 'parallel', 'proper', 'lot', 'typical', 'fake', 'et', 'al', 'international', 'flexible', 'easy', 'generic', 'daily', 'differential', 'unfortunately', 'basic', 'correct', 'ubiquitous', 'impossible', 'weak', 'item', 'arbitrary', 'clear', 'rigorous', 'consequently', 'representative', 'heavily', 'distinct', 'continuously', 'nowadays', 'correctly', 'responsible', 'empirically', 'raw', 'motivated', 'bad', 'applicable', 'prominent', 'primary', 'shortterm', 'unlike', 'quickly', 'innovative', 'everyday', 'newly', 'partially', 'vast', 'optical', 'interesting', 'anomalous', 'globally', 'aware', 'separate', 'greatly', 'rich', 'completely', 'incomplete', 'considerable', 'extensively', 'distinguish', 'comparative', 'near', 'relative', 'comparable', 'attractive', 'longterm', 'importantly', 'superior', 'noisy', 'thorough', 'intrinsic', 'viable', 'final', 'expensive', 'subsequently', 'observed', 'dependent', 'constant', 'independently', 'nearly', 'not', 'precisely', 'old', 'inside', 'contemporary', 'extremely', 'regular', 'costly', 'premium', 'slow', 'substantial', 'genetic', 'adequate', 'manufacturing', 'enormous', 'firstly', 'proposed', 'free', 'naive', 'promising', 'meaningful', 'accessible', 'tremendous', 'renewable', 'unified', 'prevalent', 'wearable', 'consistent', 'dangerous', 'exact', 'improved', 'primitive', 'right', 'carefully', 'chaotic', 'primarily', 'extreme', 'hidden', 'outside', 'constantly', 'urgent', 'explicitly', 'ultimately', 'explainable', 'imperative', 'properly', 'actually', 'actionable', 'later', 'abnormal', 'informed', 'upper', 'finite', 'jointly', 'insufficient', 'boolean', 'excellent', 'naturally', 'systemic', 'matching', 'offensive', 'poor', 'lastly', 'inventory', 'resistant', 'pervasive', 'substantially', 'specialized', '', '', '', '', '', '', '', '', '', '', '', '', '', '', '', '', '', '', '', '', '', 'i', 'me', 'my', 'myself', 'we', 'our', 'ours', 'ourselves', 'you', \"you're\", \"you've\", \"you'll\", \"you'd\", 'your', 'yours', 'yourself', 'yourselves', 'he', 'him', 'his', 'himself', 'she', \"she's\", 'her', 'hers', 'herself', 'it', \"it's\", 'its', 'itself', 'they', 'them', 'their', 'theirs', 'themselves', 'what', 'which', 'who', 'whom', 'this', 'that', \"that'll\", 'these', 'those', 'am', 'is', 'are', 'was', 'were', 'be', 'been', 'being', 'have', 'has', 'had', 'having', 'do', 'does', 'did', 'doing', 'a', 'an', 'the', 'and', 'but', 'if', 'or', 'because', 'as', 'until', 'while', 'of', 'at', 'by', 'for', 'with', 'about', 'against', 'between', 'into', 'through', 'during', 'before', 'after', 'above', 'below', 'to', 'from', 'up', 'down', 'in', 'out', 'on', 'off', 'over', 'under', 'again', 'further', 'then', 'once', 'here', 'there', 'when', 'where', 'why', 'how', 'all', 'any', 'both', 'each', 'few', 'more', 'most', 'other', 'some', 'such', 'no', 'nor', 'not', 'only', 'own', 'same', 'so', 'than', 'too', 'very', 's', 't', 'can', 'will', 'just', 'don', \"don't\", 'should', \"should've\", 'now', 'd', 'll', 'm', 'o', 're', 've', 'y', 'ain', 'aren', \"aren't\", 'couldn', \"couldn't\", 'didn', \"didn't\", 'doesn', \"doesn't\", 'hadn', \"hadn't\", 'hasn', \"hasn't\", 'haven', \"haven't\", 'isn', \"isn't\", 'ma', 'mightn', \"mightn't\", 'mustn', \"mustn't\", 'needn', \"needn't\", 'shan', \"shan't\", 'shouldn', \"shouldn't\", 'wasn', \"wasn't\", 'weren', \"weren't\", 'won', \"won't\", 'wouldn', \"wouldn't\"]\n"
     ]
    }
   ],
   "source": [
    "stoplist = Noun+Verb+Other+stopwords.words(\"english\")\n",
    "print(stoplist)"
   ]
  },
  {
   "cell_type": "code",
   "execution_count": 70,
   "id": "9f303b03",
   "metadata": {},
   "outputs": [],
   "source": [
    "from nltk.tokenize import word_tokenize \n",
    "\n",
    "# tokenization\n",
    "def preprocess(text):\n",
    "  formatted_text = text.lower()\n",
    "  tokens = []\n",
    "  for token in nltk.word_tokenize(formatted_text):\n",
    "    tokens.append(token)\n",
    "  tokens = [word for word in tokens if word not in stoplist and word not in string.punctuation]\n",
    "  formatted_text1 = ' '.join(element for element in tokens if not element.isdigit())\n",
    "# formatted_text2 = ''.join([i for i in formatted_text1 if not i.isdigit()])\n",
    "  return formatted_text1"
   ]
  },
  {
   "cell_type": "code",
   "execution_count": 112,
   "id": "116307f3",
   "metadata": {},
   "outputs": [],
   "source": [
    "# remove stop words\n",
    "new['summary_without_stopw']=new['summary_without_punkt'].apply(lambda x: preprocess(x))\n",
    "\n",
    "# remove numbers\n",
    "\n",
    "new['summary_without_num']=new['summary_without_stopw'].apply(lambda x: x.replace(r'\\d+',''))\n",
    "\n",
    "# Loading model nlp = spacy.load('en_core_web_sm',disable=['parser', 'ner']) new_text=' '.join(new['summary_without_num'].tolist())\n",
    "\n",
    "# Lemmatization with stopwords removal new['lemmatized']=new['summary_without_num'].apply(lambda x: ' '.join([token.lemma_ for token in nlp(x)])) inal_text=' '.join(new['lemmatized'].tolist()) print(final_text)"
   ]
  },
  {
   "cell_type": "code",
   "execution_count": 103,
   "id": "2dffe869",
   "metadata": {},
   "outputs": [
    {
     "name": "stderr",
     "output_type": "stream",
     "text": [
      "[nltk_data] Downloading package wordnet to\n",
      "[nltk_data]     C:\\Users\\zhiruoz2\\AppData\\Roaming\\nltk_data...\n",
      "[nltk_data]   Unzipping corpora\\wordnet.zip.\n"
     ]
    },
    {
     "data": {
      "text/plain": [
       "True"
      ]
     },
     "execution_count": 103,
     "metadata": {},
     "output_type": "execute_result"
    }
   ],
   "source": [
    "# nltk.download('wordnet')"
   ]
  },
  {
   "cell_type": "code",
   "execution_count": 113,
   "id": "3755867f",
   "metadata": {},
   "outputs": [
    {
     "name": "stdout",
     "output_type": "stream",
     "text": [
      "0       [dedicated, cybersecurity, function, commercia...\n",
      "1       [cybersecurity, become, focus, organisation, c...\n",
      "2       [eu, cybersecurity, regulatory, impact, provid...\n",
      "3       [attack, threat, nonetheless, example, freely,...\n",
      "4       [year, seen, several, cyber, incident, reporte...\n",
      "                              ...                        \n",
      "1707    [cybersecurity, increasing, since, event, sept...\n",
      "1708    [automatic, secret, asgs, independent, underly...\n",
      "1709    [sensitive, cross, tabulated, suppress, cell, ...\n",
      "1710    [protocol, may, used, securely, encrypt, n, qu...\n",
      "1711    [semipopular, quantum, entanglement, physical,...\n",
      "Name: lemmatized, Length: 1712, dtype: object\n"
     ]
    }
   ],
   "source": [
    "w_tokenizer = nltk.tokenize.WhitespaceTokenizer()\n",
    "lemmatizer = nltk.stem.WordNetLemmatizer()\n",
    "def lemmatize_text(text):\n",
    "    return [lemmatizer.lemmatize(w) for w in w_tokenizer.tokenize(text)]\n",
    "\n",
    "new['lemmatized'] = new['summary_without_num'].apply(lemmatize_text)\n"
   ]
  },
  {
   "cell_type": "code",
   "execution_count": 114,
   "id": "2e83d903",
   "metadata": {},
   "outputs": [],
   "source": [
    "from sklearn.feature_extraction.text import TfidfVectorizer, CountVectorizer\n",
    "from sklearn.decomposition import LatentDirichletAllocation"
   ]
  },
  {
   "cell_type": "code",
   "execution_count": 115,
   "id": "0e737c1d",
   "metadata": {},
   "outputs": [],
   "source": [
    "def print_top_words(model, feature_names, n_top_words):\n",
    "    tword = []\n",
    "    for topic_idx, topic in enumerate(model.components_):\n",
    "        print(\"Topic #%d:\" % topic_idx)\n",
    "        topic_w = \" \".join([feature_names[i] for i in topic.argsort()[:-n_top_words - 1:-1]])\n",
    "        tword.append(topic_w)\n",
    "        print(topic_w)\n",
    "    return tword"
   ]
  },
  {
   "cell_type": "code",
   "execution_count": 123,
   "id": "359c12bf",
   "metadata": {},
   "outputs": [],
   "source": [
    "n_features = 1000 #Grab 1000 characteristic words\n",
    "tf_vectorizer = CountVectorizer(strip_accents = 'unicode',\n",
    "                                max_features=n_features,\n",
    "                                stop_words='english',\n",
    "                                max_df = 0.5,\n",
    "                                min_df = 10)\n",
    "tf = tf_vectorizer.fit_transform(new['summary_without_num'])"
   ]
  },
  {
   "cell_type": "code",
   "execution_count": 109,
   "id": "377b3032",
   "metadata": {},
   "outputs": [
    {
     "data": {
      "text/plain": [
       "LatentDirichletAllocation(learning_offset=50, max_iter=50, n_components=8,\n",
       "                          random_state=0)"
      ]
     },
     "execution_count": 109,
     "metadata": {},
     "output_type": "execute_result"
    }
   ],
   "source": [
    "n_topics = 8\n",
    "lda = LatentDirichletAllocation(n_components=n_topics, max_iter=50,\n",
    "                                learning_method='batch',\n",
    "                                learning_offset=50,\n",
    "#                                 doc_topic_prior=0.1,\n",
    "#                                 topic_word_prior=0.01,\n",
    "                               random_state=0)\n",
    "lda.fit(tf)"
   ]
  },
  {
   "cell_type": "code",
   "execution_count": 93,
   "id": "991f4595",
   "metadata": {},
   "outputs": [
    {
     "name": "stdout",
     "output_type": "stream",
     "text": [
      "Topic #0:\n",
      "attacker optimal defense attackers federated computation problems deception results defender strategies algorithms attack games dynamics cybersecurity applications fl privacy distributed private secure based defensive rl computational defenders players privacypreserving policies\n",
      "Topic #1:\n",
      "cybersecurity tools results challenges cyber experts students researchers using organizations studies factors threats education practices companies years recommendations reports used literature based context address breaches environments incidents findings developed solutions\n",
      "Topic #2:\n",
      "malware ransomware attacks models using attack based network results dataset used accuracy techniques malicious cybersecurity datasets algorithms methods features intrusion samples domain novel ml networks applications classifier experiments approaches existing\n",
      "Topic #3:\n",
      "users encryption privacy encrypted services content used storage media database server web access files twitter techniques password based personal issues stored malicious robots problems keys using tweets methods provides em\n",
      "Topic #4:\n",
      "network networks access secure using quantum protocol attacks users nodes protocols blockchain mobile used phishing wireless secret authentication sensitive based communications results cryptography spectrum novel bitcoin link 5g schemes malicious\n",
      "Topic #5:\n",
      "iot devices privacy internet applications challenges things distributed technologies services architecture secure blockchain trust solutions issues healthcare edge health hardware access various medical existing requirements including potential concerns layer storage\n",
      "Topic #6:\n",
      "network cybersecurity anomaly methods results networks using based novel anomalies query logs patterns monitoring used models applications features malicious events cyber detecting streams behavioral experiments modeling accurate extraction log stream\n",
      "Topic #7:\n",
      "cyber attacks attack risk threat vulnerabilities cybersecurity threats cyberattacks risks potential used vulnerability techniques safety vehicles models using autonomous physical based methods defense challenges cyberphysical events cps various network operations\n"
     ]
    }
   ],
   "source": [
    "n_top_words = 30\n",
    "tf_feature_names = tf_vectorizer.get_feature_names()\n",
    "topic_word = print_top_words(lda, tf_feature_names, n_top_words)"
   ]
  },
  {
   "cell_type": "code",
   "execution_count": 124,
   "id": "f1f7e082",
   "metadata": {},
   "outputs": [],
   "source": [
    "topics=lda.transform(tf)"
   ]
  },
  {
   "cell_type": "code",
   "execution_count": 125,
   "id": "4dc72195",
   "metadata": {},
   "outputs": [],
   "source": [
    "topic = []\n",
    "for t in topics:\n",
    "    topic.append(\"Topic #\"+str(list(t).index(np.max(t))))\n",
    "new['# of Topic with the highest probability']=topic\n",
    "new['probability of each topic']=list(topics)\n",
    "new.to_excel(\"data_topic.xlsx\",index=False)"
   ]
  },
  {
   "cell_type": "code",
   "execution_count": 126,
   "id": "4d6540fd",
   "metadata": {},
   "outputs": [],
   "source": [
    "import pyLDAvis.sklearn"
   ]
  },
  {
   "cell_type": "code",
   "execution_count": 127,
   "id": "ed78672d",
   "metadata": {},
   "outputs": [
    {
     "name": "stderr",
     "output_type": "stream",
     "text": [
      "C:\\Users\\zhiruoz2\\Anaconda3\\lib\\site-packages\\pyLDAvis\\_prepare.py:246: FutureWarning: In a future version of pandas all arguments of DataFrame.drop except for the argument 'labels' will be keyword-only\n",
      "  default_term_info = default_term_info.sort_values(\n"
     ]
    },
    {
     "data": {
      "text/html": [
       "\n",
       "<link rel=\"stylesheet\" type=\"text/css\" href=\"https://cdn.jsdelivr.net/gh/bmabey/pyLDAvis@3.3.1/pyLDAvis/js/ldavis.v1.0.0.css\">\n",
       "\n",
       "\n",
       "<div id=\"ldavis_el720024375636985286682165448\"></div>\n",
       "<script type=\"text/javascript\">\n",
       "\n",
       "var ldavis_el720024375636985286682165448_data = {\"mdsDat\": {\"x\": [-0.17510127800397512, -0.05338753587519966, 0.19331616825222445, 0.056974703339153, -0.0802039681341543, -0.1917805701953447, 0.07266183347484016, 0.17752064714245558], \"y\": [-0.031575259217080494, 0.15065534811243228, 0.02499901787387328, 0.22395997176137314, -0.022833336295502615, -0.06688115717435042, -0.18760475534907065, -0.09071982971167414], \"topics\": [1, 2, 3, 4, 5, 6, 7, 8], \"cluster\": [1, 1, 1, 1, 1, 1, 1, 1], \"Freq\": [20.74943153382082, 18.89210717040263, 13.266477167277783, 12.124307407990166, 9.399492614219698, 9.063814032786722, 8.976674218676552, 7.527695854825632]}, \"tinfo\": {\"Term\": [\"cyber\", \"cybersecurity\", \"iot\", \"network\", \"users\", \"privacy\", \"malware\", \"devices\", \"encryption\", \"ransomware\", \"attacks\", \"attack\", \"networks\", \"internet\", \"risk\", \"attacker\", \"access\", \"anomaly\", \"defense\", \"services\", \"optimal\", \"tools\", \"vulnerabilities\", \"blockchain\", \"things\", \"secure\", \"encrypted\", \"applications\", \"attackers\", \"quantum\", \"ransomware\", \"samples\", \"ml\", \"classifier\", \"ids\", \"ransom\", \"benign\", \"distance\", \"malware\", \"classifiers\", \"mlbased\", \"f1score\", \"dos\", \"families\", \"evasion\", \"mining\", \"trained\", \"distributions\", \"approximation\", \"dl\", \"achieves\", \"accuracy\", \"infected\", \"extract\", \"windows\", \"classifying\", \"dataset\", \"learningbased\", \"traces\", \"forecasting\", \"android\", \"datasets\", \"intrusion\", \"models\", \"images\", \"generated\", \"examples\", \"features\", \"algorithms\", \"text\", \"malicious\", \"using\", \"domain\", \"attacks\", \"attack\", \"techniques\", \"results\", \"based\", \"used\", \"random\", \"methods\", \"experiments\", \"network\", \"novel\", \"cybersecurity\", \"applications\", \"networks\", \"approaches\", \"existing\", \"cyberphysical\", \"cps\", \"ics\", \"automotive\", \"posture\", \"homomorphic\", \"reviewed\", \"military\", \"vehicles\", \"defence\", \"ethical\", \"insurance\", \"gaps\", \"vehicular\", \"severity\", \"economic\", \"controlled\", \"safety\", \"sustainable\", \"driving\", \"sectors\", \"coordinated\", \"risk\", \"vulnerability\", \"ontology\", \"injection\", \"vulnerabilities\", \"decisionmaking\", \"agent\", \"autonomous\", \"cyber\", \"cyberattacks\", \"threat\", \"attack\", \"risks\", \"cyberattack\", \"attacks\", \"threats\", \"physical\", \"vectors\", \"losses\", \"metrics\", \"operations\", \"potential\", \"events\", \"cybersecurity\", \"defense\", \"techniques\", \"components\", \"modeling\", \"used\", \"models\", \"methods\", \"challenges\", \"using\", \"based\", \"various\", \"network\", \"iot\", \"things\", \"healthcare\", \"patients\", \"scada\", \"interoperability\", \"devices\", \"blocks\", \"trust\", \"sensors\", \"health\", \"medical\", \"lives\", \"ledger\", \"gas\", \"internet\", \"acquisition\", \"enabled\", \"sensing\", \"blockchainbased\", \"sdn\", \"aerial\", \"contract\", \"edge\", \"cities\", \"owners\", \"logic\", \"vendors\", \"ict\", \"mobility\", \"reliability\", \"layer\", \"privacy\", \"distributed\", \"hardware\", \"integrity\", \"technologies\", \"blockchain\", \"architecture\", \"services\", \"applications\", \"challenges\", \"solutions\", \"issues\", \"programming\", \"secure\", \"requirements\", \"concerns\", \"storage\", \"access\", \"various\", \"including\", \"existing\", \"potential\", \"experts\", \"students\", \"reports\", \"skills\", \"educational\", \"interviews\", \"teams\", \"ci\", \"organizational\", \"collaboration\", \"misuse\", \"groups\", \"education\", \"cybercrime\", \"projects\", \"recommendations\", \"incident\", \"professionals\", \"pandemic\", \"countries\", \"topics\", \"organisations\", \"respond\", \"questions\", \"legal\", \"interactive\", \"responses\", \"reporting\", \"reality\", \"tools\", \"companies\", \"practices\", \"factors\", \"cybersecurity\", \"researchers\", \"government\", \"organizations\", \"studies\", \"incidents\", \"developers\", \"findings\", \"participants\", \"challenges\", \"results\", \"concepts\", \"literature\", \"years\", \"breaches\", \"context\", \"environments\", \"cyber\", \"using\", \"threats\", \"response\", \"address\", \"developed\", \"used\", \"based\", \"solutions\", \"federated\", \"deception\", \"defender\", \"games\", \"fl\", \"rl\", \"players\", \"equilibrium\", \"honeypots\", \"parameter\", \"gametheoretic\", \"gdpr\", \"nash\", \"incentives\", \"convergence\", \"reinforcement\", \"optimal\", \"computation\", \"competitive\", \"proactive\", \"attacker\", \"defenders\", \"defensive\", \"moving\", \"controller\", \"fixed\", \"reactive\", \"noise\", \"attacking\", \"dynamics\", \"privacypreserving\", \"attackers\", \"bayesian\", \"optimization\", \"strategies\", \"defense\", \"problems\", \"private\", \"computational\", \"parameters\", \"policies\", \"algorithms\", \"distributed\", \"results\", \"applications\", \"attack\", \"secure\", \"privacy\", \"cybersecurity\", \"based\", \"anomaly\", \"anomalies\", \"logs\", \"streams\", \"behavioral\", \"extraction\", \"log\", \"botnet\", \"streaming\", \"multivariate\", \"indicators\", \"query\", \"predictions\", \"stream\", \"queries\", \"interface\", \"accurate\", \"contextual\", \"flows\", \"measurements\", \"host\", \"botnets\", \"delay\", \"patterns\", \"fraud\", \"audio\", \"intrusions\", \"compression\", \"ip\", \"ddos\", \"series\", \"monitoring\", \"temporal\", \"network\", \"flow\", \"detecting\", \"methods\", \"novel\", \"input\", \"networks\", \"results\", \"cybersecurity\", \"events\", \"using\", \"based\", \"features\", \"modeling\", \"realtime\", \"applications\", \"malicious\", \"used\", \"models\", \"experiments\", \"cyber\", \"quantum\", \"secret\", \"bitcoin\", \"link\", \"routing\", \"links\", \"transaction\", \"bots\", \"wireless\", \"transmitted\", \"phishing\", \"5g\", \"location\", \"channels\", \"protocol\", \"protocols\", \"spectrum\", \"tactics\", \"cameras\", \"transactions\", \"cryptography\", \"propagation\", \"email\", \"computers\", \"paths\", \"frequently\", \"message\", \"independent\", \"packet\", \"authentication\", \"mobile\", \"nodes\", \"networks\", \"access\", \"network\", \"sensitive\", \"communications\", \"blockchain\", \"secure\", \"schemes\", \"users\", \"using\", \"attacks\", \"used\", \"based\", \"transmission\", \"novel\", \"results\", \"malicious\", \"encryption\", \"content\", \"twitter\", \"tweets\", \"em\", \"decryption\", \"websites\", \"forensic\", \"robot\", \"store\", \"untrusted\", \"robots\", \"database\", \"server\", \"password\", \"encrypted\", \"accounts\", \"media\", \"robotics\", \"messages\", \"stored\", \"sizes\", \"keys\", \"web\", \"millions\", \"users\", \"errors\", \"kinds\", \"clinical\", \"clients\", \"storage\", \"files\", \"investigation\", \"privacy\", \"services\", \"personal\", \"law\", \"used\", \"access\", \"techniques\", \"platforms\", \"issues\", \"based\", \"problems\", \"malicious\", \"using\", \"methods\", \"provides\"], \"Freq\": [1215.0, 1150.0, 365.0, 809.0, 393.0, 516.0, 455.0, 333.0, 211.0, 344.0, 918.0, 656.0, 458.0, 287.0, 334.0, 168.0, 232.0, 124.0, 241.0, 238.0, 124.0, 206.0, 248.0, 173.0, 131.0, 319.0, 116.0, 397.0, 159.0, 103.0, 344.0847627563426, 105.27691004987228, 97.41447402303318, 85.62184955915926, 73.82848741775202, 36.484308483191235, 35.501490816091184, 35.50099108660729, 440.97373184687876, 63.71624477961312, 21.7430304594729, 21.742855818231074, 21.742416956757058, 36.791533165643514, 34.65780904507962, 30.854602570319308, 67.5439756793297, 18.63943184649143, 19.50812872594925, 39.81261990212897, 33.547438319587705, 178.78568104550914, 24.39289882948648, 35.28815831555092, 24.27516137670368, 19.149812950108892, 180.7559212707647, 33.619058093106446, 17.86498303175713, 24.101321401892402, 47.6013261265733, 149.2710417476797, 134.49722999206458, 298.5165034507066, 47.336081765805, 76.57219298678864, 71.43164673623245, 140.86373919900802, 142.86737968834532, 59.43241219087052, 160.69622207700806, 280.17945720928566, 103.06454883055915, 328.2904295682798, 221.12785846630112, 164.6983198665356, 189.46535462595926, 195.3138136809862, 180.44186427110526, 60.96034178191474, 142.6587214167758, 84.60038703186781, 192.70598586929222, 97.87266600165836, 154.4785273298154, 91.9362271458004, 92.83242371403175, 84.09702223173247, 81.19742208117526, 73.77974431960341, 68.86938375132752, 40.38857007582668, 31.549561040838523, 31.549390924768016, 30.564855867059098, 26.638880849179632, 26.638800829597823, 94.11515336515872, 22.710588529267255, 21.72759999390929, 56.95621659044818, 25.425384826346995, 25.19230941871133, 43.95970544838638, 35.42160580158231, 29.560946808499445, 95.49618838686777, 18.885320419022342, 29.175754322099948, 19.716541212735024, 19.59915535378216, 285.56192023088283, 97.87089268089306, 17.53442829563119, 22.48372355081039, 208.1440200754678, 22.84399893072622, 32.51734658900747, 86.2737396658745, 988.1188332767093, 130.92234160424547, 220.90858445350275, 357.7956341946215, 126.76313766683612, 54.12071009503112, 447.5903926966532, 168.24650401155725, 83.66397243141859, 39.21462539009081, 38.62380508645576, 51.286668462831095, 63.575245949750276, 106.3122286349917, 70.62022444535825, 191.28628532515935, 80.31136513842296, 97.85824122014596, 52.840515779882686, 52.179831952088634, 98.2344382687716, 88.03337211187905, 80.89735179161508, 76.75252949441965, 87.6006775721204, 83.30609055878071, 67.67913160576401, 66.20270447659375, 364.8185583899871, 130.2303013568994, 85.52501726234667, 25.750263049160743, 19.835832200433238, 19.81833294939815, 300.07059759658074, 18.032451327355624, 96.74917319151531, 49.4825206209333, 71.65250312517801, 61.699932561080814, 20.753675985195958, 17.727583917622606, 15.842062532771298, 228.3759617703921, 17.6461124551925, 22.7321665500514, 19.540759933887465, 16.470987201522217, 16.446320422543767, 15.620620578187701, 22.96518883201224, 83.6641103957569, 23.62951790020801, 19.93408459425454, 35.32468709740633, 17.497181943330162, 17.303100963774696, 15.62176493546949, 39.30866761596041, 50.56377829500505, 286.5279802816741, 120.13492601243564, 66.32997365980926, 48.172952740709896, 116.71188789518142, 97.79381770378815, 100.5894946731848, 115.15056932267603, 164.59418351842987, 144.06578203999928, 92.44802863014418, 88.66199855917475, 40.64765291030071, 98.55772837813379, 57.20095322613672, 51.65016793106292, 50.19954288608245, 64.63397824433662, 62.30915234988344, 57.00464943348907, 61.51930147108596, 55.070461345347844, 89.57735031157854, 85.64574124764152, 53.20548746629145, 40.42650512996996, 33.545444292436564, 31.57936952063424, 26.664198680099556, 24.69816804935303, 18.79969523066918, 32.90715365489463, 24.697940611252054, 27.926624286220324, 55.753357010240244, 26.60115149056785, 20.221243925171073, 54.28485911813876, 33.064273890374054, 28.83645665420096, 25.42310047101005, 26.667314930741554, 33.06672209734864, 34.958901610464096, 22.10524929843168, 39.16562727242321, 23.337234156635812, 26.206776141583095, 18.938994378026397, 17.789413399018894, 21.25902294726495, 152.56982524108705, 54.83974300873221, 55.027051572925544, 60.64929863936422, 585.8289066883217, 78.19470668635087, 39.74483368794696, 75.20829358193716, 74.14368405024989, 47.99945948910164, 35.423969214869906, 47.65890825571714, 40.127909247776, 95.07032617482734, 112.54159159814354, 37.39573933535225, 51.71794320851094, 54.78370483224893, 48.65927637049549, 49.14732001609136, 48.23288425253433, 90.67825569936834, 75.85218413281729, 60.515429558469414, 42.43029734652999, 48.816577304011616, 46.78609444982436, 51.908912108228314, 49.63950704078584, 43.10564035746674, 94.92498774221431, 75.17475202564101, 68.2622053457986, 64.31187236750635, 57.3993165309105, 49.499196677006935, 42.586276724517944, 41.59886489435021, 37.64897354339451, 29.748153922704976, 28.761225993698822, 28.760884966001836, 19.873616410926765, 19.87327498889867, 33.51323223821395, 36.233638958017565, 115.88393452725182, 84.08774489244186, 22.518595323101312, 27.111060409787513, 142.65667700439784, 45.25010100073397, 51.76138363305785, 25.473795477816953, 20.52577533700463, 18.044823891628678, 22.85709356174711, 25.984363832049443, 19.217617361157906, 64.17419180387247, 42.563572368865564, 104.85301833764497, 25.973186964317787, 38.35211454600554, 68.01634931016252, 109.71346148886227, 82.15024620062674, 53.61670462050826, 46.70615231360108, 41.567871484296816, 42.064140100174875, 66.6395921231705, 56.0009175461365, 74.59345584921114, 59.14894996455501, 65.73005523625554, 52.949370002298956, 57.331119091749486, 62.490820955444285, 51.84452409085079, 123.70590994346635, 65.37486035958005, 60.431487814283244, 40.65820086376811, 40.6579413020004, 37.69230682071445, 37.69195874682559, 34.72599836065323, 22.862291231903257, 20.88488734791713, 20.8847590672669, 62.48554725018729, 22.00447702221674, 36.69797184477708, 30.34935683999865, 17.39950976958837, 37.92551756749815, 18.951011471279305, 26.72072132093298, 18.897176443039665, 19.58474241321445, 25.84717847452941, 15.592071850298039, 60.002574686650995, 16.408774453470453, 13.457785532610364, 13.266765477160089, 16.980955879612523, 16.65563765375782, 32.2099817733457, 35.34147255032953, 59.463699878236255, 25.152360032005884, 231.67391248232295, 32.89559042220484, 42.64211899783256, 104.49824136817816, 69.71417230625926, 32.07779232816128, 83.53606801538197, 87.78924639046883, 123.7215945628221, 45.39103541982897, 81.29636160522523, 76.01685842539236, 53.248032292945574, 38.099303988645865, 34.93344068824786, 54.29053710297919, 50.352967027604286, 56.60356859485376, 54.73896987197656, 39.150904488121355, 44.67129042520358, 102.91279188427713, 67.33157846310344, 39.657627881714404, 38.668850123261684, 34.71593337911124, 34.71559280004676, 30.76209295915135, 29.773458956789444, 69.29616675818626, 19.890424563649518, 71.4890220363596, 36.84335337008646, 26.605145994551982, 26.509152717715136, 100.99521097790856, 76.29007999085482, 41.30903870161414, 17.91344349398901, 21.118635047025535, 31.404537678228394, 42.26743952119789, 22.664314490014597, 22.54835957627503, 26.38210009338479, 20.158282523960047, 16.087753468026595, 23.625268427081775, 14.901320795214287, 17.73480159356642, 66.97265368310876, 75.0004800707349, 84.23510228828084, 198.5135549450193, 112.84810413684325, 259.35622661360463, 66.38767225656873, 45.525564529776986, 75.14860742580207, 111.86190125611543, 36.14784716255289, 90.62752109858404, 105.8813067987744, 99.77581393784607, 74.1223313937665, 59.55149635627188, 33.5972651667485, 40.80436190224025, 42.29737573363475, 35.53597814172616, 210.95444632593342, 78.31870709721113, 45.65499652104292, 33.77714987704633, 29.817676510256632, 28.82800918718166, 28.82791788172069, 27.83806492313802, 25.85873029054955, 22.888963874022163, 19.919410061951176, 34.71071558371879, 63.17287177882833, 60.280468777584105, 43.64527264427841, 101.45806160512623, 23.692089887497776, 64.05100904530539, 20.198135340475716, 20.027078638360134, 35.404917988341325, 22.69233856551329, 33.90737537288579, 58.569597398997615, 17.30829671059011, 263.6896351021885, 17.247690596604013, 14.272421576193453, 12.000968492046075, 18.479428002519942, 69.32747646134129, 49.06517672214161, 28.93545079229775, 169.50236580567733, 81.1115191733695, 37.233779088173875, 27.932392128500496, 75.20546218268768, 49.40278678026526, 44.012928577198416, 29.475061437375533, 36.17268177324629, 42.44645469671716, 34.279812060927505, 34.74091483584797, 33.850450080641515, 31.428187433730663, 30.12549186898568], \"Total\": [1215.0, 1150.0, 365.0, 809.0, 393.0, 516.0, 455.0, 333.0, 211.0, 344.0, 918.0, 656.0, 458.0, 287.0, 334.0, 168.0, 232.0, 124.0, 241.0, 238.0, 124.0, 206.0, 248.0, 173.0, 131.0, 319.0, 116.0, 397.0, 159.0, 103.0, 344.94859942489427, 106.14027170367473, 98.27827018316056, 86.48526594083744, 74.692263137704, 37.347750318861834, 36.36500035992249, 36.365003010836695, 455.09590024630074, 65.85662639784564, 22.6064947135278, 22.606496458870087, 22.606498242379065, 38.33456039671374, 37.36009981904319, 33.42644428451698, 74.72277147230564, 20.649177987106178, 21.632747664019504, 45.231761401960576, 38.35287482038688, 207.52925986990314, 28.522523510263408, 41.288995319577, 28.521975743324052, 22.604780784347785, 214.44428865688428, 40.32998124819252, 21.64456459210258, 29.500172583445654, 59.00808006116655, 192.88666603656677, 188.01086661357922, 508.62889640591277, 61.99447576207949, 112.17861945488607, 106.20890709565012, 257.00238718769845, 267.9173188827058, 84.66421598178415, 316.19180746645685, 717.9233927730828, 181.84631391247137, 918.3890801735022, 656.6285108686377, 418.428789734079, 535.8878610437694, 601.8945831094466, 579.2754746313866, 91.55281404093972, 400.90684435704577, 161.567630643524, 809.8941397783851, 265.07997637633076, 1150.0095318903604, 397.33874667810005, 458.6773702758799, 261.9541393624955, 318.1163532723706, 74.64350006166862, 69.73299890053919, 41.252094298559896, 32.41319324863168, 32.41319419845281, 31.431111844222244, 27.50269366090115, 27.50269434088859, 97.23997955697878, 23.574292561417472, 22.592194932941897, 59.92354538814483, 27.507097864293115, 27.50794510802872, 48.12990715791614, 39.289883927784096, 33.41863573074467, 108.12106593503127, 21.616845993098806, 33.397520484358225, 22.599493815926525, 22.608923576867515, 334.0283038825407, 114.9203150587876, 20.630090566571383, 26.532110634193604, 248.52458171214317, 27.52363959847237, 39.29181001140573, 105.1916647558396, 1215.37286564529, 187.70233192201155, 358.8451492056431, 656.6285108686377, 196.58662312762888, 73.7169287763126, 918.3890801735022, 331.2810519931504, 134.7883193329071, 51.08037800273139, 50.130873968512496, 77.62840035414152, 109.19408616211904, 258.70249119418304, 156.49090898394155, 1150.0095318903604, 241.2534149539559, 418.428789734079, 103.35018166538596, 104.4321485599267, 579.2754746313866, 508.62889640591277, 400.90684435704577, 360.33745523476307, 717.9233927730828, 601.8945831094466, 300.2949656360159, 809.8941397783851, 365.6817869700712, 131.0936776306205, 87.72049776228295, 26.613259816471782, 20.699273546965628, 21.687987305602057, 333.2429937720917, 20.70687348739422, 111.34351983339941, 57.14597971783085, 83.75161880095432, 72.90880838008256, 24.633831307015825, 21.693402168009747, 19.70273136569529, 287.9564535432602, 22.676065140849207, 29.55425506124053, 25.608708918230818, 21.696838825775167, 21.69918901188732, 20.68403138372272, 30.55002235284438, 111.46203567852348, 31.516094053451596, 26.62144844773409, 47.28324987931746, 23.641164580492397, 23.636415955911726, 21.666135228355483, 55.207508978698534, 72.9182624005604, 516.3274642729164, 202.23574710801776, 105.41083247881018, 73.89267858789367, 210.73932589434003, 173.68189212919185, 181.2057608512342, 238.82463986455792, 397.33874667810005, 360.33745523476307, 233.33351434179093, 232.52894220120902, 73.92069048067748, 319.6985914616523, 136.84548083049188, 124.21039778891466, 124.49594946843109, 232.15981954768904, 300.2949656360159, 225.56609427531947, 318.1163532723706, 258.70249119418304, 90.44122027993537, 86.50912147470014, 54.069313745806184, 41.289993442284455, 34.408822279954485, 32.44277277056931, 27.527650542807134, 25.56160108801432, 19.663455187905768, 35.399261582345865, 27.536644551760673, 31.47423821619946, 62.93345022459938, 30.493993453365835, 23.593196725709888, 63.89312036549291, 39.32243970481666, 34.43475743793006, 30.487976249424964, 32.47493514641781, 40.35103495498169, 43.2513236315863, 27.539892470124713, 49.14561177995001, 29.507914092153424, 33.46971633297643, 24.591362655970777, 23.62389305387072, 28.530611228448006, 206.5659244724876, 74.75010357939641, 76.6593290043192, 88.44982062056401, 1150.0095318903604, 124.85029433211459, 57.03318223263022, 135.78755387927484, 135.78365195174212, 75.67062260402655, 51.18808672634652, 82.62455397647034, 63.03814829787575, 360.33745523476307, 535.8878610437694, 58.00248809654887, 132.77861679137143, 155.44791340367377, 118.2234508456828, 122.1069401026582, 123.02541307856958, 1215.37286564529, 717.9233927730828, 331.2810519931504, 90.56735958002035, 170.45432320978452, 165.3813992462114, 579.2754746313866, 601.8945831094466, 233.33351434179093, 95.78801150262957, 76.03758950723837, 69.12494240955475, 65.17485714862333, 58.26221058811813, 50.36204112522035, 43.44939265259793, 42.46187306690713, 38.511788404351094, 30.611619800074386, 29.624098295259508, 29.62409834518852, 20.736408939066248, 20.736407778511598, 35.5435588474608, 38.51342076323534, 124.38902617880898, 91.80465831812138, 24.687996565917867, 31.599599991555795, 168.75354472612753, 54.26711762714975, 62.16597506367801, 30.599239825073713, 24.670576397354925, 21.72718052899656, 27.627488905454378, 31.576188445257173, 23.687191643776224, 79.94374978396492, 57.306893389031146, 159.70174147010212, 33.54259974066373, 56.260523053547, 122.18009626039589, 241.2534149539559, 186.46737605893924, 97.69933792665599, 86.84207039002408, 77.92150498655127, 80.94023594887891, 267.9173188827058, 202.23574710801776, 535.8878610437694, 397.33874667810005, 656.6285108686377, 319.6985914616523, 516.3274642729164, 1150.0095318903604, 601.8945831094466, 124.56862830680572, 66.23762118514642, 61.29431531040794, 41.52109315066156, 41.52109226421285, 38.555108547651685, 38.55510894192524, 35.58912464526846, 23.72519179053195, 21.747868991104802, 21.747869197566263, 67.22510252272873, 24.703325440944038, 43.505361560009646, 37.570414404823346, 21.746806781361045, 47.40232995008128, 23.701810248684563, 34.55703627851785, 24.698837788866413, 25.70091391531947, 34.576547407244185, 21.731827871113108, 89.82756646252972, 24.67828643167136, 20.757248436356143, 20.72579788734193, 26.638282935624517, 26.68052664055812, 52.3377914310652, 60.1634180418572, 108.58051762251041, 42.41114034287575, 809.8941397783851, 63.11679847428054, 94.59830043528545, 400.90684435704577, 265.07997637633076, 66.03855339563937, 458.6773702758799, 535.8878610437694, 1150.0095318903604, 156.49090898394155, 717.9233927730828, 601.8945831094466, 257.00238718769845, 104.4321485599267, 83.86569119402351, 397.33874667810005, 316.19180746645685, 579.2754746313866, 508.62889640591277, 161.567630643524, 1215.37286564529, 103.77545818001424, 68.19448709987192, 40.52039811780037, 39.532037439335014, 35.57859715010151, 35.57859563203972, 31.625156009261776, 30.636794980500976, 72.14250230807073, 20.753193081624715, 76.1068959641494, 40.504428491182495, 29.634627059702087, 29.64222667998306, 113.67071318841454, 89.92261995409814, 49.38946758416787, 21.74245128168359, 25.684863932692046, 38.52655719703042, 52.369270617638826, 28.642686289547136, 28.630283793176098, 34.550583665245604, 26.685075732844265, 21.723105572023133, 32.62135231513899, 20.724877100485855, 24.70849213376157, 96.77777395059584, 113.53209747416581, 130.42341141269893, 458.6773702758799, 232.15981954768904, 809.8941397783851, 131.3862721359568, 80.84755059886537, 173.68189212919185, 319.6985914616523, 61.25926120971123, 393.5736163111445, 717.9233927730828, 918.3890801735022, 579.2754746313866, 601.8945831094466, 59.24589686833368, 265.07997637633076, 535.8878610437694, 316.19180746645685, 211.81715202551214, 79.18158173088221, 46.51759964985067, 34.63978686625772, 30.68051571308803, 29.690698624272528, 29.690697844297816, 28.70087934357253, 26.721245772118674, 23.751792358775468, 20.782338187780397, 36.61699457856514, 69.27567762726784, 67.29469911637862, 49.47971998952066, 116.77334356493573, 27.69781977683591, 83.09018567225478, 26.69749330354511, 26.7126590133457, 47.48824657776493, 31.63018722311734, 47.468751130235205, 83.0161426093041, 24.694696888379212, 393.5736163111445, 26.6727520163678, 22.70700020559557, 19.743054738848258, 30.654208523001984, 124.49594946843109, 88.80021223558703, 51.313748038197275, 516.3274642729164, 238.82463986455792, 86.86986411463434, 51.31109249606992, 579.2754746313866, 232.15981954768904, 418.428789734079, 79.8569951235091, 232.52894220120902, 601.8945831094466, 186.46737605893924, 316.19180746645685, 717.9233927730828, 400.90684435704577, 213.71649302850818], \"Category\": [\"Default\", \"Default\", \"Default\", \"Default\", \"Default\", \"Default\", \"Default\", \"Default\", \"Default\", \"Default\", \"Default\", \"Default\", \"Default\", \"Default\", \"Default\", \"Default\", \"Default\", \"Default\", \"Default\", \"Default\", \"Default\", \"Default\", \"Default\", \"Default\", \"Default\", \"Default\", \"Default\", \"Default\", \"Default\", \"Default\", \"Topic1\", \"Topic1\", \"Topic1\", \"Topic1\", \"Topic1\", \"Topic1\", \"Topic1\", \"Topic1\", \"Topic1\", \"Topic1\", \"Topic1\", \"Topic1\", \"Topic1\", \"Topic1\", \"Topic1\", \"Topic1\", \"Topic1\", \"Topic1\", \"Topic1\", \"Topic1\", \"Topic1\", \"Topic1\", \"Topic1\", \"Topic1\", \"Topic1\", \"Topic1\", \"Topic1\", \"Topic1\", \"Topic1\", \"Topic1\", \"Topic1\", \"Topic1\", \"Topic1\", \"Topic1\", \"Topic1\", \"Topic1\", \"Topic1\", \"Topic1\", \"Topic1\", \"Topic1\", \"Topic1\", \"Topic1\", \"Topic1\", \"Topic1\", \"Topic1\", \"Topic1\", \"Topic1\", \"Topic1\", \"Topic1\", \"Topic1\", \"Topic1\", \"Topic1\", \"Topic1\", \"Topic1\", \"Topic1\", \"Topic1\", \"Topic1\", \"Topic1\", \"Topic1\", \"Topic2\", \"Topic2\", \"Topic2\", \"Topic2\", \"Topic2\", \"Topic2\", \"Topic2\", \"Topic2\", \"Topic2\", \"Topic2\", \"Topic2\", \"Topic2\", \"Topic2\", \"Topic2\", \"Topic2\", \"Topic2\", \"Topic2\", \"Topic2\", \"Topic2\", \"Topic2\", \"Topic2\", \"Topic2\", \"Topic2\", \"Topic2\", \"Topic2\", \"Topic2\", \"Topic2\", \"Topic2\", \"Topic2\", \"Topic2\", \"Topic2\", \"Topic2\", \"Topic2\", \"Topic2\", \"Topic2\", \"Topic2\", \"Topic2\", \"Topic2\", \"Topic2\", \"Topic2\", \"Topic2\", \"Topic2\", \"Topic2\", \"Topic2\", \"Topic2\", \"Topic2\", \"Topic2\", \"Topic2\", \"Topic2\", \"Topic2\", \"Topic2\", \"Topic2\", \"Topic2\", \"Topic2\", \"Topic2\", \"Topic2\", \"Topic2\", \"Topic2\", \"Topic3\", \"Topic3\", \"Topic3\", \"Topic3\", \"Topic3\", \"Topic3\", \"Topic3\", \"Topic3\", \"Topic3\", \"Topic3\", \"Topic3\", \"Topic3\", \"Topic3\", \"Topic3\", \"Topic3\", \"Topic3\", \"Topic3\", \"Topic3\", \"Topic3\", \"Topic3\", \"Topic3\", \"Topic3\", \"Topic3\", \"Topic3\", \"Topic3\", \"Topic3\", \"Topic3\", \"Topic3\", \"Topic3\", \"Topic3\", \"Topic3\", \"Topic3\", \"Topic3\", \"Topic3\", \"Topic3\", \"Topic3\", \"Topic3\", \"Topic3\", \"Topic3\", \"Topic3\", \"Topic3\", \"Topic3\", \"Topic3\", \"Topic3\", \"Topic3\", \"Topic3\", \"Topic3\", \"Topic3\", \"Topic3\", \"Topic3\", \"Topic3\", \"Topic3\", \"Topic3\", \"Topic3\", \"Topic4\", \"Topic4\", \"Topic4\", \"Topic4\", \"Topic4\", \"Topic4\", \"Topic4\", \"Topic4\", \"Topic4\", \"Topic4\", \"Topic4\", \"Topic4\", \"Topic4\", \"Topic4\", \"Topic4\", \"Topic4\", \"Topic4\", \"Topic4\", \"Topic4\", \"Topic4\", \"Topic4\", \"Topic4\", \"Topic4\", \"Topic4\", \"Topic4\", \"Topic4\", \"Topic4\", \"Topic4\", \"Topic4\", \"Topic4\", \"Topic4\", \"Topic4\", \"Topic4\", \"Topic4\", \"Topic4\", \"Topic4\", \"Topic4\", \"Topic4\", \"Topic4\", \"Topic4\", \"Topic4\", \"Topic4\", \"Topic4\", \"Topic4\", \"Topic4\", \"Topic4\", \"Topic4\", \"Topic4\", \"Topic4\", \"Topic4\", \"Topic4\", \"Topic4\", \"Topic4\", \"Topic4\", \"Topic4\", \"Topic4\", \"Topic4\", \"Topic4\", \"Topic4\", \"Topic5\", \"Topic5\", \"Topic5\", \"Topic5\", \"Topic5\", \"Topic5\", \"Topic5\", \"Topic5\", \"Topic5\", \"Topic5\", \"Topic5\", \"Topic5\", \"Topic5\", \"Topic5\", \"Topic5\", \"Topic5\", \"Topic5\", \"Topic5\", \"Topic5\", \"Topic5\", \"Topic5\", \"Topic5\", \"Topic5\", \"Topic5\", \"Topic5\", \"Topic5\", \"Topic5\", \"Topic5\", \"Topic5\", \"Topic5\", \"Topic5\", \"Topic5\", \"Topic5\", \"Topic5\", \"Topic5\", \"Topic5\", \"Topic5\", \"Topic5\", \"Topic5\", \"Topic5\", \"Topic5\", \"Topic5\", \"Topic5\", \"Topic5\", \"Topic5\", \"Topic5\", \"Topic5\", \"Topic5\", \"Topic5\", \"Topic5\", \"Topic6\", \"Topic6\", \"Topic6\", \"Topic6\", \"Topic6\", \"Topic6\", \"Topic6\", \"Topic6\", \"Topic6\", \"Topic6\", \"Topic6\", \"Topic6\", \"Topic6\", \"Topic6\", \"Topic6\", \"Topic6\", \"Topic6\", \"Topic6\", \"Topic6\", \"Topic6\", \"Topic6\", \"Topic6\", \"Topic6\", \"Topic6\", \"Topic6\", \"Topic6\", \"Topic6\", \"Topic6\", \"Topic6\", \"Topic6\", \"Topic6\", \"Topic6\", \"Topic6\", \"Topic6\", \"Topic6\", \"Topic6\", \"Topic6\", \"Topic6\", \"Topic6\", \"Topic6\", \"Topic6\", \"Topic6\", \"Topic6\", \"Topic6\", \"Topic6\", \"Topic6\", \"Topic6\", \"Topic6\", \"Topic6\", \"Topic6\", \"Topic6\", \"Topic6\", \"Topic6\", \"Topic6\", \"Topic7\", \"Topic7\", \"Topic7\", \"Topic7\", \"Topic7\", \"Topic7\", \"Topic7\", \"Topic7\", \"Topic7\", \"Topic7\", \"Topic7\", \"Topic7\", \"Topic7\", \"Topic7\", \"Topic7\", \"Topic7\", \"Topic7\", \"Topic7\", \"Topic7\", \"Topic7\", \"Topic7\", \"Topic7\", \"Topic7\", \"Topic7\", \"Topic7\", \"Topic7\", \"Topic7\", \"Topic7\", \"Topic7\", \"Topic7\", \"Topic7\", \"Topic7\", \"Topic7\", \"Topic7\", \"Topic7\", \"Topic7\", \"Topic7\", \"Topic7\", \"Topic7\", \"Topic7\", \"Topic7\", \"Topic7\", \"Topic7\", \"Topic7\", \"Topic7\", \"Topic7\", \"Topic7\", \"Topic7\", \"Topic7\", \"Topic8\", \"Topic8\", \"Topic8\", \"Topic8\", \"Topic8\", \"Topic8\", \"Topic8\", \"Topic8\", \"Topic8\", \"Topic8\", \"Topic8\", \"Topic8\", \"Topic8\", \"Topic8\", \"Topic8\", \"Topic8\", \"Topic8\", \"Topic8\", \"Topic8\", \"Topic8\", \"Topic8\", \"Topic8\", \"Topic8\", \"Topic8\", \"Topic8\", \"Topic8\", \"Topic8\", \"Topic8\", \"Topic8\", \"Topic8\", \"Topic8\", \"Topic8\", \"Topic8\", \"Topic8\", \"Topic8\", \"Topic8\", \"Topic8\", \"Topic8\", \"Topic8\", \"Topic8\", \"Topic8\", \"Topic8\", \"Topic8\", \"Topic8\", \"Topic8\", \"Topic8\", \"Topic8\", \"Topic8\"], \"logprob\": [30.0, 29.0, 28.0, 27.0, 26.0, 25.0, 24.0, 23.0, 22.0, 21.0, 20.0, 19.0, 18.0, 17.0, 16.0, 15.0, 14.0, 13.0, 12.0, 11.0, 10.0, 9.0, 8.0, 7.0, 6.0, 5.0, 4.0, 3.0, 2.0, 1.0, -3.6828, -4.8671, -4.9447, -5.0738, -5.222, -5.9268, -5.9541, -5.9542, -3.4347, -5.3693, -6.4444, -6.4444, -6.4444, -5.9184, -5.9782, -6.0944, -5.3109, -6.5984, -6.5529, -5.8395, -6.0108, -4.3375, -6.3294, -5.9602, -6.3343, -6.5714, -4.3266, -6.0086, -6.6409, -6.3414, -5.6609, -4.5179, -4.6222, -3.8249, -5.6664, -5.1855, -5.255, -4.5759, -4.5618, -5.4389, -4.4442, -3.8883, -4.8884, -3.7298, -4.125, -4.4196, -4.2795, -4.2491, -4.3283, -5.4135, -4.5633, -5.0858, -4.2625, -4.94, -4.4837, -5.0026, -4.9929, -5.0917, -5.1268, -5.1289, -5.1977, -5.7314, -5.9784, -5.9784, -6.0101, -6.1476, -6.1476, -4.8854, -6.3071, -6.3514, -5.3877, -6.1942, -6.2034, -5.6467, -5.8626, -6.0435, -4.8709, -6.4916, -6.0566, -6.4485, -6.4545, -3.7755, -4.8463, -6.5658, -6.3171, -4.0917, -6.3012, -5.9482, -4.9724, -2.5341, -4.5553, -4.0322, -3.55, -4.5876, -5.4387, -3.3261, -4.3045, -5.0031, -5.7609, -5.7761, -5.4925, -5.2777, -4.7636, -5.1726, -4.1762, -5.044, -4.8464, -5.4627, -5.4752, -4.8426, -4.9522, -5.0368, -5.0894, -4.9571, -5.0074, -5.2152, -5.2372, -3.177, -4.2071, -4.6276, -5.828, -6.0889, -6.0898, -3.3724, -6.1843, -4.5043, -5.1748, -4.8046, -4.9542, -6.0437, -6.2013, -6.3138, -3.6454, -6.2059, -5.9527, -6.1039, -6.2748, -6.2763, -6.3278, -5.9425, -4.6496, -5.9139, -6.084, -5.5119, -6.2144, -6.2255, -6.3278, -5.405, -5.1532, -3.4186, -4.2878, -4.8818, -5.2016, -4.3167, -4.4936, -4.4654, -4.3302, -3.973, -4.1062, -4.5498, -4.5916, -5.3715, -4.4858, -5.0299, -5.1319, -5.1604, -4.9077, -4.9443, -5.0333, -4.9571, -5.0678, -4.4913, -4.5362, -5.0122, -5.2869, -5.4735, -5.5339, -5.7031, -5.7797, -6.0526, -5.4927, -5.7797, -5.6568, -4.9655, -5.7055, -5.9797, -4.9922, -5.488, -5.6248, -5.7507, -5.703, -5.4879, -5.4322, -5.8906, -5.3186, -5.8364, -5.7204, -6.0452, -6.1078, -5.9296, -3.9588, -4.982, -4.9786, -4.8813, -2.6134, -4.6272, -5.3039, -4.6661, -4.6804, -5.1152, -5.419, -5.1223, -5.2943, -4.4318, -4.2631, -5.3648, -5.0406, -4.983, -5.1016, -5.0916, -5.1104, -4.4791, -4.6576, -4.8835, -5.2385, -5.0983, -5.1408, -5.0369, -5.0816, -5.2228, -4.1788, -4.412, -4.5085, -4.5681, -4.6818, -4.8299, -4.9803, -5.0038, -5.1035, -5.3391, -5.3728, -5.3728, -5.7425, -5.7425, -5.2199, -5.1419, -3.9793, -4.3, -5.6175, -5.4319, -3.7714, -4.9196, -4.7852, -5.4942, -5.7102, -5.839, -5.6026, -5.4744, -5.776, -4.5702, -4.9809, -4.0793, -5.4748, -5.085, -4.5121, -4.034, -4.3233, -4.75, -4.888, -5.0045, -4.9927, -4.5326, -4.7065, -4.4198, -4.6518, -4.5463, -4.7625, -4.683, -4.5968, -4.7836, -3.8776, -4.5153, -4.594, -4.9903, -4.9903, -5.066, -5.066, -5.148, -5.566, -5.6565, -5.6565, -4.5605, -5.6042, -5.0928, -5.2827, -5.839, -5.0599, -5.7536, -5.41, -5.7565, -5.7207, -5.4433, -5.9487, -4.6011, -5.8977, -6.0959, -6.1102, -5.8634, -5.8827, -5.2232, -5.1304, -4.6101, -5.4705, -3.2502, -5.2021, -4.9426, -4.0463, -4.4511, -5.2273, -4.2702, -4.2205, -3.8775, -4.8802, -4.2974, -4.3645, -4.7205, -5.0553, -5.142, -4.7011, -4.7764, -4.6594, -4.6929, -5.0281, -4.8962, -4.0519, -4.4762, -5.0055, -5.0308, -5.1386, -5.1386, -5.2595, -5.2922, -4.4474, -5.6956, -4.4163, -5.0791, -5.4047, -5.4083, -4.0708, -4.3513, -4.9647, -5.8003, -5.6357, -5.2389, -4.9418, -5.565, -5.5702, -5.4131, -5.6822, -5.9078, -5.5235, -5.9844, -5.8103, -4.4815, -4.3683, -4.2522, -3.395, -3.9598, -3.1276, -4.4903, -4.8675, -4.3664, -3.9686, -5.0982, -4.1791, -4.0235, -4.0829, -4.3801, -4.599, -5.1714, -4.977, -4.9411, -5.1153, -3.1581, -4.149, -4.6887, -4.99, -5.1147, -5.1484, -5.1484, -5.1834, -5.2571, -5.3791, -5.5181, -4.9627, -4.3639, -4.4108, -4.7337, -3.8901, -5.3446, -4.3501, -5.5042, -5.5127, -4.9429, -5.3878, -4.9862, -4.4396, -5.6586, -2.935, -5.6621, -5.8515, -6.0248, -5.5931, -4.2709, -4.6166, -5.1447, -3.3769, -4.114, -4.8926, -5.18, -4.1896, -4.6098, -4.7253, -5.1262, -4.9215, -4.7615, -4.9752, -4.9619, -4.9878, -5.0621, -5.1044], \"loglift\": [30.0, 29.0, 28.0, 27.0, 26.0, 25.0, 24.0, 23.0, 22.0, 21.0, 20.0, 19.0, 18.0, 17.0, 16.0, 15.0, 14.0, 13.0, 12.0, 11.0, 10.0, 9.0, 8.0, 7.0, 6.0, 5.0, 4.0, 3.0, 2.0, 1.0, 1.5701, 1.5645, 1.5638, 1.5626, 1.561, 1.5493, 1.5486, 1.5486, 1.5411, 1.5396, 1.5337, 1.5337, 1.5337, 1.5316, 1.4976, 1.4926, 1.4716, 1.4703, 1.4693, 1.445, 1.4388, 1.4236, 1.4162, 1.4156, 1.4114, 1.4068, 1.4017, 1.3906, 1.3807, 1.3705, 1.3578, 1.3163, 1.2377, 1.0398, 1.3029, 1.1908, 1.176, 0.9714, 0.9439, 1.2188, 0.8958, 0.6317, 1.0048, 0.5439, 0.4843, 0.6403, 0.5329, 0.4472, 0.4063, 1.166, 0.5394, 0.9257, 0.1369, 0.5763, -0.4348, 0.109, -0.0249, 0.4365, 0.2071, 1.6548, 1.654, 1.6453, 1.6394, 1.6394, 1.6385, 1.6345, 1.6345, 1.6338, 1.6291, 1.6274, 1.6156, 1.5877, 1.5785, 1.5758, 1.5628, 1.5438, 1.5423, 1.5313, 1.5313, 1.53, 1.5236, 1.5097, 1.5058, 1.5038, 1.5009, 1.4891, 1.4801, 1.4772, 1.4682, 1.4594, 1.3062, 1.1813, 1.0593, 1.2276, 1.3574, 0.9477, 0.9889, 1.1895, 1.4021, 1.4057, 1.2519, 1.1255, 0.7771, 0.8707, -0.1273, 0.5665, 0.2134, 0.9956, 0.9726, -0.108, -0.0876, 0.0659, 0.12, -0.4371, -0.3111, 0.1764, -0.8378, 2.0176, 2.0133, 1.9946, 1.987, 1.9773, 1.9298, 1.9151, 1.8816, 1.8794, 1.8759, 1.8639, 1.853, 1.8485, 1.818, 1.8018, 1.7881, 1.7691, 1.7575, 1.7495, 1.7444, 1.7428, 1.7392, 1.7345, 1.7331, 1.7319, 1.7306, 1.7284, 1.719, 1.708, 1.6928, 1.6803, 1.6538, 1.431, 1.4991, 1.5567, 1.5921, 1.429, 1.4456, 1.4313, 1.2904, 1.1386, 1.1032, 1.0941, 1.0557, 1.4219, 0.8432, 1.1476, 1.1424, 1.1117, 0.7412, 0.4473, 0.6444, 0.3769, 0.4729, 2.1004, 2.0999, 2.0939, 2.0888, 2.0845, 2.083, 2.0781, 2.0756, 2.065, 2.037, 2.0012, 1.9904, 1.9888, 1.9734, 1.9557, 1.947, 1.9366, 1.9325, 1.9283, 1.9129, 1.9109, 1.8971, 1.8901, 1.883, 1.8753, 1.8653, 1.8488, 1.8263, 1.8158, 1.807, 1.8002, 1.7784, 1.7326, 1.4355, 1.642, 1.7488, 1.5191, 1.5049, 1.6548, 1.7418, 1.5597, 1.6583, 0.7775, 0.5494, 1.671, 1.1671, 1.067, 1.2222, 1.1999, 1.1736, -0.4855, -0.1376, 0.4099, 1.3517, 0.8596, 0.8473, -0.3023, -0.3853, 0.4211, 2.3555, 2.3531, 2.352, 2.3512, 2.3496, 2.3472, 2.3444, 2.344, 2.3419, 2.3359, 2.335, 2.3349, 2.322, 2.322, 2.3057, 2.3035, 2.2937, 2.2767, 2.2725, 2.2113, 2.1965, 2.1828, 2.1814, 2.1812, 2.1806, 2.1788, 2.175, 2.1696, 2.1554, 2.1448, 2.0671, 1.9438, 2.1088, 1.9813, 1.7788, 1.5765, 1.5448, 1.7645, 1.7443, 1.7361, 1.71, 0.9731, 1.0804, 0.3926, 0.4598, 0.063, 0.5665, 0.1666, -0.548, -0.0873, 2.3939, 2.3878, 2.3867, 2.3799, 2.3799, 2.3782, 2.3782, 2.3763, 2.3638, 2.3604, 2.3604, 2.3278, 2.2852, 2.2307, 2.1874, 2.1779, 2.1778, 2.1772, 2.1437, 2.1331, 2.1291, 2.1099, 2.0689, 1.9974, 1.9928, 1.9675, 1.9548, 1.9506, 1.9297, 1.9154, 1.8689, 1.7988, 1.8784, 1.1493, 1.7492, 1.6041, 1.0563, 1.0653, 1.6788, 0.6978, 0.5919, 0.1714, 1.1632, 0.2226, 0.3318, 0.8268, 1.3925, 1.5251, 0.4104, 0.5636, 0.0752, 0.1717, 0.9834, -0.9026, 2.4022, 2.3978, 2.389, 2.3885, 2.386, 2.386, 2.3829, 2.382, 2.3703, 2.3681, 2.3479, 2.3158, 2.3027, 2.2988, 2.2923, 2.2461, 2.2319, 2.2168, 2.2148, 2.2061, 2.1962, 2.1764, 2.1717, 2.1408, 2.1301, 2.1102, 2.0879, 2.0807, 2.0789, 2.0424, 1.9959, 1.9734, 1.5731, 1.6892, 1.2718, 1.7279, 1.8362, 1.5728, 1.3604, 1.883, 0.942, 0.4965, 0.1908, 0.3545, 0.0973, 1.8433, 0.5393, -0.1287, 0.2247, 2.5825, 2.5756, 2.5679, 2.5614, 2.5581, 2.5571, 2.5571, 2.5561, 2.5538, 2.5496, 2.5442, 2.5331, 2.4944, 2.4765, 2.4611, 2.446, 2.4304, 2.3263, 2.3076, 2.2985, 2.2929, 2.2545, 2.2501, 2.2378, 2.2312, 2.1861, 2.1506, 2.1222, 2.0888, 2.0805, 2.0011, 1.9933, 2.0137, 1.4727, 1.5067, 1.7394, 1.9785, 0.545, 1.0392, 0.3346, 1.5899, 0.7259, -0.0653, 0.8929, 0.3782, -0.4678, 0.0406, 0.6273]}, \"token.table\": {\"Topic\": [1, 7, 3, 6, 7, 8, 3, 8, 1, 6, 7, 1, 4, 6, 1, 7, 3, 4, 8, 2, 3, 4, 5, 6, 8, 2, 3, 1, 2, 1, 2, 5, 6, 7, 8, 1, 3, 8, 6, 6, 1, 3, 5, 6, 8, 1, 2, 4, 5, 6, 7, 8, 1, 8, 1, 2, 3, 6, 1, 2, 5, 6, 2, 5, 7, 1, 2, 5, 2, 5, 7, 1, 2, 5, 6, 7, 6, 7, 3, 7, 2, 2, 5, 7, 1, 2, 3, 4, 5, 6, 7, 8, 1, 4, 5, 6, 1, 7, 3, 7, 3, 7, 3, 8, 6, 3, 6, 7, 2, 3, 4, 7, 8, 3, 7, 2, 3, 4, 5, 6, 7, 3, 7, 4, 2, 3, 1, 1, 8, 1, 2, 5, 8, 1, 8, 4, 5, 2, 3, 7, 2, 4, 8, 5, 6, 1, 2, 3, 4, 6, 1, 6, 1, 5, 1, 3, 5, 8, 4, 7, 2, 3, 4, 5, 2, 3, 4, 5, 7, 8, 8, 2, 3, 4, 5, 6, 8, 1, 6, 2, 3, 7, 2, 8, 1, 5, 1, 5, 2, 8, 4, 7, 8, 2, 4, 7, 8, 1, 2, 4, 5, 6, 1, 2, 6, 1, 2, 4, 6, 4, 6, 2, 1, 2, 3, 4, 5, 6, 7, 8, 1, 6, 8, 1, 6, 8, 3, 6, 5, 2, 5, 8, 2, 5, 2, 5, 1, 2, 5, 1, 5, 3, 6, 1, 2, 6, 1, 2, 3, 4, 5, 6, 4, 5, 3, 7, 1, 3, 5, 7, 1, 8, 1, 5, 1, 2, 4, 6, 1, 1, 2, 2, 5, 6, 1, 2, 3, 6, 3, 4, 4, 8, 1, 7, 3, 4, 7, 8, 8, 1, 2, 3, 4, 7, 8, 5, 2, 5, 8, 2, 1, 6, 8, 1, 2, 4, 6, 1, 2, 4, 6, 7, 1, 2, 3, 4, 5, 6, 7, 8, 1, 2, 5, 6, 8, 4, 1, 2, 3, 6, 1, 2, 4, 1, 6, 1, 2, 3, 6, 7, 5, 1, 8, 1, 2, 4, 7, 8, 5, 6, 5, 2, 6, 7, 1, 2, 6, 1, 2, 8, 8, 1, 6, 7, 2, 6, 7, 5, 5, 2, 3, 2, 3, 5, 1, 3, 4, 8, 2, 3, 4, 4, 7, 1, 2, 3, 7, 3, 4, 1, 3, 2, 5, 6, 7, 2, 2, 3, 1, 1, 5, 8, 5, 1, 4, 2, 4, 1, 2, 3, 4, 5, 6, 8, 1, 7, 6, 1, 6, 2, 3, 1, 6, 2, 5, 2, 3, 7, 4, 8, 6, 7, 1, 3, 7, 8, 3, 6, 4, 1, 5, 6, 7, 1, 6, 7, 2, 4, 8, 3, 3, 6, 8, 2, 3, 4, 5, 7, 8, 3, 7, 8, 2, 3, 8, 4, 8, 1, 3, 5, 6, 1, 6, 7, 3, 7, 3, 4, 7, 7, 1, 2, 3, 4, 5, 8, 3, 4, 2, 7, 6, 2, 3, 8, 6, 1, 2, 7, 1, 2, 6, 7, 8, 1, 6, 3, 6, 1, 3, 6, 8, 1, 3, 6, 7, 8, 7, 8, 1, 2, 4, 5, 6, 8, 1, 2, 7, 2, 1, 8, 1, 7, 4, 5, 1, 1, 1, 3, 7, 2, 3, 2, 5, 6, 1, 2, 3, 5, 6, 8, 1, 2, 3, 6, 7, 3, 4, 5, 6, 5, 1, 2, 3, 5, 6, 7, 1, 2, 3, 5, 6, 7, 3, 5, 6, 7, 8, 1, 5, 1, 2, 3, 4, 5, 6, 7, 2, 4, 1, 2, 4, 6, 8, 1, 5, 1, 3, 5, 7, 8, 1, 2, 4, 4, 1, 2, 3, 4, 5, 6, 2, 3, 5, 8, 6, 7, 3, 4, 5, 1, 2, 5, 6, 7, 3, 4, 7, 8, 7, 8, 6, 7, 3, 1, 2, 3, 6, 8, 3, 4, 7, 8, 7, 8, 2, 3, 7, 1, 2, 3, 6, 8, 5, 3, 4, 5, 8, 2, 1, 2, 3, 4, 6, 8, 2, 4, 4, 6, 3, 5, 7, 8, 5, 8, 2, 4, 5, 7, 8, 1, 5, 6, 1, 2, 3, 4, 5, 6, 8, 4, 6, 7, 1, 2, 3, 5, 6, 2, 4, 4, 6, 7, 6, 7, 8, 3, 7, 8, 1, 2, 3, 4, 5, 6, 8, 7, 6, 7, 8, 6, 7, 2, 4, 1, 2, 7, 8, 1, 1, 2, 5, 2, 4, 7, 2, 3, 6, 7, 1, 2, 4, 5, 6, 2, 3, 6, 8, 4, 6, 4, 2, 3, 4, 7, 8, 1, 2, 4, 5, 3, 4, 2, 4, 5, 7, 8, 2, 4, 5, 1, 2, 4, 5, 6, 7, 8, 2, 2, 3, 4, 7, 2, 3, 4, 6, 8, 5, 8, 3, 8, 5, 8, 7, 2, 5, 8, 1, 3, 2, 5, 7, 8, 3, 7, 8, 7, 2, 3, 2, 3, 4, 5, 7, 8, 2, 3, 3, 5, 7, 8, 1, 2, 3, 1, 2, 3, 4, 6, 7, 8, 3, 4, 7, 8, 2, 4, 1, 2, 7, 8, 4, 1, 2, 3, 4, 5, 7, 3, 4, 7, 3, 7, 8, 8, 5, 7, 8, 1, 2, 4, 5, 6, 8, 6, 6, 4, 1, 2, 4, 5, 6, 7, 8, 2, 3, 6, 7, 4, 1, 2, 3, 5, 6, 7, 8, 2, 3, 4, 7, 1, 6, 1, 6, 7, 3, 1, 2, 4, 6, 7, 8, 1, 2, 3, 4, 7, 8, 2, 4, 6, 8, 4, 8, 1, 8, 1, 5, 7, 3, 7, 3, 7, 8, 7, 3, 4, 8, 8, 8, 1, 2, 3, 4, 5, 6, 7, 8, 3, 4, 7, 8, 1, 2, 3, 4, 5, 6, 7, 8, 1, 2, 3, 4, 6, 7, 8, 1, 2, 2, 3, 2, 3, 2, 3, 6, 1, 2, 3, 4, 1, 2, 1, 3, 8, 8, 1, 5, 6, 3, 7, 1, 2, 3, 4, 5, 7, 8], \"Freq\": [0.074065975295839, 0.9134803619820143, 0.2799795422249975, 0.021536887863461345, 0.4867336657142264, 0.21106150106192118, 0.10831177414580997, 0.8664941931664798, 0.8625289759728932, 0.12046494077833704, 0.014455792893400444, 0.10548004718893415, 0.08438403775114732, 0.8016483586358996, 0.8865046012646473, 0.10429465897231144, 0.7937885117279174, 0.08819872352532415, 0.13229808528798623, 0.21120027537050762, 0.15253353221203328, 0.28746704147652424, 0.0704000917901692, 0.11146681200110124, 0.16426688084372815, 0.19338589880248377, 0.7735435952099351, 0.15270357864039108, 0.8398696825221509, 0.5337467566350401, 0.04478993761972364, 0.2500771517101237, 0.08584738043780366, 0.02612746361150546, 0.06345241162794182, 0.8134479201872725, 0.15252148503511362, 0.03389366334113636, 0.9813154342954581, 0.9954352206126472, 0.2315404696097581, 0.4152627987566314, 0.14848790985843183, 0.13590418868398846, 0.06795209434199423, 0.3206668167352749, 0.17178579467961155, 0.13742863574368924, 0.0954365525997842, 0.10307147680776693, 0.0954365525997842, 0.07253177997583599, 0.9245242588053131, 0.04622621294026565, 0.1269275319501706, 0.22074353382638362, 0.5573774229116186, 0.09933459022187263, 0.3365677797140495, 0.5452093445141616, 0.1005134545752365, 0.016752242429206084, 0.12444183044617635, 0.8473896073239628, 0.02962900724908961, 0.21289686441124478, 0.12523344965367342, 0.6574756106817854, 0.0844338168102548, 0.8021212596974207, 0.0422169084051274, 0.357147103641557, 0.4878106781445657, 0.022866125538026517, 0.022866125538026517, 0.10888631208584056, 0.6262872480357565, 0.3372315950961766, 0.2996555801624889, 0.6923077196857501, 0.9872523128016978, 0.8175552711292727, 0.12358393633349471, 0.047532283205190276, 0.3239769977536778, 0.1378979016079757, 0.07310250205724012, 0.08307102506504559, 0.08639386606764742, 0.1262679580988693, 0.0996852300780547, 0.0697796610546383, 0.0894385057566989, 0.11925134100893185, 0.7751337165580571, 0.9874499384337734, 0.9899628665939805, 0.9871571321612519, 0.5642499560466758, 0.4318239459540887, 0.7374346156359193, 0.18435865390897982, 0.8692765719053583, 0.09658628576726204, 0.9834464980203781, 0.2313707006594854, 0.7519547771433275, 0.9792146998109211, 0.1607126155097665, 0.1184198219545648, 0.4144693768409768, 0.06766846968832274, 0.24529820262016994, 0.15573374305124293, 0.8176021510190253, 0.21368858241459748, 0.39962540087924725, 0.2636417575245034, 0.03607729313493204, 0.07492976266485886, 0.013875881974973863, 0.06747131454029967, 0.9108627462940456, 0.9780295026872299, 0.22210874190589522, 0.761515686534498, 0.9943890333739692, 0.9718080548701417, 0.015184500857345963, 0.8405301595827092, 0.1327152883551646, 0.3588414292851807, 0.587195066103023, 0.35455506215186416, 0.6078086779746242, 0.9322228353050614, 0.056498353654852215, 0.3463308386289313, 0.08658270965723283, 0.5689720920332443, 0.1605348946072577, 0.7357849336165978, 0.093645355187567, 0.9316268308199552, 0.04050551438347631, 0.04837920862285818, 0.5128196114022967, 0.14513762586857454, 0.05805505034742982, 0.24189604311429092, 0.3378596143659062, 0.6381792715800452, 0.07624885412397713, 0.9149862494877254, 0.08060609297500258, 0.26484859120357995, 0.5412123385464459, 0.10363640525357476, 0.202601497787179, 0.7525198489238077, 0.25860959576478054, 0.05172191915295611, 0.6379036695531254, 0.034481279435304074, 0.0724577020942704, 0.4186445009891178, 0.2093222504945589, 0.11271198103553172, 0.03220342315300906, 0.16101711576504532, 0.9850775684817954, 0.17198039671082416, 0.17198039671082416, 0.40128759232525635, 0.08189542700515436, 0.1146535978072161, 0.06551634160412349, 0.16876348084940043, 0.801626534034652, 0.13093280108934446, 0.7528636062637306, 0.09819960081700833, 0.8977027141895092, 0.08977027141895091, 0.12160234733395396, 0.8512164313376777, 0.028134492786488066, 0.9565727547405942, 0.884606466645902, 0.08846064666459019, 0.8314104363339512, 0.030792979123479673, 0.12317191649391869, 0.9894884930793717, 0.07638067043562632, 0.8019970395740764, 0.11457100565343949, 0.06335504286506975, 0.8129192513076482, 0.07487414156780971, 0.012341891467221379, 0.03702567440166414, 0.1627848609430396, 0.7325318742436782, 0.09495783555010642, 0.13318960795003468, 0.6979135456581818, 0.10122410204202636, 0.06925859613401804, 0.8854202727265235, 0.09838003030294705, 0.9913790207970289, 0.13391193353576658, 0.16608557990474948, 0.02782585631912033, 0.5095609938438911, 0.053912596618295644, 0.10782519323659129, 0.07217540370953994, 0.9094100867402032, 0.844042063948852, 0.13057004304181136, 0.023316079114609173, 0.77247433978538, 0.18145370397643154, 0.04147513233747007, 0.36302639986299673, 0.611412883979784, 0.9863542556522048, 0.8356452974800817, 0.14532961695305768, 0.9767368685724399, 0.9756390330729423, 0.9837259552002281, 0.14741892235672405, 0.8292314382565728, 0.21139597136783964, 0.3316015237142583, 0.4559520951071051, 0.1608596984082816, 0.8364704317230643, 0.23007728708574107, 0.7362473186743714, 0.4862666642882081, 0.05285507220524001, 0.4545536209650641, 0.1390724719033171, 0.16930561796925558, 0.19349213482200636, 0.28419157301982184, 0.11488595505056629, 0.09674606741100318, 0.6837528463822324, 0.2930369341638139, 0.9002439829392874, 0.09602602484685732, 0.9899627944282605, 0.5933669082543841, 0.27690455718537926, 0.12361810588633002, 0.9201334799798828, 0.04842807789367804, 0.8843343429527861, 0.11054179286909827, 0.5664123609872966, 0.3189506498763418, 0.04949234222219097, 0.06598978962958796, 0.9731715086575373, 0.08982702777007216, 0.8683279351106975, 0.11257915752414727, 0.8005628979494916, 0.07505277168276484, 0.07635553226662832, 0.8908145431106638, 0.7536198265952282, 0.2422349442627519, 0.09533880597022669, 0.8898288557221158, 0.9881186784997099, 0.9778192870207286, 0.17464025282179452, 0.8033451629802548, 0.7782297321431652, 0.2030164518634344, 0.12845397367301337, 0.8649234227316234, 0.9961421819824405, 0.10566922455035865, 0.18695324343524994, 0.17069643965827166, 0.3901632906474781, 0.05689881321942389, 0.09754082266186953, 0.9891226402994668, 0.18745722214684626, 0.14996577771747702, 0.6373545552992773, 0.973787631759568, 0.9368283320849105, 0.026766523773854585, 0.026766523773854585, 0.10863250849763081, 0.4537004766665757, 0.1469733938497358, 0.2875566401407874, 0.6684938386199425, 0.14123109266618505, 0.04707703088872835, 0.04707703088872835, 0.08473865559971103, 0.25462381662173766, 0.16974921108115842, 0.19489724235244116, 0.07544409381384819, 0.11945314853859297, 0.059726574269296485, 0.11002263681186195, 0.018861023453462047, 0.526095478787706, 0.03713615144383807, 0.16711268149727132, 0.24138498438494743, 0.030946792869865056, 0.9951214691866198, 0.8476834984503704, 0.02421952852715344, 0.09687811410861376, 0.9856022050368344, 0.9731715854345879, 0.3052578265345026, 0.6896565710594318, 0.9651864953477295, 0.02608612149588458, 0.5486330362255446, 0.04669217329579103, 0.13618550544605718, 0.2062237653897437, 0.058365216619738786, 0.9917733807157283, 0.439188139511795, 0.5518004829763579, 0.07261763859819041, 0.21785291579457125, 0.5809411087855233, 0.036308819299095206, 0.09682351813092056, 0.828455398342074, 0.138075899723679, 0.9783356900574668, 0.3644037808630656, 0.522840207325268, 0.1109054985235417, 0.14468833379407067, 0.05787533351762827, 0.7813170024879816, 0.8135545625067924, 0.0677962135422327, 0.0677962135422327, 0.975579865160839, 0.24312871222289498, 0.6483432325943866, 0.08104290407429833, 0.13810180087066629, 0.09206786724711086, 0.7365429379768869, 0.9819737671853394, 0.9789327496472905, 0.9088563294949565, 0.03635425317979826, 0.1522631529770204, 0.8120701492107755, 0.9789327479973787, 0.686405309444608, 0.16045838402601226, 0.04457177334055896, 0.1158866106854533, 0.14026922024741914, 0.14026922024741914, 0.7013461012370957, 0.8896164478283923, 0.09531604798161347, 0.22768058496098598, 0.03794676416016433, 0.6261216086427114, 0.1043536014404519, 0.8596848757170481, 0.13134074490121567, 0.011399844112945385, 0.9803865937133031, 0.9862839136471244, 0.9867108637236573, 0.7781824438577126, 0.19454561096442816, 0.9696477398335723, 0.2538455919540261, 0.719229177203074, 0.9907317959233912, 0.7581320661598167, 0.14517422543485853, 0.08065234746381028, 0.9644872059627072, 0.15258463221103374, 0.8392154771606856, 0.35680953943364657, 0.6343280701042606, 0.16846503514671976, 0.199498067936905, 0.25269755272007965, 0.1152655503635451, 0.06649935597896833, 0.079799227174762, 0.11969884076214299, 0.24125595417319914, 0.7237678625195975, 0.965611840370552, 0.8414402740824792, 0.1051800342603099, 0.82918393878726, 0.11307053710735364, 0.4997080993324582, 0.48456542965571703, 0.9512120758341642, 0.03337586230997067, 0.21653024772905427, 0.6495907431871628, 0.12179826434759303, 0.7768216420281756, 0.20914428823835496, 0.7817239639325125, 0.18393505033706178, 0.027781978495571888, 0.7917863871237988, 0.11807340860618053, 0.059036704303090264, 0.9221694811133514, 0.046108474055667564, 0.9863521908654189, 0.7127247611459164, 0.04255073200871143, 0.17552176953593462, 0.06382609801306714, 0.2894942830482989, 0.6272376132713143, 0.04824904717471648, 0.09743977376741349, 0.33129523080920587, 0.5651506878509982, 0.9981355730737365, 0.18740259768333445, 0.6371688321233371, 0.14992207814666755, 0.22362807617730449, 0.38274805345730956, 0.1591199772800051, 0.008601079852973249, 0.06880863882378599, 0.1548194373535185, 0.14746543427685319, 0.12639894366587415, 0.7162606807732869, 0.2642356958503682, 0.04403928264172804, 0.6165499569841926, 0.4482461565549719, 0.545690973197357, 0.1782818127040297, 0.6994132652235012, 0.08228391355570602, 0.04114195677785301, 0.8430452717238441, 0.07438634750504507, 0.07438634750504507, 0.829745369610294, 0.13829089493504898, 0.16944606739686732, 0.7794519100255897, 0.9865416134912989, 0.9837375359605628, 0.09037599795797703, 0.3238473260160844, 0.07531333163164752, 0.39162932448456717, 0.08284466479481228, 0.03765666581582376, 0.8524861495669619, 0.12178373565242312, 0.06748861714948491, 0.9110963315180464, 0.9856021949578359, 0.2114913849095254, 0.740219847183339, 0.04229827698190508, 0.9788835995009776, 0.09973893539419501, 0.777963696074721, 0.11968672247303401, 0.5091846031370678, 0.10752966774323172, 0.15813186432828194, 0.11385494231636299, 0.11069230502979736, 0.9690265277303708, 0.02856540784692703, 0.20243867516122027, 0.7692669656126371, 0.04814046289146358, 0.02407023144573179, 0.15645650439725664, 0.7702474062634173, 0.13715763872958633, 0.8503773601234352, 0.12261907358585103, 0.7357144415151062, 0.15327384198231378, 0.22461260771540517, 0.748708692384684, 0.35669134117512064, 0.2020419484977956, 0.037415175647739926, 0.06485297112274921, 0.25941188449099684, 0.07732469633866251, 0.28340143426420983, 0.656976052157941, 0.05152753350258361, 0.981721996592122, 0.2834616691850973, 0.6884069108780935, 0.9274094407450659, 0.05983286714484296, 0.9078811310146181, 0.07263049048116944, 0.9869933589512895, 0.9731716605686387, 0.07046465429585141, 0.2642424536094428, 0.660606134023607, 0.23077489119777425, 0.7384796518328776, 0.4979309601215438, 0.13405833541733872, 0.36387262470420506, 0.5878549215603004, 0.17301415751607502, 0.057016029181433815, 0.07077851898384888, 0.1081338484475469, 0.00589820991532074, 0.027629265964910575, 0.10130730853800544, 0.23024388304092147, 0.5433755639765747, 0.09209755321636859, 0.0980416512681381, 0.0653611008454254, 0.8170137605678175, 0.9656118495375022, 0.9644871519832494, 0.23830274911337354, 0.08149213182115365, 0.03086823175043699, 0.04321552445061178, 0.2864571906440552, 0.3197948809345272, 0.2027568962996004, 0.11772981075460669, 0.041423451932176426, 0.02398199848704951, 0.1831352611738326, 0.43385615444753206, 0.09200802118285642, 0.11501002647857052, 0.13034469667571325, 0.6440561482799949, 0.015334670197142736, 0.15834716747616234, 0.8234052708760442, 0.36969974624137814, 0.07922137419458103, 0.04526935668261774, 0.05281424946305402, 0.03772446390218145, 0.2640712473152701, 0.15467030199894394, 0.8725119233924676, 0.09694576926582973, 0.05494803071195521, 0.5861123275941889, 0.16484409213586562, 0.09158005118659202, 0.10989606142391042, 0.06431435509833493, 0.9325581489258564, 0.07109781038105398, 0.12442116816684445, 0.6754291986200127, 0.08887226297631746, 0.017774452595263494, 0.06936203908009672, 0.11560339846682786, 0.8092237892677951, 0.966259480769492, 0.05155111643165409, 0.15465334929496227, 0.044186671227132074, 0.552333390339151, 0.13256001368139622, 0.06628000684069811, 0.037563696128830135, 0.7512739225766027, 0.1126910883864904, 0.07512739225766027, 0.24283149159885914, 0.7284944747965775, 0.1311992625314199, 0.8199953908213743, 0.9800200118755917, 0.25666855386650794, 0.025666855386650794, 0.5390039631196666, 0.07700056615995238, 0.10266742154660317, 0.031726820250958986, 0.6345364050191797, 0.23795115188219237, 0.07931705062739747, 0.10105150152545231, 0.8892532134239803, 0.22484478065824406, 0.7494826021941469, 0.9769566065675196, 0.1224568407359504, 0.10019196060214122, 0.06679464040142749, 0.6679464040142749, 0.033397320200713745, 0.3568556290026204, 0.1611606066463447, 0.04604588761324134, 0.42592446042248244, 0.9328983806335364, 0.052557655246959795, 0.6231994019639974, 0.2225712149871419, 0.14838080999142794, 0.36314915124401786, 0.08765669167959052, 0.15026861430786945, 0.025044769051311574, 0.36314915124401786, 0.9896571016264584, 0.210031510295288, 0.09883835778601788, 0.5189013783765939, 0.1729671261255313, 0.9872522838717164, 0.14302142909102358, 0.4097370671256351, 0.2125994216217918, 0.15461776117948495, 0.03478899626538411, 0.04251988432435836, 0.2739392618322657, 0.7174599714654578, 0.08096075990988402, 0.8905683590087242, 0.5558487972437193, 0.11039505729230661, 0.003873510782186197, 0.32924841648582676, 0.7503460309406763, 0.24429870774812715, 0.05117741948009471, 0.16376774233630306, 0.5527161303850229, 0.09211935506417047, 0.13306129064824626, 0.03164597021061105, 0.8544411956864985, 0.09493791063183316, 0.09116876291875627, 0.06971728929081361, 0.07508015769779929, 0.09116876291875627, 0.43975520937282436, 0.0429029472558853, 0.18233752583751253, 0.8421723327737559, 0.029040425268060548, 0.11616170107224219, 0.1352801216408274, 0.05411204865633095, 0.5546484987273923, 0.2164481946253238, 0.04058403649224821, 0.12715529967716718, 0.8477019978477811, 0.10473877937541146, 0.06982585291694098, 0.8029973085448211, 0.043986703872546884, 0.8885314182254471, 0.06158138542156564, 0.08896537939045455, 0.8451711042093183, 0.0556033621190341, 0.18716384230890545, 0.2292757068284092, 0.18248474625118283, 0.12633559355851118, 0.07486553692356218, 0.060828248750394276, 0.1403728817316791, 0.992527537882135, 0.798500641402256, 0.053233376093483734, 0.10646675218696747, 0.9222745324789631, 0.05950158274057826, 0.18312926981756975, 0.7935601692094689, 0.6662820868916448, 0.03276797148647433, 0.2839890862161109, 0.021845314324316224, 0.9639134805348322, 0.9972500267388364, 0.14478333567298246, 0.8325041801196491, 0.07010014555894935, 0.7360515283689683, 0.1402002911178987, 0.2146288874953281, 0.17885740624610674, 0.4173339479075824, 0.1907812333291805, 0.046953411929779934, 0.09390682385955987, 0.8451614147360388, 0.934739093193336, 0.051929949621852003, 0.12679434608616202, 0.7064256424800456, 0.03622695602461772, 0.12679434608616202, 0.7619404625204541, 0.21165012847790393, 0.9802232787559816, 0.18268780122134295, 0.41652818678466197, 0.2996079940030025, 0.07307512048853719, 0.021922536146561155, 0.2563069648428439, 0.0800959265133887, 0.6247482268044319, 0.04004796325669435, 0.18155481200313336, 0.7988411728137867, 0.22083011023777388, 0.4637432314993251, 0.12145656063077563, 0.11041505511888694, 0.06624903307133216, 0.08132936868849765, 0.7726290025407276, 0.12199405303274646, 0.35268572725621633, 0.022392744587696276, 0.21086501153413992, 0.13995465367310173, 0.16421346030977269, 0.07837460605693697, 0.03172305483256972, 0.9817220208646036, 0.8562148676495702, 0.03592509934194001, 0.08981274835485002, 0.017962549670970007, 0.6460256449776263, 0.15769129916776706, 0.18312537967869721, 0.005086816102186034, 0.010173632204372068, 0.9729550055003973, 0.9730085274365751, 0.2247402005791784, 0.7491340019305947, 0.027309723572599812, 0.9558403250409935, 0.9837374939866099, 0.8786446857366762, 0.027746674286421354, 0.08324002285926406, 0.9892569362658298, 0.9662174836532784, 0.0163240623581251, 0.3101571848043769, 0.5876662448925035, 0.0816203117906255, 0.7373547458955645, 0.13825401485541836, 0.09216934323694556, 0.9824841105099511, 0.8849755734752526, 0.08849755734752525, 0.028151515960243276, 0.309666675562676, 0.10322222518755868, 0.16578114954365486, 0.35032997639413854, 0.04379124704926732, 0.19524607882283765, 0.7809843152913506, 0.24355664773627808, 0.0761114524175869, 0.5023355859560735, 0.16744519531869118, 0.05249713129100369, 0.06999617505467158, 0.857453144419727, 0.11634977246688219, 0.13297116853357965, 0.03324279213339491, 0.14959256460027712, 0.5817488623344109, 0.08916006875405853, 0.8916006875405853, 0.4815248546599661, 0.1256151794765129, 0.05024607179060516, 0.33916098458658483, 0.9141924968945867, 0.062331306606449095, 0.0948461031494436, 0.0632307354329624, 0.1264614708659248, 0.7271534574790676, 0.9687577222774904, 0.11142848498786485, 0.17999986036501245, 0.3942854084185987, 0.1842855713260842, 0.025714265766430353, 0.10285706306572141, 0.10123615913613906, 0.06074169548168344, 0.8301365049163403, 0.40161949214804527, 0.03212955937184362, 0.5542348991643025, 0.9683479736004973, 0.06317352642379236, 0.16846273713011295, 0.7370244749442442, 0.08184639156518207, 0.2128006180694734, 0.13913886566080952, 0.5565554626432381, 0.8504698886127772, 0.13791403599126115, 0.9694336805816105, 0.9874499173523504, 0.9941148231998977, 0.15465779346885924, 0.09574053881405573, 0.5449846055569326, 0.11783450930960705, 0.044187940991102646, 0.014729313663700882, 0.029458627327401763, 0.8789441348689704, 0.0925204352493653, 0.137978922483652, 0.827873534901912, 0.9808319804849817, 0.39433233096809917, 0.23420950566590132, 0.09559571659832707, 0.07408668036370347, 0.07647657327866166, 0.02150903623462359, 0.10515528825815977, 0.242005139684134, 0.5551882616283075, 0.1091395727987271, 0.09490397634671922, 0.40083807845208463, 0.5894677624295362, 0.6968705646869049, 0.2362273100633576, 0.04724546201267152, 0.9916572816447935, 0.20621708322882434, 0.6158645323455431, 0.04458747745488094, 0.08081480288697171, 0.047374194795811, 0.005573434681860117, 0.1509292478370716, 0.5071222727325606, 0.132817738096623, 0.18413368236122735, 0.012074339826965728, 0.015092924783707159, 0.145232085478821, 0.740683635941987, 0.019364278063842798, 0.096821390319214, 0.8178228894702949, 0.17347758261491106, 0.831617560307387, 0.13860292671789784, 0.9100304854886534, 0.08029680754311648, 0.9802323185669443, 0.15573672906497008, 0.8046397668356787, 0.35445492616425023, 0.573879404265929, 0.06751522403128576, 0.9637071231081251, 0.8711777761753781, 0.12573699862325044, 0.9815302886034517, 0.9888730361466032, 0.962355622321631, 0.310732989541013, 0.1691768498612182, 0.0310732989541013, 0.08976730808962598, 0.04315735965847403, 0.09839878002132078, 0.12774578458908312, 0.1294720789754221, 0.02794902794323442, 0.07114298021914216, 0.23121468571221201, 0.670776670637626, 0.3900137574824795, 0.12257575235163641, 0.03760846947152481, 0.10586087703095873, 0.03621556319480167, 0.11282540841457443, 0.14764806533265296, 0.047358813408586796, 0.25308449590233467, 0.22644402264945734, 0.20646366770979935, 0.09657171554168034, 0.03663065072270634, 0.09324165638507068, 0.08658153807185134, 0.21534687937140565, 0.7635025723168019, 0.9666805816728882, 0.020567671950486983, 0.9088283367521797, 0.07270626694017437, 0.21149550323446292, 0.719084710997174, 0.04229910064689259, 0.02414248103211608, 0.8369393424466909, 0.02011873419343007, 0.1166886583218944, 0.1392269068511967, 0.8527648044635799, 0.10841264984277067, 0.18068774973795113, 0.7107051489692744, 0.9767368942313202, 0.841456434013605, 0.03506068475056688, 0.07012136950113376, 0.027722908632408994, 0.9564403478181104, 0.2830530113694027, 0.13509348269903312, 0.09649534478502365, 0.3538162642117534, 0.012866045971336487, 0.07719627582801893, 0.04503116089967771], \"Term\": [\"5g\", \"5g\", \"access\", \"access\", \"access\", \"access\", \"accounts\", \"accounts\", \"accuracy\", \"accuracy\", \"accuracy\", \"accurate\", \"accurate\", \"accurate\", \"achieves\", \"achieves\", \"acquisition\", \"acquisition\", \"acquisition\", \"address\", \"address\", \"address\", \"address\", \"address\", \"address\", \"aerial\", \"aerial\", \"agent\", \"agent\", \"algorithms\", \"algorithms\", \"algorithms\", \"algorithms\", \"algorithms\", \"algorithms\", \"android\", \"android\", \"android\", \"anomalies\", \"anomaly\", \"applications\", \"applications\", \"applications\", \"applications\", \"applications\", \"approaches\", \"approaches\", \"approaches\", \"approaches\", \"approaches\", \"approaches\", \"approaches\", \"approximation\", \"approximation\", \"architecture\", \"architecture\", \"architecture\", \"architecture\", \"attack\", \"attack\", \"attack\", \"attack\", \"attacker\", \"attacker\", \"attacker\", \"attackers\", \"attackers\", \"attackers\", \"attacking\", \"attacking\", \"attacking\", \"attacks\", \"attacks\", \"attacks\", \"attacks\", \"attacks\", \"audio\", \"audio\", \"authentication\", \"authentication\", \"automotive\", \"autonomous\", \"autonomous\", \"autonomous\", \"based\", \"based\", \"based\", \"based\", \"based\", \"based\", \"based\", \"based\", \"bayesian\", \"bayesian\", \"bayesian\", \"behavioral\", \"benign\", \"bitcoin\", \"blockchain\", \"blockchain\", \"blockchainbased\", \"blockchainbased\", \"blocks\", \"blocks\", \"botnet\", \"botnets\", \"botnets\", \"bots\", \"breaches\", \"breaches\", \"breaches\", \"breaches\", \"breaches\", \"cameras\", \"cameras\", \"challenges\", \"challenges\", \"challenges\", \"challenges\", \"challenges\", \"challenges\", \"channels\", \"channels\", \"ci\", \"cities\", \"cities\", \"classifier\", \"classifiers\", \"classifiers\", \"classifying\", \"classifying\", \"clients\", \"clients\", \"clinical\", \"clinical\", \"collaboration\", \"collaboration\", \"communications\", \"communications\", \"communications\", \"companies\", \"companies\", \"companies\", \"competitive\", \"competitive\", \"components\", \"components\", \"components\", \"components\", \"components\", \"compression\", \"compression\", \"computation\", \"computation\", \"computational\", \"computational\", \"computational\", \"computational\", \"computers\", \"computers\", \"concepts\", \"concepts\", \"concepts\", \"concepts\", \"concerns\", \"concerns\", \"concerns\", \"concerns\", \"concerns\", \"concerns\", \"content\", \"context\", \"context\", \"context\", \"context\", \"context\", \"context\", \"contextual\", \"contextual\", \"contract\", \"contract\", \"contract\", \"controlled\", \"controlled\", \"controller\", \"controller\", \"convergence\", \"convergence\", \"coordinated\", \"coordinated\", \"countries\", \"countries\", \"countries\", \"cps\", \"cryptography\", \"cryptography\", \"cryptography\", \"cyber\", \"cyber\", \"cyber\", \"cyber\", \"cyber\", \"cyberattack\", \"cyberattack\", \"cyberattack\", \"cyberattacks\", \"cyberattacks\", \"cyberattacks\", \"cyberattacks\", \"cybercrime\", \"cybercrime\", \"cyberphysical\", \"cybersecurity\", \"cybersecurity\", \"cybersecurity\", \"cybersecurity\", \"cybersecurity\", \"cybersecurity\", \"database\", \"database\", \"dataset\", \"dataset\", \"dataset\", \"datasets\", \"datasets\", \"datasets\", \"ddos\", \"ddos\", \"deception\", \"decisionmaking\", \"decisionmaking\", \"decryption\", \"defence\", \"defender\", \"defenders\", \"defenders\", \"defense\", \"defense\", \"defense\", \"defensive\", \"defensive\", \"delay\", \"delay\", \"detecting\", \"detecting\", \"detecting\", \"developed\", \"developed\", \"developed\", \"developed\", \"developed\", \"developed\", \"developers\", \"developers\", \"devices\", \"devices\", \"distance\", \"distributed\", \"distributed\", \"distributed\", \"distributions\", \"distributions\", \"dl\", \"dl\", \"domain\", \"domain\", \"domain\", \"domain\", \"dos\", \"driving\", \"driving\", \"dynamics\", \"dynamics\", \"dynamics\", \"economic\", \"economic\", \"edge\", \"edge\", \"education\", \"education\", \"educational\", \"em\", \"email\", \"email\", \"enabled\", \"enabled\", \"encrypted\", \"encrypted\", \"encryption\", \"environments\", \"environments\", \"environments\", \"environments\", \"environments\", \"environments\", \"equilibrium\", \"errors\", \"errors\", \"errors\", \"ethical\", \"evasion\", \"evasion\", \"evasion\", \"events\", \"events\", \"events\", \"events\", \"examples\", \"examples\", \"examples\", \"examples\", \"examples\", \"existing\", \"existing\", \"existing\", \"existing\", \"existing\", \"existing\", \"existing\", \"existing\", \"experiments\", \"experiments\", \"experiments\", \"experiments\", \"experiments\", \"experts\", \"extract\", \"extract\", \"extract\", \"extraction\", \"f1score\", \"factors\", \"factors\", \"families\", \"families\", \"features\", \"features\", \"features\", \"features\", \"features\", \"federated\", \"files\", \"files\", \"findings\", \"findings\", \"findings\", \"findings\", \"findings\", \"fixed\", \"fixed\", \"fl\", \"flow\", \"flow\", \"flow\", \"flows\", \"flows\", \"flows\", \"forecasting\", \"forecasting\", \"forecasting\", \"forensic\", \"fraud\", \"fraud\", \"fraud\", \"frequently\", \"frequently\", \"frequently\", \"games\", \"gametheoretic\", \"gaps\", \"gaps\", \"gas\", \"gas\", \"gdpr\", \"generated\", \"generated\", \"generated\", \"generated\", \"government\", \"government\", \"government\", \"groups\", \"groups\", \"hardware\", \"hardware\", \"hardware\", \"hardware\", \"health\", \"health\", \"healthcare\", \"healthcare\", \"homomorphic\", \"honeypots\", \"host\", \"host\", \"ics\", \"ict\", \"ict\", \"ids\", \"images\", \"images\", \"images\", \"incentives\", \"incident\", \"incident\", \"incidents\", \"incidents\", \"including\", \"including\", \"including\", \"including\", \"including\", \"including\", \"including\", \"independent\", \"independent\", \"indicators\", \"infected\", \"infected\", \"injection\", \"injection\", \"input\", \"input\", \"insurance\", \"insurance\", \"integrity\", \"integrity\", \"integrity\", \"interactive\", \"interactive\", \"interface\", \"interface\", \"internet\", \"internet\", \"internet\", \"internet\", \"interoperability\", \"interoperability\", \"interviews\", \"intrusion\", \"intrusion\", \"intrusion\", \"intrusion\", \"intrusions\", \"intrusions\", \"intrusions\", \"investigation\", \"investigation\", \"investigation\", \"iot\", \"ip\", \"ip\", \"ip\", \"issues\", \"issues\", \"issues\", \"issues\", \"issues\", \"issues\", \"keys\", \"keys\", \"keys\", \"kinds\", \"kinds\", \"kinds\", \"law\", \"law\", \"layer\", \"layer\", \"layer\", \"layer\", \"learningbased\", \"learningbased\", \"learningbased\", \"ledger\", \"ledger\", \"legal\", \"legal\", \"link\", \"links\", \"literature\", \"literature\", \"literature\", \"literature\", \"literature\", \"literature\", \"lives\", \"lives\", \"location\", \"location\", \"log\", \"logic\", \"logic\", \"logic\", \"logs\", \"losses\", \"losses\", \"losses\", \"malicious\", \"malicious\", \"malicious\", \"malicious\", \"malicious\", \"malware\", \"malware\", \"measurements\", \"measurements\", \"media\", \"media\", \"media\", \"media\", \"medical\", \"medical\", \"message\", \"message\", \"message\", \"messages\", \"messages\", \"methods\", \"methods\", \"methods\", \"methods\", \"methods\", \"methods\", \"metrics\", \"metrics\", \"metrics\", \"military\", \"millions\", \"millions\", \"mining\", \"mining\", \"misuse\", \"misuse\", \"ml\", \"mlbased\", \"mobile\", \"mobile\", \"mobile\", \"mobility\", \"mobility\", \"modeling\", \"modeling\", \"modeling\", \"models\", \"models\", \"models\", \"models\", \"models\", \"models\", \"monitoring\", \"monitoring\", \"monitoring\", \"monitoring\", \"monitoring\", \"moving\", \"moving\", \"moving\", \"multivariate\", \"nash\", \"network\", \"network\", \"network\", \"network\", \"network\", \"network\", \"networks\", \"networks\", \"networks\", \"networks\", \"networks\", \"networks\", \"nodes\", \"nodes\", \"nodes\", \"nodes\", \"nodes\", \"noise\", \"noise\", \"novel\", \"novel\", \"novel\", \"novel\", \"novel\", \"novel\", \"novel\", \"ontology\", \"ontology\", \"operations\", \"operations\", \"operations\", \"operations\", \"operations\", \"optimal\", \"optimal\", \"optimization\", \"optimization\", \"optimization\", \"optimization\", \"optimization\", \"organisations\", \"organisations\", \"organisations\", \"organizational\", \"organizations\", \"organizations\", \"organizations\", \"organizations\", \"organizations\", \"organizations\", \"owners\", \"owners\", \"owners\", \"owners\", \"packet\", \"packet\", \"pandemic\", \"pandemic\", \"parameter\", \"parameters\", \"parameters\", \"parameters\", \"parameters\", \"parameters\", \"participants\", \"participants\", \"participants\", \"participants\", \"password\", \"password\", \"paths\", \"paths\", \"patients\", \"patterns\", \"patterns\", \"patterns\", \"patterns\", \"patterns\", \"personal\", \"personal\", \"personal\", \"personal\", \"phishing\", \"phishing\", \"physical\", \"physical\", \"physical\", \"platforms\", \"platforms\", \"platforms\", \"platforms\", \"platforms\", \"players\", \"policies\", \"policies\", \"policies\", \"policies\", \"posture\", \"potential\", \"potential\", \"potential\", \"potential\", \"potential\", \"potential\", \"practices\", \"practices\", \"predictions\", \"predictions\", \"privacy\", \"privacy\", \"privacy\", \"privacy\", \"privacypreserving\", \"privacypreserving\", \"private\", \"private\", \"private\", \"private\", \"private\", \"proactive\", \"proactive\", \"proactive\", \"problems\", \"problems\", \"problems\", \"problems\", \"problems\", \"problems\", \"problems\", \"professionals\", \"professionals\", \"professionals\", \"programming\", \"programming\", \"programming\", \"programming\", \"programming\", \"projects\", \"projects\", \"propagation\", \"propagation\", \"propagation\", \"protocol\", \"protocol\", \"protocol\", \"protocols\", \"protocols\", \"protocols\", \"provides\", \"provides\", \"provides\", \"provides\", \"provides\", \"provides\", \"provides\", \"quantum\", \"queries\", \"queries\", \"queries\", \"query\", \"query\", \"questions\", \"questions\", \"random\", \"random\", \"random\", \"random\", \"ransom\", \"ransomware\", \"reactive\", \"reactive\", \"reality\", \"reality\", \"reality\", \"realtime\", \"realtime\", \"realtime\", \"realtime\", \"recommendations\", \"recommendations\", \"recommendations\", \"reinforcement\", \"reinforcement\", \"reliability\", \"reliability\", \"reliability\", \"reliability\", \"reporting\", \"reporting\", \"reports\", \"requirements\", \"requirements\", \"requirements\", \"requirements\", \"requirements\", \"researchers\", \"researchers\", \"researchers\", \"researchers\", \"respond\", \"respond\", \"response\", \"response\", \"response\", \"response\", \"response\", \"responses\", \"responses\", \"responses\", \"results\", \"results\", \"results\", \"results\", \"results\", \"results\", \"results\", \"reviewed\", \"risk\", \"risk\", \"risk\", \"risk\", \"risks\", \"risks\", \"risks\", \"risks\", \"risks\", \"rl\", \"robot\", \"robotics\", \"robotics\", \"robots\", \"robots\", \"routing\", \"safety\", \"safety\", \"safety\", \"samples\", \"scada\", \"schemes\", \"schemes\", \"schemes\", \"schemes\", \"sdn\", \"sdn\", \"sdn\", \"secret\", \"sectors\", \"sectors\", \"secure\", \"secure\", \"secure\", \"secure\", \"secure\", \"secure\", \"sensing\", \"sensing\", \"sensitive\", \"sensitive\", \"sensitive\", \"sensitive\", \"sensors\", \"sensors\", \"sensors\", \"series\", \"series\", \"series\", \"series\", \"series\", \"server\", \"server\", \"services\", \"services\", \"services\", \"services\", \"severity\", \"severity\", \"sizes\", \"sizes\", \"sizes\", \"sizes\", \"skills\", \"solutions\", \"solutions\", \"solutions\", \"solutions\", \"solutions\", \"solutions\", \"spectrum\", \"spectrum\", \"spectrum\", \"storage\", \"storage\", \"storage\", \"store\", \"stored\", \"stored\", \"stored\", \"strategies\", \"strategies\", \"strategies\", \"strategies\", \"stream\", \"stream\", \"streaming\", \"streams\", \"students\", \"studies\", \"studies\", \"studies\", \"studies\", \"studies\", \"studies\", \"studies\", \"sustainable\", \"sustainable\", \"tactics\", \"tactics\", \"teams\", \"techniques\", \"techniques\", \"techniques\", \"techniques\", \"techniques\", \"techniques\", \"techniques\", \"technologies\", \"technologies\", \"technologies\", \"technologies\", \"temporal\", \"temporal\", \"text\", \"text\", \"text\", \"things\", \"threat\", \"threat\", \"threat\", \"threat\", \"threat\", \"threat\", \"threats\", \"threats\", \"threats\", \"threats\", \"threats\", \"threats\", \"tools\", \"tools\", \"tools\", \"tools\", \"topics\", \"topics\", \"traces\", \"traces\", \"trained\", \"trained\", \"transaction\", \"transactions\", \"transactions\", \"transmission\", \"transmission\", \"transmission\", \"transmitted\", \"trust\", \"trust\", \"tweets\", \"twitter\", \"untrusted\", \"used\", \"used\", \"used\", \"used\", \"used\", \"used\", \"used\", \"used\", \"users\", \"users\", \"users\", \"users\", \"using\", \"using\", \"using\", \"using\", \"using\", \"using\", \"using\", \"using\", \"various\", \"various\", \"various\", \"various\", \"various\", \"various\", \"various\", \"vectors\", \"vectors\", \"vehicles\", \"vehicles\", \"vehicular\", \"vehicular\", \"vendors\", \"vendors\", \"vendors\", \"vulnerabilities\", \"vulnerabilities\", \"vulnerabilities\", \"vulnerabilities\", \"vulnerability\", \"vulnerability\", \"web\", \"web\", \"web\", \"websites\", \"windows\", \"windows\", \"windows\", \"wireless\", \"wireless\", \"years\", \"years\", \"years\", \"years\", \"years\", \"years\", \"years\"]}, \"R\": 30, \"lambda.step\": 0.01, \"plot.opts\": {\"xlab\": \"PC1\", \"ylab\": \"PC2\"}, \"topic.order\": [3, 8, 6, 2, 1, 7, 5, 4]};\n",
       "\n",
       "function LDAvis_load_lib(url, callback){\n",
       "  var s = document.createElement('script');\n",
       "  s.src = url;\n",
       "  s.async = true;\n",
       "  s.onreadystatechange = s.onload = callback;\n",
       "  s.onerror = function(){console.warn(\"failed to load library \" + url);};\n",
       "  document.getElementsByTagName(\"head\")[0].appendChild(s);\n",
       "}\n",
       "\n",
       "if(typeof(LDAvis) !== \"undefined\"){\n",
       "   // already loaded: just create the visualization\n",
       "   !function(LDAvis){\n",
       "       new LDAvis(\"#\" + \"ldavis_el720024375636985286682165448\", ldavis_el720024375636985286682165448_data);\n",
       "   }(LDAvis);\n",
       "}else if(typeof define === \"function\" && define.amd){\n",
       "   // require.js is available: use it to load d3/LDAvis\n",
       "   require.config({paths: {d3: \"https://d3js.org/d3.v5\"}});\n",
       "   require([\"d3\"], function(d3){\n",
       "      window.d3 = d3;\n",
       "      LDAvis_load_lib(\"https://cdn.jsdelivr.net/gh/bmabey/pyLDAvis@3.3.1/pyLDAvis/js/ldavis.v3.0.0.js\", function(){\n",
       "        new LDAvis(\"#\" + \"ldavis_el720024375636985286682165448\", ldavis_el720024375636985286682165448_data);\n",
       "      });\n",
       "    });\n",
       "}else{\n",
       "    // require.js not available: dynamically load d3 & LDAvis\n",
       "    LDAvis_load_lib(\"https://d3js.org/d3.v5.js\", function(){\n",
       "         LDAvis_load_lib(\"https://cdn.jsdelivr.net/gh/bmabey/pyLDAvis@3.3.1/pyLDAvis/js/ldavis.v3.0.0.js\", function(){\n",
       "                 new LDAvis(\"#\" + \"ldavis_el720024375636985286682165448\", ldavis_el720024375636985286682165448_data);\n",
       "            })\n",
       "         });\n",
       "}\n",
       "</script>"
      ],
      "text/plain": [
       "<IPython.core.display.HTML object>"
      ]
     },
     "execution_count": 127,
     "metadata": {},
     "output_type": "execute_result"
    }
   ],
   "source": [
    "pyLDAvis.enable_notebook()\n",
    "pic = pyLDAvis.sklearn.prepare(lda, tf, tf_vectorizer)\n",
    "pyLDAvis.display(pic)\n",
    "pyLDAvis.save_html(pic, 'lda_pass'+str(n_topics)+'.html')\n",
    "pyLDAvis.display(pic)"
   ]
  },
  {
   "cell_type": "code",
   "execution_count": null,
   "id": "0be3c239",
   "metadata": {},
   "outputs": [],
   "source": []
  }
 ],
 "metadata": {
  "kernelspec": {
   "display_name": "Python 3 (ipykernel)",
   "language": "python",
   "name": "python3"
  },
  "language_info": {
   "codemirror_mode": {
    "name": "ipython",
    "version": 3
   },
   "file_extension": ".py",
   "mimetype": "text/x-python",
   "name": "python",
   "nbconvert_exporter": "python",
   "pygments_lexer": "ipython3",
   "version": "3.9.7"
  }
 },
 "nbformat": 4,
 "nbformat_minor": 5
}
