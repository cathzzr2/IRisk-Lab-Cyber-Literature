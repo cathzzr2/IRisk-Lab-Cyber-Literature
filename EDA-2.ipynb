{
 "cells": [
  {
   "cell_type": "code",
   "execution_count": null,
   "id": "645f4c5a",
   "metadata": {
    "scrolled": true
   },
   "outputs": [],
   "source": [
    "!pip install plotly\n",
    "!pip install cufflinks\n",
    "!pip install textblob\n",
    "!pip install -U pip setuptools wheel\n",
    "!pip install -U spacy\n",
    "!pip install nltk\n",
    "!python -m spacy download en_core_web_sm\n",
    "!pip install wordcloud"
   ]
  },
  {
   "cell_type": "code",
   "execution_count": 106,
   "id": "9a8b40e3",
   "metadata": {},
   "outputs": [],
   "source": [
    "import pandas as pd\n",
    "import numpy as np\n",
    "import re \n",
    "import xlrd # to read excel\n",
    "import nltk # NLP toolkit\n",
    "import matplotlib.pyplot as plt # for visualization\n",
    "import string # for handling string\n",
    "import seaborn as sns\n",
    "import spacy"
   ]
  },
  {
   "cell_type": "code",
   "execution_count": 107,
   "id": "0fe6eec1",
   "metadata": {},
   "outputs": [],
   "source": [
    "import plotly as py\n",
    "import cufflinks as cf"
   ]
  },
  {
   "cell_type": "code",
   "execution_count": 108,
   "id": "54c920aa",
   "metadata": {},
   "outputs": [],
   "source": [
    "from plotly.offline import iplot"
   ]
  },
  {
   "cell_type": "code",
   "execution_count": 109,
   "id": "b5b08423",
   "metadata": {},
   "outputs": [
    {
     "data": {
      "text/html": [
       "        <script type=\"text/javascript\">\n",
       "        window.PlotlyConfig = {MathJaxConfig: 'local'};\n",
       "        if (window.MathJax) {MathJax.Hub.Config({SVG: {font: \"STIX-Web\"}});}\n",
       "        if (typeof require !== 'undefined') {\n",
       "        require.undef(\"plotly\");\n",
       "        requirejs.config({\n",
       "            paths: {\n",
       "                'plotly': ['https://cdn.plot.ly/plotly-2.9.0.min']\n",
       "            }\n",
       "        });\n",
       "        require(['plotly'], function(Plotly) {\n",
       "            window._Plotly = Plotly;\n",
       "        });\n",
       "        }\n",
       "        </script>\n",
       "        "
      ]
     },
     "metadata": {},
     "output_type": "display_data"
    },
    {
     "data": {
      "text/html": [
       "        <script type=\"text/javascript\">\n",
       "        window.PlotlyConfig = {MathJaxConfig: 'local'};\n",
       "        if (window.MathJax) {MathJax.Hub.Config({SVG: {font: \"STIX-Web\"}});}\n",
       "        if (typeof require !== 'undefined') {\n",
       "        require.undef(\"plotly\");\n",
       "        requirejs.config({\n",
       "            paths: {\n",
       "                'plotly': ['https://cdn.plot.ly/plotly-2.9.0.min']\n",
       "            }\n",
       "        });\n",
       "        require(['plotly'], function(Plotly) {\n",
       "            window._Plotly = Plotly;\n",
       "        });\n",
       "        }\n",
       "        </script>\n",
       "        "
      ]
     },
     "metadata": {},
     "output_type": "display_data"
    }
   ],
   "source": [
    "py.offline.init_notebook_mode(connected=True)\n",
    "cf.go_offline()"
   ]
  },
  {
   "cell_type": "code",
   "execution_count": 110,
   "id": "7df03716",
   "metadata": {},
   "outputs": [
    {
     "data": {
      "text/html": [
       "<div>\n",
       "<style scoped>\n",
       "    .dataframe tbody tr th:only-of-type {\n",
       "        vertical-align: middle;\n",
       "    }\n",
       "\n",
       "    .dataframe tbody tr th {\n",
       "        vertical-align: top;\n",
       "    }\n",
       "\n",
       "    .dataframe thead th {\n",
       "        text-align: right;\n",
       "    }\n",
       "</style>\n",
       "<table border=\"1\" class=\"dataframe\">\n",
       "  <thead>\n",
       "    <tr style=\"text-align: right;\">\n",
       "      <th></th>\n",
       "      <th>Title</th>\n",
       "      <th>Authors</th>\n",
       "      <th>Date</th>\n",
       "      <th>UID</th>\n",
       "      <th>Summary</th>\n",
       "      <th>PDF URL</th>\n",
       "      <th>Cyber_Risk</th>\n",
       "      <th>Not_Cyber</th>\n",
       "    </tr>\n",
       "  </thead>\n",
       "  <tbody>\n",
       "    <tr>\n",
       "      <th>0</th>\n",
       "      <td>Cyber security and the Leviathan</td>\n",
       "      <td>['Joseph Da Silva']</td>\n",
       "      <td>2022-03-10</td>\n",
       "      <td>2203.05256v1</td>\n",
       "      <td>Dedicated cyber-security functions are common ...</td>\n",
       "      <td>http://arxiv.org/pdf/2203.05256v1.pdf</td>\n",
       "      <td>1.0</td>\n",
       "      <td>0.0</td>\n",
       "    </tr>\n",
       "    <tr>\n",
       "      <th>1</th>\n",
       "      <td>Evaluation of Machine Learning Algorithms in N...</td>\n",
       "      <td>['Tuan-Hong Chua', 'Iftekhar Salam']</td>\n",
       "      <td>2022-03-10</td>\n",
       "      <td>2203.05232v1</td>\n",
       "      <td>Cybersecurity has become one of the focuses of...</td>\n",
       "      <td>http://arxiv.org/pdf/2203.05232v1.pdf</td>\n",
       "      <td>1.0</td>\n",
       "      <td>0.0</td>\n",
       "    </tr>\n",
       "    <tr>\n",
       "      <th>2</th>\n",
       "      <td>Getting Critical: Making Sense of the EU Cyber...</td>\n",
       "      <td>['Ian Walden', 'Johan David Michels']</td>\n",
       "      <td>2022-03-09</td>\n",
       "      <td>2203.04887v1</td>\n",
       "      <td>In this chapter, we review how the EU cybersec...</td>\n",
       "      <td>http://arxiv.org/pdf/2203.04887v1.pdf</td>\n",
       "      <td>1.0</td>\n",
       "      <td>0.0</td>\n",
       "    </tr>\n",
       "    <tr>\n",
       "      <th>3</th>\n",
       "      <td>Adaptative Perturbation Patterns: Realistic Ad...</td>\n",
       "      <td>['João Vitorino', 'Nuno Oliveira', 'Isabel Pra...</td>\n",
       "      <td>2022-03-08</td>\n",
       "      <td>2203.04234v1</td>\n",
       "      <td>Adversarial attacks pose a major threat to mac...</td>\n",
       "      <td>http://arxiv.org/pdf/2203.04234v1.pdf</td>\n",
       "      <td>NaN</td>\n",
       "      <td>NaN</td>\n",
       "    </tr>\n",
       "    <tr>\n",
       "      <th>4</th>\n",
       "      <td>Guidelines for cyber risk management in shipbo...</td>\n",
       "      <td>['Priyanga Rajaram', 'Mark Goh', 'Jianying Zhou']</td>\n",
       "      <td>2022-03-08</td>\n",
       "      <td>2203.04072v2</td>\n",
       "      <td>Over the past few years, we have seen several ...</td>\n",
       "      <td>http://arxiv.org/pdf/2203.04072v2.pdf</td>\n",
       "      <td>NaN</td>\n",
       "      <td>NaN</td>\n",
       "    </tr>\n",
       "  </tbody>\n",
       "</table>\n",
       "</div>"
      ],
      "text/plain": [
       "                                               Title  \\\n",
       "0                   Cyber security and the Leviathan   \n",
       "1  Evaluation of Machine Learning Algorithms in N...   \n",
       "2  Getting Critical: Making Sense of the EU Cyber...   \n",
       "3  Adaptative Perturbation Patterns: Realistic Ad...   \n",
       "4  Guidelines for cyber risk management in shipbo...   \n",
       "\n",
       "                                             Authors       Date           UID  \\\n",
       "0                                ['Joseph Da Silva'] 2022-03-10  2203.05256v1   \n",
       "1               ['Tuan-Hong Chua', 'Iftekhar Salam'] 2022-03-10  2203.05232v1   \n",
       "2              ['Ian Walden', 'Johan David Michels'] 2022-03-09  2203.04887v1   \n",
       "3  ['João Vitorino', 'Nuno Oliveira', 'Isabel Pra... 2022-03-08  2203.04234v1   \n",
       "4  ['Priyanga Rajaram', 'Mark Goh', 'Jianying Zhou'] 2022-03-08  2203.04072v2   \n",
       "\n",
       "                                             Summary  \\\n",
       "0  Dedicated cyber-security functions are common ...   \n",
       "1  Cybersecurity has become one of the focuses of...   \n",
       "2  In this chapter, we review how the EU cybersec...   \n",
       "3  Adversarial attacks pose a major threat to mac...   \n",
       "4  Over the past few years, we have seen several ...   \n",
       "\n",
       "                                 PDF URL  Cyber_Risk  Not_Cyber  \n",
       "0  http://arxiv.org/pdf/2203.05256v1.pdf         1.0        0.0  \n",
       "1  http://arxiv.org/pdf/2203.05232v1.pdf         1.0        0.0  \n",
       "2  http://arxiv.org/pdf/2203.04887v1.pdf         1.0        0.0  \n",
       "3  http://arxiv.org/pdf/2203.04234v1.pdf         NaN        NaN  \n",
       "4  http://arxiv.org/pdf/2203.04072v2.pdf         NaN        NaN  "
      ]
     },
     "execution_count": 110,
     "metadata": {},
     "output_type": "execute_result"
    }
   ],
   "source": [
    "summary = pd.read_excel('dataset.xlsx') \n",
    "summary.head()"
   ]
  },
  {
   "cell_type": "code",
   "execution_count": 111,
   "id": "4aae0c89",
   "metadata": {},
   "outputs": [
    {
     "name": "stdout",
     "output_type": "stream",
     "text": [
      "Title            0\n",
      "Authors          0\n",
      "Date             0\n",
      "UID              0\n",
      "Summary          0\n",
      "PDF URL          0\n",
      "Cyber_Risk    1709\n",
      "Not_Cyber     1709\n",
      "dtype: int64\n"
     ]
    }
   ],
   "source": [
    "print(summary.isnull().sum()) "
   ]
  },
  {
   "cell_type": "code",
   "execution_count": 112,
   "id": "e82841a7",
   "metadata": {},
   "outputs": [
    {
     "data": {
      "text/html": [
       "<div>\n",
       "<style scoped>\n",
       "    .dataframe tbody tr th:only-of-type {\n",
       "        vertical-align: middle;\n",
       "    }\n",
       "\n",
       "    .dataframe tbody tr th {\n",
       "        vertical-align: top;\n",
       "    }\n",
       "\n",
       "    .dataframe thead th {\n",
       "        text-align: right;\n",
       "    }\n",
       "</style>\n",
       "<table border=\"1\" class=\"dataframe\">\n",
       "  <thead>\n",
       "    <tr style=\"text-align: right;\">\n",
       "      <th></th>\n",
       "      <th>Title</th>\n",
       "      <th>Authors</th>\n",
       "      <th>Summary</th>\n",
       "    </tr>\n",
       "  </thead>\n",
       "  <tbody>\n",
       "    <tr>\n",
       "      <th>0</th>\n",
       "      <td>Cyber security and the Leviathan</td>\n",
       "      <td>['Joseph Da Silva']</td>\n",
       "      <td>Dedicated cyber-security functions are common ...</td>\n",
       "    </tr>\n",
       "    <tr>\n",
       "      <th>1</th>\n",
       "      <td>Evaluation of Machine Learning Algorithms in N...</td>\n",
       "      <td>['Tuan-Hong Chua', 'Iftekhar Salam']</td>\n",
       "      <td>Cybersecurity has become one of the focuses of...</td>\n",
       "    </tr>\n",
       "    <tr>\n",
       "      <th>2</th>\n",
       "      <td>Getting Critical: Making Sense of the EU Cyber...</td>\n",
       "      <td>['Ian Walden', 'Johan David Michels']</td>\n",
       "      <td>In this chapter, we review how the EU cybersec...</td>\n",
       "    </tr>\n",
       "    <tr>\n",
       "      <th>3</th>\n",
       "      <td>Adaptative Perturbation Patterns: Realistic Ad...</td>\n",
       "      <td>['João Vitorino', 'Nuno Oliveira', 'Isabel Pra...</td>\n",
       "      <td>Adversarial attacks pose a major threat to mac...</td>\n",
       "    </tr>\n",
       "    <tr>\n",
       "      <th>4</th>\n",
       "      <td>Guidelines for cyber risk management in shipbo...</td>\n",
       "      <td>['Priyanga Rajaram', 'Mark Goh', 'Jianying Zhou']</td>\n",
       "      <td>Over the past few years, we have seen several ...</td>\n",
       "    </tr>\n",
       "  </tbody>\n",
       "</table>\n",
       "</div>"
      ],
      "text/plain": [
       "                                               Title  \\\n",
       "0                   Cyber security and the Leviathan   \n",
       "1  Evaluation of Machine Learning Algorithms in N...   \n",
       "2  Getting Critical: Making Sense of the EU Cyber...   \n",
       "3  Adaptative Perturbation Patterns: Realistic Ad...   \n",
       "4  Guidelines for cyber risk management in shipbo...   \n",
       "\n",
       "                                             Authors  \\\n",
       "0                                ['Joseph Da Silva']   \n",
       "1               ['Tuan-Hong Chua', 'Iftekhar Salam']   \n",
       "2              ['Ian Walden', 'Johan David Michels']   \n",
       "3  ['João Vitorino', 'Nuno Oliveira', 'Isabel Pra...   \n",
       "4  ['Priyanga Rajaram', 'Mark Goh', 'Jianying Zhou']   \n",
       "\n",
       "                                             Summary  \n",
       "0  Dedicated cyber-security functions are common ...  \n",
       "1  Cybersecurity has become one of the focuses of...  \n",
       "2  In this chapter, we review how the EU cybersec...  \n",
       "3  Adversarial attacks pose a major threat to mac...  \n",
       "4  Over the past few years, we have seen several ...  "
      ]
     },
     "execution_count": 112,
     "metadata": {},
     "output_type": "execute_result"
    }
   ],
   "source": [
    "new = summary.drop(['Date', 'UID', 'PDF URL', 'Cyber_Risk', 'Not_Cyber'], axis=1) \n",
    "new.head()"
   ]
  },
  {
   "cell_type": "code",
   "execution_count": null,
   "id": "88a543df",
   "metadata": {},
   "outputs": [],
   "source": [
    "' '.join(new['Summary'].tolist())"
   ]
  },
  {
   "cell_type": "code",
   "execution_count": 114,
   "id": "2a4e9dc2",
   "metadata": {},
   "outputs": [
    {
     "data": {
      "text/html": [
       "<div>\n",
       "<style scoped>\n",
       "    .dataframe tbody tr th:only-of-type {\n",
       "        vertical-align: middle;\n",
       "    }\n",
       "\n",
       "    .dataframe tbody tr th {\n",
       "        vertical-align: top;\n",
       "    }\n",
       "\n",
       "    .dataframe thead th {\n",
       "        text-align: right;\n",
       "    }\n",
       "</style>\n",
       "<table border=\"1\" class=\"dataframe\">\n",
       "  <thead>\n",
       "    <tr style=\"text-align: right;\">\n",
       "      <th></th>\n",
       "      <th>Title</th>\n",
       "      <th>Authors</th>\n",
       "      <th>Summary</th>\n",
       "      <th>summary_in_lowercase</th>\n",
       "    </tr>\n",
       "  </thead>\n",
       "  <tbody>\n",
       "    <tr>\n",
       "      <th>0</th>\n",
       "      <td>Cyber security and the Leviathan</td>\n",
       "      <td>['Joseph Da Silva']</td>\n",
       "      <td>Dedicated cyber-security functions are common ...</td>\n",
       "      <td>dedicated cyber-security functions are common ...</td>\n",
       "    </tr>\n",
       "    <tr>\n",
       "      <th>1</th>\n",
       "      <td>Evaluation of Machine Learning Algorithms in N...</td>\n",
       "      <td>['Tuan-Hong Chua', 'Iftekhar Salam']</td>\n",
       "      <td>Cybersecurity has become one of the focuses of...</td>\n",
       "      <td>cybersecurity has become one of the focuses of...</td>\n",
       "    </tr>\n",
       "    <tr>\n",
       "      <th>2</th>\n",
       "      <td>Getting Critical: Making Sense of the EU Cyber...</td>\n",
       "      <td>['Ian Walden', 'Johan David Michels']</td>\n",
       "      <td>In this chapter, we review how the EU cybersec...</td>\n",
       "      <td>in this chapter, we review how the eu cybersec...</td>\n",
       "    </tr>\n",
       "    <tr>\n",
       "      <th>3</th>\n",
       "      <td>Adaptative Perturbation Patterns: Realistic Ad...</td>\n",
       "      <td>['João Vitorino', 'Nuno Oliveira', 'Isabel Pra...</td>\n",
       "      <td>Adversarial attacks pose a major threat to mac...</td>\n",
       "      <td>adversarial attacks pose a major threat to mac...</td>\n",
       "    </tr>\n",
       "    <tr>\n",
       "      <th>4</th>\n",
       "      <td>Guidelines for cyber risk management in shipbo...</td>\n",
       "      <td>['Priyanga Rajaram', 'Mark Goh', 'Jianying Zhou']</td>\n",
       "      <td>Over the past few years, we have seen several ...</td>\n",
       "      <td>over the past few years, we have seen several ...</td>\n",
       "    </tr>\n",
       "  </tbody>\n",
       "</table>\n",
       "</div>"
      ],
      "text/plain": [
       "                                               Title  \\\n",
       "0                   Cyber security and the Leviathan   \n",
       "1  Evaluation of Machine Learning Algorithms in N...   \n",
       "2  Getting Critical: Making Sense of the EU Cyber...   \n",
       "3  Adaptative Perturbation Patterns: Realistic Ad...   \n",
       "4  Guidelines for cyber risk management in shipbo...   \n",
       "\n",
       "                                             Authors  \\\n",
       "0                                ['Joseph Da Silva']   \n",
       "1               ['Tuan-Hong Chua', 'Iftekhar Salam']   \n",
       "2              ['Ian Walden', 'Johan David Michels']   \n",
       "3  ['João Vitorino', 'Nuno Oliveira', 'Isabel Pra...   \n",
       "4  ['Priyanga Rajaram', 'Mark Goh', 'Jianying Zhou']   \n",
       "\n",
       "                                             Summary  \\\n",
       "0  Dedicated cyber-security functions are common ...   \n",
       "1  Cybersecurity has become one of the focuses of...   \n",
       "2  In this chapter, we review how the EU cybersec...   \n",
       "3  Adversarial attacks pose a major threat to mac...   \n",
       "4  Over the past few years, we have seen several ...   \n",
       "\n",
       "                                summary_in_lowercase  \n",
       "0  dedicated cyber-security functions are common ...  \n",
       "1  cybersecurity has become one of the focuses of...  \n",
       "2  in this chapter, we review how the eu cybersec...  \n",
       "3  adversarial attacks pose a major threat to mac...  \n",
       "4  over the past few years, we have seen several ...  "
      ]
     },
     "execution_count": 114,
     "metadata": {},
     "output_type": "execute_result"
    }
   ],
   "source": [
    "new['summary_in_lowercase']=new['Summary'].apply(lambda x: x.lower())\n",
    "new.head()"
   ]
  },
  {
   "cell_type": "code",
   "execution_count": 115,
   "id": "d82f846e",
   "metadata": {},
   "outputs": [
    {
     "data": {
      "text/html": [
       "<div>\n",
       "<style scoped>\n",
       "    .dataframe tbody tr th:only-of-type {\n",
       "        vertical-align: middle;\n",
       "    }\n",
       "\n",
       "    .dataframe tbody tr th {\n",
       "        vertical-align: top;\n",
       "    }\n",
       "\n",
       "    .dataframe thead th {\n",
       "        text-align: right;\n",
       "    }\n",
       "</style>\n",
       "<table border=\"1\" class=\"dataframe\">\n",
       "  <thead>\n",
       "    <tr style=\"text-align: right;\">\n",
       "      <th></th>\n",
       "      <th>Title</th>\n",
       "      <th>Authors</th>\n",
       "      <th>Summary</th>\n",
       "      <th>summary_in_lowercase</th>\n",
       "      <th>summary_without_punkt</th>\n",
       "    </tr>\n",
       "  </thead>\n",
       "  <tbody>\n",
       "    <tr>\n",
       "      <th>0</th>\n",
       "      <td>Cyber security and the Leviathan</td>\n",
       "      <td>['Joseph Da Silva']</td>\n",
       "      <td>Dedicated cyber-security functions are common ...</td>\n",
       "      <td>dedicated cyber-security functions are common ...</td>\n",
       "      <td>dedicated cybersecurity functions are common i...</td>\n",
       "    </tr>\n",
       "    <tr>\n",
       "      <th>1</th>\n",
       "      <td>Evaluation of Machine Learning Algorithms in N...</td>\n",
       "      <td>['Tuan-Hong Chua', 'Iftekhar Salam']</td>\n",
       "      <td>Cybersecurity has become one of the focuses of...</td>\n",
       "      <td>cybersecurity has become one of the focuses of...</td>\n",
       "      <td>cybersecurity has become one of the focuses of...</td>\n",
       "    </tr>\n",
       "    <tr>\n",
       "      <th>2</th>\n",
       "      <td>Getting Critical: Making Sense of the EU Cyber...</td>\n",
       "      <td>['Ian Walden', 'Johan David Michels']</td>\n",
       "      <td>In this chapter, we review how the EU cybersec...</td>\n",
       "      <td>in this chapter, we review how the eu cybersec...</td>\n",
       "      <td>in this chapter we review how the eu cybersecu...</td>\n",
       "    </tr>\n",
       "    <tr>\n",
       "      <th>3</th>\n",
       "      <td>Adaptative Perturbation Patterns: Realistic Ad...</td>\n",
       "      <td>['João Vitorino', 'Nuno Oliveira', 'Isabel Pra...</td>\n",
       "      <td>Adversarial attacks pose a major threat to mac...</td>\n",
       "      <td>adversarial attacks pose a major threat to mac...</td>\n",
       "      <td>adversarial attacks pose a major threat to mac...</td>\n",
       "    </tr>\n",
       "    <tr>\n",
       "      <th>4</th>\n",
       "      <td>Guidelines for cyber risk management in shipbo...</td>\n",
       "      <td>['Priyanga Rajaram', 'Mark Goh', 'Jianying Zhou']</td>\n",
       "      <td>Over the past few years, we have seen several ...</td>\n",
       "      <td>over the past few years, we have seen several ...</td>\n",
       "      <td>over the past few years we have seen several c...</td>\n",
       "    </tr>\n",
       "  </tbody>\n",
       "</table>\n",
       "</div>"
      ],
      "text/plain": [
       "                                               Title  \\\n",
       "0                   Cyber security and the Leviathan   \n",
       "1  Evaluation of Machine Learning Algorithms in N...   \n",
       "2  Getting Critical: Making Sense of the EU Cyber...   \n",
       "3  Adaptative Perturbation Patterns: Realistic Ad...   \n",
       "4  Guidelines for cyber risk management in shipbo...   \n",
       "\n",
       "                                             Authors  \\\n",
       "0                                ['Joseph Da Silva']   \n",
       "1               ['Tuan-Hong Chua', 'Iftekhar Salam']   \n",
       "2              ['Ian Walden', 'Johan David Michels']   \n",
       "3  ['João Vitorino', 'Nuno Oliveira', 'Isabel Pra...   \n",
       "4  ['Priyanga Rajaram', 'Mark Goh', 'Jianying Zhou']   \n",
       "\n",
       "                                             Summary  \\\n",
       "0  Dedicated cyber-security functions are common ...   \n",
       "1  Cybersecurity has become one of the focuses of...   \n",
       "2  In this chapter, we review how the EU cybersec...   \n",
       "3  Adversarial attacks pose a major threat to mac...   \n",
       "4  Over the past few years, we have seen several ...   \n",
       "\n",
       "                                summary_in_lowercase  \\\n",
       "0  dedicated cyber-security functions are common ...   \n",
       "1  cybersecurity has become one of the focuses of...   \n",
       "2  in this chapter, we review how the eu cybersec...   \n",
       "3  adversarial attacks pose a major threat to mac...   \n",
       "4  over the past few years, we have seen several ...   \n",
       "\n",
       "                               summary_without_punkt  \n",
       "0  dedicated cybersecurity functions are common i...  \n",
       "1  cybersecurity has become one of the focuses of...  \n",
       "2  in this chapter we review how the eu cybersecu...  \n",
       "3  adversarial attacks pose a major threat to mac...  \n",
       "4  over the past few years we have seen several c...  "
      ]
     },
     "execution_count": 115,
     "metadata": {},
     "output_type": "execute_result"
    }
   ],
   "source": [
    "new['summary_without_punkt']=new['summary_in_lowercase'].apply(lambda x: re.sub('[%s]' % re.escape(string.punctuation), '', x))\n",
    "new.head()"
   ]
  },
  {
   "cell_type": "code",
   "execution_count": null,
   "id": "078f3014",
   "metadata": {},
   "outputs": [],
   "source": [
    "from nltk.corpus import stopwords\n",
    "nltk.download('punkt')\n",
    "nltk.download('stopwords')\n",
    "stoplist = set(stopwords.words(\"english\"))"
   ]
  },
  {
   "cell_type": "code",
   "execution_count": 117,
   "id": "9bd87262",
   "metadata": {},
   "outputs": [],
   "source": [
    "from nltk.tokenize import word_tokenize \n",
    "\n",
    "# tokenization\n",
    "def preprocess(text):\n",
    "  formatted_text = text.lower()\n",
    "  tokens = []\n",
    "  for token in nltk.word_tokenize(formatted_text):\n",
    "    tokens.append(token)\n",
    "  tokens = [word for word in tokens if word not in stoplist and word not in string.punctuation]\n",
    "  formatted_text1 = ' '.join(element for element in tokens)\n",
    "  formatted_text2 = ''.join([i for i in formatted_text1 if not i.isdigit()])\n",
    "  return formatted_text2\n",
    "\n",
    "# remove stop words\n",
    "new['summary_without_stopw']=new['summary_without_punkt'].apply(lambda x: preprocess(x))\n",
    "\n",
    "# remove numbers\n",
    "\n",
    "new['summary_without_num']=new['summary_without_stopw'].apply(lambda x: x.replace(r'\\d+',''))\n",
    "\n",
    "# Loading model\n",
    "nlp = spacy.load('en_core_web_sm',disable=['parser', 'ner'])\n",
    "\n",
    "# Lemmatization with stopwords removal\n",
    "new['lemmatized']=new['summary_without_num'].apply(lambda x: ' '.join([token.lemma_ for token in list(nlp(x)) if (token.is_stop==False)]))\n",
    "new_text = ' '.join(new['lemmatized'].tolist())"
   ]
  },
  {
   "cell_type": "code",
   "execution_count": 118,
   "id": "690df704",
   "metadata": {},
   "outputs": [
    {
     "data": {
      "text/plain": [
       "FreqDist({'datum': 2349, 'security': 2263, 'system': 1949, 'attack': 1637, 'model': 1374, 'network': 1315, 'cyber': 1236, 'cybersecurity': 1168, 'paper': 1074, 'propose': 1040, ...})"
      ]
     },
     "execution_count": 118,
     "metadata": {},
     "output_type": "execute_result"
    }
   ],
   "source": [
    "word_frequency = nltk.FreqDist(nltk.word_tokenize(new_text))\n",
    "word_frequency"
   ]
  },
  {
   "cell_type": "code",
   "execution_count": 119,
   "id": "dd0bfbec",
   "metadata": {},
   "outputs": [],
   "source": [
    "output = pd.DataFrame(list(word_frequency.items()), columns = [\"Word\", \"Frequency\"])"
   ]
  },
  {
   "cell_type": "code",
   "execution_count": 120,
   "id": "e839b224",
   "metadata": {},
   "outputs": [],
   "source": [
    "output.to_excel(\"output.xlsx\")"
   ]
  },
  {
   "cell_type": "code",
   "execution_count": 121,
   "id": "5cf410d1",
   "metadata": {},
   "outputs": [],
   "source": [
    "new['summary_len'] = new['Summary'].apply(lambda x: len(x))"
   ]
  },
  {
   "cell_type": "code",
   "execution_count": 122,
   "id": "c75dfee9",
   "metadata": {},
   "outputs": [],
   "source": [
    "new['word_count'] = new['Summary'].apply(lambda x: len(x.split()))"
   ]
  },
  {
   "cell_type": "code",
   "execution_count": 123,
   "id": "56b4923c",
   "metadata": {},
   "outputs": [],
   "source": [
    "def get_avg_len(x):\n",
    "    words = x.split()\n",
    "    word_len = 0\n",
    "    for word in words:\n",
    "        word_len=word_len+len(word)\n",
    "    return word_len/len(words)"
   ]
  },
  {
   "cell_type": "code",
   "execution_count": 124,
   "id": "30e76530",
   "metadata": {},
   "outputs": [],
   "source": [
    "new['avg_word_len']=new['lemmatized'].apply(lambda x: get_avg_len(x))"
   ]
  },
  {
   "cell_type": "code",
   "execution_count": 125,
   "id": "10b13cc7",
   "metadata": {},
   "outputs": [
    {
     "data": {
      "text/html": [
       "<div>\n",
       "<style scoped>\n",
       "    .dataframe tbody tr th:only-of-type {\n",
       "        vertical-align: middle;\n",
       "    }\n",
       "\n",
       "    .dataframe tbody tr th {\n",
       "        vertical-align: top;\n",
       "    }\n",
       "\n",
       "    .dataframe thead th {\n",
       "        text-align: right;\n",
       "    }\n",
       "</style>\n",
       "<table border=\"1\" class=\"dataframe\">\n",
       "  <thead>\n",
       "    <tr style=\"text-align: right;\">\n",
       "      <th></th>\n",
       "      <th>Title</th>\n",
       "      <th>Authors</th>\n",
       "      <th>Summary</th>\n",
       "      <th>summary_in_lowercase</th>\n",
       "      <th>summary_without_punkt</th>\n",
       "      <th>summary_without_stopw</th>\n",
       "      <th>summary_without_num</th>\n",
       "      <th>lemmatized</th>\n",
       "      <th>summary_len</th>\n",
       "      <th>word_count</th>\n",
       "      <th>avg_word_len</th>\n",
       "    </tr>\n",
       "  </thead>\n",
       "  <tbody>\n",
       "    <tr>\n",
       "      <th>0</th>\n",
       "      <td>Cyber security and the Leviathan</td>\n",
       "      <td>['Joseph Da Silva']</td>\n",
       "      <td>Dedicated cyber-security functions are common ...</td>\n",
       "      <td>dedicated cyber-security functions are common ...</td>\n",
       "      <td>dedicated cybersecurity functions are common i...</td>\n",
       "      <td>dedicated cybersecurity functions common comme...</td>\n",
       "      <td>dedicated cybersecurity functions common comme...</td>\n",
       "      <td>dedicated cybersecurity function common commer...</td>\n",
       "      <td>1124</td>\n",
       "      <td>156</td>\n",
       "      <td>8.060241</td>\n",
       "    </tr>\n",
       "    <tr>\n",
       "      <th>1</th>\n",
       "      <td>Evaluation of Machine Learning Algorithms in N...</td>\n",
       "      <td>['Tuan-Hong Chua', 'Iftekhar Salam']</td>\n",
       "      <td>Cybersecurity has become one of the focuses of...</td>\n",
       "      <td>cybersecurity has become one of the focuses of...</td>\n",
       "      <td>cybersecurity has become one of the focuses of...</td>\n",
       "      <td>cybersecurity become one focuses organisations...</td>\n",
       "      <td>cybersecurity become one focuses organisations...</td>\n",
       "      <td>cybersecurity focus organisation number cybera...</td>\n",
       "      <td>1871</td>\n",
       "      <td>301</td>\n",
       "      <td>6.207547</td>\n",
       "    </tr>\n",
       "    <tr>\n",
       "      <th>2</th>\n",
       "      <td>Getting Critical: Making Sense of the EU Cyber...</td>\n",
       "      <td>['Ian Walden', 'Johan David Michels']</td>\n",
       "      <td>In this chapter, we review how the EU cybersec...</td>\n",
       "      <td>in this chapter, we review how the eu cybersec...</td>\n",
       "      <td>in this chapter we review how the eu cybersecu...</td>\n",
       "      <td>chapter review eu cybersecurity regulatory fra...</td>\n",
       "      <td>chapter review eu cybersecurity regulatory fra...</td>\n",
       "      <td>chapter review eu cybersecurity regulatory fra...</td>\n",
       "      <td>953</td>\n",
       "      <td>139</td>\n",
       "      <td>7.268293</td>\n",
       "    </tr>\n",
       "    <tr>\n",
       "      <th>3</th>\n",
       "      <td>Adaptative Perturbation Patterns: Realistic Ad...</td>\n",
       "      <td>['João Vitorino', 'Nuno Oliveira', 'Isabel Pra...</td>\n",
       "      <td>Adversarial attacks pose a major threat to mac...</td>\n",
       "      <td>adversarial attacks pose a major threat to mac...</td>\n",
       "      <td>adversarial attacks pose a major threat to mac...</td>\n",
       "      <td>adversarial attacks pose major threat machine ...</td>\n",
       "      <td>adversarial attacks pose major threat machine ...</td>\n",
       "      <td>adversarial attack pose major threat machine l...</td>\n",
       "      <td>1234</td>\n",
       "      <td>175</td>\n",
       "      <td>7.285714</td>\n",
       "    </tr>\n",
       "    <tr>\n",
       "      <th>4</th>\n",
       "      <td>Guidelines for cyber risk management in shipbo...</td>\n",
       "      <td>['Priyanga Rajaram', 'Mark Goh', 'Jianying Zhou']</td>\n",
       "      <td>Over the past few years, we have seen several ...</td>\n",
       "      <td>over the past few years, we have seen several ...</td>\n",
       "      <td>over the past few years we have seen several c...</td>\n",
       "      <td>past years seen several cyber incidents report...</td>\n",
       "      <td>past years seen several cyber incidents report...</td>\n",
       "      <td>past year see cyber incident report primary ca...</td>\n",
       "      <td>1202</td>\n",
       "      <td>187</td>\n",
       "      <td>6.626168</td>\n",
       "    </tr>\n",
       "  </tbody>\n",
       "</table>\n",
       "</div>"
      ],
      "text/plain": [
       "                                               Title  \\\n",
       "0                   Cyber security and the Leviathan   \n",
       "1  Evaluation of Machine Learning Algorithms in N...   \n",
       "2  Getting Critical: Making Sense of the EU Cyber...   \n",
       "3  Adaptative Perturbation Patterns: Realistic Ad...   \n",
       "4  Guidelines for cyber risk management in shipbo...   \n",
       "\n",
       "                                             Authors  \\\n",
       "0                                ['Joseph Da Silva']   \n",
       "1               ['Tuan-Hong Chua', 'Iftekhar Salam']   \n",
       "2              ['Ian Walden', 'Johan David Michels']   \n",
       "3  ['João Vitorino', 'Nuno Oliveira', 'Isabel Pra...   \n",
       "4  ['Priyanga Rajaram', 'Mark Goh', 'Jianying Zhou']   \n",
       "\n",
       "                                             Summary  \\\n",
       "0  Dedicated cyber-security functions are common ...   \n",
       "1  Cybersecurity has become one of the focuses of...   \n",
       "2  In this chapter, we review how the EU cybersec...   \n",
       "3  Adversarial attacks pose a major threat to mac...   \n",
       "4  Over the past few years, we have seen several ...   \n",
       "\n",
       "                                summary_in_lowercase  \\\n",
       "0  dedicated cyber-security functions are common ...   \n",
       "1  cybersecurity has become one of the focuses of...   \n",
       "2  in this chapter, we review how the eu cybersec...   \n",
       "3  adversarial attacks pose a major threat to mac...   \n",
       "4  over the past few years, we have seen several ...   \n",
       "\n",
       "                               summary_without_punkt  \\\n",
       "0  dedicated cybersecurity functions are common i...   \n",
       "1  cybersecurity has become one of the focuses of...   \n",
       "2  in this chapter we review how the eu cybersecu...   \n",
       "3  adversarial attacks pose a major threat to mac...   \n",
       "4  over the past few years we have seen several c...   \n",
       "\n",
       "                               summary_without_stopw  \\\n",
       "0  dedicated cybersecurity functions common comme...   \n",
       "1  cybersecurity become one focuses organisations...   \n",
       "2  chapter review eu cybersecurity regulatory fra...   \n",
       "3  adversarial attacks pose major threat machine ...   \n",
       "4  past years seen several cyber incidents report...   \n",
       "\n",
       "                                 summary_without_num  \\\n",
       "0  dedicated cybersecurity functions common comme...   \n",
       "1  cybersecurity become one focuses organisations...   \n",
       "2  chapter review eu cybersecurity regulatory fra...   \n",
       "3  adversarial attacks pose major threat machine ...   \n",
       "4  past years seen several cyber incidents report...   \n",
       "\n",
       "                                          lemmatized  summary_len  word_count  \\\n",
       "0  dedicated cybersecurity function common commer...         1124         156   \n",
       "1  cybersecurity focus organisation number cybera...         1871         301   \n",
       "2  chapter review eu cybersecurity regulatory fra...          953         139   \n",
       "3  adversarial attack pose major threat machine l...         1234         175   \n",
       "4  past year see cyber incident report primary ca...         1202         187   \n",
       "\n",
       "   avg_word_len  \n",
       "0      8.060241  \n",
       "1      6.207547  \n",
       "2      7.268293  \n",
       "3      7.285714  \n",
       "4      6.626168  "
      ]
     },
     "execution_count": 125,
     "metadata": {},
     "output_type": "execute_result"
    }
   ],
   "source": [
    "new.head()"
   ]
  },
  {
   "cell_type": "code",
   "execution_count": 126,
   "id": "5e8fdbf3",
   "metadata": {},
   "outputs": [
    {
     "data": {
      "application/vnd.plotly.v1+json": {
       "config": {
        "linkText": "Export to plot.ly",
        "plotlyServerURL": "https://plot.ly",
        "showLink": true
       },
       "data": [
        {
         "histfunc": "count",
         "histnorm": "",
         "marker": {
          "color": "rgba(219, 64, 82, 1.0)",
          "line": {
           "color": "#4D5663",
           "width": 1.3
          }
         },
         "name": "word_count",
         "nbinsx": 100,
         "opacity": 0.8,
         "orientation": "v",
         "type": "histogram",
         "x": [
          156,
          301,
          139,
          175,
          187,
          210,
          116,
          197,
          191,
          183,
          167,
          247,
          199,
          160,
          242,
          105,
          80,
          240,
          299,
          177,
          226,
          261,
          211,
          158,
          243,
          243,
          260,
          188,
          216,
          200,
          118,
          126,
          190,
          118,
          101,
          195,
          256,
          229,
          289,
          179,
          186,
          118,
          180,
          94,
          199,
          265,
          146,
          150,
          83,
          250,
          152,
          194,
          229,
          184,
          145,
          114,
          189,
          232,
          167,
          195,
          68,
          272,
          276,
          274,
          97,
          127,
          195,
          103,
          181,
          183,
          178,
          188,
          213,
          182,
          260,
          243,
          184,
          112,
          271,
          275,
          227,
          148,
          268,
          274,
          72,
          184,
          155,
          292,
          281,
          104,
          202,
          237,
          130,
          250,
          247,
          147,
          173,
          172,
          151,
          200,
          270,
          246,
          276,
          144,
          151,
          206,
          274,
          149,
          279,
          136,
          196,
          202,
          213,
          93,
          265,
          204,
          161,
          200,
          178,
          147,
          232,
          168,
          246,
          160,
          145,
          208,
          178,
          220,
          231,
          195,
          191,
          195,
          225,
          275,
          171,
          213,
          247,
          262,
          188,
          190,
          151,
          199,
          208,
          99,
          196,
          188,
          176,
          114,
          160,
          279,
          162,
          231,
          185,
          227,
          125,
          78,
          170,
          165,
          204,
          157,
          124,
          105,
          229,
          249,
          138,
          157,
          130,
          214,
          181,
          143,
          232,
          290,
          256,
          185,
          137,
          133,
          110,
          236,
          166,
          210,
          162,
          218,
          167,
          139,
          173,
          164,
          164,
          208,
          99,
          175,
          261,
          235,
          218,
          115,
          179,
          119,
          94,
          159,
          113,
          148,
          164,
          98,
          166,
          176,
          290,
          260,
          236,
          200,
          105,
          65,
          271,
          144,
          222,
          139,
          236,
          154,
          264,
          149,
          131,
          275,
          192,
          209,
          151,
          171,
          216,
          131,
          216,
          197,
          143,
          277,
          158,
          132,
          103,
          103,
          268,
          153,
          187,
          210,
          108,
          75,
          139,
          237,
          231,
          219,
          184,
          184,
          232,
          88,
          219,
          249,
          168,
          153,
          254,
          242,
          177,
          199,
          249,
          61,
          187,
          91,
          137,
          279,
          214,
          226,
          276,
          126,
          274,
          108,
          172,
          190,
          185,
          73,
          143,
          179,
          182,
          220,
          220,
          137,
          203,
          159,
          154,
          196,
          100,
          195,
          157,
          263,
          186,
          146,
          281,
          151,
          90,
          162,
          239,
          149,
          150,
          262,
          196,
          184,
          166,
          189,
          162,
          220,
          278,
          162,
          94,
          185,
          172,
          167,
          221,
          192,
          132,
          167,
          175,
          233,
          236,
          125,
          194,
          269,
          117,
          147,
          140,
          161,
          271,
          154,
          118,
          226,
          230,
          107,
          207,
          36,
          155,
          241,
          89,
          289,
          220,
          163,
          218,
          212,
          146,
          162,
          256,
          242,
          177,
          153,
          232,
          177,
          226,
          200,
          196,
          223,
          156,
          182,
          212,
          182,
          61,
          228,
          137,
          146,
          162,
          150,
          201,
          197,
          237,
          180,
          200,
          254,
          179,
          197,
          214,
          179,
          199,
          241,
          200,
          160,
          239,
          74,
          226,
          255,
          143,
          141,
          150,
          222,
          214,
          125,
          217,
          187,
          182,
          233,
          69,
          241,
          223,
          162,
          163,
          210,
          159,
          199,
          115,
          162,
          196,
          242,
          183,
          87,
          249,
          163,
          163,
          131,
          241,
          89,
          251,
          157,
          166,
          221,
          160,
          158,
          182,
          163,
          252,
          107,
          64,
          165,
          118,
          283,
          99,
          152,
          159,
          218,
          133,
          131,
          212,
          212,
          144,
          191,
          201,
          105,
          210,
          160,
          245,
          212,
          189,
          248,
          208,
          199,
          197,
          209,
          217,
          148,
          250,
          209,
          221,
          215,
          147,
          189,
          212,
          196,
          182,
          113,
          215,
          132,
          194,
          130,
          169,
          218,
          57,
          201,
          136,
          54,
          179,
          207,
          144,
          201,
          191,
          188,
          154,
          228,
          185,
          140,
          100,
          215,
          83,
          171,
          33,
          136,
          218,
          119,
          249,
          162,
          206,
          195,
          137,
          171,
          131,
          266,
          129,
          206,
          159,
          150,
          266,
          206,
          198,
          257,
          166,
          262,
          148,
          111,
          244,
          281,
          208,
          199,
          209,
          97,
          221,
          113,
          236,
          170,
          267,
          214,
          198,
          247,
          140,
          65,
          222,
          165,
          246,
          145,
          259,
          116,
          119,
          117,
          127,
          257,
          195,
          200,
          196,
          255,
          162,
          143,
          129,
          187,
          160,
          162,
          254,
          200,
          168,
          157,
          182,
          200,
          165,
          232,
          102,
          177,
          138,
          127,
          191,
          223,
          184,
          180,
          239,
          110,
          184,
          187,
          187,
          192,
          95,
          159,
          136,
          148,
          93,
          256,
          113,
          217,
          97,
          93,
          171,
          181,
          144,
          195,
          184,
          151,
          200,
          89,
          218,
          172,
          270,
          267,
          136,
          175,
          255,
          281,
          174,
          219,
          278,
          276,
          224,
          239,
          136,
          210,
          170,
          207,
          274,
          173,
          228,
          149,
          94,
          232,
          247,
          211,
          166,
          168,
          201,
          215,
          186,
          201,
          216,
          203,
          267,
          78,
          154,
          165,
          201,
          101,
          200,
          265,
          146,
          269,
          150,
          104,
          157,
          239,
          221,
          226,
          270,
          259,
          244,
          171,
          169,
          196,
          257,
          162,
          175,
          122,
          220,
          158,
          286,
          215,
          196,
          191,
          203,
          179,
          194,
          152,
          204,
          223,
          199,
          174,
          69,
          159,
          170,
          265,
          141,
          108,
          286,
          192,
          176,
          188,
          269,
          149,
          138,
          185,
          214,
          106,
          232,
          251,
          157,
          141,
          94,
          148,
          232,
          154,
          157,
          128,
          209,
          103,
          238,
          200,
          283,
          198,
          236,
          144,
          196,
          243,
          181,
          182,
          167,
          124,
          229,
          197,
          215,
          238,
          113,
          240,
          113,
          262,
          152,
          81,
          173,
          156,
          217,
          179,
          198,
          215,
          133,
          219,
          189,
          195,
          100,
          184,
          149,
          253,
          291,
          181,
          100,
          135,
          212,
          184,
          259,
          244,
          190,
          255,
          136,
          163,
          208,
          157,
          255,
          186,
          231,
          247,
          250,
          196,
          206,
          140,
          236,
          247,
          162,
          238,
          144,
          161,
          179,
          230,
          112,
          111,
          147,
          109,
          253,
          205,
          281,
          80,
          73,
          224,
          134,
          194,
          195,
          279,
          130,
          247,
          195,
          80,
          203,
          88,
          65,
          256,
          149,
          130,
          76,
          222,
          182,
          129,
          279,
          172,
          137,
          119,
          147,
          82,
          95,
          277,
          225,
          221,
          173,
          256,
          195,
          157,
          139,
          239,
          132,
          218,
          177,
          256,
          288,
          175,
          237,
          150,
          187,
          156,
          187,
          139,
          45,
          116,
          136,
          159,
          77,
          110,
          163,
          193,
          195,
          180,
          137,
          155,
          262,
          82,
          144,
          184,
          92,
          113,
          182,
          200,
          264,
          205,
          75,
          121,
          163,
          153,
          173,
          162,
          187,
          154,
          124,
          176,
          289,
          120,
          207,
          214,
          249,
          226,
          230,
          157,
          89,
          254,
          177,
          103,
          188,
          176,
          72,
          187,
          277,
          227,
          139,
          145,
          143,
          103,
          164,
          117,
          197,
          118,
          132,
          116,
          190,
          133,
          294,
          172,
          218,
          135,
          212,
          254,
          145,
          147,
          271,
          174,
          166,
          167,
          253,
          194,
          287,
          169,
          90,
          177,
          130,
          205,
          105,
          148,
          147,
          151,
          272,
          150,
          173,
          171,
          137,
          278,
          186,
          238,
          122,
          267,
          203,
          177,
          211,
          199,
          213,
          142,
          243,
          162,
          102,
          171,
          71,
          103,
          167,
          190,
          190,
          115,
          126,
          182,
          286,
          186,
          227,
          160,
          204,
          149,
          272,
          140,
          193,
          83,
          150,
          140,
          195,
          232,
          244,
          293,
          167,
          263,
          183,
          94,
          136,
          126,
          211,
          164,
          138,
          212,
          222,
          150,
          278,
          54,
          254,
          172,
          191,
          168,
          176,
          96,
          166,
          99,
          145,
          264,
          170,
          190,
          207,
          248,
          218,
          185,
          115,
          153,
          181,
          249,
          148,
          144,
          259,
          224,
          166,
          166,
          104,
          154,
          194,
          138,
          207,
          175,
          131,
          120,
          146,
          146,
          262,
          268,
          164,
          198,
          146,
          197,
          88,
          173,
          152,
          215,
          237,
          182,
          163,
          128,
          162,
          194,
          206,
          129,
          126,
          191,
          209,
          227,
          156,
          196,
          161,
          209,
          158,
          274,
          181,
          277,
          179,
          114,
          192,
          211,
          270,
          168,
          174,
          217,
          233,
          168,
          194,
          196,
          158,
          190,
          192,
          188,
          88,
          101,
          217,
          177,
          200,
          119,
          165,
          263,
          182,
          222,
          165,
          224,
          201,
          90,
          199,
          266,
          222,
          93,
          229,
          168,
          208,
          259,
          127,
          203,
          289,
          114,
          262,
          275,
          181,
          234,
          140,
          204,
          223,
          250,
          152,
          175,
          156,
          192,
          7,
          143,
          153,
          135,
          160,
          217,
          220,
          200,
          258,
          163,
          215,
          170,
          199,
          88,
          129,
          216,
          213,
          215,
          194,
          241,
          179,
          286,
          242,
          285,
          220,
          180,
          157,
          212,
          195,
          143,
          132,
          174,
          193,
          118,
          224,
          235,
          212,
          148,
          207,
          160,
          166,
          157,
          137,
          115,
          117,
          188,
          120,
          176,
          166,
          138,
          180,
          124,
          126,
          99,
          238,
          178,
          98,
          126,
          181,
          179,
          226,
          183,
          135,
          242,
          139,
          222,
          170,
          208,
          59,
          204,
          89,
          150,
          206,
          131,
          210,
          147,
          114,
          133,
          197,
          145,
          198,
          191,
          129,
          224,
          135,
          202,
          156,
          74,
          155,
          23,
          89,
          116,
          234,
          126,
          157,
          189,
          123,
          161,
          282,
          277,
          139,
          190,
          190,
          154,
          243,
          215,
          198,
          123,
          146,
          236,
          110,
          188,
          233,
          143,
          187,
          195,
          171,
          156,
          155,
          249,
          182,
          171,
          276,
          293,
          163,
          235,
          258,
          200,
          253,
          116,
          197,
          210,
          240,
          151,
          143,
          159,
          150,
          197,
          190,
          159,
          162,
          178,
          131,
          197,
          121,
          241,
          159,
          293,
          121,
          171,
          214,
          152,
          175,
          191,
          94,
          116,
          178,
          190,
          120,
          89,
          284,
          122,
          136,
          257,
          181,
          147,
          264,
          223,
          236,
          249,
          191,
          193,
          135,
          204,
          97,
          215,
          172,
          107,
          153,
          183,
          140,
          176,
          213,
          149,
          236,
          257,
          153,
          195,
          131,
          197,
          214,
          153,
          140,
          157,
          126,
          118,
          163,
          205,
          187,
          139,
          95,
          198,
          87,
          168,
          230,
          95,
          141,
          185,
          169,
          66,
          282,
          179,
          94,
          198,
          170,
          149,
          181,
          219,
          162,
          232,
          137,
          154,
          253,
          227,
          142,
          188,
          92,
          158,
          116,
          120,
          121,
          249,
          147,
          268,
          194,
          165,
          117,
          99,
          198,
          285,
          171,
          182,
          205,
          179,
          132,
          235,
          180,
          170,
          202,
          109,
          146,
          150,
          206,
          279,
          159,
          120,
          83,
          198,
          141,
          273,
          208,
          206,
          197,
          264,
          112,
          46,
          172,
          259,
          97,
          164,
          240,
          194,
          260,
          227,
          178,
          177,
          169,
          133,
          274,
          247,
          276,
          128,
          98,
          163,
          141,
          156,
          157,
          235,
          108,
          199,
          237,
          152,
          218,
          218,
          182,
          91,
          267,
          147,
          173,
          193,
          190,
          149,
          185,
          253,
          221,
          150,
          277,
          175,
          108,
          149,
          238,
          242,
          167,
          213,
          191,
          116,
          139,
          118,
          113,
          226,
          201,
          168,
          179,
          119,
          282,
          255,
          194,
          183,
          203,
          162,
          182,
          203,
          199,
          126,
          112,
          151,
          151,
          122,
          95,
          48,
          105,
          193,
          181,
          179,
          143,
          194,
          212,
          153,
          141,
          272,
          124,
          127,
          252,
          209,
          167,
          205,
          146,
          220,
          111,
          172,
          99,
          231,
          160,
          219,
          167,
          143,
          277,
          179,
          171,
          156,
          195,
          131,
          166,
          271,
          62,
          200,
          146,
          135,
          62,
          165,
          151,
          250,
          181,
          127,
          112,
          46,
          242,
          273,
          187,
          82,
          162,
          236,
          114,
          196,
          179,
          228,
          228,
          142,
          201,
          165,
          107,
          169,
          278,
          164,
          144,
          233,
          129,
          125,
          100,
          143,
          171,
          147,
          178,
          224,
          156,
          194,
          269,
          106,
          263,
          243,
          196,
          193,
          187,
          200,
          233,
          250,
          163,
          150,
          124,
          214,
          174,
          199,
          82,
          138,
          180,
          134,
          192,
          136,
          147,
          110,
          122,
          305,
          152,
          132,
          86,
          155,
          99,
          245,
          128,
          229,
          59,
          135,
          132,
          147,
          127,
          214,
          172,
          208,
          127,
          118,
          155,
          205,
          144,
          209,
          175,
          211,
          223,
          294,
          258,
          214,
          274,
          148,
          160,
          95,
          198,
          161,
          154,
          204,
          115,
          205,
          182,
          168,
          229,
          117,
          200,
          205,
          150,
          183,
          187,
          180,
          26,
          227,
          136,
          95,
          122,
          147,
          180,
          246,
          106,
          218,
          102,
          202,
          121,
          138,
          131,
          88,
          209,
          111,
          157,
          149,
          122,
          149,
          193,
          99,
          237,
          156,
          9,
          17,
          144,
          184,
          200,
          251,
          91,
          207,
          106,
          72,
          188,
          158,
          112,
          145,
          121,
          140,
          124,
          252,
          191,
          164,
          145,
          136,
          133,
          185,
          92,
          217,
          185,
          133,
          210,
          128,
          116,
          127,
          85,
          75,
          135,
          114,
          173,
          99,
          143,
          239,
          194,
          216,
          244,
          233,
          228,
          222,
          167,
          119,
          115,
          133,
          102,
          153,
          94,
          234,
          229,
          217,
          139,
          167,
          66,
          148,
          207,
          106,
          216,
          181,
          232,
          192,
          145,
          186,
          107,
          156,
          134,
          185,
          100,
          181,
          148,
          72,
          147,
          90,
          133,
          196,
          105,
          252,
          234,
          101,
          210,
          192,
          224,
          180,
          86,
          162,
          318,
          218,
          185,
          117,
          235,
          189,
          107,
          128,
          183,
          142,
          78,
          241,
          124,
          51,
          150,
          95,
          126,
          81,
          111,
          205,
          111,
          143,
          205,
          192,
          196,
          263,
          234,
          168,
          199,
          57,
          166,
          130,
          119,
          118,
          134,
          123,
          131,
          75
         ]
        }
       ],
       "layout": {
        "barmode": "overlay",
        "legend": {
         "bgcolor": "#F5F6F9",
         "font": {
          "color": "#4D5663"
         }
        },
        "paper_bgcolor": "#F5F6F9",
        "plot_bgcolor": "#F5F6F9",
        "template": {
         "data": {
          "bar": [
           {
            "error_x": {
             "color": "#2a3f5f"
            },
            "error_y": {
             "color": "#2a3f5f"
            },
            "marker": {
             "line": {
              "color": "#E5ECF6",
              "width": 0.5
             },
             "pattern": {
              "fillmode": "overlay",
              "size": 10,
              "solidity": 0.2
             }
            },
            "type": "bar"
           }
          ],
          "barpolar": [
           {
            "marker": {
             "line": {
              "color": "#E5ECF6",
              "width": 0.5
             },
             "pattern": {
              "fillmode": "overlay",
              "size": 10,
              "solidity": 0.2
             }
            },
            "type": "barpolar"
           }
          ],
          "carpet": [
           {
            "aaxis": {
             "endlinecolor": "#2a3f5f",
             "gridcolor": "white",
             "linecolor": "white",
             "minorgridcolor": "white",
             "startlinecolor": "#2a3f5f"
            },
            "baxis": {
             "endlinecolor": "#2a3f5f",
             "gridcolor": "white",
             "linecolor": "white",
             "minorgridcolor": "white",
             "startlinecolor": "#2a3f5f"
            },
            "type": "carpet"
           }
          ],
          "choropleth": [
           {
            "colorbar": {
             "outlinewidth": 0,
             "ticks": ""
            },
            "type": "choropleth"
           }
          ],
          "contour": [
           {
            "colorbar": {
             "outlinewidth": 0,
             "ticks": ""
            },
            "colorscale": [
             [
              0,
              "#0d0887"
             ],
             [
              0.1111111111111111,
              "#46039f"
             ],
             [
              0.2222222222222222,
              "#7201a8"
             ],
             [
              0.3333333333333333,
              "#9c179e"
             ],
             [
              0.4444444444444444,
              "#bd3786"
             ],
             [
              0.5555555555555556,
              "#d8576b"
             ],
             [
              0.6666666666666666,
              "#ed7953"
             ],
             [
              0.7777777777777778,
              "#fb9f3a"
             ],
             [
              0.8888888888888888,
              "#fdca26"
             ],
             [
              1,
              "#f0f921"
             ]
            ],
            "type": "contour"
           }
          ],
          "contourcarpet": [
           {
            "colorbar": {
             "outlinewidth": 0,
             "ticks": ""
            },
            "type": "contourcarpet"
           }
          ],
          "heatmap": [
           {
            "colorbar": {
             "outlinewidth": 0,
             "ticks": ""
            },
            "colorscale": [
             [
              0,
              "#0d0887"
             ],
             [
              0.1111111111111111,
              "#46039f"
             ],
             [
              0.2222222222222222,
              "#7201a8"
             ],
             [
              0.3333333333333333,
              "#9c179e"
             ],
             [
              0.4444444444444444,
              "#bd3786"
             ],
             [
              0.5555555555555556,
              "#d8576b"
             ],
             [
              0.6666666666666666,
              "#ed7953"
             ],
             [
              0.7777777777777778,
              "#fb9f3a"
             ],
             [
              0.8888888888888888,
              "#fdca26"
             ],
             [
              1,
              "#f0f921"
             ]
            ],
            "type": "heatmap"
           }
          ],
          "heatmapgl": [
           {
            "colorbar": {
             "outlinewidth": 0,
             "ticks": ""
            },
            "colorscale": [
             [
              0,
              "#0d0887"
             ],
             [
              0.1111111111111111,
              "#46039f"
             ],
             [
              0.2222222222222222,
              "#7201a8"
             ],
             [
              0.3333333333333333,
              "#9c179e"
             ],
             [
              0.4444444444444444,
              "#bd3786"
             ],
             [
              0.5555555555555556,
              "#d8576b"
             ],
             [
              0.6666666666666666,
              "#ed7953"
             ],
             [
              0.7777777777777778,
              "#fb9f3a"
             ],
             [
              0.8888888888888888,
              "#fdca26"
             ],
             [
              1,
              "#f0f921"
             ]
            ],
            "type": "heatmapgl"
           }
          ],
          "histogram": [
           {
            "marker": {
             "pattern": {
              "fillmode": "overlay",
              "size": 10,
              "solidity": 0.2
             }
            },
            "type": "histogram"
           }
          ],
          "histogram2d": [
           {
            "colorbar": {
             "outlinewidth": 0,
             "ticks": ""
            },
            "colorscale": [
             [
              0,
              "#0d0887"
             ],
             [
              0.1111111111111111,
              "#46039f"
             ],
             [
              0.2222222222222222,
              "#7201a8"
             ],
             [
              0.3333333333333333,
              "#9c179e"
             ],
             [
              0.4444444444444444,
              "#bd3786"
             ],
             [
              0.5555555555555556,
              "#d8576b"
             ],
             [
              0.6666666666666666,
              "#ed7953"
             ],
             [
              0.7777777777777778,
              "#fb9f3a"
             ],
             [
              0.8888888888888888,
              "#fdca26"
             ],
             [
              1,
              "#f0f921"
             ]
            ],
            "type": "histogram2d"
           }
          ],
          "histogram2dcontour": [
           {
            "colorbar": {
             "outlinewidth": 0,
             "ticks": ""
            },
            "colorscale": [
             [
              0,
              "#0d0887"
             ],
             [
              0.1111111111111111,
              "#46039f"
             ],
             [
              0.2222222222222222,
              "#7201a8"
             ],
             [
              0.3333333333333333,
              "#9c179e"
             ],
             [
              0.4444444444444444,
              "#bd3786"
             ],
             [
              0.5555555555555556,
              "#d8576b"
             ],
             [
              0.6666666666666666,
              "#ed7953"
             ],
             [
              0.7777777777777778,
              "#fb9f3a"
             ],
             [
              0.8888888888888888,
              "#fdca26"
             ],
             [
              1,
              "#f0f921"
             ]
            ],
            "type": "histogram2dcontour"
           }
          ],
          "mesh3d": [
           {
            "colorbar": {
             "outlinewidth": 0,
             "ticks": ""
            },
            "type": "mesh3d"
           }
          ],
          "parcoords": [
           {
            "line": {
             "colorbar": {
              "outlinewidth": 0,
              "ticks": ""
             }
            },
            "type": "parcoords"
           }
          ],
          "pie": [
           {
            "automargin": true,
            "type": "pie"
           }
          ],
          "scatter": [
           {
            "marker": {
             "colorbar": {
              "outlinewidth": 0,
              "ticks": ""
             }
            },
            "type": "scatter"
           }
          ],
          "scatter3d": [
           {
            "line": {
             "colorbar": {
              "outlinewidth": 0,
              "ticks": ""
             }
            },
            "marker": {
             "colorbar": {
              "outlinewidth": 0,
              "ticks": ""
             }
            },
            "type": "scatter3d"
           }
          ],
          "scattercarpet": [
           {
            "marker": {
             "colorbar": {
              "outlinewidth": 0,
              "ticks": ""
             }
            },
            "type": "scattercarpet"
           }
          ],
          "scattergeo": [
           {
            "marker": {
             "colorbar": {
              "outlinewidth": 0,
              "ticks": ""
             }
            },
            "type": "scattergeo"
           }
          ],
          "scattergl": [
           {
            "marker": {
             "colorbar": {
              "outlinewidth": 0,
              "ticks": ""
             }
            },
            "type": "scattergl"
           }
          ],
          "scattermapbox": [
           {
            "marker": {
             "colorbar": {
              "outlinewidth": 0,
              "ticks": ""
             }
            },
            "type": "scattermapbox"
           }
          ],
          "scatterpolar": [
           {
            "marker": {
             "colorbar": {
              "outlinewidth": 0,
              "ticks": ""
             }
            },
            "type": "scatterpolar"
           }
          ],
          "scatterpolargl": [
           {
            "marker": {
             "colorbar": {
              "outlinewidth": 0,
              "ticks": ""
             }
            },
            "type": "scatterpolargl"
           }
          ],
          "scatterternary": [
           {
            "marker": {
             "colorbar": {
              "outlinewidth": 0,
              "ticks": ""
             }
            },
            "type": "scatterternary"
           }
          ],
          "surface": [
           {
            "colorbar": {
             "outlinewidth": 0,
             "ticks": ""
            },
            "colorscale": [
             [
              0,
              "#0d0887"
             ],
             [
              0.1111111111111111,
              "#46039f"
             ],
             [
              0.2222222222222222,
              "#7201a8"
             ],
             [
              0.3333333333333333,
              "#9c179e"
             ],
             [
              0.4444444444444444,
              "#bd3786"
             ],
             [
              0.5555555555555556,
              "#d8576b"
             ],
             [
              0.6666666666666666,
              "#ed7953"
             ],
             [
              0.7777777777777778,
              "#fb9f3a"
             ],
             [
              0.8888888888888888,
              "#fdca26"
             ],
             [
              1,
              "#f0f921"
             ]
            ],
            "type": "surface"
           }
          ],
          "table": [
           {
            "cells": {
             "fill": {
              "color": "#EBF0F8"
             },
             "line": {
              "color": "white"
             }
            },
            "header": {
             "fill": {
              "color": "#C8D4E3"
             },
             "line": {
              "color": "white"
             }
            },
            "type": "table"
           }
          ]
         },
         "layout": {
          "annotationdefaults": {
           "arrowcolor": "#2a3f5f",
           "arrowhead": 0,
           "arrowwidth": 1
          },
          "autotypenumbers": "strict",
          "coloraxis": {
           "colorbar": {
            "outlinewidth": 0,
            "ticks": ""
           }
          },
          "colorscale": {
           "diverging": [
            [
             0,
             "#8e0152"
            ],
            [
             0.1,
             "#c51b7d"
            ],
            [
             0.2,
             "#de77ae"
            ],
            [
             0.3,
             "#f1b6da"
            ],
            [
             0.4,
             "#fde0ef"
            ],
            [
             0.5,
             "#f7f7f7"
            ],
            [
             0.6,
             "#e6f5d0"
            ],
            [
             0.7,
             "#b8e186"
            ],
            [
             0.8,
             "#7fbc41"
            ],
            [
             0.9,
             "#4d9221"
            ],
            [
             1,
             "#276419"
            ]
           ],
           "sequential": [
            [
             0,
             "#0d0887"
            ],
            [
             0.1111111111111111,
             "#46039f"
            ],
            [
             0.2222222222222222,
             "#7201a8"
            ],
            [
             0.3333333333333333,
             "#9c179e"
            ],
            [
             0.4444444444444444,
             "#bd3786"
            ],
            [
             0.5555555555555556,
             "#d8576b"
            ],
            [
             0.6666666666666666,
             "#ed7953"
            ],
            [
             0.7777777777777778,
             "#fb9f3a"
            ],
            [
             0.8888888888888888,
             "#fdca26"
            ],
            [
             1,
             "#f0f921"
            ]
           ],
           "sequentialminus": [
            [
             0,
             "#0d0887"
            ],
            [
             0.1111111111111111,
             "#46039f"
            ],
            [
             0.2222222222222222,
             "#7201a8"
            ],
            [
             0.3333333333333333,
             "#9c179e"
            ],
            [
             0.4444444444444444,
             "#bd3786"
            ],
            [
             0.5555555555555556,
             "#d8576b"
            ],
            [
             0.6666666666666666,
             "#ed7953"
            ],
            [
             0.7777777777777778,
             "#fb9f3a"
            ],
            [
             0.8888888888888888,
             "#fdca26"
            ],
            [
             1,
             "#f0f921"
            ]
           ]
          },
          "colorway": [
           "#636efa",
           "#EF553B",
           "#00cc96",
           "#ab63fa",
           "#FFA15A",
           "#19d3f3",
           "#FF6692",
           "#B6E880",
           "#FF97FF",
           "#FECB52"
          ],
          "font": {
           "color": "#2a3f5f"
          },
          "geo": {
           "bgcolor": "white",
           "lakecolor": "white",
           "landcolor": "#E5ECF6",
           "showlakes": true,
           "showland": true,
           "subunitcolor": "white"
          },
          "hoverlabel": {
           "align": "left"
          },
          "hovermode": "closest",
          "mapbox": {
           "style": "light"
          },
          "paper_bgcolor": "white",
          "plot_bgcolor": "#E5ECF6",
          "polar": {
           "angularaxis": {
            "gridcolor": "white",
            "linecolor": "white",
            "ticks": ""
           },
           "bgcolor": "#E5ECF6",
           "radialaxis": {
            "gridcolor": "white",
            "linecolor": "white",
            "ticks": ""
           }
          },
          "scene": {
           "xaxis": {
            "backgroundcolor": "#E5ECF6",
            "gridcolor": "white",
            "gridwidth": 2,
            "linecolor": "white",
            "showbackground": true,
            "ticks": "",
            "zerolinecolor": "white"
           },
           "yaxis": {
            "backgroundcolor": "#E5ECF6",
            "gridcolor": "white",
            "gridwidth": 2,
            "linecolor": "white",
            "showbackground": true,
            "ticks": "",
            "zerolinecolor": "white"
           },
           "zaxis": {
            "backgroundcolor": "#E5ECF6",
            "gridcolor": "white",
            "gridwidth": 2,
            "linecolor": "white",
            "showbackground": true,
            "ticks": "",
            "zerolinecolor": "white"
           }
          },
          "shapedefaults": {
           "line": {
            "color": "#2a3f5f"
           }
          },
          "ternary": {
           "aaxis": {
            "gridcolor": "white",
            "linecolor": "white",
            "ticks": ""
           },
           "baxis": {
            "gridcolor": "white",
            "linecolor": "white",
            "ticks": ""
           },
           "bgcolor": "#E5ECF6",
           "caxis": {
            "gridcolor": "white",
            "linecolor": "white",
            "ticks": ""
           }
          },
          "title": {
           "x": 0.05
          },
          "xaxis": {
           "automargin": true,
           "gridcolor": "white",
           "linecolor": "white",
           "ticks": "",
           "title": {
            "standoff": 15
           },
           "zerolinecolor": "white",
           "zerolinewidth": 2
          },
          "yaxis": {
           "automargin": true,
           "gridcolor": "white",
           "linecolor": "white",
           "ticks": "",
           "title": {
            "standoff": 15
           },
           "zerolinecolor": "white",
           "zerolinewidth": 2
          }
         }
        },
        "title": {
         "font": {
          "color": "#4D5663"
         },
         "text": "Word Count Distribution"
        },
        "xaxis": {
         "gridcolor": "#E1E5ED",
         "showgrid": true,
         "tickfont": {
          "color": "#4D5663"
         },
         "title": {
          "font": {
           "color": "#4D5663"
          },
          "text": "Word Count"
         },
         "zerolinecolor": "#E1E5ED"
        },
        "yaxis": {
         "gridcolor": "#E1E5ED",
         "showgrid": true,
         "tickfont": {
          "color": "#4D5663"
         },
         "title": {
          "font": {
           "color": "#4D5663"
          },
          "text": "Count"
         },
         "zerolinecolor": "#E1E5ED"
        }
       }
      },
      "text/html": [
       "<div>                            <div id=\"66c87cb7-3ef9-43c7-9b16-082b844c3328\" class=\"plotly-graph-div\" style=\"height:525px; width:100%;\"></div>            <script type=\"text/javascript\">                require([\"plotly\"], function(Plotly) {                    window.PLOTLYENV=window.PLOTLYENV || {};\n",
       "                    window.PLOTLYENV.BASE_URL='https://plot.ly';                                    if (document.getElementById(\"66c87cb7-3ef9-43c7-9b16-082b844c3328\")) {                    Plotly.newPlot(                        \"66c87cb7-3ef9-43c7-9b16-082b844c3328\",                        [{\"histfunc\":\"count\",\"histnorm\":\"\",\"marker\":{\"color\":\"rgba(219, 64, 82, 1.0)\",\"line\":{\"color\":\"#4D5663\",\"width\":1.3}},\"name\":\"word_count\",\"nbinsx\":100,\"opacity\":0.8,\"orientation\":\"v\",\"x\":[156,301,139,175,187,210,116,197,191,183,167,247,199,160,242,105,80,240,299,177,226,261,211,158,243,243,260,188,216,200,118,126,190,118,101,195,256,229,289,179,186,118,180,94,199,265,146,150,83,250,152,194,229,184,145,114,189,232,167,195,68,272,276,274,97,127,195,103,181,183,178,188,213,182,260,243,184,112,271,275,227,148,268,274,72,184,155,292,281,104,202,237,130,250,247,147,173,172,151,200,270,246,276,144,151,206,274,149,279,136,196,202,213,93,265,204,161,200,178,147,232,168,246,160,145,208,178,220,231,195,191,195,225,275,171,213,247,262,188,190,151,199,208,99,196,188,176,114,160,279,162,231,185,227,125,78,170,165,204,157,124,105,229,249,138,157,130,214,181,143,232,290,256,185,137,133,110,236,166,210,162,218,167,139,173,164,164,208,99,175,261,235,218,115,179,119,94,159,113,148,164,98,166,176,290,260,236,200,105,65,271,144,222,139,236,154,264,149,131,275,192,209,151,171,216,131,216,197,143,277,158,132,103,103,268,153,187,210,108,75,139,237,231,219,184,184,232,88,219,249,168,153,254,242,177,199,249,61,187,91,137,279,214,226,276,126,274,108,172,190,185,73,143,179,182,220,220,137,203,159,154,196,100,195,157,263,186,146,281,151,90,162,239,149,150,262,196,184,166,189,162,220,278,162,94,185,172,167,221,192,132,167,175,233,236,125,194,269,117,147,140,161,271,154,118,226,230,107,207,36,155,241,89,289,220,163,218,212,146,162,256,242,177,153,232,177,226,200,196,223,156,182,212,182,61,228,137,146,162,150,201,197,237,180,200,254,179,197,214,179,199,241,200,160,239,74,226,255,143,141,150,222,214,125,217,187,182,233,69,241,223,162,163,210,159,199,115,162,196,242,183,87,249,163,163,131,241,89,251,157,166,221,160,158,182,163,252,107,64,165,118,283,99,152,159,218,133,131,212,212,144,191,201,105,210,160,245,212,189,248,208,199,197,209,217,148,250,209,221,215,147,189,212,196,182,113,215,132,194,130,169,218,57,201,136,54,179,207,144,201,191,188,154,228,185,140,100,215,83,171,33,136,218,119,249,162,206,195,137,171,131,266,129,206,159,150,266,206,198,257,166,262,148,111,244,281,208,199,209,97,221,113,236,170,267,214,198,247,140,65,222,165,246,145,259,116,119,117,127,257,195,200,196,255,162,143,129,187,160,162,254,200,168,157,182,200,165,232,102,177,138,127,191,223,184,180,239,110,184,187,187,192,95,159,136,148,93,256,113,217,97,93,171,181,144,195,184,151,200,89,218,172,270,267,136,175,255,281,174,219,278,276,224,239,136,210,170,207,274,173,228,149,94,232,247,211,166,168,201,215,186,201,216,203,267,78,154,165,201,101,200,265,146,269,150,104,157,239,221,226,270,259,244,171,169,196,257,162,175,122,220,158,286,215,196,191,203,179,194,152,204,223,199,174,69,159,170,265,141,108,286,192,176,188,269,149,138,185,214,106,232,251,157,141,94,148,232,154,157,128,209,103,238,200,283,198,236,144,196,243,181,182,167,124,229,197,215,238,113,240,113,262,152,81,173,156,217,179,198,215,133,219,189,195,100,184,149,253,291,181,100,135,212,184,259,244,190,255,136,163,208,157,255,186,231,247,250,196,206,140,236,247,162,238,144,161,179,230,112,111,147,109,253,205,281,80,73,224,134,194,195,279,130,247,195,80,203,88,65,256,149,130,76,222,182,129,279,172,137,119,147,82,95,277,225,221,173,256,195,157,139,239,132,218,177,256,288,175,237,150,187,156,187,139,45,116,136,159,77,110,163,193,195,180,137,155,262,82,144,184,92,113,182,200,264,205,75,121,163,153,173,162,187,154,124,176,289,120,207,214,249,226,230,157,89,254,177,103,188,176,72,187,277,227,139,145,143,103,164,117,197,118,132,116,190,133,294,172,218,135,212,254,145,147,271,174,166,167,253,194,287,169,90,177,130,205,105,148,147,151,272,150,173,171,137,278,186,238,122,267,203,177,211,199,213,142,243,162,102,171,71,103,167,190,190,115,126,182,286,186,227,160,204,149,272,140,193,83,150,140,195,232,244,293,167,263,183,94,136,126,211,164,138,212,222,150,278,54,254,172,191,168,176,96,166,99,145,264,170,190,207,248,218,185,115,153,181,249,148,144,259,224,166,166,104,154,194,138,207,175,131,120,146,146,262,268,164,198,146,197,88,173,152,215,237,182,163,128,162,194,206,129,126,191,209,227,156,196,161,209,158,274,181,277,179,114,192,211,270,168,174,217,233,168,194,196,158,190,192,188,88,101,217,177,200,119,165,263,182,222,165,224,201,90,199,266,222,93,229,168,208,259,127,203,289,114,262,275,181,234,140,204,223,250,152,175,156,192,7,143,153,135,160,217,220,200,258,163,215,170,199,88,129,216,213,215,194,241,179,286,242,285,220,180,157,212,195,143,132,174,193,118,224,235,212,148,207,160,166,157,137,115,117,188,120,176,166,138,180,124,126,99,238,178,98,126,181,179,226,183,135,242,139,222,170,208,59,204,89,150,206,131,210,147,114,133,197,145,198,191,129,224,135,202,156,74,155,23,89,116,234,126,157,189,123,161,282,277,139,190,190,154,243,215,198,123,146,236,110,188,233,143,187,195,171,156,155,249,182,171,276,293,163,235,258,200,253,116,197,210,240,151,143,159,150,197,190,159,162,178,131,197,121,241,159,293,121,171,214,152,175,191,94,116,178,190,120,89,284,122,136,257,181,147,264,223,236,249,191,193,135,204,97,215,172,107,153,183,140,176,213,149,236,257,153,195,131,197,214,153,140,157,126,118,163,205,187,139,95,198,87,168,230,95,141,185,169,66,282,179,94,198,170,149,181,219,162,232,137,154,253,227,142,188,92,158,116,120,121,249,147,268,194,165,117,99,198,285,171,182,205,179,132,235,180,170,202,109,146,150,206,279,159,120,83,198,141,273,208,206,197,264,112,46,172,259,97,164,240,194,260,227,178,177,169,133,274,247,276,128,98,163,141,156,157,235,108,199,237,152,218,218,182,91,267,147,173,193,190,149,185,253,221,150,277,175,108,149,238,242,167,213,191,116,139,118,113,226,201,168,179,119,282,255,194,183,203,162,182,203,199,126,112,151,151,122,95,48,105,193,181,179,143,194,212,153,141,272,124,127,252,209,167,205,146,220,111,172,99,231,160,219,167,143,277,179,171,156,195,131,166,271,62,200,146,135,62,165,151,250,181,127,112,46,242,273,187,82,162,236,114,196,179,228,228,142,201,165,107,169,278,164,144,233,129,125,100,143,171,147,178,224,156,194,269,106,263,243,196,193,187,200,233,250,163,150,124,214,174,199,82,138,180,134,192,136,147,110,122,305,152,132,86,155,99,245,128,229,59,135,132,147,127,214,172,208,127,118,155,205,144,209,175,211,223,294,258,214,274,148,160,95,198,161,154,204,115,205,182,168,229,117,200,205,150,183,187,180,26,227,136,95,122,147,180,246,106,218,102,202,121,138,131,88,209,111,157,149,122,149,193,99,237,156,9,17,144,184,200,251,91,207,106,72,188,158,112,145,121,140,124,252,191,164,145,136,133,185,92,217,185,133,210,128,116,127,85,75,135,114,173,99,143,239,194,216,244,233,228,222,167,119,115,133,102,153,94,234,229,217,139,167,66,148,207,106,216,181,232,192,145,186,107,156,134,185,100,181,148,72,147,90,133,196,105,252,234,101,210,192,224,180,86,162,318,218,185,117,235,189,107,128,183,142,78,241,124,51,150,95,126,81,111,205,111,143,205,192,196,263,234,168,199,57,166,130,119,118,134,123,131,75],\"type\":\"histogram\"}],                        {\"barmode\":\"overlay\",\"legend\":{\"bgcolor\":\"#F5F6F9\",\"font\":{\"color\":\"#4D5663\"}},\"paper_bgcolor\":\"#F5F6F9\",\"plot_bgcolor\":\"#F5F6F9\",\"template\":{\"data\":{\"barpolar\":[{\"marker\":{\"line\":{\"color\":\"#E5ECF6\",\"width\":0.5},\"pattern\":{\"fillmode\":\"overlay\",\"size\":10,\"solidity\":0.2}},\"type\":\"barpolar\"}],\"bar\":[{\"error_x\":{\"color\":\"#2a3f5f\"},\"error_y\":{\"color\":\"#2a3f5f\"},\"marker\":{\"line\":{\"color\":\"#E5ECF6\",\"width\":0.5},\"pattern\":{\"fillmode\":\"overlay\",\"size\":10,\"solidity\":0.2}},\"type\":\"bar\"}],\"carpet\":[{\"aaxis\":{\"endlinecolor\":\"#2a3f5f\",\"gridcolor\":\"white\",\"linecolor\":\"white\",\"minorgridcolor\":\"white\",\"startlinecolor\":\"#2a3f5f\"},\"baxis\":{\"endlinecolor\":\"#2a3f5f\",\"gridcolor\":\"white\",\"linecolor\":\"white\",\"minorgridcolor\":\"white\",\"startlinecolor\":\"#2a3f5f\"},\"type\":\"carpet\"}],\"choropleth\":[{\"colorbar\":{\"outlinewidth\":0,\"ticks\":\"\"},\"type\":\"choropleth\"}],\"contourcarpet\":[{\"colorbar\":{\"outlinewidth\":0,\"ticks\":\"\"},\"type\":\"contourcarpet\"}],\"contour\":[{\"colorbar\":{\"outlinewidth\":0,\"ticks\":\"\"},\"colorscale\":[[0.0,\"#0d0887\"],[0.1111111111111111,\"#46039f\"],[0.2222222222222222,\"#7201a8\"],[0.3333333333333333,\"#9c179e\"],[0.4444444444444444,\"#bd3786\"],[0.5555555555555556,\"#d8576b\"],[0.6666666666666666,\"#ed7953\"],[0.7777777777777778,\"#fb9f3a\"],[0.8888888888888888,\"#fdca26\"],[1.0,\"#f0f921\"]],\"type\":\"contour\"}],\"heatmapgl\":[{\"colorbar\":{\"outlinewidth\":0,\"ticks\":\"\"},\"colorscale\":[[0.0,\"#0d0887\"],[0.1111111111111111,\"#46039f\"],[0.2222222222222222,\"#7201a8\"],[0.3333333333333333,\"#9c179e\"],[0.4444444444444444,\"#bd3786\"],[0.5555555555555556,\"#d8576b\"],[0.6666666666666666,\"#ed7953\"],[0.7777777777777778,\"#fb9f3a\"],[0.8888888888888888,\"#fdca26\"],[1.0,\"#f0f921\"]],\"type\":\"heatmapgl\"}],\"heatmap\":[{\"colorbar\":{\"outlinewidth\":0,\"ticks\":\"\"},\"colorscale\":[[0.0,\"#0d0887\"],[0.1111111111111111,\"#46039f\"],[0.2222222222222222,\"#7201a8\"],[0.3333333333333333,\"#9c179e\"],[0.4444444444444444,\"#bd3786\"],[0.5555555555555556,\"#d8576b\"],[0.6666666666666666,\"#ed7953\"],[0.7777777777777778,\"#fb9f3a\"],[0.8888888888888888,\"#fdca26\"],[1.0,\"#f0f921\"]],\"type\":\"heatmap\"}],\"histogram2dcontour\":[{\"colorbar\":{\"outlinewidth\":0,\"ticks\":\"\"},\"colorscale\":[[0.0,\"#0d0887\"],[0.1111111111111111,\"#46039f\"],[0.2222222222222222,\"#7201a8\"],[0.3333333333333333,\"#9c179e\"],[0.4444444444444444,\"#bd3786\"],[0.5555555555555556,\"#d8576b\"],[0.6666666666666666,\"#ed7953\"],[0.7777777777777778,\"#fb9f3a\"],[0.8888888888888888,\"#fdca26\"],[1.0,\"#f0f921\"]],\"type\":\"histogram2dcontour\"}],\"histogram2d\":[{\"colorbar\":{\"outlinewidth\":0,\"ticks\":\"\"},\"colorscale\":[[0.0,\"#0d0887\"],[0.1111111111111111,\"#46039f\"],[0.2222222222222222,\"#7201a8\"],[0.3333333333333333,\"#9c179e\"],[0.4444444444444444,\"#bd3786\"],[0.5555555555555556,\"#d8576b\"],[0.6666666666666666,\"#ed7953\"],[0.7777777777777778,\"#fb9f3a\"],[0.8888888888888888,\"#fdca26\"],[1.0,\"#f0f921\"]],\"type\":\"histogram2d\"}],\"histogram\":[{\"marker\":{\"pattern\":{\"fillmode\":\"overlay\",\"size\":10,\"solidity\":0.2}},\"type\":\"histogram\"}],\"mesh3d\":[{\"colorbar\":{\"outlinewidth\":0,\"ticks\":\"\"},\"type\":\"mesh3d\"}],\"parcoords\":[{\"line\":{\"colorbar\":{\"outlinewidth\":0,\"ticks\":\"\"}},\"type\":\"parcoords\"}],\"pie\":[{\"automargin\":true,\"type\":\"pie\"}],\"scatter3d\":[{\"line\":{\"colorbar\":{\"outlinewidth\":0,\"ticks\":\"\"}},\"marker\":{\"colorbar\":{\"outlinewidth\":0,\"ticks\":\"\"}},\"type\":\"scatter3d\"}],\"scattercarpet\":[{\"marker\":{\"colorbar\":{\"outlinewidth\":0,\"ticks\":\"\"}},\"type\":\"scattercarpet\"}],\"scattergeo\":[{\"marker\":{\"colorbar\":{\"outlinewidth\":0,\"ticks\":\"\"}},\"type\":\"scattergeo\"}],\"scattergl\":[{\"marker\":{\"colorbar\":{\"outlinewidth\":0,\"ticks\":\"\"}},\"type\":\"scattergl\"}],\"scattermapbox\":[{\"marker\":{\"colorbar\":{\"outlinewidth\":0,\"ticks\":\"\"}},\"type\":\"scattermapbox\"}],\"scatterpolargl\":[{\"marker\":{\"colorbar\":{\"outlinewidth\":0,\"ticks\":\"\"}},\"type\":\"scatterpolargl\"}],\"scatterpolar\":[{\"marker\":{\"colorbar\":{\"outlinewidth\":0,\"ticks\":\"\"}},\"type\":\"scatterpolar\"}],\"scatter\":[{\"marker\":{\"colorbar\":{\"outlinewidth\":0,\"ticks\":\"\"}},\"type\":\"scatter\"}],\"scatterternary\":[{\"marker\":{\"colorbar\":{\"outlinewidth\":0,\"ticks\":\"\"}},\"type\":\"scatterternary\"}],\"surface\":[{\"colorbar\":{\"outlinewidth\":0,\"ticks\":\"\"},\"colorscale\":[[0.0,\"#0d0887\"],[0.1111111111111111,\"#46039f\"],[0.2222222222222222,\"#7201a8\"],[0.3333333333333333,\"#9c179e\"],[0.4444444444444444,\"#bd3786\"],[0.5555555555555556,\"#d8576b\"],[0.6666666666666666,\"#ed7953\"],[0.7777777777777778,\"#fb9f3a\"],[0.8888888888888888,\"#fdca26\"],[1.0,\"#f0f921\"]],\"type\":\"surface\"}],\"table\":[{\"cells\":{\"fill\":{\"color\":\"#EBF0F8\"},\"line\":{\"color\":\"white\"}},\"header\":{\"fill\":{\"color\":\"#C8D4E3\"},\"line\":{\"color\":\"white\"}},\"type\":\"table\"}]},\"layout\":{\"annotationdefaults\":{\"arrowcolor\":\"#2a3f5f\",\"arrowhead\":0,\"arrowwidth\":1},\"autotypenumbers\":\"strict\",\"coloraxis\":{\"colorbar\":{\"outlinewidth\":0,\"ticks\":\"\"}},\"colorscale\":{\"diverging\":[[0,\"#8e0152\"],[0.1,\"#c51b7d\"],[0.2,\"#de77ae\"],[0.3,\"#f1b6da\"],[0.4,\"#fde0ef\"],[0.5,\"#f7f7f7\"],[0.6,\"#e6f5d0\"],[0.7,\"#b8e186\"],[0.8,\"#7fbc41\"],[0.9,\"#4d9221\"],[1,\"#276419\"]],\"sequential\":[[0.0,\"#0d0887\"],[0.1111111111111111,\"#46039f\"],[0.2222222222222222,\"#7201a8\"],[0.3333333333333333,\"#9c179e\"],[0.4444444444444444,\"#bd3786\"],[0.5555555555555556,\"#d8576b\"],[0.6666666666666666,\"#ed7953\"],[0.7777777777777778,\"#fb9f3a\"],[0.8888888888888888,\"#fdca26\"],[1.0,\"#f0f921\"]],\"sequentialminus\":[[0.0,\"#0d0887\"],[0.1111111111111111,\"#46039f\"],[0.2222222222222222,\"#7201a8\"],[0.3333333333333333,\"#9c179e\"],[0.4444444444444444,\"#bd3786\"],[0.5555555555555556,\"#d8576b\"],[0.6666666666666666,\"#ed7953\"],[0.7777777777777778,\"#fb9f3a\"],[0.8888888888888888,\"#fdca26\"],[1.0,\"#f0f921\"]]},\"colorway\":[\"#636efa\",\"#EF553B\",\"#00cc96\",\"#ab63fa\",\"#FFA15A\",\"#19d3f3\",\"#FF6692\",\"#B6E880\",\"#FF97FF\",\"#FECB52\"],\"font\":{\"color\":\"#2a3f5f\"},\"geo\":{\"bgcolor\":\"white\",\"lakecolor\":\"white\",\"landcolor\":\"#E5ECF6\",\"showlakes\":true,\"showland\":true,\"subunitcolor\":\"white\"},\"hoverlabel\":{\"align\":\"left\"},\"hovermode\":\"closest\",\"mapbox\":{\"style\":\"light\"},\"paper_bgcolor\":\"white\",\"plot_bgcolor\":\"#E5ECF6\",\"polar\":{\"angularaxis\":{\"gridcolor\":\"white\",\"linecolor\":\"white\",\"ticks\":\"\"},\"bgcolor\":\"#E5ECF6\",\"radialaxis\":{\"gridcolor\":\"white\",\"linecolor\":\"white\",\"ticks\":\"\"}},\"scene\":{\"xaxis\":{\"backgroundcolor\":\"#E5ECF6\",\"gridcolor\":\"white\",\"gridwidth\":2,\"linecolor\":\"white\",\"showbackground\":true,\"ticks\":\"\",\"zerolinecolor\":\"white\"},\"yaxis\":{\"backgroundcolor\":\"#E5ECF6\",\"gridcolor\":\"white\",\"gridwidth\":2,\"linecolor\":\"white\",\"showbackground\":true,\"ticks\":\"\",\"zerolinecolor\":\"white\"},\"zaxis\":{\"backgroundcolor\":\"#E5ECF6\",\"gridcolor\":\"white\",\"gridwidth\":2,\"linecolor\":\"white\",\"showbackground\":true,\"ticks\":\"\",\"zerolinecolor\":\"white\"}},\"shapedefaults\":{\"line\":{\"color\":\"#2a3f5f\"}},\"ternary\":{\"aaxis\":{\"gridcolor\":\"white\",\"linecolor\":\"white\",\"ticks\":\"\"},\"baxis\":{\"gridcolor\":\"white\",\"linecolor\":\"white\",\"ticks\":\"\"},\"bgcolor\":\"#E5ECF6\",\"caxis\":{\"gridcolor\":\"white\",\"linecolor\":\"white\",\"ticks\":\"\"}},\"title\":{\"x\":0.05},\"xaxis\":{\"automargin\":true,\"gridcolor\":\"white\",\"linecolor\":\"white\",\"ticks\":\"\",\"title\":{\"standoff\":15},\"zerolinecolor\":\"white\",\"zerolinewidth\":2},\"yaxis\":{\"automargin\":true,\"gridcolor\":\"white\",\"linecolor\":\"white\",\"ticks\":\"\",\"title\":{\"standoff\":15},\"zerolinecolor\":\"white\",\"zerolinewidth\":2}}},\"title\":{\"font\":{\"color\":\"#4D5663\"},\"text\":\"Word Count Distribution\"},\"xaxis\":{\"gridcolor\":\"#E1E5ED\",\"showgrid\":true,\"tickfont\":{\"color\":\"#4D5663\"},\"title\":{\"font\":{\"color\":\"#4D5663\"},\"text\":\"Word Count\"},\"zerolinecolor\":\"#E1E5ED\"},\"yaxis\":{\"gridcolor\":\"#E1E5ED\",\"showgrid\":true,\"tickfont\":{\"color\":\"#4D5663\"},\"title\":{\"font\":{\"color\":\"#4D5663\"},\"text\":\"Count\"},\"zerolinecolor\":\"#E1E5ED\"}},                        {\"showLink\": true, \"linkText\": \"Export to plot.ly\", \"plotlyServerURL\": \"https://plot.ly\", \"responsive\": true}                    ).then(function(){\n",
       "                            \n",
       "var gd = document.getElementById('66c87cb7-3ef9-43c7-9b16-082b844c3328');\n",
       "var x = new MutationObserver(function (mutations, observer) {{\n",
       "        var display = window.getComputedStyle(gd).display;\n",
       "        if (!display || display === 'none') {{\n",
       "            console.log([gd, 'removed!']);\n",
       "            Plotly.purge(gd);\n",
       "            observer.disconnect();\n",
       "        }}\n",
       "}});\n",
       "\n",
       "// Listen for the removal of the full notebook cells\n",
       "var notebookContainer = gd.closest('#notebook-container');\n",
       "if (notebookContainer) {{\n",
       "    x.observe(notebookContainer, {childList: true});\n",
       "}}\n",
       "\n",
       "// Listen for the clearing of the current output cell\n",
       "var outputEl = gd.closest('.output');\n",
       "if (outputEl) {{\n",
       "    x.observe(outputEl, {childList: true});\n",
       "}}\n",
       "\n",
       "                        })                };                });            </script>        </div>"
      ]
     },
     "metadata": {},
     "output_type": "display_data"
    }
   ],
   "source": [
    "new['word_count'].iplot(kind = 'hist', colors = 'red', bins=100, xTitle='Word Count', yTitle='Count', title='Word Count Distribution')"
   ]
  },
  {
   "cell_type": "code",
   "execution_count": 127,
   "id": "ee76d278",
   "metadata": {},
   "outputs": [
    {
     "data": {
      "application/vnd.plotly.v1+json": {
       "config": {
        "linkText": "Export to plot.ly",
        "plotlyServerURL": "https://plot.ly",
        "showLink": true
       },
       "data": [
        {
         "histfunc": "count",
         "histnorm": "",
         "marker": {
          "color": "rgba(255, 153, 51, 1.0)",
          "line": {
           "color": "#4D5663",
           "width": 1.3
          }
         },
         "name": "avg_word_len",
         "nbinsx": 50,
         "opacity": 0.8,
         "orientation": "v",
         "type": "histogram",
         "x": [
          8.060240963855422,
          6.2075471698113205,
          7.2682926829268295,
          7.285714285714286,
          6.626168224299065,
          7.689075630252101,
          7.769230769230769,
          7.713178294573644,
          7.606299212598425,
          8.146788990825687,
          7.6063829787234045,
          7.165605095541402,
          7.166666666666667,
          6.571428571428571,
          7.6141732283464565,
          6.828125,
          7.666666666666667,
          6.856115107913669,
          6.711764705882353,
          7.094736842105263,
          7.775193798449612,
          7.298701298701299,
          6.788617886178862,
          7.959183673469388,
          7.851851851851852,
          6.455284552845528,
          6.934640522875817,
          6.972222222222222,
          7.215827338129497,
          6.509090909090909,
          7.237288135593221,
          7.415584415584416,
          6.51,
          7.34375,
          7.295774647887324,
          7.722689075630252,
          6.787096774193548,
          7.326388888888889,
          6.791666666666667,
          7.130841121495327,
          7.615384615384615,
          8.118421052631579,
          7.797979797979798,
          7,
          7.064220183486238,
          7.350318471337579,
          8.378048780487806,
          7.183908045977011,
          7.130434782608695,
          7.32051282051282,
          7.752688172043011,
          7.375,
          7.391025641025641,
          7.95575221238938,
          6.888888888888889,
          7.357142857142857,
          7,
          6.836065573770492,
          7.654205607476635,
          7.484848484848484,
          8.130434782608695,
          6.973333333333334,
          7.350318471337579,
          6.98051948051948,
          6.790322580645161,
          7.685714285714286,
          7.786885245901639,
          7.734375,
          6.818181818181818,
          7.378378378378378,
          6.764150943396227,
          7.483606557377049,
          7.359375,
          8.016949152542374,
          7.396103896103896,
          6.835616438356165,
          7.592233009708738,
          7.2272727272727275,
          7.694805194805195,
          7.466216216216216,
          7.048387096774194,
          7.552083333333333,
          7.245398773006135,
          7.319526627218935,
          7.410256410256411,
          7.284313725490196,
          7.717391304347826,
          6.808641975308642,
          7.510067114093959,
          7.278688524590164,
          6.766666666666667,
          7.17910447761194,
          7.475,
          6.923076923076923,
          6.887417218543046,
          6.930232558139535,
          7.168224299065421,
          7.543689320388349,
          7.6521739130434785,
          6.419642857142857,
          8.020134228187919,
          7.7215189873417724,
          7.235668789808917,
          7.066666666666666,
          8.107142857142858,
          7.212389380530974,
          7.417721518987341,
          7.88659793814433,
          6.96078431372549,
          7.455696202531645,
          7.211538461538462,
          6.837398373983739,
          7.432835820895522,
          7.96078431372549,
          7.4,
          7.1,
          8.813186813186814,
          7.7,
          7.7592592592592595,
          7.6375,
          8.859375,
          8.069306930693068,
          7.396946564885496,
          6.936842105263158,
          7.166666666666667,
          7.294117647058823,
          6.830188679245283,
          7.359154929577465,
          6.928571428571429,
          7.666666666666667,
          7.156521739130435,
          6.685185185185185,
          6.548387096774194,
          7.283132530120482,
          7.461538461538462,
          7.541984732824427,
          7.326241134751773,
          7.06875,
          7.330508474576271,
          7.533898305084746,
          7.242718446601942,
          6.7254901960784315,
          7.52,
          7.714285714285714,
          7.574257425742574,
          7.252525252525253,
          7.537735849056604,
          7.424242424242424,
          8.452380952380953,
          7.575342465753424,
          7.57,
          7.373015873015873,
          7.63265306122449,
          7.852941176470588,
          7.694444444444445,
          7,
          7.175824175824176,
          7.588235294117647,
          6.716666666666667,
          6.838709677419355,
          7.469879518072289,
          6.481481481481482,
          7.208053691275167,
          8.054054054054054,
          7.253521126760563,
          7.223529411764706,
          7.714285714285714,
          7.097014925373134,
          7.859813084112149,
          7.802631578947368,
          7.25,
          7.63013698630137,
          7.244604316546763,
          7.236363636363636,
          7.096385542168675,
          6.828947368421052,
          7.96969696969697,
          6.648854961832061,
          6.434782608695652,
          7.511111111111111,
          7.846153846153846,
          7.035398230088496,
          6.873563218390805,
          6.622222222222222,
          7.333333333333333,
          6.469135802469136,
          7.4950495049504955,
          6.887096774193548,
          7.516666666666667,
          7.9,
          7.7924528301886795,
          7.113475177304965,
          7.161538461538462,
          6.866666666666666,
          6.846938775510204,
          7.824324324324325,
          8.333333333333334,
          7.12,
          7.384615384615385,
          7.170212765957447,
          6.927083333333333,
          7.125,
          7.557894736842106,
          7.801980198019802,
          7.614864864864865,
          6.819354838709677,
          7.304347826086956,
          8.266129032258064,
          7.129032258064516,
          6.769230769230769,
          7.472222222222222,
          6.9743589743589745,
          6.774193548387097,
          8.084033613445378,
          7.108974358974359,
          7.709677419354839,
          7.368098159509202,
          7.117021276595745,
          7.6375,
          7.596026490066225,
          8.418803418803419,
          7.032520325203252,
          7.25531914893617,
          7.4485981308411215,
          7.543307086614173,
          7.1375,
          7.629310344827586,
          7.17948717948718,
          7.25,
          7.303225806451613,
          7.2967032967032965,
          7.746987951807229,
          7.46875,
          7.745762711864407,
          6.713333333333333,
          6.725274725274725,
          7.886956521739131,
          6.94017094017094,
          7,
          8.066666666666666,
          6.518987341772152,
          6.82962962962963,
          7.2,
          6.647058823529412,
          7.09,
          6.988888888888889,
          6.7443609022556394,
          7.181818181818182,
          7.1893939393939394,
          7.113333333333333,
          7.4495412844036695,
          6.395833333333333,
          7.214814814814815,
          6.824675324675325,
          7.601769911504425,
          7.137931034482759,
          7.425531914893617,
          6.853658536585366,
          7.4036697247706424,
          7.339285714285714,
          7.25531914893617,
          7.035087719298246,
          7.824561403508772,
          7.306569343065694,
          7.375796178343949,
          7.5375,
          6.671140939597316,
          8.283582089552239,
          7.522222222222222,
          6.699029126213592,
          7.03125,
          6.914893617021277,
          7.074074074074074,
          7.445454545454545,
          7.611111111111111,
          7.287769784172662,
          7.045112781954887,
          7.441860465116279,
          7.147058823529412,
          7.25531914893617,
          7.348314606741573,
          7.688524590163935,
          7.766666666666667,
          7.090163934426229,
          6.8125,
          7.409722222222222,
          7.445378151260504,
          7.243589743589744,
          7.546666666666667,
          7.217948717948718,
          7.510204081632653,
          7.330097087378641,
          7.673611111111111,
          7.160493827160494,
          6.609195402298851,
          7.779874213836478,
          7.771653543307087,
          7.475247524752476,
          7.768421052631579,
          8.017699115044248,
          7.966292134831461,
          7.125,
          7.5,
          6.898876404494382,
          7.375,
          6.79646017699115,
          7.244897959183674,
          8.127906976744185,
          7.5344827586206895,
          7.117647058823529,
          8.222222222222221,
          6.947368421052632,
          7.252336448598131,
          7.615942028985507,
          6.958904109589041,
          7.260273972602739,
          7.507936507936508,
          7.481481481481482,
          7.277777777777778,
          7.522222222222222,
          7.87012987012987,
          7.9326923076923075,
          7.326666666666667,
          7.965116279069767,
          7.317460317460317,
          6.586206896551724,
          6.643356643356643,
          8.078125,
          7.215827338129497,
          7.590909090909091,
          7.533333333333333,
          6.573248407643312,
          7.303571428571429,
          6.878787878787879,
          7.2384615384615385,
          6.588235294117647,
          7.7272727272727275,
          7.375,
          7.587628865979381,
          7.520408163265306,
          8,
          7.622047244094488,
          7.220183486238532,
          7.222222222222222,
          7.489510489510489,
          7.427350427350428,
          7.229007633587786,
          6.8,
          7.027522935779817,
          7.1461538461538465,
          6.849462365591398,
          7.245283018867925,
          7.008196721311475,
          6.615384615384615,
          6.529411764705882,
          7.481751824817518,
          7.5,
          7.449438202247191,
          6.934065934065934,
          6.933333333333334,
          7.330357142857143,
          6.5703125,
          7.022388059701493,
          7.1454545454545455,
          7.153153153153153,
          7.24203821656051,
          7.339805825242719,
          7.300813008130081,
          7.126050420168068,
          6.936936936936937,
          8.282828282828282,
          7.478260869565218,
          7.765217391304348,
          7.0476190476190474,
          6.864285714285714,
          6.8604651162790695,
          7.2214285714285715,
          6.916129032258064,
          6.407407407407407,
          7,
          7.857142857142857,
          7.340579710144928,
          8.069230769230769,
          7.211267605633803,
          7.346153846153846,
          7.294642857142857,
          7.619469026548672,
          7.748201438848921,
          8.023255813953488,
          7.035211267605634,
          7,
          7.303370786516854,
          7.39,
          6.863247863247863,
          7.373626373626373,
          7.034782608695652,
          7.311475409836065,
          7.0606060606060606,
          7.115384615384615,
          7.137931034482759,
          7.078947368421052,
          7.5,
          7.006849315068493,
          7.96078431372549,
          7.27,
          7.329268292682927,
          7.461538461538462,
          6.68,
          7.578947368421052,
          7.958762886597938,
          7.42,
          7.861111111111111,
          7.638297872340425,
          7.077669902912621,
          7.13,
          7.5049504950495045,
          7.197278911564626,
          6.983050847457627,
          8.605263157894736,
          7.28,
          6.662162162162162,
          7.467948717948718,
          7.2727272727272725,
          7.391752577319588,
          7.164948453608248,
          6.654929577464789,
          7.0602409638554215,
          8.441558441558442,
          6.86231884057971,
          7.081967213114754,
          8.035294117647059,
          6.927083333333333,
          7.238095238095238,
          7.768115942028985,
          7.430656934306569,
          7.849462365591398,
          7.217391304347826,
          7.17948717948718,
          8.053571428571429,
          6.751937984496124,
          7.72,
          7.041322314049586,
          6.522123893805309,
          7.658730158730159,
          7.140625,
          7.426966292134831,
          7.851851851851852,
          7.145985401459854,
          7.762711864406779,
          7.35042735042735,
          7.574468085106383,
          7.196261682242991,
          7.813953488372093,
          7.315384615384615,
          7.556521739130435,
          7.246153846153846,
          7.647058823529412,
          7.487179487179487,
          7.910714285714286,
          7.03125,
          6.864583333333333,
          7.344,
          7.138888888888889,
          6.634920634920635,
          6.827160493827161,
          7.617647058823529,
          7.174757281553398,
          7.073170731707317,
          7.862068965517241,
          6.912280701754386,
          7.67,
          6.758928571428571,
          7.073170731707317,
          7.253846153846154,
          7.212389380530974,
          7.651685393258427,
          7.413793103448276,
          7.752,
          7.782608695652174,
          7.457142857142857,
          8.3,
          7.432098765432099,
          6.8076923076923075,
          7.407894736842105,
          7.337931034482758,
          7.77,
          7.426086956521739,
          7.232323232323233,
          7.105263157894737,
          7.133333333333334,
          7.253333333333333,
          7.36144578313253,
          7.333333333333333,
          7.396396396396397,
          7.495145631067961,
          7.054945054945055,
          6.908045977011494,
          6.8429752066115705,
          7.074074074074074,
          7.586206896551724,
          7.240384615384615,
          6.79020979020979,
          6.9222222222222225,
          7.714285714285714,
          8.1640625,
          7.092105263157895,
          7.446153846153846,
          6.87218045112782,
          7.376923076923077,
          7.491228070175438,
          6.718518518518518,
          7.882352941176471,
          7.916666666666667,
          7.428571428571429,
          7.24375,
          7.196969696969697,
          7.672727272727273,
          6.7153846153846155,
          7.854368932038835,
          7.657894736842105,
          7.006802721088436,
          7,
          7.876623376623376,
          7.804597701149425,
          7.173333333333333,
          7.121212121212121,
          7.347222222222222,
          7.422535211267606,
          7.675,
          7.236111111111111,
          6.775862068965517,
          7.153846153846154,
          7.077586206896552,
          7.3105590062111805,
          7.5473684210526315,
          6.215909090909091,
          7.583333333333333,
          7.094017094017094,
          7.416666666666667,
          7.870689655172414,
          7.404109589041096,
          7.305555555555555,
          7.7011494252873565,
          7.901234567901234,
          7.5963302752293576,
          7.45925925925926,
          7.054347826086956,
          8.588709677419354,
          7.661290322580645,
          6.857142857142857,
          8.076086956521738,
          8.597701149425287,
          6.923809523809524,
          7.26530612244898,
          7.359223300970874,
          7.064814814814815,
          7.76,
          8.438356164383562,
          7.538461538461538,
          7.774774774774775,
          7.149532710280374,
          6.947916666666667,
          6.630434782608695,
          7.470588235294118,
          6.564705882352941,
          7.278350515463917,
          6.722222222222222,
          7.619718309859155,
          7.507936507936508,
          7.48062015503876,
          7.357142857142857,
          7.425925925925926,
          7.514018691588785,
          7.25,
          7.0246913580246915,
          7.145631067961165,
          7.465346534653466,
          7.121951219512195,
          7.598214285714286,
          7.586956521739131,
          7.3088235294117645,
          6.967032967032967,
          6.909774436090226,
          7.6455696202531644,
          7.635135135135135,
          6.78,
          7.649635036496351,
          7.3076923076923075,
          6.846938775510204,
          6.288135593220339,
          7.208053691275167,
          7.241830065359477,
          7.253968253968254,
          7.048275862068966,
          7.588235294117647,
          7.099099099099099,
          7.647058823529412,
          6.606060606060606,
          7.300653594771242,
          7.990566037735849,
          6.9035087719298245,
          6.955056179775281,
          7.2063492063492065,
          6.481203007518797,
          7.185185185185185,
          6.966666666666667,
          6.506024096385542,
          7.435185185185185,
          7.509615384615385,
          7.3125,
          7.737288135593221,
          6.962264150943396,
          7.32258064516129,
          7.043859649122807,
          7.322784810126582,
          7.431818181818182,
          7.65,
          7.630434782608695,
          7.196850393700787,
          7.73015873015873,
          6.9393939393939394,
          7.520833333333333,
          8.26086956521739,
          7.179310344827586,
          6.659574468085107,
          8.155172413793103,
          7.368932038834951,
          7.074074074074074,
          6.713114754098361,
          7.5703125,
          7.419161676646707,
          6.664634146341464,
          7.46218487394958,
          7.556701030927835,
          7.637362637362638,
          8.085714285714285,
          6.937106918238993,
          7.846153846153846,
          7.336734693877551,
          7.202702702702703,
          7.460431654676259,
          7.440476190476191,
          7.005847953216374,
          7.060344827586207,
          7.373983739837398,
          7.264150943396227,
          7.981651376146789,
          8.156028368794326,
          7.463917525773196,
          7.390909090909091,
          7.848214285714286,
          6.442622950819672,
          7,
          6.754237288135593,
          7.644444444444445,
          7.186046511627907,
          7.076190476190476,
          6.85,
          7,
          7.233333333333333,
          7.2894736842105265,
          6.6380952380952385,
          7.549450549450549,
          7.580952380952381,
          7.141935483870967,
          7.952941176470588,
          7.415584415584416,
          7.640350877192983,
          8.021897810218977,
          7.359375,
          6.978102189781022,
          7.321212121212121,
          7.7227722772277225,
          6.8734177215189876,
          7,
          7.879518072289157,
          7.455128205128205,
          7.302752293577981,
          7.404040404040404,
          7.507462686567164,
          7.315315315315315,
          7.2835820895522385,
          7.165517241379311,
          7.688524590163935,
          6.7727272727272725,
          7.0095238095238095,
          7.419117647058823,
          7.9879518072289155,
          7.072727272727272,
          7.183673469387755,
          7.042553191489362,
          7.055045871559633,
          7.471153846153846,
          7.447058823529412,
          7.737288135593221,
          6.934579439252336,
          7.414414414414415,
          7.50354609929078,
          7.541666666666667,
          8.070063694267516,
          7.287878787878788,
          7.410958904109589,
          7.466666666666667,
          8.428571428571429,
          6.875,
          7.195652173913044,
          7.897435897435898,
          6.9375,
          7.776859504132231,
          8.007352941176471,
          7.183098591549296,
          6.931034482758621,
          7.064516129032258,
          7.945945945945946,
          7.43859649122807,
          7.240384615384615,
          7.333333333333333,
          7.190184049079755,
          7.032679738562091,
          7.495495495495495,
          7.067796610169491,
          7.439024390243903,
          7.876923076923077,
          6.375,
          7.515527950310559,
          7.411764705882353,
          7.439655172413793,
          6.7555555555555555,
          7.219512195121951,
          6.980582524271845,
          7.384,
          7.448275862068965,
          7.166666666666667,
          7.378378378378378,
          7.520325203252033,
          7.0359712230215825,
          7.444444444444445,
          7.554545454545455,
          7.2727272727272725,
          7.817204301075269,
          7.121428571428571,
          7.0852713178294575,
          7.385542168674699,
          7.782608695652174,
          7.411764705882353,
          7.401960784313726,
          7.881188118811881,
          6.875,
          7.513888888888889,
          7.611940298507463,
          8.11111111111111,
          7.245901639344262,
          6.673469387755102,
          7.017094017094017,
          6.93491124260355,
          7.6,
          7.15,
          7.474074074074074,
          7.107142857142857,
          7.170731707317073,
          7.073770491803279,
          6.8618421052631575,
          7.763888888888889,
          6.684210526315789,
          7.28695652173913,
          8.72,
          7.84,
          6.735849056603773,
          7.096774193548387,
          7.290780141843972,
          7.7011494252873565,
          6.986666666666666,
          7.357142857142857,
          7.016949152542373,
          7.262135922330097,
          7.6125,
          7.478260869565218,
          7.444444444444445,
          7.64367816091954,
          7.449275362318841,
          7.488888888888889,
          7.888888888888889,
          7.285714285714286,
          6.544715447154472,
          7.288288288288288,
          7.596774193548387,
          8.196428571428571,
          7.467948717948718,
          7.4375,
          7.662790697674419,
          7.4125,
          6.985074626865671,
          7.317647058823529,
          7.436507936507937,
          7.781512605042017,
          6.433333333333334,
          6.836734693877551,
          7.556818181818182,
          7.088888888888889,
          6.715909090909091,
          7.235294117647059,
          7.012345679012346,
          7.859813084112149,
          7.271428571428571,
          7.115384615384615,
          7.690140845070423,
          7.481012658227848,
          7.620689655172414,
          7.212765957446808,
          7.451612903225806,
          7.752941176470588,
          7.3577981651376145,
          7.426229508196721,
          7.6422018348623855,
          7.178082191780822,
          7.31,
          7.1644736842105265,
          7.345454545454546,
          7.808988764044944,
          6.603603603603603,
          7.777777777777778,
          7.6231884057971016,
          6.990990990990991,
          7.394495412844036,
          7.087837837837838,
          6.913043478260869,
          6.6521739130434785,
          7.140845070422535,
          8.204301075268818,
          7.144329896907217,
          6.707964601769912,
          7.13,
          7.555555555555555,
          7.597701149425287,
          7.285714285714286,
          7.680412371134021,
          7.169934640522876,
          7.9,
          7.11864406779661,
          7.169491525423729,
          7.296296296296297,
          7.421428571428572,
          7.308219178082192,
          6.9772727272727275,
          7.777777777777778,
          6.804195804195804,
          7.28421052631579,
          8.157894736842104,
          7.076923076923077,
          7.638655462184874,
          7.041666666666667,
          7.97029702970297,
          7.532051282051282,
          7.557377049180328,
          7.195402298850575,
          6.614457831325301,
          7.904761904761905,
          8.214285714285714,
          7.36697247706422,
          6.782608695652174,
          6.922413793103448,
          6.926470588235294,
          6.6521739130434785,
          8.666666666666666,
          7.421568627450981,
          8.025641025641026,
          6.52,
          6.351648351648351,
          7.272058823529412,
          6.565789473684211,
          7.165217391304348,
          7.304635761589404,
          7.341176470588235,
          7.061855670103093,
          7.66887417218543,
          7.601941747572815,
          7.8,
          7.106796116504855,
          7.08955223880597,
          7.291666666666667,
          6.847560975609756,
          7.388888888888889,
          7.527272727272727,
          7.411764705882353,
          6.8431372549019605,
          7.0095238095238095,
          7.333333333333333,
          6.85,
          6.438356164383562,
          7.670329670329671,
          6.883116883116883,
          7.764044943820225,
          6.378947368421053,
          7.074766355140187,
          7.269230769230769,
          6.98125,
          6.896551724137931,
          7.434426229508197,
          7.291666666666667,
          7.157894736842105,
          7.7936507936507935,
          6.782608695652174,
          7.188524590163935,
          7.025,
          6.957264957264957,
          6.716049382716049,
          7.076923076923077,
          7.329896907216495,
          7.126984126984127,
          7.696428571428571,
          6.866666666666666,
          7.033898305084746,
          7.5212765957446805,
          7.525773195876289,
          7.757009345794392,
          7.876712328767123,
          7.625,
          7.650943396226415,
          6.9748427672955975,
          7.148148148148148,
          7.543307086614173,
          7.835051546391752,
          7.330578512396694,
          7.131868131868132,
          7.092105263157895,
          7.682352941176471,
          7.024390243902439,
          7.733333333333333,
          6.964285714285714,
          7.443181818181818,
          7.413793103448276,
          7.129032258064516,
          6.969325153374233,
          6.521472392638037,
          7.096153846153846,
          7.242424242424242,
          7.035087719298246,
          8.40983606557377,
          7.753086419753086,
          8.365079365079366,
          7.076923076923077,
          6.25,
          7.5,
          7.364406779661017,
          6.956896551724138,
          7.375,
          7.304054054054054,
          7.742857142857143,
          8.21830985915493,
          7.222222222222222,
          7.256880733944954,
          7.333333333333333,
          7.295454545454546,
          6.811320754716981,
          8.308823529411764,
          7.754716981132075,
          7.551020408163265,
          7.314102564102564,
          7.160919540229885,
          7.872727272727273,
          6.79047619047619,
          7.644444444444445,
          6.517241379310345,
          7.214285714285714,
          5.983870967741935,
          7.464285714285714,
          7.2727272727272725,
          7.111888111888112,
          7.284090909090909,
          7.1375,
          7.26,
          6.78125,
          6.139784946236559,
          7.636363636363637,
          7.492753623188406,
          7.872093023255814,
          7.2155172413793105,
          7.344444444444444,
          7.524193548387097,
          6.696078431372549,
          7.538461538461538,
          7.150943396226415,
          7.184782608695652,
          7.1,
          7.793103448275862,
          7.490322580645161,
          6.896907216494846,
          7.169491525423729,
          7.438202247191011,
          7.570093457943925,
          7.125,
          7.6138613861386135,
          6.950617283950617,
          7.358974358974359,
          7.317241379310345,
          6.711340206185567,
          7.089108910891089,
          7.246913580246914,
          7.881188118811881,
          6.935185185185185,
          7,
          7.644736842105263,
          7.301369863013699,
          6.061224489795919,
          7.176,
          6.7734375,
          8.155555555555555,
          7.3,
          7.552083333333333,
          7.0310077519379846,
          7.4787234042553195,
          7.295302013422819,
          7.427272727272728,
          6.863636363636363,
          7.736363636363636,
          7.25,
          7.517543859649122,
          7.869158878504673,
          7.666666666666667,
          7.666666666666667,
          6.978947368421053,
          7.569444444444445,
          7.606060606060606,
          7.776470588235294,
          7.555555555555555,
          7.719298245614035,
          7.228571428571429,
          6.898550724637682,
          8.57,
          7.285714285714286,
          7.288135593220339,
          7.818181818181818,
          7.049586776859504,
          6.453608247422681,
          7.355371900826446,
          7.8133333333333335,
          6.59,
          7.5646258503401365,
          6.291666666666667,
          7.099236641221374,
          7.427184466019417,
          7.008620689655173,
          7.470588235294118,
          6.888888888888889,
          7.299145299145299,
          7.36,
          7.088,
          7.721311475409836,
          6.76984126984127,
          6.932038834951456,
          7.124031007751938,
          6.938650306748467,
          8.653846153846153,
          7.164179104477612,
          7.0246913580246915,
          6.720588235294118,
          7.413333333333333,
          7.265432098765432,
          7.686274509803922,
          7.048275862068966,
          7.086956521739131,
          7.140495867768595,
          7.031496062992126,
          6.5174825174825175,
          7.119565217391305,
          7.04,
          7.373493975903615,
          7.701754385964913,
          6.75,
          7.402298850574713,
          7.2976190476190474,
          8.43939393939394,
          6.908045977011494,
          6.885496183206107,
          7.875,
          7.253846153846154,
          7.421052631578948,
          6.8478260869565215,
          7.176,
          7.336633663366337,
          7.9609375,
          7.1923076923076925,
          6.780487804878049,
          7.078125,
          7.958620689655173,
          8.007246376811594,
          7.678260869565217,
          6.771241830065359,
          6.6722689075630255,
          7.2773722627737225,
          7.659090909090909,
          7.375838926174497,
          8.138686131386862,
          7.419642857142857,
          7.319587628865979,
          7.56390977443609,
          7.5,
          8.139240506329115,
          7.3924050632911396,
          6.76595744680851,
          7.495412844036697,
          7.647058823529412,
          7.768656716417911,
          7.051851851851852,
          6.879032258064516,
          6.505050505050505,
          7.52755905511811,
          7.321428571428571,
          7.628865979381444,
          6.755102040816326,
          6.941860465116279,
          7.492537313432836,
          7.476190476190476,
          7.558558558558558,
          7.478260869565218,
          8.029702970297029,
          8.336633663366337,
          7.475,
          7.450980392156863,
          7.166666666666667,
          7.36231884057971,
          6.8125,
          7.802547770700637,
          7.307017543859649,
          7.660377358490566,
          7.577464788732394,
          6.980769230769231,
          7.833333333333333,
          6.953125,
          6.8431372549019605,
          6.9125,
          7.835714285714285,
          6.546666666666667,
          7.216666666666667,
          6.911764705882353,
          6.976190476190476,
          7.393939393939394,
          6.947368421052632,
          7.509433962264151,
          7.663265306122449,
          6.678260869565217,
          6.257142857142857,
          7.530434782608696,
          7.085365853658536,
          6.680555555555555,
          7.0602409638554215,
          7.504201680672269,
          7.675,
          6.754385964912281,
          7.25,
          7.205128205128205,
          7.421875,
          6.928571428571429,
          7.338842975206612,
          7.355555555555555,
          7,
          7.432098765432099,
          7.384615384615385,
          6.82258064516129,
          5.983333333333333,
          8.213740458015268,
          6.878378378378378,
          7.434782608695652,
          6.815789473684211,
          7.5394736842105265,
          7.08080808080808,
          6.587209302325581,
          7.39873417721519,
          7.3023255813953485,
          6.770833333333333,
          7.276190476190476,
          7.5,
          7.553846153846154,
          7.355555555555555,
          8.155963302752294,
          7.859154929577465,
          7.381578947368421,
          7.466165413533835,
          8.26984126984127,
          7.700854700854701,
          7.613793103448276,
          7.722222222222222,
          7.018518518518518,
          7.0265486725663715,
          7.318181818181818,
          8.112244897959183,
          7.637362637362638,
          7.211538461538462,
          6.972727272727273,
          7.470588235294118,
          7.280487804878049,
          6.828402366863905,
          6.901960784313726,
          7.1571428571428575,
          6.5813953488372094,
          7.435897435897436,
          7.012738853503185,
          7.909090909090909,
          7.666666666666667,
          7.262711864406779,
          7.746376811594203,
          7.2,
          6.784090909090909,
          6.673684210526316,
          7.277777777777778,
          6.837606837606837,
          7.288288288288288,
          7.366666666666666,
          7.319587628865979,
          7.650485436893204,
          8.588235294117647,
          7.372881355932203,
          6.763888888888889,
          6.7984496124031,
          7.289719626168225,
          6.751592356687898,
          6.970588235294118,
          6.3052631578947365,
          7.325,
          7.093023255813954,
          8.228571428571428,
          7.5,
          7.637931034482759,
          6.898550724637682,
          7,
          6.96039603960396,
          7.241935483870968,
          6.9375,
          7.30188679245283,
          7.097222222222222,
          7.658227848101266,
          6.929936305732484,
          6.90566037735849,
          6.089887640449438,
          7.257142857142857,
          7.393700787401575,
          7.4475524475524475,
          7.645161290322581,
          6.137931034482759,
          7.3619047619047615,
          7.068493150684931,
          7.745614035087719,
          7.507936507936508,
          7.557251908396947,
          8,
          7.102941176470588,
          7.151898734177215,
          8.146788990825687,
          6.719512195121951,
          6.834862385321101,
          7.956896551724138,
          7.725274725274725,
          7.038759689922481,
          7.936305732484076,
          7.8023255813953485,
          7.344262295081967,
          7.285714285714286,
          6.69,
          6.589147286821706,
          7.696629213483146,
          7.2405063291139244,
          8.137931034482758,
          7.469135802469136,
          7.3538461538461535,
          7.3,
          7.540983606557377,
          7.188118811881188,
          6.9125,
          6.603448275862069,
          7,
          7.849056603773585,
          6.505263157894737,
          7.4520547945205475,
          6.830188679245283,
          7.177215189873418,
          6.642857142857143,
          7.433333333333334,
          7.2631578947368425,
          7.5479452054794525,
          7.212962962962963,
          7.458333333333333,
          6.5,
          7,
          6.366666666666666,
          8.056603773584905,
          7.5,
          7.260416666666667,
          7.1521739130434785,
          8.011764705882353,
          7.260869565217392,
          7.188311688311688,
          6.629310344827586,
          7.232876712328767,
          7.086538461538462,
          6.849056603773585,
          6.721649484536083,
          7.074626865671642,
          6.958333333333333,
          7.172839506172839,
          7.398550724637682,
          7.614457831325301,
          8.102739726027398,
          7.379310344827586,
          7.289156626506024,
          7.512820512820513,
          7.454545454545454,
          6.841121495327103,
          7.011695906432749,
          6.828828828828829,
          7.179245283018868,
          7.064814814814815,
          7.164948453608248,
          6.91358024691358,
          7.56,
          7.519230769230769,
          7.126315789473685,
          7.569230769230769,
          7.39344262295082,
          7.1688311688311686,
          7.349397590361446,
          7.354838709677419,
          7.0886075949367084,
          7.5777777777777775,
          6.723076923076923,
          7.51063829787234,
          7.10077519379845,
          7.662790697674419,
          7.018518518518518,
          7.208695652173913,
          7.24031007751938,
          7.182608695652174,
          6.862857142857143,
          6.82258064516129,
          7.571428571428571,
          6.6947368421052635,
          7.6,
          6.964285714285714,
          7.087912087912088,
          7.12781954887218,
          7.054054054054054,
          7.716049382716049,
          7.226950354609929,
          6.932038834951456,
          7.71875,
          6.735294117647059,
          7.208955223880597,
          7.318471337579618,
          7.083916083916084,
          7,
          7.023809523809524,
          6.466666666666667,
          7.235294117647059,
          8.180555555555555,
          6.935483870967742,
          7.72289156626506,
          6.986486486486487,
          7.257142857142857,
          7.642857142857143,
          7.083969465648855,
          7.608695652173913,
          7.677685950413223,
          7.169354838709677,
          7.352380952380952,
          7.018518518518518,
          7.090909090909091,
          7.825,
          7.0285714285714285,
          7.527272727272727,
          7.364485981308412,
          8.26086956521739,
          7.259541984732825,
          7.423611111111111,
          6.635658914728682,
          7.011627906976744,
          7.655405405405405,
          6.728155339805825,
          8.279411764705882,
          6.739130434782608,
          7.0647482014388485,
          7.114285714285714,
          7.231578947368421,
          7.239669421487603,
          6.970873786407767,
          7.383561643835616,
          7.586206896551724,
          7.260869565217392,
          6.972972972972973,
          6.959677419354839,
          6.752136752136752,
          6.964285714285714,
          7.316831683168317,
          7.25,
          6.691860465116279,
          7.072368421052632,
          7.352941176470588,
          8.11965811965812,
          6.821138211382114,
          7.0606060606060606,
          6.282608695652174,
          7.2936507936507935,
          7.590163934426229,
          7.75,
          7.734375,
          6.835051546391752,
          7.365591397849462,
          6.767123287671233,
          6.719298245614035,
          7.875,
          6.683333333333334,
          7.15,
          7.302752293577981,
          7.323529411764706,
          6.7555555555555555,
          6.666666666666667,
          6.55,
          7.860759493670886,
          7.289156626506024,
          7.375,
          7.515625,
          7.878378378378378,
          6.96,
          7.840336134453781,
          7.9186046511627906,
          7.841666666666667,
          6.5479452054794525,
          6.378378378378378,
          6.661971830985915,
          8.447619047619048,
          7.6461538461538465,
          7.5271317829457365,
          7.860215053763441,
          6.956834532374101,
          8.203703703703704,
          6.88,
          6.779874213836478,
          7.086538461538462,
          7.0754716981132075,
          7.788888888888889,
          7.252336448598131,
          6.918918918918919,
          6.670454545454546,
          7.207792207792208,
          7.525,
          7.517857142857143,
          7.125,
          7.253521126760563,
          7.342105263157895,
          7.5046728971962615,
          7.755813953488372,
          7.612244897959184,
          7.122448979591836,
          7.385714285714286,
          6.808219178082192,
          6.933333333333334,
          6.804511278195489,
          6.673202614379085,
          7.114285714285714,
          7.219512195121951,
          6.466666666666667,
          7.283687943262412,
          6.9375,
          7.373015873015873,
          7.446601941747573,
          6.30827067669173,
          7.390909090909091,
          7.103896103896104,
          6.991869918699187,
          7.348623853211009,
          7.017543859649122,
          7.147368421052631,
          7.314102564102564,
          7.530864197530864,
          6.764044943820225,
          6.858208955223881,
          7.767123287671233,
          7.305084745762712,
          7.821428571428571,
          6.820224719101123,
          7.02803738317757,
          7.10126582278481,
          7.814432989690721,
          7.62406015037594,
          7.470588235294118,
          7.913793103448276,
          7.516339869281046,
          6.275862068965517,
          6.713286713286713,
          6.901515151515151,
          7.160377358490566,
          7.408695652173913,
          7.008928571428571,
          7.060344827586207,
          7.2936507936507935,
          7.266187050359712,
          6.615384615384615,
          7.43956043956044,
          7.575757575757576,
          7.04,
          7.19,
          7.3931623931623935,
          6.979591836734694,
          7.388888888888889,
          7.048076923076923,
          7.605633802816901,
          7.90566037735849,
          7.657894736842105,
          7.0476190476190474,
          7,
          7.835616438356165,
          5.971631205673759,
          7.625,
          7.469879518072289,
          7.314814814814815,
          7.551724137931035,
          7.9818181818181815,
          7.02054794520548,
          7.264705882352941,
          7.38655462184874,
          7.25,
          7.213333333333333,
          7.035294117647059,
          7.141025641025641,
          7.619718309859155,
          7.9609375,
          7.3604651162790695,
          6.469026548672566,
          8.014285714285714,
          7.985915492957746,
          6.722222222222222,
          7.061946902654867,
          8.050632911392405,
          6.739495798319328,
          7.0625,
          6.880952380952381,
          7.4222222222222225,
          6.845637583892618,
          6.949367088607595,
          7.370967741935484,
          6.546762589928058,
          6.884615384615385,
          7.230769230769231,
          7.9491525423728815,
          8.054545454545455,
          7.784313725490196,
          7.6477272727272725,
          7.353982300884955,
          6.982142857142857,
          6.63963963963964,
          7.078260869565217,
          7.5476190476190474,
          6.574468085106383,
          7.328571428571428,
          7.03921568627451,
          8.065040650406504,
          7.162162162162162,
          7.01010101010101,
          6.144444444444445,
          7.295918367346939,
          7.333333333333333,
          7.088,
          7.08641975308642,
          7.803921568627451,
          7.057971014492754,
          7.222222222222222,
          7.333333333333333,
          7.449612403100775,
          6.627118644067797,
          6.860869565217391,
          7.209677419354839,
          7.6722689075630255,
          7.841269841269841,
          8.117647058823529,
          7.160493827160494,
          7.392156862745098,
          7.099173553719008,
          7.4,
          6.801980198019802,
          8.075,
          6.924242424242424,
          7.873563218390805,
          7.368852459016393,
          7.169491525423729,
          7.485294117647059,
          7.488095238095238,
          8.4,
          7.9,
          7.35064935064935,
          7.644230769230769,
          6.6875,
          7.567375886524823,
          7.3125,
          7.591304347826087,
          7.714285714285714,
          7.595238095238095,
          7.804347826086956,
          6.893203883495145,
          7.783333333333333,
          7.402439024390244,
          8.315068493150685,
          7.380281690140845,
          7.958333333333333,
          8.093959731543624,
          6.514851485148514,
          7.419753086419753,
          6.965116279069767,
          7.626666666666667,
          7.243243243243243,
          7.339622641509434,
          7.5636363636363635,
          5.619047619047619,
          7.319587628865979,
          7.592592592592593,
          7.780487804878049,
          6.493150684931507,
          6.172413793103448,
          8.443037974683545,
          6.829268292682927,
          7.232558139534884,
          7.914634146341464,
          6.084745762711864,
          7.258426966292135,
          7.5,
          7.146341463414634,
          7.169014084507042,
          6.979381443298969,
          7.243243243243243,
          6.565217391304348,
          7.517241379310345,
          7.363013698630137,
          6.882352941176471,
          7.262626262626263,
          7.5394736842105265,
          7.942857142857143,
          6.630769230769231,
          6.968253968253968,
          7.7534246575342465,
          6.714285714285714,
          6.782945736434108,
          7.426229508196721,
          7.442622950819672,
          7.171428571428572,
          7,
          7.147058823529412,
          7.142857142857143,
          7.128440366972477,
          7.333333333333333,
          7.515384615384615,
          7.327272727272727,
          7.91044776119403,
          7.227722772277228,
          6.5256410256410255,
          7.841121495327103,
          8,
          6.658823529411765,
          6.955882352941177,
          7.6422018348623855,
          7.132075471698113,
          7.258928571428571,
          6.666666666666667,
          7.488372093023256,
          7.142857142857143,
          7.384615384615385,
          7.298701298701299,
          7.293233082706767,
          7.473684210526316,
          6.685314685314685,
          6.716666666666667,
          7.824561403508772,
          7.483050847457627,
          7.008771929824562,
          7.395348837209302,
          7.330097087378641,
          7.192982456140351,
          6.675675675675675,
          5.930379746835443,
          5.849557522123894,
          7.5,
          6.7,
          6.445454545454545,
          7.524752475247524,
          7.473684210526316,
          6.917808219178082,
          6.913043478260869,
          6.605263157894737,
          8,
          6.99290780141844,
          7.845070422535211,
          6.793103448275862,
          6.746835443037975,
          6.574468085106383,
          7.52112676056338,
          7.163265306122449,
          7.133333333333334,
          7.771929824561403,
          7.127272727272727,
          7.2,
          6.8,
          6.966292134831461,
          8.11111111111111,
          6.465753424657534,
          6.533834586466165,
          7.373626373626373,
          5.854368932038835,
          8.06060606060606,
          7.192771084337349,
          8.175,
          7.3076923076923075,
          7.080645161290323,
          7.089743589743589,
          7.145161290322581,
          7.465753424657534,
          7.2682926829268295
         ]
        }
       ],
       "layout": {
        "barmode": "overlay",
        "legend": {
         "bgcolor": "#F5F6F9",
         "font": {
          "color": "#4D5663"
         }
        },
        "paper_bgcolor": "#F5F6F9",
        "plot_bgcolor": "#F5F6F9",
        "template": {
         "data": {
          "bar": [
           {
            "error_x": {
             "color": "#2a3f5f"
            },
            "error_y": {
             "color": "#2a3f5f"
            },
            "marker": {
             "line": {
              "color": "#E5ECF6",
              "width": 0.5
             },
             "pattern": {
              "fillmode": "overlay",
              "size": 10,
              "solidity": 0.2
             }
            },
            "type": "bar"
           }
          ],
          "barpolar": [
           {
            "marker": {
             "line": {
              "color": "#E5ECF6",
              "width": 0.5
             },
             "pattern": {
              "fillmode": "overlay",
              "size": 10,
              "solidity": 0.2
             }
            },
            "type": "barpolar"
           }
          ],
          "carpet": [
           {
            "aaxis": {
             "endlinecolor": "#2a3f5f",
             "gridcolor": "white",
             "linecolor": "white",
             "minorgridcolor": "white",
             "startlinecolor": "#2a3f5f"
            },
            "baxis": {
             "endlinecolor": "#2a3f5f",
             "gridcolor": "white",
             "linecolor": "white",
             "minorgridcolor": "white",
             "startlinecolor": "#2a3f5f"
            },
            "type": "carpet"
           }
          ],
          "choropleth": [
           {
            "colorbar": {
             "outlinewidth": 0,
             "ticks": ""
            },
            "type": "choropleth"
           }
          ],
          "contour": [
           {
            "colorbar": {
             "outlinewidth": 0,
             "ticks": ""
            },
            "colorscale": [
             [
              0,
              "#0d0887"
             ],
             [
              0.1111111111111111,
              "#46039f"
             ],
             [
              0.2222222222222222,
              "#7201a8"
             ],
             [
              0.3333333333333333,
              "#9c179e"
             ],
             [
              0.4444444444444444,
              "#bd3786"
             ],
             [
              0.5555555555555556,
              "#d8576b"
             ],
             [
              0.6666666666666666,
              "#ed7953"
             ],
             [
              0.7777777777777778,
              "#fb9f3a"
             ],
             [
              0.8888888888888888,
              "#fdca26"
             ],
             [
              1,
              "#f0f921"
             ]
            ],
            "type": "contour"
           }
          ],
          "contourcarpet": [
           {
            "colorbar": {
             "outlinewidth": 0,
             "ticks": ""
            },
            "type": "contourcarpet"
           }
          ],
          "heatmap": [
           {
            "colorbar": {
             "outlinewidth": 0,
             "ticks": ""
            },
            "colorscale": [
             [
              0,
              "#0d0887"
             ],
             [
              0.1111111111111111,
              "#46039f"
             ],
             [
              0.2222222222222222,
              "#7201a8"
             ],
             [
              0.3333333333333333,
              "#9c179e"
             ],
             [
              0.4444444444444444,
              "#bd3786"
             ],
             [
              0.5555555555555556,
              "#d8576b"
             ],
             [
              0.6666666666666666,
              "#ed7953"
             ],
             [
              0.7777777777777778,
              "#fb9f3a"
             ],
             [
              0.8888888888888888,
              "#fdca26"
             ],
             [
              1,
              "#f0f921"
             ]
            ],
            "type": "heatmap"
           }
          ],
          "heatmapgl": [
           {
            "colorbar": {
             "outlinewidth": 0,
             "ticks": ""
            },
            "colorscale": [
             [
              0,
              "#0d0887"
             ],
             [
              0.1111111111111111,
              "#46039f"
             ],
             [
              0.2222222222222222,
              "#7201a8"
             ],
             [
              0.3333333333333333,
              "#9c179e"
             ],
             [
              0.4444444444444444,
              "#bd3786"
             ],
             [
              0.5555555555555556,
              "#d8576b"
             ],
             [
              0.6666666666666666,
              "#ed7953"
             ],
             [
              0.7777777777777778,
              "#fb9f3a"
             ],
             [
              0.8888888888888888,
              "#fdca26"
             ],
             [
              1,
              "#f0f921"
             ]
            ],
            "type": "heatmapgl"
           }
          ],
          "histogram": [
           {
            "marker": {
             "pattern": {
              "fillmode": "overlay",
              "size": 10,
              "solidity": 0.2
             }
            },
            "type": "histogram"
           }
          ],
          "histogram2d": [
           {
            "colorbar": {
             "outlinewidth": 0,
             "ticks": ""
            },
            "colorscale": [
             [
              0,
              "#0d0887"
             ],
             [
              0.1111111111111111,
              "#46039f"
             ],
             [
              0.2222222222222222,
              "#7201a8"
             ],
             [
              0.3333333333333333,
              "#9c179e"
             ],
             [
              0.4444444444444444,
              "#bd3786"
             ],
             [
              0.5555555555555556,
              "#d8576b"
             ],
             [
              0.6666666666666666,
              "#ed7953"
             ],
             [
              0.7777777777777778,
              "#fb9f3a"
             ],
             [
              0.8888888888888888,
              "#fdca26"
             ],
             [
              1,
              "#f0f921"
             ]
            ],
            "type": "histogram2d"
           }
          ],
          "histogram2dcontour": [
           {
            "colorbar": {
             "outlinewidth": 0,
             "ticks": ""
            },
            "colorscale": [
             [
              0,
              "#0d0887"
             ],
             [
              0.1111111111111111,
              "#46039f"
             ],
             [
              0.2222222222222222,
              "#7201a8"
             ],
             [
              0.3333333333333333,
              "#9c179e"
             ],
             [
              0.4444444444444444,
              "#bd3786"
             ],
             [
              0.5555555555555556,
              "#d8576b"
             ],
             [
              0.6666666666666666,
              "#ed7953"
             ],
             [
              0.7777777777777778,
              "#fb9f3a"
             ],
             [
              0.8888888888888888,
              "#fdca26"
             ],
             [
              1,
              "#f0f921"
             ]
            ],
            "type": "histogram2dcontour"
           }
          ],
          "mesh3d": [
           {
            "colorbar": {
             "outlinewidth": 0,
             "ticks": ""
            },
            "type": "mesh3d"
           }
          ],
          "parcoords": [
           {
            "line": {
             "colorbar": {
              "outlinewidth": 0,
              "ticks": ""
             }
            },
            "type": "parcoords"
           }
          ],
          "pie": [
           {
            "automargin": true,
            "type": "pie"
           }
          ],
          "scatter": [
           {
            "marker": {
             "colorbar": {
              "outlinewidth": 0,
              "ticks": ""
             }
            },
            "type": "scatter"
           }
          ],
          "scatter3d": [
           {
            "line": {
             "colorbar": {
              "outlinewidth": 0,
              "ticks": ""
             }
            },
            "marker": {
             "colorbar": {
              "outlinewidth": 0,
              "ticks": ""
             }
            },
            "type": "scatter3d"
           }
          ],
          "scattercarpet": [
           {
            "marker": {
             "colorbar": {
              "outlinewidth": 0,
              "ticks": ""
             }
            },
            "type": "scattercarpet"
           }
          ],
          "scattergeo": [
           {
            "marker": {
             "colorbar": {
              "outlinewidth": 0,
              "ticks": ""
             }
            },
            "type": "scattergeo"
           }
          ],
          "scattergl": [
           {
            "marker": {
             "colorbar": {
              "outlinewidth": 0,
              "ticks": ""
             }
            },
            "type": "scattergl"
           }
          ],
          "scattermapbox": [
           {
            "marker": {
             "colorbar": {
              "outlinewidth": 0,
              "ticks": ""
             }
            },
            "type": "scattermapbox"
           }
          ],
          "scatterpolar": [
           {
            "marker": {
             "colorbar": {
              "outlinewidth": 0,
              "ticks": ""
             }
            },
            "type": "scatterpolar"
           }
          ],
          "scatterpolargl": [
           {
            "marker": {
             "colorbar": {
              "outlinewidth": 0,
              "ticks": ""
             }
            },
            "type": "scatterpolargl"
           }
          ],
          "scatterternary": [
           {
            "marker": {
             "colorbar": {
              "outlinewidth": 0,
              "ticks": ""
             }
            },
            "type": "scatterternary"
           }
          ],
          "surface": [
           {
            "colorbar": {
             "outlinewidth": 0,
             "ticks": ""
            },
            "colorscale": [
             [
              0,
              "#0d0887"
             ],
             [
              0.1111111111111111,
              "#46039f"
             ],
             [
              0.2222222222222222,
              "#7201a8"
             ],
             [
              0.3333333333333333,
              "#9c179e"
             ],
             [
              0.4444444444444444,
              "#bd3786"
             ],
             [
              0.5555555555555556,
              "#d8576b"
             ],
             [
              0.6666666666666666,
              "#ed7953"
             ],
             [
              0.7777777777777778,
              "#fb9f3a"
             ],
             [
              0.8888888888888888,
              "#fdca26"
             ],
             [
              1,
              "#f0f921"
             ]
            ],
            "type": "surface"
           }
          ],
          "table": [
           {
            "cells": {
             "fill": {
              "color": "#EBF0F8"
             },
             "line": {
              "color": "white"
             }
            },
            "header": {
             "fill": {
              "color": "#C8D4E3"
             },
             "line": {
              "color": "white"
             }
            },
            "type": "table"
           }
          ]
         },
         "layout": {
          "annotationdefaults": {
           "arrowcolor": "#2a3f5f",
           "arrowhead": 0,
           "arrowwidth": 1
          },
          "autotypenumbers": "strict",
          "coloraxis": {
           "colorbar": {
            "outlinewidth": 0,
            "ticks": ""
           }
          },
          "colorscale": {
           "diverging": [
            [
             0,
             "#8e0152"
            ],
            [
             0.1,
             "#c51b7d"
            ],
            [
             0.2,
             "#de77ae"
            ],
            [
             0.3,
             "#f1b6da"
            ],
            [
             0.4,
             "#fde0ef"
            ],
            [
             0.5,
             "#f7f7f7"
            ],
            [
             0.6,
             "#e6f5d0"
            ],
            [
             0.7,
             "#b8e186"
            ],
            [
             0.8,
             "#7fbc41"
            ],
            [
             0.9,
             "#4d9221"
            ],
            [
             1,
             "#276419"
            ]
           ],
           "sequential": [
            [
             0,
             "#0d0887"
            ],
            [
             0.1111111111111111,
             "#46039f"
            ],
            [
             0.2222222222222222,
             "#7201a8"
            ],
            [
             0.3333333333333333,
             "#9c179e"
            ],
            [
             0.4444444444444444,
             "#bd3786"
            ],
            [
             0.5555555555555556,
             "#d8576b"
            ],
            [
             0.6666666666666666,
             "#ed7953"
            ],
            [
             0.7777777777777778,
             "#fb9f3a"
            ],
            [
             0.8888888888888888,
             "#fdca26"
            ],
            [
             1,
             "#f0f921"
            ]
           ],
           "sequentialminus": [
            [
             0,
             "#0d0887"
            ],
            [
             0.1111111111111111,
             "#46039f"
            ],
            [
             0.2222222222222222,
             "#7201a8"
            ],
            [
             0.3333333333333333,
             "#9c179e"
            ],
            [
             0.4444444444444444,
             "#bd3786"
            ],
            [
             0.5555555555555556,
             "#d8576b"
            ],
            [
             0.6666666666666666,
             "#ed7953"
            ],
            [
             0.7777777777777778,
             "#fb9f3a"
            ],
            [
             0.8888888888888888,
             "#fdca26"
            ],
            [
             1,
             "#f0f921"
            ]
           ]
          },
          "colorway": [
           "#636efa",
           "#EF553B",
           "#00cc96",
           "#ab63fa",
           "#FFA15A",
           "#19d3f3",
           "#FF6692",
           "#B6E880",
           "#FF97FF",
           "#FECB52"
          ],
          "font": {
           "color": "#2a3f5f"
          },
          "geo": {
           "bgcolor": "white",
           "lakecolor": "white",
           "landcolor": "#E5ECF6",
           "showlakes": true,
           "showland": true,
           "subunitcolor": "white"
          },
          "hoverlabel": {
           "align": "left"
          },
          "hovermode": "closest",
          "mapbox": {
           "style": "light"
          },
          "paper_bgcolor": "white",
          "plot_bgcolor": "#E5ECF6",
          "polar": {
           "angularaxis": {
            "gridcolor": "white",
            "linecolor": "white",
            "ticks": ""
           },
           "bgcolor": "#E5ECF6",
           "radialaxis": {
            "gridcolor": "white",
            "linecolor": "white",
            "ticks": ""
           }
          },
          "scene": {
           "xaxis": {
            "backgroundcolor": "#E5ECF6",
            "gridcolor": "white",
            "gridwidth": 2,
            "linecolor": "white",
            "showbackground": true,
            "ticks": "",
            "zerolinecolor": "white"
           },
           "yaxis": {
            "backgroundcolor": "#E5ECF6",
            "gridcolor": "white",
            "gridwidth": 2,
            "linecolor": "white",
            "showbackground": true,
            "ticks": "",
            "zerolinecolor": "white"
           },
           "zaxis": {
            "backgroundcolor": "#E5ECF6",
            "gridcolor": "white",
            "gridwidth": 2,
            "linecolor": "white",
            "showbackground": true,
            "ticks": "",
            "zerolinecolor": "white"
           }
          },
          "shapedefaults": {
           "line": {
            "color": "#2a3f5f"
           }
          },
          "ternary": {
           "aaxis": {
            "gridcolor": "white",
            "linecolor": "white",
            "ticks": ""
           },
           "baxis": {
            "gridcolor": "white",
            "linecolor": "white",
            "ticks": ""
           },
           "bgcolor": "#E5ECF6",
           "caxis": {
            "gridcolor": "white",
            "linecolor": "white",
            "ticks": ""
           }
          },
          "title": {
           "x": 0.05
          },
          "xaxis": {
           "automargin": true,
           "gridcolor": "white",
           "linecolor": "white",
           "ticks": "",
           "title": {
            "standoff": 15
           },
           "zerolinecolor": "white",
           "zerolinewidth": 2
          },
          "yaxis": {
           "automargin": true,
           "gridcolor": "white",
           "linecolor": "white",
           "ticks": "",
           "title": {
            "standoff": 15
           },
           "zerolinecolor": "white",
           "zerolinewidth": 2
          }
         }
        },
        "title": {
         "font": {
          "color": "#4D5663"
         },
         "text": "Average Word Length Distribution"
        },
        "xaxis": {
         "gridcolor": "#E1E5ED",
         "showgrid": true,
         "tickfont": {
          "color": "#4D5663"
         },
         "title": {
          "font": {
           "color": "#4D5663"
          },
          "text": "Average Word Length"
         },
         "zerolinecolor": "#E1E5ED"
        },
        "yaxis": {
         "gridcolor": "#E1E5ED",
         "showgrid": true,
         "tickfont": {
          "color": "#4D5663"
         },
         "title": {
          "font": {
           "color": "#4D5663"
          },
          "text": "Count"
         },
         "zerolinecolor": "#E1E5ED"
        }
       }
      },
      "text/html": [
       "<div>                            <div id=\"7a29df37-6c12-418a-95da-6bb23bb21572\" class=\"plotly-graph-div\" style=\"height:525px; width:100%;\"></div>            <script type=\"text/javascript\">                require([\"plotly\"], function(Plotly) {                    window.PLOTLYENV=window.PLOTLYENV || {};\n",
       "                    window.PLOTLYENV.BASE_URL='https://plot.ly';                                    if (document.getElementById(\"7a29df37-6c12-418a-95da-6bb23bb21572\")) {                    Plotly.newPlot(                        \"7a29df37-6c12-418a-95da-6bb23bb21572\",                        [{\"histfunc\":\"count\",\"histnorm\":\"\",\"marker\":{\"color\":\"rgba(255, 153, 51, 1.0)\",\"line\":{\"color\":\"#4D5663\",\"width\":1.3}},\"name\":\"avg_word_len\",\"nbinsx\":50,\"opacity\":0.8,\"orientation\":\"v\",\"x\":[8.060240963855422,6.2075471698113205,7.2682926829268295,7.285714285714286,6.626168224299065,7.689075630252101,7.769230769230769,7.713178294573644,7.606299212598425,8.146788990825687,7.6063829787234045,7.165605095541402,7.166666666666667,6.571428571428571,7.6141732283464565,6.828125,7.666666666666667,6.856115107913669,6.711764705882353,7.094736842105263,7.775193798449612,7.298701298701299,6.788617886178862,7.959183673469388,7.851851851851852,6.455284552845528,6.934640522875817,6.972222222222222,7.215827338129497,6.509090909090909,7.237288135593221,7.415584415584416,6.51,7.34375,7.295774647887324,7.722689075630252,6.787096774193548,7.326388888888889,6.791666666666667,7.130841121495327,7.615384615384615,8.118421052631579,7.797979797979798,7.0,7.064220183486238,7.350318471337579,8.378048780487806,7.183908045977011,7.130434782608695,7.32051282051282,7.752688172043011,7.375,7.391025641025641,7.95575221238938,6.888888888888889,7.357142857142857,7.0,6.836065573770492,7.654205607476635,7.484848484848484,8.130434782608695,6.973333333333334,7.350318471337579,6.98051948051948,6.790322580645161,7.685714285714286,7.786885245901639,7.734375,6.818181818181818,7.378378378378378,6.764150943396227,7.483606557377049,7.359375,8.016949152542374,7.396103896103896,6.835616438356165,7.592233009708738,7.2272727272727275,7.694805194805195,7.466216216216216,7.048387096774194,7.552083333333333,7.245398773006135,7.319526627218935,7.410256410256411,7.284313725490196,7.717391304347826,6.808641975308642,7.510067114093959,7.278688524590164,6.766666666666667,7.17910447761194,7.475,6.923076923076923,6.887417218543046,6.930232558139535,7.168224299065421,7.543689320388349,7.6521739130434785,6.419642857142857,8.020134228187919,7.7215189873417724,7.235668789808917,7.066666666666666,8.107142857142858,7.212389380530974,7.417721518987341,7.88659793814433,6.96078431372549,7.455696202531645,7.211538461538462,6.837398373983739,7.432835820895522,7.96078431372549,7.4,7.1,8.813186813186814,7.7,7.7592592592592595,7.6375,8.859375,8.069306930693068,7.396946564885496,6.936842105263158,7.166666666666667,7.294117647058823,6.830188679245283,7.359154929577465,6.928571428571429,7.666666666666667,7.156521739130435,6.685185185185185,6.548387096774194,7.283132530120482,7.461538461538462,7.541984732824427,7.326241134751773,7.06875,7.330508474576271,7.533898305084746,7.242718446601942,6.7254901960784315,7.52,7.714285714285714,7.574257425742574,7.252525252525253,7.537735849056604,7.424242424242424,8.452380952380953,7.575342465753424,7.57,7.373015873015873,7.63265306122449,7.852941176470588,7.694444444444445,7.0,7.175824175824176,7.588235294117647,6.716666666666667,6.838709677419355,7.469879518072289,6.481481481481482,7.208053691275167,8.054054054054054,7.253521126760563,7.223529411764706,7.714285714285714,7.097014925373134,7.859813084112149,7.802631578947368,7.25,7.63013698630137,7.244604316546763,7.236363636363636,7.096385542168675,6.828947368421052,7.96969696969697,6.648854961832061,6.434782608695652,7.511111111111111,7.846153846153846,7.035398230088496,6.873563218390805,6.622222222222222,7.333333333333333,6.469135802469136,7.4950495049504955,6.887096774193548,7.516666666666667,7.9,7.7924528301886795,7.113475177304965,7.161538461538462,6.866666666666666,6.846938775510204,7.824324324324325,8.333333333333334,7.12,7.384615384615385,7.170212765957447,6.927083333333333,7.125,7.557894736842106,7.801980198019802,7.614864864864865,6.819354838709677,7.304347826086956,8.266129032258064,7.129032258064516,6.769230769230769,7.472222222222222,6.9743589743589745,6.774193548387097,8.084033613445378,7.108974358974359,7.709677419354839,7.368098159509202,7.117021276595745,7.6375,7.596026490066225,8.418803418803419,7.032520325203252,7.25531914893617,7.4485981308411215,7.543307086614173,7.1375,7.629310344827586,7.17948717948718,7.25,7.303225806451613,7.2967032967032965,7.746987951807229,7.46875,7.745762711864407,6.713333333333333,6.725274725274725,7.886956521739131,6.94017094017094,7.0,8.066666666666666,6.518987341772152,6.82962962962963,7.2,6.647058823529412,7.09,6.988888888888889,6.7443609022556394,7.181818181818182,7.1893939393939394,7.113333333333333,7.4495412844036695,6.395833333333333,7.214814814814815,6.824675324675325,7.601769911504425,7.137931034482759,7.425531914893617,6.853658536585366,7.4036697247706424,7.339285714285714,7.25531914893617,7.035087719298246,7.824561403508772,7.306569343065694,7.375796178343949,7.5375,6.671140939597316,8.283582089552239,7.522222222222222,6.699029126213592,7.03125,6.914893617021277,7.074074074074074,7.445454545454545,7.611111111111111,7.287769784172662,7.045112781954887,7.441860465116279,7.147058823529412,7.25531914893617,7.348314606741573,7.688524590163935,7.766666666666667,7.090163934426229,6.8125,7.409722222222222,7.445378151260504,7.243589743589744,7.546666666666667,7.217948717948718,7.510204081632653,7.330097087378641,7.673611111111111,7.160493827160494,6.609195402298851,7.779874213836478,7.771653543307087,7.475247524752476,7.768421052631579,8.017699115044248,7.966292134831461,7.125,7.5,6.898876404494382,7.375,6.79646017699115,7.244897959183674,8.127906976744185,7.5344827586206895,7.117647058823529,8.222222222222221,6.947368421052632,7.252336448598131,7.615942028985507,6.958904109589041,7.260273972602739,7.507936507936508,7.481481481481482,7.277777777777778,7.522222222222222,7.87012987012987,7.9326923076923075,7.326666666666667,7.965116279069767,7.317460317460317,6.586206896551724,6.643356643356643,8.078125,7.215827338129497,7.590909090909091,7.533333333333333,6.573248407643312,7.303571428571429,6.878787878787879,7.2384615384615385,6.588235294117647,7.7272727272727275,7.375,7.587628865979381,7.520408163265306,8.0,7.622047244094488,7.220183486238532,7.222222222222222,7.489510489510489,7.427350427350428,7.229007633587786,6.8,7.027522935779817,7.1461538461538465,6.849462365591398,7.245283018867925,7.008196721311475,6.615384615384615,6.529411764705882,7.481751824817518,7.5,7.449438202247191,6.934065934065934,6.933333333333334,7.330357142857143,6.5703125,7.022388059701493,7.1454545454545455,7.153153153153153,7.24203821656051,7.339805825242719,7.300813008130081,7.126050420168068,6.936936936936937,8.282828282828282,7.478260869565218,7.765217391304348,7.0476190476190474,6.864285714285714,6.8604651162790695,7.2214285714285715,6.916129032258064,6.407407407407407,7.0,7.857142857142857,7.340579710144928,8.069230769230769,7.211267605633803,7.346153846153846,7.294642857142857,7.619469026548672,7.748201438848921,8.023255813953488,7.035211267605634,7.0,7.303370786516854,7.39,6.863247863247863,7.373626373626373,7.034782608695652,7.311475409836065,7.0606060606060606,7.115384615384615,7.137931034482759,7.078947368421052,7.5,7.006849315068493,7.96078431372549,7.27,7.329268292682927,7.461538461538462,6.68,7.578947368421052,7.958762886597938,7.42,7.861111111111111,7.638297872340425,7.077669902912621,7.13,7.5049504950495045,7.197278911564626,6.983050847457627,8.605263157894736,7.28,6.662162162162162,7.467948717948718,7.2727272727272725,7.391752577319588,7.164948453608248,6.654929577464789,7.0602409638554215,8.441558441558442,6.86231884057971,7.081967213114754,8.035294117647059,6.927083333333333,7.238095238095238,7.768115942028985,7.430656934306569,7.849462365591398,7.217391304347826,7.17948717948718,8.053571428571429,6.751937984496124,7.72,7.041322314049586,6.522123893805309,7.658730158730159,7.140625,7.426966292134831,7.851851851851852,7.145985401459854,7.762711864406779,7.35042735042735,7.574468085106383,7.196261682242991,7.813953488372093,7.315384615384615,7.556521739130435,7.246153846153846,7.647058823529412,7.487179487179487,7.910714285714286,7.03125,6.864583333333333,7.344,7.138888888888889,6.634920634920635,6.827160493827161,7.617647058823529,7.174757281553398,7.073170731707317,7.862068965517241,6.912280701754386,7.67,6.758928571428571,7.073170731707317,7.253846153846154,7.212389380530974,7.651685393258427,7.413793103448276,7.752,7.782608695652174,7.457142857142857,8.3,7.432098765432099,6.8076923076923075,7.407894736842105,7.337931034482758,7.77,7.426086956521739,7.232323232323233,7.105263157894737,7.133333333333334,7.253333333333333,7.36144578313253,7.333333333333333,7.396396396396397,7.495145631067961,7.054945054945055,6.908045977011494,6.8429752066115705,7.074074074074074,7.586206896551724,7.240384615384615,6.79020979020979,6.9222222222222225,7.714285714285714,8.1640625,7.092105263157895,7.446153846153846,6.87218045112782,7.376923076923077,7.491228070175438,6.718518518518518,7.882352941176471,7.916666666666667,7.428571428571429,7.24375,7.196969696969697,7.672727272727273,6.7153846153846155,7.854368932038835,7.657894736842105,7.006802721088436,7.0,7.876623376623376,7.804597701149425,7.173333333333333,7.121212121212121,7.347222222222222,7.422535211267606,7.675,7.236111111111111,6.775862068965517,7.153846153846154,7.077586206896552,7.3105590062111805,7.5473684210526315,6.215909090909091,7.583333333333333,7.094017094017094,7.416666666666667,7.870689655172414,7.404109589041096,7.305555555555555,7.7011494252873565,7.901234567901234,7.5963302752293576,7.45925925925926,7.054347826086956,8.588709677419354,7.661290322580645,6.857142857142857,8.076086956521738,8.597701149425287,6.923809523809524,7.26530612244898,7.359223300970874,7.064814814814815,7.76,8.438356164383562,7.538461538461538,7.774774774774775,7.149532710280374,6.947916666666667,6.630434782608695,7.470588235294118,6.564705882352941,7.278350515463917,6.722222222222222,7.619718309859155,7.507936507936508,7.48062015503876,7.357142857142857,7.425925925925926,7.514018691588785,7.25,7.0246913580246915,7.145631067961165,7.465346534653466,7.121951219512195,7.598214285714286,7.586956521739131,7.3088235294117645,6.967032967032967,6.909774436090226,7.6455696202531644,7.635135135135135,6.78,7.649635036496351,7.3076923076923075,6.846938775510204,6.288135593220339,7.208053691275167,7.241830065359477,7.253968253968254,7.048275862068966,7.588235294117647,7.099099099099099,7.647058823529412,6.606060606060606,7.300653594771242,7.990566037735849,6.9035087719298245,6.955056179775281,7.2063492063492065,6.481203007518797,7.185185185185185,6.966666666666667,6.506024096385542,7.435185185185185,7.509615384615385,7.3125,7.737288135593221,6.962264150943396,7.32258064516129,7.043859649122807,7.322784810126582,7.431818181818182,7.65,7.630434782608695,7.196850393700787,7.73015873015873,6.9393939393939394,7.520833333333333,8.26086956521739,7.179310344827586,6.659574468085107,8.155172413793103,7.368932038834951,7.074074074074074,6.713114754098361,7.5703125,7.419161676646707,6.664634146341464,7.46218487394958,7.556701030927835,7.637362637362638,8.085714285714285,6.937106918238993,7.846153846153846,7.336734693877551,7.202702702702703,7.460431654676259,7.440476190476191,7.005847953216374,7.060344827586207,7.373983739837398,7.264150943396227,7.981651376146789,8.156028368794326,7.463917525773196,7.390909090909091,7.848214285714286,6.442622950819672,7.0,6.754237288135593,7.644444444444445,7.186046511627907,7.076190476190476,6.85,7.0,7.233333333333333,7.2894736842105265,6.6380952380952385,7.549450549450549,7.580952380952381,7.141935483870967,7.952941176470588,7.415584415584416,7.640350877192983,8.021897810218977,7.359375,6.978102189781022,7.321212121212121,7.7227722772277225,6.8734177215189876,7.0,7.879518072289157,7.455128205128205,7.302752293577981,7.404040404040404,7.507462686567164,7.315315315315315,7.2835820895522385,7.165517241379311,7.688524590163935,6.7727272727272725,7.0095238095238095,7.419117647058823,7.9879518072289155,7.072727272727272,7.183673469387755,7.042553191489362,7.055045871559633,7.471153846153846,7.447058823529412,7.737288135593221,6.934579439252336,7.414414414414415,7.50354609929078,7.541666666666667,8.070063694267516,7.287878787878788,7.410958904109589,7.466666666666667,8.428571428571429,6.875,7.195652173913044,7.897435897435898,6.9375,7.776859504132231,8.007352941176471,7.183098591549296,6.931034482758621,7.064516129032258,7.945945945945946,7.43859649122807,7.240384615384615,7.333333333333333,7.190184049079755,7.032679738562091,7.495495495495495,7.067796610169491,7.439024390243903,7.876923076923077,6.375,7.515527950310559,7.411764705882353,7.439655172413793,6.7555555555555555,7.219512195121951,6.980582524271845,7.384,7.448275862068965,7.166666666666667,7.378378378378378,7.520325203252033,7.0359712230215825,7.444444444444445,7.554545454545455,7.2727272727272725,7.817204301075269,7.121428571428571,7.0852713178294575,7.385542168674699,7.782608695652174,7.411764705882353,7.401960784313726,7.881188118811881,6.875,7.513888888888889,7.611940298507463,8.11111111111111,7.245901639344262,6.673469387755102,7.017094017094017,6.93491124260355,7.6,7.15,7.474074074074074,7.107142857142857,7.170731707317073,7.073770491803279,6.8618421052631575,7.763888888888889,6.684210526315789,7.28695652173913,8.72,7.84,6.735849056603773,7.096774193548387,7.290780141843972,7.7011494252873565,6.986666666666666,7.357142857142857,7.016949152542373,7.262135922330097,7.6125,7.478260869565218,7.444444444444445,7.64367816091954,7.449275362318841,7.488888888888889,7.888888888888889,7.285714285714286,6.544715447154472,7.288288288288288,7.596774193548387,8.196428571428571,7.467948717948718,7.4375,7.662790697674419,7.4125,6.985074626865671,7.317647058823529,7.436507936507937,7.781512605042017,6.433333333333334,6.836734693877551,7.556818181818182,7.088888888888889,6.715909090909091,7.235294117647059,7.012345679012346,7.859813084112149,7.271428571428571,7.115384615384615,7.690140845070423,7.481012658227848,7.620689655172414,7.212765957446808,7.451612903225806,7.752941176470588,7.3577981651376145,7.426229508196721,7.6422018348623855,7.178082191780822,7.31,7.1644736842105265,7.345454545454546,7.808988764044944,6.603603603603603,7.777777777777778,7.6231884057971016,6.990990990990991,7.394495412844036,7.087837837837838,6.913043478260869,6.6521739130434785,7.140845070422535,8.204301075268818,7.144329896907217,6.707964601769912,7.13,7.555555555555555,7.597701149425287,7.285714285714286,7.680412371134021,7.169934640522876,7.9,7.11864406779661,7.169491525423729,7.296296296296297,7.421428571428572,7.308219178082192,6.9772727272727275,7.777777777777778,6.804195804195804,7.28421052631579,8.157894736842104,7.076923076923077,7.638655462184874,7.041666666666667,7.97029702970297,7.532051282051282,7.557377049180328,7.195402298850575,6.614457831325301,7.904761904761905,8.214285714285714,7.36697247706422,6.782608695652174,6.922413793103448,6.926470588235294,6.6521739130434785,8.666666666666666,7.421568627450981,8.025641025641026,6.52,6.351648351648351,7.272058823529412,6.565789473684211,7.165217391304348,7.304635761589404,7.341176470588235,7.061855670103093,7.66887417218543,7.601941747572815,7.8,7.106796116504855,7.08955223880597,7.291666666666667,6.847560975609756,7.388888888888889,7.527272727272727,7.411764705882353,6.8431372549019605,7.0095238095238095,7.333333333333333,6.85,6.438356164383562,7.670329670329671,6.883116883116883,7.764044943820225,6.378947368421053,7.074766355140187,7.269230769230769,6.98125,6.896551724137931,7.434426229508197,7.291666666666667,7.157894736842105,7.7936507936507935,6.782608695652174,7.188524590163935,7.025,6.957264957264957,6.716049382716049,7.076923076923077,7.329896907216495,7.126984126984127,7.696428571428571,6.866666666666666,7.033898305084746,7.5212765957446805,7.525773195876289,7.757009345794392,7.876712328767123,7.625,7.650943396226415,6.9748427672955975,7.148148148148148,7.543307086614173,7.835051546391752,7.330578512396694,7.131868131868132,7.092105263157895,7.682352941176471,7.024390243902439,7.733333333333333,6.964285714285714,7.443181818181818,7.413793103448276,7.129032258064516,6.969325153374233,6.521472392638037,7.096153846153846,7.242424242424242,7.035087719298246,8.40983606557377,7.753086419753086,8.365079365079366,7.076923076923077,6.25,7.5,7.364406779661017,6.956896551724138,7.375,7.304054054054054,7.742857142857143,8.21830985915493,7.222222222222222,7.256880733944954,7.333333333333333,7.295454545454546,6.811320754716981,8.308823529411764,7.754716981132075,7.551020408163265,7.314102564102564,7.160919540229885,7.872727272727273,6.79047619047619,7.644444444444445,6.517241379310345,7.214285714285714,5.983870967741935,7.464285714285714,7.2727272727272725,7.111888111888112,7.284090909090909,7.1375,7.26,6.78125,6.139784946236559,7.636363636363637,7.492753623188406,7.872093023255814,7.2155172413793105,7.344444444444444,7.524193548387097,6.696078431372549,7.538461538461538,7.150943396226415,7.184782608695652,7.1,7.793103448275862,7.490322580645161,6.896907216494846,7.169491525423729,7.438202247191011,7.570093457943925,7.125,7.6138613861386135,6.950617283950617,7.358974358974359,7.317241379310345,6.711340206185567,7.089108910891089,7.246913580246914,7.881188118811881,6.935185185185185,7.0,7.644736842105263,7.301369863013699,6.061224489795919,7.176,6.7734375,8.155555555555555,7.3,7.552083333333333,7.0310077519379846,7.4787234042553195,7.295302013422819,7.427272727272728,6.863636363636363,7.736363636363636,7.25,7.517543859649122,7.869158878504673,7.666666666666667,7.666666666666667,6.978947368421053,7.569444444444445,7.606060606060606,7.776470588235294,7.555555555555555,7.719298245614035,7.228571428571429,6.898550724637682,8.57,7.285714285714286,7.288135593220339,7.818181818181818,7.049586776859504,6.453608247422681,7.355371900826446,7.8133333333333335,6.59,7.5646258503401365,6.291666666666667,7.099236641221374,7.427184466019417,7.008620689655173,7.470588235294118,6.888888888888889,7.299145299145299,7.36,7.088,7.721311475409836,6.76984126984127,6.932038834951456,7.124031007751938,6.938650306748467,8.653846153846153,7.164179104477612,7.0246913580246915,6.720588235294118,7.413333333333333,7.265432098765432,7.686274509803922,7.048275862068966,7.086956521739131,7.140495867768595,7.031496062992126,6.5174825174825175,7.119565217391305,7.04,7.373493975903615,7.701754385964913,6.75,7.402298850574713,7.2976190476190474,8.43939393939394,6.908045977011494,6.885496183206107,7.875,7.253846153846154,7.421052631578948,6.8478260869565215,7.176,7.336633663366337,7.9609375,7.1923076923076925,6.780487804878049,7.078125,7.958620689655173,8.007246376811594,7.678260869565217,6.771241830065359,6.6722689075630255,7.2773722627737225,7.659090909090909,7.375838926174497,8.138686131386862,7.419642857142857,7.319587628865979,7.56390977443609,7.5,8.139240506329115,7.3924050632911396,6.76595744680851,7.495412844036697,7.647058823529412,7.768656716417911,7.051851851851852,6.879032258064516,6.505050505050505,7.52755905511811,7.321428571428571,7.628865979381444,6.755102040816326,6.941860465116279,7.492537313432836,7.476190476190476,7.558558558558558,7.478260869565218,8.029702970297029,8.336633663366337,7.475,7.450980392156863,7.166666666666667,7.36231884057971,6.8125,7.802547770700637,7.307017543859649,7.660377358490566,7.577464788732394,6.980769230769231,7.833333333333333,6.953125,6.8431372549019605,6.9125,7.835714285714285,6.546666666666667,7.216666666666667,6.911764705882353,6.976190476190476,7.393939393939394,6.947368421052632,7.509433962264151,7.663265306122449,6.678260869565217,6.257142857142857,7.530434782608696,7.085365853658536,6.680555555555555,7.0602409638554215,7.504201680672269,7.675,6.754385964912281,7.25,7.205128205128205,7.421875,6.928571428571429,7.338842975206612,7.355555555555555,7.0,7.432098765432099,7.384615384615385,6.82258064516129,5.983333333333333,8.213740458015268,6.878378378378378,7.434782608695652,6.815789473684211,7.5394736842105265,7.08080808080808,6.587209302325581,7.39873417721519,7.3023255813953485,6.770833333333333,7.276190476190476,7.5,7.553846153846154,7.355555555555555,8.155963302752294,7.859154929577465,7.381578947368421,7.466165413533835,8.26984126984127,7.700854700854701,7.613793103448276,7.722222222222222,7.018518518518518,7.0265486725663715,7.318181818181818,8.112244897959183,7.637362637362638,7.211538461538462,6.972727272727273,7.470588235294118,7.280487804878049,6.828402366863905,6.901960784313726,7.1571428571428575,6.5813953488372094,7.435897435897436,7.012738853503185,7.909090909090909,7.666666666666667,7.262711864406779,7.746376811594203,7.2,6.784090909090909,6.673684210526316,7.277777777777778,6.837606837606837,7.288288288288288,7.366666666666666,7.319587628865979,7.650485436893204,8.588235294117647,7.372881355932203,6.763888888888889,6.7984496124031,7.289719626168225,6.751592356687898,6.970588235294118,6.3052631578947365,7.325,7.093023255813954,8.228571428571428,7.5,7.637931034482759,6.898550724637682,7.0,6.96039603960396,7.241935483870968,6.9375,7.30188679245283,7.097222222222222,7.658227848101266,6.929936305732484,6.90566037735849,6.089887640449438,7.257142857142857,7.393700787401575,7.4475524475524475,7.645161290322581,6.137931034482759,7.3619047619047615,7.068493150684931,7.745614035087719,7.507936507936508,7.557251908396947,8.0,7.102941176470588,7.151898734177215,8.146788990825687,6.719512195121951,6.834862385321101,7.956896551724138,7.725274725274725,7.038759689922481,7.936305732484076,7.8023255813953485,7.344262295081967,7.285714285714286,6.69,6.589147286821706,7.696629213483146,7.2405063291139244,8.137931034482758,7.469135802469136,7.3538461538461535,7.3,7.540983606557377,7.188118811881188,6.9125,6.603448275862069,7.0,7.849056603773585,6.505263157894737,7.4520547945205475,6.830188679245283,7.177215189873418,6.642857142857143,7.433333333333334,7.2631578947368425,7.5479452054794525,7.212962962962963,7.458333333333333,6.5,7.0,6.366666666666666,8.056603773584905,7.5,7.260416666666667,7.1521739130434785,8.011764705882353,7.260869565217392,7.188311688311688,6.629310344827586,7.232876712328767,7.086538461538462,6.849056603773585,6.721649484536083,7.074626865671642,6.958333333333333,7.172839506172839,7.398550724637682,7.614457831325301,8.102739726027398,7.379310344827586,7.289156626506024,7.512820512820513,7.454545454545454,6.841121495327103,7.011695906432749,6.828828828828829,7.179245283018868,7.064814814814815,7.164948453608248,6.91358024691358,7.56,7.519230769230769,7.126315789473685,7.569230769230769,7.39344262295082,7.1688311688311686,7.349397590361446,7.354838709677419,7.0886075949367084,7.5777777777777775,6.723076923076923,7.51063829787234,7.10077519379845,7.662790697674419,7.018518518518518,7.208695652173913,7.24031007751938,7.182608695652174,6.862857142857143,6.82258064516129,7.571428571428571,6.6947368421052635,7.6,6.964285714285714,7.087912087912088,7.12781954887218,7.054054054054054,7.716049382716049,7.226950354609929,6.932038834951456,7.71875,6.735294117647059,7.208955223880597,7.318471337579618,7.083916083916084,7.0,7.023809523809524,6.466666666666667,7.235294117647059,8.180555555555555,6.935483870967742,7.72289156626506,6.986486486486487,7.257142857142857,7.642857142857143,7.083969465648855,7.608695652173913,7.677685950413223,7.169354838709677,7.352380952380952,7.018518518518518,7.090909090909091,7.825,7.0285714285714285,7.527272727272727,7.364485981308412,8.26086956521739,7.259541984732825,7.423611111111111,6.635658914728682,7.011627906976744,7.655405405405405,6.728155339805825,8.279411764705882,6.739130434782608,7.0647482014388485,7.114285714285714,7.231578947368421,7.239669421487603,6.970873786407767,7.383561643835616,7.586206896551724,7.260869565217392,6.972972972972973,6.959677419354839,6.752136752136752,6.964285714285714,7.316831683168317,7.25,6.691860465116279,7.072368421052632,7.352941176470588,8.11965811965812,6.821138211382114,7.0606060606060606,6.282608695652174,7.2936507936507935,7.590163934426229,7.75,7.734375,6.835051546391752,7.365591397849462,6.767123287671233,6.719298245614035,7.875,6.683333333333334,7.15,7.302752293577981,7.323529411764706,6.7555555555555555,6.666666666666667,6.55,7.860759493670886,7.289156626506024,7.375,7.515625,7.878378378378378,6.96,7.840336134453781,7.9186046511627906,7.841666666666667,6.5479452054794525,6.378378378378378,6.661971830985915,8.447619047619048,7.6461538461538465,7.5271317829457365,7.860215053763441,6.956834532374101,8.203703703703704,6.88,6.779874213836478,7.086538461538462,7.0754716981132075,7.788888888888889,7.252336448598131,6.918918918918919,6.670454545454546,7.207792207792208,7.525,7.517857142857143,7.125,7.253521126760563,7.342105263157895,7.5046728971962615,7.755813953488372,7.612244897959184,7.122448979591836,7.385714285714286,6.808219178082192,6.933333333333334,6.804511278195489,6.673202614379085,7.114285714285714,7.219512195121951,6.466666666666667,7.283687943262412,6.9375,7.373015873015873,7.446601941747573,6.30827067669173,7.390909090909091,7.103896103896104,6.991869918699187,7.348623853211009,7.017543859649122,7.147368421052631,7.314102564102564,7.530864197530864,6.764044943820225,6.858208955223881,7.767123287671233,7.305084745762712,7.821428571428571,6.820224719101123,7.02803738317757,7.10126582278481,7.814432989690721,7.62406015037594,7.470588235294118,7.913793103448276,7.516339869281046,6.275862068965517,6.713286713286713,6.901515151515151,7.160377358490566,7.408695652173913,7.008928571428571,7.060344827586207,7.2936507936507935,7.266187050359712,6.615384615384615,7.43956043956044,7.575757575757576,7.04,7.19,7.3931623931623935,6.979591836734694,7.388888888888889,7.048076923076923,7.605633802816901,7.90566037735849,7.657894736842105,7.0476190476190474,7.0,7.835616438356165,5.971631205673759,7.625,7.469879518072289,7.314814814814815,7.551724137931035,7.9818181818181815,7.02054794520548,7.264705882352941,7.38655462184874,7.25,7.213333333333333,7.035294117647059,7.141025641025641,7.619718309859155,7.9609375,7.3604651162790695,6.469026548672566,8.014285714285714,7.985915492957746,6.722222222222222,7.061946902654867,8.050632911392405,6.739495798319328,7.0625,6.880952380952381,7.4222222222222225,6.845637583892618,6.949367088607595,7.370967741935484,6.546762589928058,6.884615384615385,7.230769230769231,7.9491525423728815,8.054545454545455,7.784313725490196,7.6477272727272725,7.353982300884955,6.982142857142857,6.63963963963964,7.078260869565217,7.5476190476190474,6.574468085106383,7.328571428571428,7.03921568627451,8.065040650406504,7.162162162162162,7.01010101010101,6.144444444444445,7.295918367346939,7.333333333333333,7.088,7.08641975308642,7.803921568627451,7.057971014492754,7.222222222222222,7.333333333333333,7.449612403100775,6.627118644067797,6.860869565217391,7.209677419354839,7.6722689075630255,7.841269841269841,8.117647058823529,7.160493827160494,7.392156862745098,7.099173553719008,7.4,6.801980198019802,8.075,6.924242424242424,7.873563218390805,7.368852459016393,7.169491525423729,7.485294117647059,7.488095238095238,8.4,7.9,7.35064935064935,7.644230769230769,6.6875,7.567375886524823,7.3125,7.591304347826087,7.714285714285714,7.595238095238095,7.804347826086956,6.893203883495145,7.783333333333333,7.402439024390244,8.315068493150685,7.380281690140845,7.958333333333333,8.093959731543624,6.514851485148514,7.419753086419753,6.965116279069767,7.626666666666667,7.243243243243243,7.339622641509434,7.5636363636363635,5.619047619047619,7.319587628865979,7.592592592592593,7.780487804878049,6.493150684931507,6.172413793103448,8.443037974683545,6.829268292682927,7.232558139534884,7.914634146341464,6.084745762711864,7.258426966292135,7.5,7.146341463414634,7.169014084507042,6.979381443298969,7.243243243243243,6.565217391304348,7.517241379310345,7.363013698630137,6.882352941176471,7.262626262626263,7.5394736842105265,7.942857142857143,6.630769230769231,6.968253968253968,7.7534246575342465,6.714285714285714,6.782945736434108,7.426229508196721,7.442622950819672,7.171428571428572,7.0,7.147058823529412,7.142857142857143,7.128440366972477,7.333333333333333,7.515384615384615,7.327272727272727,7.91044776119403,7.227722772277228,6.5256410256410255,7.841121495327103,8.0,6.658823529411765,6.955882352941177,7.6422018348623855,7.132075471698113,7.258928571428571,6.666666666666667,7.488372093023256,7.142857142857143,7.384615384615385,7.298701298701299,7.293233082706767,7.473684210526316,6.685314685314685,6.716666666666667,7.824561403508772,7.483050847457627,7.008771929824562,7.395348837209302,7.330097087378641,7.192982456140351,6.675675675675675,5.930379746835443,5.849557522123894,7.5,6.7,6.445454545454545,7.524752475247524,7.473684210526316,6.917808219178082,6.913043478260869,6.605263157894737,8.0,6.99290780141844,7.845070422535211,6.793103448275862,6.746835443037975,6.574468085106383,7.52112676056338,7.163265306122449,7.133333333333334,7.771929824561403,7.127272727272727,7.2,6.8,6.966292134831461,8.11111111111111,6.465753424657534,6.533834586466165,7.373626373626373,5.854368932038835,8.06060606060606,7.192771084337349,8.175,7.3076923076923075,7.080645161290323,7.089743589743589,7.145161290322581,7.465753424657534,7.2682926829268295],\"type\":\"histogram\"}],                        {\"barmode\":\"overlay\",\"legend\":{\"bgcolor\":\"#F5F6F9\",\"font\":{\"color\":\"#4D5663\"}},\"paper_bgcolor\":\"#F5F6F9\",\"plot_bgcolor\":\"#F5F6F9\",\"template\":{\"data\":{\"barpolar\":[{\"marker\":{\"line\":{\"color\":\"#E5ECF6\",\"width\":0.5},\"pattern\":{\"fillmode\":\"overlay\",\"size\":10,\"solidity\":0.2}},\"type\":\"barpolar\"}],\"bar\":[{\"error_x\":{\"color\":\"#2a3f5f\"},\"error_y\":{\"color\":\"#2a3f5f\"},\"marker\":{\"line\":{\"color\":\"#E5ECF6\",\"width\":0.5},\"pattern\":{\"fillmode\":\"overlay\",\"size\":10,\"solidity\":0.2}},\"type\":\"bar\"}],\"carpet\":[{\"aaxis\":{\"endlinecolor\":\"#2a3f5f\",\"gridcolor\":\"white\",\"linecolor\":\"white\",\"minorgridcolor\":\"white\",\"startlinecolor\":\"#2a3f5f\"},\"baxis\":{\"endlinecolor\":\"#2a3f5f\",\"gridcolor\":\"white\",\"linecolor\":\"white\",\"minorgridcolor\":\"white\",\"startlinecolor\":\"#2a3f5f\"},\"type\":\"carpet\"}],\"choropleth\":[{\"colorbar\":{\"outlinewidth\":0,\"ticks\":\"\"},\"type\":\"choropleth\"}],\"contourcarpet\":[{\"colorbar\":{\"outlinewidth\":0,\"ticks\":\"\"},\"type\":\"contourcarpet\"}],\"contour\":[{\"colorbar\":{\"outlinewidth\":0,\"ticks\":\"\"},\"colorscale\":[[0.0,\"#0d0887\"],[0.1111111111111111,\"#46039f\"],[0.2222222222222222,\"#7201a8\"],[0.3333333333333333,\"#9c179e\"],[0.4444444444444444,\"#bd3786\"],[0.5555555555555556,\"#d8576b\"],[0.6666666666666666,\"#ed7953\"],[0.7777777777777778,\"#fb9f3a\"],[0.8888888888888888,\"#fdca26\"],[1.0,\"#f0f921\"]],\"type\":\"contour\"}],\"heatmapgl\":[{\"colorbar\":{\"outlinewidth\":0,\"ticks\":\"\"},\"colorscale\":[[0.0,\"#0d0887\"],[0.1111111111111111,\"#46039f\"],[0.2222222222222222,\"#7201a8\"],[0.3333333333333333,\"#9c179e\"],[0.4444444444444444,\"#bd3786\"],[0.5555555555555556,\"#d8576b\"],[0.6666666666666666,\"#ed7953\"],[0.7777777777777778,\"#fb9f3a\"],[0.8888888888888888,\"#fdca26\"],[1.0,\"#f0f921\"]],\"type\":\"heatmapgl\"}],\"heatmap\":[{\"colorbar\":{\"outlinewidth\":0,\"ticks\":\"\"},\"colorscale\":[[0.0,\"#0d0887\"],[0.1111111111111111,\"#46039f\"],[0.2222222222222222,\"#7201a8\"],[0.3333333333333333,\"#9c179e\"],[0.4444444444444444,\"#bd3786\"],[0.5555555555555556,\"#d8576b\"],[0.6666666666666666,\"#ed7953\"],[0.7777777777777778,\"#fb9f3a\"],[0.8888888888888888,\"#fdca26\"],[1.0,\"#f0f921\"]],\"type\":\"heatmap\"}],\"histogram2dcontour\":[{\"colorbar\":{\"outlinewidth\":0,\"ticks\":\"\"},\"colorscale\":[[0.0,\"#0d0887\"],[0.1111111111111111,\"#46039f\"],[0.2222222222222222,\"#7201a8\"],[0.3333333333333333,\"#9c179e\"],[0.4444444444444444,\"#bd3786\"],[0.5555555555555556,\"#d8576b\"],[0.6666666666666666,\"#ed7953\"],[0.7777777777777778,\"#fb9f3a\"],[0.8888888888888888,\"#fdca26\"],[1.0,\"#f0f921\"]],\"type\":\"histogram2dcontour\"}],\"histogram2d\":[{\"colorbar\":{\"outlinewidth\":0,\"ticks\":\"\"},\"colorscale\":[[0.0,\"#0d0887\"],[0.1111111111111111,\"#46039f\"],[0.2222222222222222,\"#7201a8\"],[0.3333333333333333,\"#9c179e\"],[0.4444444444444444,\"#bd3786\"],[0.5555555555555556,\"#d8576b\"],[0.6666666666666666,\"#ed7953\"],[0.7777777777777778,\"#fb9f3a\"],[0.8888888888888888,\"#fdca26\"],[1.0,\"#f0f921\"]],\"type\":\"histogram2d\"}],\"histogram\":[{\"marker\":{\"pattern\":{\"fillmode\":\"overlay\",\"size\":10,\"solidity\":0.2}},\"type\":\"histogram\"}],\"mesh3d\":[{\"colorbar\":{\"outlinewidth\":0,\"ticks\":\"\"},\"type\":\"mesh3d\"}],\"parcoords\":[{\"line\":{\"colorbar\":{\"outlinewidth\":0,\"ticks\":\"\"}},\"type\":\"parcoords\"}],\"pie\":[{\"automargin\":true,\"type\":\"pie\"}],\"scatter3d\":[{\"line\":{\"colorbar\":{\"outlinewidth\":0,\"ticks\":\"\"}},\"marker\":{\"colorbar\":{\"outlinewidth\":0,\"ticks\":\"\"}},\"type\":\"scatter3d\"}],\"scattercarpet\":[{\"marker\":{\"colorbar\":{\"outlinewidth\":0,\"ticks\":\"\"}},\"type\":\"scattercarpet\"}],\"scattergeo\":[{\"marker\":{\"colorbar\":{\"outlinewidth\":0,\"ticks\":\"\"}},\"type\":\"scattergeo\"}],\"scattergl\":[{\"marker\":{\"colorbar\":{\"outlinewidth\":0,\"ticks\":\"\"}},\"type\":\"scattergl\"}],\"scattermapbox\":[{\"marker\":{\"colorbar\":{\"outlinewidth\":0,\"ticks\":\"\"}},\"type\":\"scattermapbox\"}],\"scatterpolargl\":[{\"marker\":{\"colorbar\":{\"outlinewidth\":0,\"ticks\":\"\"}},\"type\":\"scatterpolargl\"}],\"scatterpolar\":[{\"marker\":{\"colorbar\":{\"outlinewidth\":0,\"ticks\":\"\"}},\"type\":\"scatterpolar\"}],\"scatter\":[{\"marker\":{\"colorbar\":{\"outlinewidth\":0,\"ticks\":\"\"}},\"type\":\"scatter\"}],\"scatterternary\":[{\"marker\":{\"colorbar\":{\"outlinewidth\":0,\"ticks\":\"\"}},\"type\":\"scatterternary\"}],\"surface\":[{\"colorbar\":{\"outlinewidth\":0,\"ticks\":\"\"},\"colorscale\":[[0.0,\"#0d0887\"],[0.1111111111111111,\"#46039f\"],[0.2222222222222222,\"#7201a8\"],[0.3333333333333333,\"#9c179e\"],[0.4444444444444444,\"#bd3786\"],[0.5555555555555556,\"#d8576b\"],[0.6666666666666666,\"#ed7953\"],[0.7777777777777778,\"#fb9f3a\"],[0.8888888888888888,\"#fdca26\"],[1.0,\"#f0f921\"]],\"type\":\"surface\"}],\"table\":[{\"cells\":{\"fill\":{\"color\":\"#EBF0F8\"},\"line\":{\"color\":\"white\"}},\"header\":{\"fill\":{\"color\":\"#C8D4E3\"},\"line\":{\"color\":\"white\"}},\"type\":\"table\"}]},\"layout\":{\"annotationdefaults\":{\"arrowcolor\":\"#2a3f5f\",\"arrowhead\":0,\"arrowwidth\":1},\"autotypenumbers\":\"strict\",\"coloraxis\":{\"colorbar\":{\"outlinewidth\":0,\"ticks\":\"\"}},\"colorscale\":{\"diverging\":[[0,\"#8e0152\"],[0.1,\"#c51b7d\"],[0.2,\"#de77ae\"],[0.3,\"#f1b6da\"],[0.4,\"#fde0ef\"],[0.5,\"#f7f7f7\"],[0.6,\"#e6f5d0\"],[0.7,\"#b8e186\"],[0.8,\"#7fbc41\"],[0.9,\"#4d9221\"],[1,\"#276419\"]],\"sequential\":[[0.0,\"#0d0887\"],[0.1111111111111111,\"#46039f\"],[0.2222222222222222,\"#7201a8\"],[0.3333333333333333,\"#9c179e\"],[0.4444444444444444,\"#bd3786\"],[0.5555555555555556,\"#d8576b\"],[0.6666666666666666,\"#ed7953\"],[0.7777777777777778,\"#fb9f3a\"],[0.8888888888888888,\"#fdca26\"],[1.0,\"#f0f921\"]],\"sequentialminus\":[[0.0,\"#0d0887\"],[0.1111111111111111,\"#46039f\"],[0.2222222222222222,\"#7201a8\"],[0.3333333333333333,\"#9c179e\"],[0.4444444444444444,\"#bd3786\"],[0.5555555555555556,\"#d8576b\"],[0.6666666666666666,\"#ed7953\"],[0.7777777777777778,\"#fb9f3a\"],[0.8888888888888888,\"#fdca26\"],[1.0,\"#f0f921\"]]},\"colorway\":[\"#636efa\",\"#EF553B\",\"#00cc96\",\"#ab63fa\",\"#FFA15A\",\"#19d3f3\",\"#FF6692\",\"#B6E880\",\"#FF97FF\",\"#FECB52\"],\"font\":{\"color\":\"#2a3f5f\"},\"geo\":{\"bgcolor\":\"white\",\"lakecolor\":\"white\",\"landcolor\":\"#E5ECF6\",\"showlakes\":true,\"showland\":true,\"subunitcolor\":\"white\"},\"hoverlabel\":{\"align\":\"left\"},\"hovermode\":\"closest\",\"mapbox\":{\"style\":\"light\"},\"paper_bgcolor\":\"white\",\"plot_bgcolor\":\"#E5ECF6\",\"polar\":{\"angularaxis\":{\"gridcolor\":\"white\",\"linecolor\":\"white\",\"ticks\":\"\"},\"bgcolor\":\"#E5ECF6\",\"radialaxis\":{\"gridcolor\":\"white\",\"linecolor\":\"white\",\"ticks\":\"\"}},\"scene\":{\"xaxis\":{\"backgroundcolor\":\"#E5ECF6\",\"gridcolor\":\"white\",\"gridwidth\":2,\"linecolor\":\"white\",\"showbackground\":true,\"ticks\":\"\",\"zerolinecolor\":\"white\"},\"yaxis\":{\"backgroundcolor\":\"#E5ECF6\",\"gridcolor\":\"white\",\"gridwidth\":2,\"linecolor\":\"white\",\"showbackground\":true,\"ticks\":\"\",\"zerolinecolor\":\"white\"},\"zaxis\":{\"backgroundcolor\":\"#E5ECF6\",\"gridcolor\":\"white\",\"gridwidth\":2,\"linecolor\":\"white\",\"showbackground\":true,\"ticks\":\"\",\"zerolinecolor\":\"white\"}},\"shapedefaults\":{\"line\":{\"color\":\"#2a3f5f\"}},\"ternary\":{\"aaxis\":{\"gridcolor\":\"white\",\"linecolor\":\"white\",\"ticks\":\"\"},\"baxis\":{\"gridcolor\":\"white\",\"linecolor\":\"white\",\"ticks\":\"\"},\"bgcolor\":\"#E5ECF6\",\"caxis\":{\"gridcolor\":\"white\",\"linecolor\":\"white\",\"ticks\":\"\"}},\"title\":{\"x\":0.05},\"xaxis\":{\"automargin\":true,\"gridcolor\":\"white\",\"linecolor\":\"white\",\"ticks\":\"\",\"title\":{\"standoff\":15},\"zerolinecolor\":\"white\",\"zerolinewidth\":2},\"yaxis\":{\"automargin\":true,\"gridcolor\":\"white\",\"linecolor\":\"white\",\"ticks\":\"\",\"title\":{\"standoff\":15},\"zerolinecolor\":\"white\",\"zerolinewidth\":2}}},\"title\":{\"font\":{\"color\":\"#4D5663\"},\"text\":\"Average Word Length Distribution\"},\"xaxis\":{\"gridcolor\":\"#E1E5ED\",\"showgrid\":true,\"tickfont\":{\"color\":\"#4D5663\"},\"title\":{\"font\":{\"color\":\"#4D5663\"},\"text\":\"Average Word Length\"},\"zerolinecolor\":\"#E1E5ED\"},\"yaxis\":{\"gridcolor\":\"#E1E5ED\",\"showgrid\":true,\"tickfont\":{\"color\":\"#4D5663\"},\"title\":{\"font\":{\"color\":\"#4D5663\"},\"text\":\"Count\"},\"zerolinecolor\":\"#E1E5ED\"}},                        {\"showLink\": true, \"linkText\": \"Export to plot.ly\", \"plotlyServerURL\": \"https://plot.ly\", \"responsive\": true}                    ).then(function(){\n",
       "                            \n",
       "var gd = document.getElementById('7a29df37-6c12-418a-95da-6bb23bb21572');\n",
       "var x = new MutationObserver(function (mutations, observer) {{\n",
       "        var display = window.getComputedStyle(gd).display;\n",
       "        if (!display || display === 'none') {{\n",
       "            console.log([gd, 'removed!']);\n",
       "            Plotly.purge(gd);\n",
       "            observer.disconnect();\n",
       "        }}\n",
       "}});\n",
       "\n",
       "// Listen for the removal of the full notebook cells\n",
       "var notebookContainer = gd.closest('#notebook-container');\n",
       "if (notebookContainer) {{\n",
       "    x.observe(notebookContainer, {childList: true});\n",
       "}}\n",
       "\n",
       "// Listen for the clearing of the current output cell\n",
       "var outputEl = gd.closest('.output');\n",
       "if (outputEl) {{\n",
       "    x.observe(outputEl, {childList: true});\n",
       "}}\n",
       "\n",
       "                        })                };                });            </script>        </div>"
      ]
     },
     "metadata": {},
     "output_type": "display_data"
    }
   ],
   "source": [
    "new['avg_word_len'].iplot(kind = 'hist', colors = 'orange', bins=50, xTitle='Average Word Length', yTitle='Count', title='Average Word Length Distribution')"
   ]
  },
  {
   "cell_type": "code",
   "execution_count": 128,
   "id": "dfc53f8b",
   "metadata": {},
   "outputs": [
    {
     "data": {
      "application/vnd.plotly.v1+json": {
       "config": {
        "linkText": "Export to plot.ly",
        "plotlyServerURL": "https://plot.ly",
        "showLink": true
       },
       "data": [
        {
         "histfunc": "count",
         "histnorm": "",
         "marker": {
          "color": "rgba(55, 128, 191, 1.0)",
          "line": {
           "color": "#4D5663",
           "width": 1.3
          }
         },
         "name": "summary_len",
         "nbinsx": 100,
         "opacity": 0.8,
         "orientation": "v",
         "type": "histogram",
         "x": [
          1124,
          1871,
          953,
          1234,
          1202,
          1460,
          828,
          1468,
          1400,
          1378,
          1163,
          1729,
          1425,
          1015,
          1620,
          701,
          576,
          1570,
          1895,
          1142,
          1605,
          1865,
          1397,
          1185,
          1726,
          1495,
          1774,
          1291,
          1528,
          1233,
          748,
          883,
          1194,
          807,
          736,
          1408,
          1735,
          1634,
          1908,
          1228,
          1311,
          900,
          1294,
          688,
          1321,
          1867,
          1055,
          998,
          545,
          1772,
          1108,
          1395,
          1703,
          1370,
          986,
          801,
          1285,
          1484,
          1233,
          1456,
          538,
          1776,
          1890,
          1788,
          678,
          908,
          1443,
          744,
          1248,
          1264,
          1238,
          1437,
          1517,
          1441,
          1840,
          1679,
          1282,
          752,
          1906,
          1871,
          1513,
          1091,
          1884,
          1912,
          473,
          1248,
          1121,
          1889,
          1913,
          709,
          1337,
          1625,
          944,
          1661,
          1671,
          971,
          1219,
          1214,
          1083,
          1309,
          1904,
          1905,
          1916,
          977,
          1091,
          1368,
          1913,
          1140,
          1815,
          923,
          1290,
          1394,
          1537,
          663,
          1835,
          1349,
          1241,
          1434,
          1270,
          1005,
          1756,
          1234,
          1600,
          1063,
          985,
          1438,
          1188,
          1596,
          1494,
          1429,
          1321,
          1255,
          1418,
          1905,
          1182,
          1531,
          1748,
          1768,
          1342,
          1411,
          1108,
          1259,
          1507,
          688,
          1312,
          1253,
          1260,
          787,
          1111,
          1909,
          1159,
          1527,
          1259,
          1644,
          882,
          543,
          1118,
          1184,
          1307,
          1057,
          926,
          631,
          1649,
          1874,
          897,
          1029,
          976,
          1551,
          1269,
          966,
          1586,
          1902,
          1714,
          1276,
          944,
          897,
          794,
          1525,
          1089,
          1580,
          1192,
          1424,
          1092,
          933,
          1216,
          1005,
          1219,
          1366,
          695,
          1212,
          1912,
          1627,
          1484,
          739,
          1143,
          893,
          670,
          1149,
          783,
          1038,
          1066,
          699,
          1149,
          1281,
          1908,
          1723,
          1658,
          1558,
          690,
          442,
          1816,
          978,
          1426,
          1287,
          1662,
          1096,
          1894,
          1047,
          911,
          1916,
          1487,
          1376,
          1080,
          1220,
          1502,
          872,
          1520,
          1371,
          990,
          1831,
          1083,
          945,
          759,
          718,
          1739,
          1011,
          1395,
          1360,
          732,
          554,
          856,
          1554,
          1564,
          1439,
          1200,
          1180,
          1492,
          611,
          1531,
          1729,
          1249,
          988,
          1711,
          1789,
          1292,
          1370,
          1751,
          423,
          1325,
          626,
          1002,
          1894,
          1475,
          1591,
          1878,
          923,
          1750,
          793,
          1191,
          1207,
          1171,
          497,
          977,
          1290,
          1219,
          1587,
          1505,
          1001,
          1295,
          1112,
          1084,
          1448,
          735,
          1396,
          1068,
          1813,
          1340,
          951,
          1908,
          970,
          624,
          1169,
          1720,
          964,
          994,
          1907,
          1456,
          1248,
          1181,
          1416,
          1144,
          1498,
          1920,
          1062,
          642,
          1230,
          1200,
          1182,
          1515,
          1308,
          951,
          1105,
          1232,
          1633,
          1620,
          857,
          1439,
          1916,
          798,
          1048,
          968,
          1233,
          1846,
          1091,
          756,
          1410,
          1548,
          822,
          1503,
          248,
          1174,
          1609,
          641,
          1845,
          1543,
          1084,
          1531,
          1488,
          1099,
          1171,
          1906,
          1627,
          1242,
          1061,
          1666,
          1291,
          1586,
          1264,
          1270,
          1491,
          1059,
          1240,
          1418,
          1130,
          385,
          1646,
          1001,
          1071,
          1051,
          1011,
          1316,
          1358,
          1607,
          1229,
          1297,
          1758,
          1244,
          1370,
          1397,
          1197,
          1388,
          1646,
          1437,
          1057,
          1556,
          480,
          1571,
          1746,
          885,
          947,
          1096,
          1585,
          1604,
          850,
          1488,
          1301,
          1336,
          1740,
          504,
          1677,
          1468,
          1089,
          1143,
          1357,
          1095,
          1304,
          743,
          1109,
          1310,
          1683,
          1292,
          630,
          1678,
          1233,
          1153,
          923,
          1577,
          581,
          1798,
          1154,
          1192,
          1715,
          1148,
          1131,
          1222,
          1179,
          1724,
          706,
          482,
          1175,
          792,
          1898,
          670,
          1129,
          1103,
          1476,
          917,
          965,
          1492,
          1466,
          1038,
          1208,
          1409,
          777,
          1532,
          1146,
          1660,
          1404,
          1394,
          1570,
          1540,
          1354,
          1253,
          1507,
          1515,
          1079,
          1872,
          1493,
          1528,
          1461,
          1106,
          1247,
          1577,
          1415,
          1334,
          808,
          1480,
          930,
          1392,
          836,
          1075,
          1466,
          407,
          1323,
          893,
          400,
          1200,
          1394,
          1036,
          1319,
          1274,
          1278,
          1006,
          1589,
          1286,
          1021,
          710,
          1535,
          583,
          1224,
          246,
          946,
          1438,
          879,
          1701,
          1150,
          1406,
          1268,
          899,
          1178,
          857,
          1900,
          796,
          1361,
          1209,
          989,
          1892,
          1367,
          1301,
          1816,
          1182,
          1691,
          975,
          772,
          1731,
          1839,
          1525,
          1369,
          1482,
          695,
          1453,
          817,
          1764,
          1185,
          1860,
          1543,
          1369,
          1541,
          1125,
          444,
          1606,
          1103,
          1855,
          1084,
          1777,
          768,
          831,
          834,
          941,
          1749,
          1337,
          1366,
          1317,
          1815,
          1158,
          900,
          885,
          1293,
          1158,
          1283,
          1787,
          1332,
          1137,
          1083,
          1311,
          1484,
          1083,
          1746,
          741,
          1225,
          1089,
          1061,
          1242,
          1609,
          1260,
          1265,
          1791,
          893,
          1256,
          1337,
          1248,
          1222,
          584,
          1161,
          908,
          1087,
          605,
          1745,
          753,
          1567,
          674,
          643,
          1253,
          1267,
          964,
          1268,
          1270,
          972,
          1358,
          584,
          1566,
          1096,
          1678,
          1900,
          944,
          1112,
          1769,
          1809,
          1139,
          1360,
          1845,
          1820,
          1468,
          1640,
          1004,
          1377,
          1208,
          1397,
          1866,
          1276,
          1438,
          978,
          673,
          1496,
          1645,
          1352,
          1032,
          1228,
          1346,
          1504,
          1357,
          1324,
          1481,
          1322,
          1843,
          514,
          1043,
          1150,
          1445,
          737,
          1273,
          1806,
          1117,
          1693,
          998,
          748,
          1162,
          1642,
          1411,
          1574,
          1909,
          1785,
          1612,
          1170,
          1174,
          1372,
          1704,
          1098,
          1177,
          846,
          1612,
          1060,
          1917,
          1428,
          1400,
          1291,
          1416,
          1577,
          1307,
          1153,
          1379,
          1413,
          1350,
          1227,
          490,
          1053,
          1190,
          1646,
          929,
          729,
          1906,
          1220,
          1184,
          1278,
          1813,
          1092,
          928,
          1320,
          1670,
          748,
          1542,
          1836,
          1172,
          907,
          647,
          1053,
          1731,
          1162,
          1122,
          844,
          1459,
          735,
          1619,
          1487,
          1782,
          1281,
          1657,
          1021,
          1350,
          1696,
          1176,
          1245,
          1191,
          906,
          1570,
          1297,
          1423,
          1674,
          815,
          1852,
          779,
          1787,
          1047,
          560,
          1159,
          1061,
          1497,
          1231,
          1482,
          1662,
          907,
          1367,
          1374,
          1410,
          690,
          1266,
          1046,
          1777,
          1906,
          1303,
          698,
          942,
          1573,
          1169,
          1840,
          1528,
          1350,
          1591,
          949,
          1091,
          1473,
          1058,
          1823,
          1261,
          1592,
          1611,
          1857,
          1375,
          1376,
          1058,
          1599,
          1616,
          1058,
          1674,
          1024,
          1180,
          1287,
          1459,
          840,
          804,
          1083,
          746,
          1685,
          1380,
          1869,
          576,
          486,
          1585,
          980,
          1354,
          1363,
          1808,
          907,
          1559,
          1335,
          653,
          1495,
          582,
          391,
          1725,
          1051,
          869,
          525,
          1429,
          1239,
          941,
          1918,
          1142,
          992,
          843,
          1054,
          567,
          678,
          1657,
          1507,
          1528,
          1344,
          1893,
          1381,
          1088,
          976,
          1534,
          946,
          1501,
          1337,
          1655,
          1836,
          1158,
          1552,
          986,
          1325,
          1005,
          1346,
          878,
          291,
          818,
          968,
          1088,
          537,
          759,
          1128,
          1277,
          1399,
          1294,
          908,
          1101,
          1732,
          600,
          1060,
          1174,
          634,
          812,
          1208,
          1361,
          1742,
          1338,
          486,
          833,
          1185,
          1060,
          1154,
          1121,
          1307,
          1067,
          848,
          1214,
          1915,
          859,
          1398,
          1411,
          1821,
          1594,
          1647,
          1027,
          649,
          1674,
          1203,
          737,
          1239,
          1326,
          520,
          1315,
          1893,
          1585,
          976,
          932,
          1046,
          751,
          1185,
          781,
          1316,
          790,
          822,
          890,
          1300,
          981,
          1892,
          1025,
          1546,
          835,
          1436,
          1781,
          1038,
          1022,
          1876,
          1229,
          1200,
          1150,
          1683,
          1430,
          1881,
          1111,
          647,
          1229,
          743,
          1289,
          711,
          977,
          857,
          1083,
          1824,
          1090,
          1074,
          1162,
          927,
          1860,
          1285,
          1610,
          834,
          1816,
          1467,
          1127,
          1425,
          1371,
          1389,
          920,
          1502,
          1132,
          715,
          1262,
          463,
          686,
          1182,
          1258,
          1359,
          845,
          917,
          1284,
          1905,
          1232,
          1571,
          1184,
          1422,
          1040,
          1827,
          1008,
          1374,
          580,
          1006,
          994,
          1374,
          1542,
          1751,
          1844,
          1189,
          1840,
          1264,
          731,
          1039,
          878,
          1460,
          998,
          929,
          1416,
          1433,
          1028,
          1860,
          401,
          1851,
          1188,
          1297,
          1187,
          1141,
          615,
          1522,
          660,
          1072,
          1864,
          1097,
          1361,
          1269,
          1755,
          1360,
          1257,
          719,
          1040,
          1309,
          1642,
          1028,
          922,
          1765,
          1462,
          1006,
          1113,
          760,
          1118,
          1317,
          1004,
          1455,
          1152,
          899,
          800,
          1024,
          1034,
          1831,
          1840,
          1096,
          1353,
          1064,
          1332,
          566,
          1204,
          975,
          1449,
          1655,
          1144,
          1131,
          903,
          1215,
          1270,
          1419,
          932,
          855,
          1171,
          1413,
          1504,
          1122,
          1370,
          1127,
          1445,
          1092,
          1816,
          1299,
          1735,
          1340,
          763,
          1316,
          1438,
          1852,
          1197,
          1119,
          1629,
          1631,
          1121,
          1412,
          1380,
          1162,
          1389,
          1437,
          1344,
          633,
          770,
          1425,
          1094,
          1370,
          863,
          1094,
          1811,
          1100,
          1515,
          1166,
          1447,
          1335,
          613,
          1368,
          1813,
          1464,
          685,
          1470,
          1118,
          1443,
          1792,
          974,
          1481,
          1914,
          737,
          1799,
          1918,
          1258,
          1654,
          989,
          1396,
          1468,
          1584,
          1049,
          1135,
          1007,
          1391,
          48,
          1038,
          1023,
          936,
          1046,
          1473,
          1600,
          1430,
          1738,
          1026,
          1464,
          1174,
          1511,
          600,
          867,
          1455,
          1666,
          1618,
          1396,
          1649,
          1212,
          1811,
          1683,
          1864,
          1698,
          1279,
          1113,
          1544,
          1379,
          1012,
          945,
          1113,
          1347,
          832,
          1621,
          1557,
          1374,
          983,
          1473,
          1067,
          1194,
          1054,
          947,
          816,
          794,
          1350,
          818,
          1250,
          1266,
          962,
          1247,
          828,
          848,
          670,
          1831,
          1257,
          642,
          888,
          1210,
          1276,
          1509,
          1180,
          886,
          1725,
          916,
          1457,
          1187,
          1433,
          385,
          1349,
          622,
          1120,
          1318,
          811,
          1441,
          985,
          780,
          917,
          1369,
          1019,
          1293,
          1316,
          920,
          1518,
          924,
          1398,
          1056,
          479,
          1016,
          156,
          633,
          686,
          1704,
          839,
          1100,
          1262,
          897,
          1136,
          1860,
          1908,
          952,
          1190,
          1266,
          1078,
          1629,
          1527,
          1426,
          889,
          975,
          1598,
          820,
          1400,
          1702,
          1048,
          1261,
          1323,
          1087,
          1169,
          1079,
          1769,
          1252,
          1180,
          1856,
          1898,
          1121,
          1607,
          1556,
          1400,
          1747,
          833,
          1408,
          1406,
          1721,
          976,
          936,
          1039,
          1036,
          1301,
          1302,
          1075,
          1105,
          1246,
          1053,
          1390,
          802,
          1520,
          1146,
          1831,
          790,
          1082,
          1432,
          971,
          1309,
          1407,
          673,
          774,
          1154,
          1196,
          800,
          563,
          1918,
          826,
          961,
          1725,
          1216,
          904,
          1906,
          1542,
          1632,
          1818,
          1197,
          1296,
          895,
          1442,
          716,
          1512,
          1244,
          745,
          996,
          1339,
          941,
          1182,
          1467,
          1059,
          1518,
          1901,
          1106,
          1357,
          913,
          1193,
          1376,
          1087,
          968,
          1140,
          926,
          814,
          1104,
          1437,
          1289,
          913,
          633,
          1329,
          644,
          1068,
          1659,
          588,
          924,
          1135,
          1109,
          458,
          1905,
          1246,
          592,
          1311,
          1170,
          947,
          1333,
          1559,
          1144,
          1557,
          1046,
          1071,
          1814,
          1423,
          927,
          1248,
          601,
          1060,
          775,
          800,
          864,
          1713,
          996,
          1914,
          1341,
          1074,
          859,
          693,
          1273,
          1917,
          1198,
          1270,
          1325,
          1197,
          903,
          1558,
          1256,
          1126,
          1443,
          753,
          960,
          988,
          1417,
          1846,
          1088,
          742,
          589,
          1381,
          1006,
          1847,
          1371,
          1442,
          1334,
          1894,
          720,
          337,
          1096,
          1805,
          619,
          1084,
          1610,
          1275,
          1902,
          1601,
          1176,
          1200,
          1077,
          856,
          1866,
          1679,
          1906,
          900,
          626,
          1120,
          1000,
          1003,
          1092,
          1583,
          772,
          1359,
          1553,
          1077,
          1523,
          1474,
          1252,
          607,
          1721,
          1058,
          1171,
          1360,
          1332,
          1140,
          1362,
          1751,
          1442,
          996,
          1884,
          1130,
          830,
          993,
          1617,
          1625,
          1121,
          1455,
          1275,
          832,
          992,
          789,
          789,
          1481,
          1348,
          1140,
          1238,
          837,
          1869,
          1735,
          1371,
          1389,
          1343,
          1114,
          1165,
          1420,
          1453,
          910,
          779,
          1023,
          1041,
          774,
          626,
          366,
          660,
          1230,
          1266,
          1238,
          968,
          1228,
          1309,
          1036,
          962,
          1885,
          827,
          932,
          1713,
          1513,
          1153,
          1491,
          923,
          1342,
          738,
          1343,
          735,
          1598,
          1130,
          1518,
          1272,
          890,
          1813,
          1229,
          1153,
          1131,
          1307,
          860,
          1016,
          1811,
          460,
          1367,
          896,
          886,
          436,
          1215,
          1068,
          1775,
          1199,
          864,
          771,
          305,
          1530,
          1734,
          1249,
          530,
          1002,
          1638,
          738,
          1391,
          1221,
          1449,
          1460,
          933,
          1357,
          1180,
          702,
          1153,
          1883,
          1057,
          957,
          1534,
          902,
          769,
          704,
          952,
          1196,
          926,
          1232,
          1620,
          1055,
          1424,
          1915,
          648,
          1733,
          1641,
          1307,
          1337,
          1275,
          1364,
          1576,
          1679,
          1039,
          1073,
          820,
          1426,
          1186,
          1380,
          570,
          937,
          1197,
          891,
          1404,
          922,
          981,
          715,
          899,
          1764,
          1023,
          960,
          596,
          1058,
          722,
          1676,
          851,
          1474,
          382,
          909,
          932,
          947,
          901,
          1576,
          1142,
          1308,
          895,
          868,
          1023,
          1376,
          1027,
          1348,
          1126,
          1422,
          1554,
          1858,
          1775,
          1493,
          1680,
          944,
          1112,
          702,
          1423,
          1192,
          1071,
          1367,
          706,
          1287,
          1283,
          1098,
          1504,
          821,
          1258,
          1517,
          943,
          1176,
          1100,
          1210,
          176,
          1473,
          929,
          647,
          823,
          983,
          1192,
          1635,
          706,
          1427,
          714,
          1462,
          821,
          960,
          909,
          624,
          1429,
          805,
          1066,
          1020,
          764,
          1079,
          1378,
          680,
          1607,
          1083,
          61,
          119,
          946,
          1268,
          1334,
          1734,
          610,
          1423,
          781,
          507,
          1236,
          1114,
          788,
          978,
          911,
          908,
          883,
          1820,
          1180,
          1071,
          965,
          914,
          903,
          1253,
          620,
          1264,
          1207,
          943,
          1490,
          781,
          679,
          969,
          531,
          497,
          976,
          697,
          1125,
          657,
          933,
          1594,
          1203,
          1397,
          1516,
          1657,
          1666,
          1533,
          1140,
          878,
          848,
          816,
          705,
          1043,
          569,
          1506,
          1549,
          1502,
          891,
          1042,
          414,
          991,
          1318,
          744,
          1490,
          1277,
          1701,
          1268,
          913,
          1310,
          791,
          929,
          861,
          1306,
          647,
          1294,
          892,
          501,
          1051,
          541,
          930,
          1413,
          696,
          1584,
          1446,
          730,
          1436,
          1281,
          1566,
          1197,
          612,
          953,
          1770,
          1318,
          1279,
          745,
          1387,
          1258,
          722,
          824,
          1120,
          883,
          585,
          1596,
          912,
          335,
          924,
          590,
          851,
          550,
          717,
          1471,
          709,
          910,
          1214,
          1153,
          1454,
          1644,
          1540,
          1096,
          1190,
          414,
          1037,
          987,
          742,
          787,
          910,
          781,
          868,
          479
         ]
        }
       ],
       "layout": {
        "barmode": "overlay",
        "legend": {
         "bgcolor": "#F5F6F9",
         "font": {
          "color": "#4D5663"
         }
        },
        "paper_bgcolor": "#F5F6F9",
        "plot_bgcolor": "#F5F6F9",
        "template": {
         "data": {
          "bar": [
           {
            "error_x": {
             "color": "#2a3f5f"
            },
            "error_y": {
             "color": "#2a3f5f"
            },
            "marker": {
             "line": {
              "color": "#E5ECF6",
              "width": 0.5
             },
             "pattern": {
              "fillmode": "overlay",
              "size": 10,
              "solidity": 0.2
             }
            },
            "type": "bar"
           }
          ],
          "barpolar": [
           {
            "marker": {
             "line": {
              "color": "#E5ECF6",
              "width": 0.5
             },
             "pattern": {
              "fillmode": "overlay",
              "size": 10,
              "solidity": 0.2
             }
            },
            "type": "barpolar"
           }
          ],
          "carpet": [
           {
            "aaxis": {
             "endlinecolor": "#2a3f5f",
             "gridcolor": "white",
             "linecolor": "white",
             "minorgridcolor": "white",
             "startlinecolor": "#2a3f5f"
            },
            "baxis": {
             "endlinecolor": "#2a3f5f",
             "gridcolor": "white",
             "linecolor": "white",
             "minorgridcolor": "white",
             "startlinecolor": "#2a3f5f"
            },
            "type": "carpet"
           }
          ],
          "choropleth": [
           {
            "colorbar": {
             "outlinewidth": 0,
             "ticks": ""
            },
            "type": "choropleth"
           }
          ],
          "contour": [
           {
            "colorbar": {
             "outlinewidth": 0,
             "ticks": ""
            },
            "colorscale": [
             [
              0,
              "#0d0887"
             ],
             [
              0.1111111111111111,
              "#46039f"
             ],
             [
              0.2222222222222222,
              "#7201a8"
             ],
             [
              0.3333333333333333,
              "#9c179e"
             ],
             [
              0.4444444444444444,
              "#bd3786"
             ],
             [
              0.5555555555555556,
              "#d8576b"
             ],
             [
              0.6666666666666666,
              "#ed7953"
             ],
             [
              0.7777777777777778,
              "#fb9f3a"
             ],
             [
              0.8888888888888888,
              "#fdca26"
             ],
             [
              1,
              "#f0f921"
             ]
            ],
            "type": "contour"
           }
          ],
          "contourcarpet": [
           {
            "colorbar": {
             "outlinewidth": 0,
             "ticks": ""
            },
            "type": "contourcarpet"
           }
          ],
          "heatmap": [
           {
            "colorbar": {
             "outlinewidth": 0,
             "ticks": ""
            },
            "colorscale": [
             [
              0,
              "#0d0887"
             ],
             [
              0.1111111111111111,
              "#46039f"
             ],
             [
              0.2222222222222222,
              "#7201a8"
             ],
             [
              0.3333333333333333,
              "#9c179e"
             ],
             [
              0.4444444444444444,
              "#bd3786"
             ],
             [
              0.5555555555555556,
              "#d8576b"
             ],
             [
              0.6666666666666666,
              "#ed7953"
             ],
             [
              0.7777777777777778,
              "#fb9f3a"
             ],
             [
              0.8888888888888888,
              "#fdca26"
             ],
             [
              1,
              "#f0f921"
             ]
            ],
            "type": "heatmap"
           }
          ],
          "heatmapgl": [
           {
            "colorbar": {
             "outlinewidth": 0,
             "ticks": ""
            },
            "colorscale": [
             [
              0,
              "#0d0887"
             ],
             [
              0.1111111111111111,
              "#46039f"
             ],
             [
              0.2222222222222222,
              "#7201a8"
             ],
             [
              0.3333333333333333,
              "#9c179e"
             ],
             [
              0.4444444444444444,
              "#bd3786"
             ],
             [
              0.5555555555555556,
              "#d8576b"
             ],
             [
              0.6666666666666666,
              "#ed7953"
             ],
             [
              0.7777777777777778,
              "#fb9f3a"
             ],
             [
              0.8888888888888888,
              "#fdca26"
             ],
             [
              1,
              "#f0f921"
             ]
            ],
            "type": "heatmapgl"
           }
          ],
          "histogram": [
           {
            "marker": {
             "pattern": {
              "fillmode": "overlay",
              "size": 10,
              "solidity": 0.2
             }
            },
            "type": "histogram"
           }
          ],
          "histogram2d": [
           {
            "colorbar": {
             "outlinewidth": 0,
             "ticks": ""
            },
            "colorscale": [
             [
              0,
              "#0d0887"
             ],
             [
              0.1111111111111111,
              "#46039f"
             ],
             [
              0.2222222222222222,
              "#7201a8"
             ],
             [
              0.3333333333333333,
              "#9c179e"
             ],
             [
              0.4444444444444444,
              "#bd3786"
             ],
             [
              0.5555555555555556,
              "#d8576b"
             ],
             [
              0.6666666666666666,
              "#ed7953"
             ],
             [
              0.7777777777777778,
              "#fb9f3a"
             ],
             [
              0.8888888888888888,
              "#fdca26"
             ],
             [
              1,
              "#f0f921"
             ]
            ],
            "type": "histogram2d"
           }
          ],
          "histogram2dcontour": [
           {
            "colorbar": {
             "outlinewidth": 0,
             "ticks": ""
            },
            "colorscale": [
             [
              0,
              "#0d0887"
             ],
             [
              0.1111111111111111,
              "#46039f"
             ],
             [
              0.2222222222222222,
              "#7201a8"
             ],
             [
              0.3333333333333333,
              "#9c179e"
             ],
             [
              0.4444444444444444,
              "#bd3786"
             ],
             [
              0.5555555555555556,
              "#d8576b"
             ],
             [
              0.6666666666666666,
              "#ed7953"
             ],
             [
              0.7777777777777778,
              "#fb9f3a"
             ],
             [
              0.8888888888888888,
              "#fdca26"
             ],
             [
              1,
              "#f0f921"
             ]
            ],
            "type": "histogram2dcontour"
           }
          ],
          "mesh3d": [
           {
            "colorbar": {
             "outlinewidth": 0,
             "ticks": ""
            },
            "type": "mesh3d"
           }
          ],
          "parcoords": [
           {
            "line": {
             "colorbar": {
              "outlinewidth": 0,
              "ticks": ""
             }
            },
            "type": "parcoords"
           }
          ],
          "pie": [
           {
            "automargin": true,
            "type": "pie"
           }
          ],
          "scatter": [
           {
            "marker": {
             "colorbar": {
              "outlinewidth": 0,
              "ticks": ""
             }
            },
            "type": "scatter"
           }
          ],
          "scatter3d": [
           {
            "line": {
             "colorbar": {
              "outlinewidth": 0,
              "ticks": ""
             }
            },
            "marker": {
             "colorbar": {
              "outlinewidth": 0,
              "ticks": ""
             }
            },
            "type": "scatter3d"
           }
          ],
          "scattercarpet": [
           {
            "marker": {
             "colorbar": {
              "outlinewidth": 0,
              "ticks": ""
             }
            },
            "type": "scattercarpet"
           }
          ],
          "scattergeo": [
           {
            "marker": {
             "colorbar": {
              "outlinewidth": 0,
              "ticks": ""
             }
            },
            "type": "scattergeo"
           }
          ],
          "scattergl": [
           {
            "marker": {
             "colorbar": {
              "outlinewidth": 0,
              "ticks": ""
             }
            },
            "type": "scattergl"
           }
          ],
          "scattermapbox": [
           {
            "marker": {
             "colorbar": {
              "outlinewidth": 0,
              "ticks": ""
             }
            },
            "type": "scattermapbox"
           }
          ],
          "scatterpolar": [
           {
            "marker": {
             "colorbar": {
              "outlinewidth": 0,
              "ticks": ""
             }
            },
            "type": "scatterpolar"
           }
          ],
          "scatterpolargl": [
           {
            "marker": {
             "colorbar": {
              "outlinewidth": 0,
              "ticks": ""
             }
            },
            "type": "scatterpolargl"
           }
          ],
          "scatterternary": [
           {
            "marker": {
             "colorbar": {
              "outlinewidth": 0,
              "ticks": ""
             }
            },
            "type": "scatterternary"
           }
          ],
          "surface": [
           {
            "colorbar": {
             "outlinewidth": 0,
             "ticks": ""
            },
            "colorscale": [
             [
              0,
              "#0d0887"
             ],
             [
              0.1111111111111111,
              "#46039f"
             ],
             [
              0.2222222222222222,
              "#7201a8"
             ],
             [
              0.3333333333333333,
              "#9c179e"
             ],
             [
              0.4444444444444444,
              "#bd3786"
             ],
             [
              0.5555555555555556,
              "#d8576b"
             ],
             [
              0.6666666666666666,
              "#ed7953"
             ],
             [
              0.7777777777777778,
              "#fb9f3a"
             ],
             [
              0.8888888888888888,
              "#fdca26"
             ],
             [
              1,
              "#f0f921"
             ]
            ],
            "type": "surface"
           }
          ],
          "table": [
           {
            "cells": {
             "fill": {
              "color": "#EBF0F8"
             },
             "line": {
              "color": "white"
             }
            },
            "header": {
             "fill": {
              "color": "#C8D4E3"
             },
             "line": {
              "color": "white"
             }
            },
            "type": "table"
           }
          ]
         },
         "layout": {
          "annotationdefaults": {
           "arrowcolor": "#2a3f5f",
           "arrowhead": 0,
           "arrowwidth": 1
          },
          "autotypenumbers": "strict",
          "coloraxis": {
           "colorbar": {
            "outlinewidth": 0,
            "ticks": ""
           }
          },
          "colorscale": {
           "diverging": [
            [
             0,
             "#8e0152"
            ],
            [
             0.1,
             "#c51b7d"
            ],
            [
             0.2,
             "#de77ae"
            ],
            [
             0.3,
             "#f1b6da"
            ],
            [
             0.4,
             "#fde0ef"
            ],
            [
             0.5,
             "#f7f7f7"
            ],
            [
             0.6,
             "#e6f5d0"
            ],
            [
             0.7,
             "#b8e186"
            ],
            [
             0.8,
             "#7fbc41"
            ],
            [
             0.9,
             "#4d9221"
            ],
            [
             1,
             "#276419"
            ]
           ],
           "sequential": [
            [
             0,
             "#0d0887"
            ],
            [
             0.1111111111111111,
             "#46039f"
            ],
            [
             0.2222222222222222,
             "#7201a8"
            ],
            [
             0.3333333333333333,
             "#9c179e"
            ],
            [
             0.4444444444444444,
             "#bd3786"
            ],
            [
             0.5555555555555556,
             "#d8576b"
            ],
            [
             0.6666666666666666,
             "#ed7953"
            ],
            [
             0.7777777777777778,
             "#fb9f3a"
            ],
            [
             0.8888888888888888,
             "#fdca26"
            ],
            [
             1,
             "#f0f921"
            ]
           ],
           "sequentialminus": [
            [
             0,
             "#0d0887"
            ],
            [
             0.1111111111111111,
             "#46039f"
            ],
            [
             0.2222222222222222,
             "#7201a8"
            ],
            [
             0.3333333333333333,
             "#9c179e"
            ],
            [
             0.4444444444444444,
             "#bd3786"
            ],
            [
             0.5555555555555556,
             "#d8576b"
            ],
            [
             0.6666666666666666,
             "#ed7953"
            ],
            [
             0.7777777777777778,
             "#fb9f3a"
            ],
            [
             0.8888888888888888,
             "#fdca26"
            ],
            [
             1,
             "#f0f921"
            ]
           ]
          },
          "colorway": [
           "#636efa",
           "#EF553B",
           "#00cc96",
           "#ab63fa",
           "#FFA15A",
           "#19d3f3",
           "#FF6692",
           "#B6E880",
           "#FF97FF",
           "#FECB52"
          ],
          "font": {
           "color": "#2a3f5f"
          },
          "geo": {
           "bgcolor": "white",
           "lakecolor": "white",
           "landcolor": "#E5ECF6",
           "showlakes": true,
           "showland": true,
           "subunitcolor": "white"
          },
          "hoverlabel": {
           "align": "left"
          },
          "hovermode": "closest",
          "mapbox": {
           "style": "light"
          },
          "paper_bgcolor": "white",
          "plot_bgcolor": "#E5ECF6",
          "polar": {
           "angularaxis": {
            "gridcolor": "white",
            "linecolor": "white",
            "ticks": ""
           },
           "bgcolor": "#E5ECF6",
           "radialaxis": {
            "gridcolor": "white",
            "linecolor": "white",
            "ticks": ""
           }
          },
          "scene": {
           "xaxis": {
            "backgroundcolor": "#E5ECF6",
            "gridcolor": "white",
            "gridwidth": 2,
            "linecolor": "white",
            "showbackground": true,
            "ticks": "",
            "zerolinecolor": "white"
           },
           "yaxis": {
            "backgroundcolor": "#E5ECF6",
            "gridcolor": "white",
            "gridwidth": 2,
            "linecolor": "white",
            "showbackground": true,
            "ticks": "",
            "zerolinecolor": "white"
           },
           "zaxis": {
            "backgroundcolor": "#E5ECF6",
            "gridcolor": "white",
            "gridwidth": 2,
            "linecolor": "white",
            "showbackground": true,
            "ticks": "",
            "zerolinecolor": "white"
           }
          },
          "shapedefaults": {
           "line": {
            "color": "#2a3f5f"
           }
          },
          "ternary": {
           "aaxis": {
            "gridcolor": "white",
            "linecolor": "white",
            "ticks": ""
           },
           "baxis": {
            "gridcolor": "white",
            "linecolor": "white",
            "ticks": ""
           },
           "bgcolor": "#E5ECF6",
           "caxis": {
            "gridcolor": "white",
            "linecolor": "white",
            "ticks": ""
           }
          },
          "title": {
           "x": 0.05
          },
          "xaxis": {
           "automargin": true,
           "gridcolor": "white",
           "linecolor": "white",
           "ticks": "",
           "title": {
            "standoff": 15
           },
           "zerolinecolor": "white",
           "zerolinewidth": 2
          },
          "yaxis": {
           "automargin": true,
           "gridcolor": "white",
           "linecolor": "white",
           "ticks": "",
           "title": {
            "standoff": 15
           },
           "zerolinecolor": "white",
           "zerolinewidth": 2
          }
         }
        },
        "title": {
         "font": {
          "color": "#4D5663"
         },
         "text": "Summary Text Length Distribution"
        },
        "xaxis": {
         "gridcolor": "#E1E5ED",
         "showgrid": true,
         "tickfont": {
          "color": "#4D5663"
         },
         "title": {
          "font": {
           "color": "#4D5663"
          },
          "text": "Summary Length"
         },
         "zerolinecolor": "#E1E5ED"
        },
        "yaxis": {
         "gridcolor": "#E1E5ED",
         "showgrid": true,
         "tickfont": {
          "color": "#4D5663"
         },
         "title": {
          "font": {
           "color": "#4D5663"
          },
          "text": "Count"
         },
         "zerolinecolor": "#E1E5ED"
        }
       }
      },
      "text/html": [
       "<div>                            <div id=\"53a4d1d1-aefc-4911-b193-8cef41a3f6b7\" class=\"plotly-graph-div\" style=\"height:525px; width:100%;\"></div>            <script type=\"text/javascript\">                require([\"plotly\"], function(Plotly) {                    window.PLOTLYENV=window.PLOTLYENV || {};\n",
       "                    window.PLOTLYENV.BASE_URL='https://plot.ly';                                    if (document.getElementById(\"53a4d1d1-aefc-4911-b193-8cef41a3f6b7\")) {                    Plotly.newPlot(                        \"53a4d1d1-aefc-4911-b193-8cef41a3f6b7\",                        [{\"histfunc\":\"count\",\"histnorm\":\"\",\"marker\":{\"color\":\"rgba(55, 128, 191, 1.0)\",\"line\":{\"color\":\"#4D5663\",\"width\":1.3}},\"name\":\"summary_len\",\"nbinsx\":100,\"opacity\":0.8,\"orientation\":\"v\",\"x\":[1124,1871,953,1234,1202,1460,828,1468,1400,1378,1163,1729,1425,1015,1620,701,576,1570,1895,1142,1605,1865,1397,1185,1726,1495,1774,1291,1528,1233,748,883,1194,807,736,1408,1735,1634,1908,1228,1311,900,1294,688,1321,1867,1055,998,545,1772,1108,1395,1703,1370,986,801,1285,1484,1233,1456,538,1776,1890,1788,678,908,1443,744,1248,1264,1238,1437,1517,1441,1840,1679,1282,752,1906,1871,1513,1091,1884,1912,473,1248,1121,1889,1913,709,1337,1625,944,1661,1671,971,1219,1214,1083,1309,1904,1905,1916,977,1091,1368,1913,1140,1815,923,1290,1394,1537,663,1835,1349,1241,1434,1270,1005,1756,1234,1600,1063,985,1438,1188,1596,1494,1429,1321,1255,1418,1905,1182,1531,1748,1768,1342,1411,1108,1259,1507,688,1312,1253,1260,787,1111,1909,1159,1527,1259,1644,882,543,1118,1184,1307,1057,926,631,1649,1874,897,1029,976,1551,1269,966,1586,1902,1714,1276,944,897,794,1525,1089,1580,1192,1424,1092,933,1216,1005,1219,1366,695,1212,1912,1627,1484,739,1143,893,670,1149,783,1038,1066,699,1149,1281,1908,1723,1658,1558,690,442,1816,978,1426,1287,1662,1096,1894,1047,911,1916,1487,1376,1080,1220,1502,872,1520,1371,990,1831,1083,945,759,718,1739,1011,1395,1360,732,554,856,1554,1564,1439,1200,1180,1492,611,1531,1729,1249,988,1711,1789,1292,1370,1751,423,1325,626,1002,1894,1475,1591,1878,923,1750,793,1191,1207,1171,497,977,1290,1219,1587,1505,1001,1295,1112,1084,1448,735,1396,1068,1813,1340,951,1908,970,624,1169,1720,964,994,1907,1456,1248,1181,1416,1144,1498,1920,1062,642,1230,1200,1182,1515,1308,951,1105,1232,1633,1620,857,1439,1916,798,1048,968,1233,1846,1091,756,1410,1548,822,1503,248,1174,1609,641,1845,1543,1084,1531,1488,1099,1171,1906,1627,1242,1061,1666,1291,1586,1264,1270,1491,1059,1240,1418,1130,385,1646,1001,1071,1051,1011,1316,1358,1607,1229,1297,1758,1244,1370,1397,1197,1388,1646,1437,1057,1556,480,1571,1746,885,947,1096,1585,1604,850,1488,1301,1336,1740,504,1677,1468,1089,1143,1357,1095,1304,743,1109,1310,1683,1292,630,1678,1233,1153,923,1577,581,1798,1154,1192,1715,1148,1131,1222,1179,1724,706,482,1175,792,1898,670,1129,1103,1476,917,965,1492,1466,1038,1208,1409,777,1532,1146,1660,1404,1394,1570,1540,1354,1253,1507,1515,1079,1872,1493,1528,1461,1106,1247,1577,1415,1334,808,1480,930,1392,836,1075,1466,407,1323,893,400,1200,1394,1036,1319,1274,1278,1006,1589,1286,1021,710,1535,583,1224,246,946,1438,879,1701,1150,1406,1268,899,1178,857,1900,796,1361,1209,989,1892,1367,1301,1816,1182,1691,975,772,1731,1839,1525,1369,1482,695,1453,817,1764,1185,1860,1543,1369,1541,1125,444,1606,1103,1855,1084,1777,768,831,834,941,1749,1337,1366,1317,1815,1158,900,885,1293,1158,1283,1787,1332,1137,1083,1311,1484,1083,1746,741,1225,1089,1061,1242,1609,1260,1265,1791,893,1256,1337,1248,1222,584,1161,908,1087,605,1745,753,1567,674,643,1253,1267,964,1268,1270,972,1358,584,1566,1096,1678,1900,944,1112,1769,1809,1139,1360,1845,1820,1468,1640,1004,1377,1208,1397,1866,1276,1438,978,673,1496,1645,1352,1032,1228,1346,1504,1357,1324,1481,1322,1843,514,1043,1150,1445,737,1273,1806,1117,1693,998,748,1162,1642,1411,1574,1909,1785,1612,1170,1174,1372,1704,1098,1177,846,1612,1060,1917,1428,1400,1291,1416,1577,1307,1153,1379,1413,1350,1227,490,1053,1190,1646,929,729,1906,1220,1184,1278,1813,1092,928,1320,1670,748,1542,1836,1172,907,647,1053,1731,1162,1122,844,1459,735,1619,1487,1782,1281,1657,1021,1350,1696,1176,1245,1191,906,1570,1297,1423,1674,815,1852,779,1787,1047,560,1159,1061,1497,1231,1482,1662,907,1367,1374,1410,690,1266,1046,1777,1906,1303,698,942,1573,1169,1840,1528,1350,1591,949,1091,1473,1058,1823,1261,1592,1611,1857,1375,1376,1058,1599,1616,1058,1674,1024,1180,1287,1459,840,804,1083,746,1685,1380,1869,576,486,1585,980,1354,1363,1808,907,1559,1335,653,1495,582,391,1725,1051,869,525,1429,1239,941,1918,1142,992,843,1054,567,678,1657,1507,1528,1344,1893,1381,1088,976,1534,946,1501,1337,1655,1836,1158,1552,986,1325,1005,1346,878,291,818,968,1088,537,759,1128,1277,1399,1294,908,1101,1732,600,1060,1174,634,812,1208,1361,1742,1338,486,833,1185,1060,1154,1121,1307,1067,848,1214,1915,859,1398,1411,1821,1594,1647,1027,649,1674,1203,737,1239,1326,520,1315,1893,1585,976,932,1046,751,1185,781,1316,790,822,890,1300,981,1892,1025,1546,835,1436,1781,1038,1022,1876,1229,1200,1150,1683,1430,1881,1111,647,1229,743,1289,711,977,857,1083,1824,1090,1074,1162,927,1860,1285,1610,834,1816,1467,1127,1425,1371,1389,920,1502,1132,715,1262,463,686,1182,1258,1359,845,917,1284,1905,1232,1571,1184,1422,1040,1827,1008,1374,580,1006,994,1374,1542,1751,1844,1189,1840,1264,731,1039,878,1460,998,929,1416,1433,1028,1860,401,1851,1188,1297,1187,1141,615,1522,660,1072,1864,1097,1361,1269,1755,1360,1257,719,1040,1309,1642,1028,922,1765,1462,1006,1113,760,1118,1317,1004,1455,1152,899,800,1024,1034,1831,1840,1096,1353,1064,1332,566,1204,975,1449,1655,1144,1131,903,1215,1270,1419,932,855,1171,1413,1504,1122,1370,1127,1445,1092,1816,1299,1735,1340,763,1316,1438,1852,1197,1119,1629,1631,1121,1412,1380,1162,1389,1437,1344,633,770,1425,1094,1370,863,1094,1811,1100,1515,1166,1447,1335,613,1368,1813,1464,685,1470,1118,1443,1792,974,1481,1914,737,1799,1918,1258,1654,989,1396,1468,1584,1049,1135,1007,1391,48,1038,1023,936,1046,1473,1600,1430,1738,1026,1464,1174,1511,600,867,1455,1666,1618,1396,1649,1212,1811,1683,1864,1698,1279,1113,1544,1379,1012,945,1113,1347,832,1621,1557,1374,983,1473,1067,1194,1054,947,816,794,1350,818,1250,1266,962,1247,828,848,670,1831,1257,642,888,1210,1276,1509,1180,886,1725,916,1457,1187,1433,385,1349,622,1120,1318,811,1441,985,780,917,1369,1019,1293,1316,920,1518,924,1398,1056,479,1016,156,633,686,1704,839,1100,1262,897,1136,1860,1908,952,1190,1266,1078,1629,1527,1426,889,975,1598,820,1400,1702,1048,1261,1323,1087,1169,1079,1769,1252,1180,1856,1898,1121,1607,1556,1400,1747,833,1408,1406,1721,976,936,1039,1036,1301,1302,1075,1105,1246,1053,1390,802,1520,1146,1831,790,1082,1432,971,1309,1407,673,774,1154,1196,800,563,1918,826,961,1725,1216,904,1906,1542,1632,1818,1197,1296,895,1442,716,1512,1244,745,996,1339,941,1182,1467,1059,1518,1901,1106,1357,913,1193,1376,1087,968,1140,926,814,1104,1437,1289,913,633,1329,644,1068,1659,588,924,1135,1109,458,1905,1246,592,1311,1170,947,1333,1559,1144,1557,1046,1071,1814,1423,927,1248,601,1060,775,800,864,1713,996,1914,1341,1074,859,693,1273,1917,1198,1270,1325,1197,903,1558,1256,1126,1443,753,960,988,1417,1846,1088,742,589,1381,1006,1847,1371,1442,1334,1894,720,337,1096,1805,619,1084,1610,1275,1902,1601,1176,1200,1077,856,1866,1679,1906,900,626,1120,1000,1003,1092,1583,772,1359,1553,1077,1523,1474,1252,607,1721,1058,1171,1360,1332,1140,1362,1751,1442,996,1884,1130,830,993,1617,1625,1121,1455,1275,832,992,789,789,1481,1348,1140,1238,837,1869,1735,1371,1389,1343,1114,1165,1420,1453,910,779,1023,1041,774,626,366,660,1230,1266,1238,968,1228,1309,1036,962,1885,827,932,1713,1513,1153,1491,923,1342,738,1343,735,1598,1130,1518,1272,890,1813,1229,1153,1131,1307,860,1016,1811,460,1367,896,886,436,1215,1068,1775,1199,864,771,305,1530,1734,1249,530,1002,1638,738,1391,1221,1449,1460,933,1357,1180,702,1153,1883,1057,957,1534,902,769,704,952,1196,926,1232,1620,1055,1424,1915,648,1733,1641,1307,1337,1275,1364,1576,1679,1039,1073,820,1426,1186,1380,570,937,1197,891,1404,922,981,715,899,1764,1023,960,596,1058,722,1676,851,1474,382,909,932,947,901,1576,1142,1308,895,868,1023,1376,1027,1348,1126,1422,1554,1858,1775,1493,1680,944,1112,702,1423,1192,1071,1367,706,1287,1283,1098,1504,821,1258,1517,943,1176,1100,1210,176,1473,929,647,823,983,1192,1635,706,1427,714,1462,821,960,909,624,1429,805,1066,1020,764,1079,1378,680,1607,1083,61,119,946,1268,1334,1734,610,1423,781,507,1236,1114,788,978,911,908,883,1820,1180,1071,965,914,903,1253,620,1264,1207,943,1490,781,679,969,531,497,976,697,1125,657,933,1594,1203,1397,1516,1657,1666,1533,1140,878,848,816,705,1043,569,1506,1549,1502,891,1042,414,991,1318,744,1490,1277,1701,1268,913,1310,791,929,861,1306,647,1294,892,501,1051,541,930,1413,696,1584,1446,730,1436,1281,1566,1197,612,953,1770,1318,1279,745,1387,1258,722,824,1120,883,585,1596,912,335,924,590,851,550,717,1471,709,910,1214,1153,1454,1644,1540,1096,1190,414,1037,987,742,787,910,781,868,479],\"type\":\"histogram\"}],                        {\"barmode\":\"overlay\",\"legend\":{\"bgcolor\":\"#F5F6F9\",\"font\":{\"color\":\"#4D5663\"}},\"paper_bgcolor\":\"#F5F6F9\",\"plot_bgcolor\":\"#F5F6F9\",\"template\":{\"data\":{\"barpolar\":[{\"marker\":{\"line\":{\"color\":\"#E5ECF6\",\"width\":0.5},\"pattern\":{\"fillmode\":\"overlay\",\"size\":10,\"solidity\":0.2}},\"type\":\"barpolar\"}],\"bar\":[{\"error_x\":{\"color\":\"#2a3f5f\"},\"error_y\":{\"color\":\"#2a3f5f\"},\"marker\":{\"line\":{\"color\":\"#E5ECF6\",\"width\":0.5},\"pattern\":{\"fillmode\":\"overlay\",\"size\":10,\"solidity\":0.2}},\"type\":\"bar\"}],\"carpet\":[{\"aaxis\":{\"endlinecolor\":\"#2a3f5f\",\"gridcolor\":\"white\",\"linecolor\":\"white\",\"minorgridcolor\":\"white\",\"startlinecolor\":\"#2a3f5f\"},\"baxis\":{\"endlinecolor\":\"#2a3f5f\",\"gridcolor\":\"white\",\"linecolor\":\"white\",\"minorgridcolor\":\"white\",\"startlinecolor\":\"#2a3f5f\"},\"type\":\"carpet\"}],\"choropleth\":[{\"colorbar\":{\"outlinewidth\":0,\"ticks\":\"\"},\"type\":\"choropleth\"}],\"contourcarpet\":[{\"colorbar\":{\"outlinewidth\":0,\"ticks\":\"\"},\"type\":\"contourcarpet\"}],\"contour\":[{\"colorbar\":{\"outlinewidth\":0,\"ticks\":\"\"},\"colorscale\":[[0.0,\"#0d0887\"],[0.1111111111111111,\"#46039f\"],[0.2222222222222222,\"#7201a8\"],[0.3333333333333333,\"#9c179e\"],[0.4444444444444444,\"#bd3786\"],[0.5555555555555556,\"#d8576b\"],[0.6666666666666666,\"#ed7953\"],[0.7777777777777778,\"#fb9f3a\"],[0.8888888888888888,\"#fdca26\"],[1.0,\"#f0f921\"]],\"type\":\"contour\"}],\"heatmapgl\":[{\"colorbar\":{\"outlinewidth\":0,\"ticks\":\"\"},\"colorscale\":[[0.0,\"#0d0887\"],[0.1111111111111111,\"#46039f\"],[0.2222222222222222,\"#7201a8\"],[0.3333333333333333,\"#9c179e\"],[0.4444444444444444,\"#bd3786\"],[0.5555555555555556,\"#d8576b\"],[0.6666666666666666,\"#ed7953\"],[0.7777777777777778,\"#fb9f3a\"],[0.8888888888888888,\"#fdca26\"],[1.0,\"#f0f921\"]],\"type\":\"heatmapgl\"}],\"heatmap\":[{\"colorbar\":{\"outlinewidth\":0,\"ticks\":\"\"},\"colorscale\":[[0.0,\"#0d0887\"],[0.1111111111111111,\"#46039f\"],[0.2222222222222222,\"#7201a8\"],[0.3333333333333333,\"#9c179e\"],[0.4444444444444444,\"#bd3786\"],[0.5555555555555556,\"#d8576b\"],[0.6666666666666666,\"#ed7953\"],[0.7777777777777778,\"#fb9f3a\"],[0.8888888888888888,\"#fdca26\"],[1.0,\"#f0f921\"]],\"type\":\"heatmap\"}],\"histogram2dcontour\":[{\"colorbar\":{\"outlinewidth\":0,\"ticks\":\"\"},\"colorscale\":[[0.0,\"#0d0887\"],[0.1111111111111111,\"#46039f\"],[0.2222222222222222,\"#7201a8\"],[0.3333333333333333,\"#9c179e\"],[0.4444444444444444,\"#bd3786\"],[0.5555555555555556,\"#d8576b\"],[0.6666666666666666,\"#ed7953\"],[0.7777777777777778,\"#fb9f3a\"],[0.8888888888888888,\"#fdca26\"],[1.0,\"#f0f921\"]],\"type\":\"histogram2dcontour\"}],\"histogram2d\":[{\"colorbar\":{\"outlinewidth\":0,\"ticks\":\"\"},\"colorscale\":[[0.0,\"#0d0887\"],[0.1111111111111111,\"#46039f\"],[0.2222222222222222,\"#7201a8\"],[0.3333333333333333,\"#9c179e\"],[0.4444444444444444,\"#bd3786\"],[0.5555555555555556,\"#d8576b\"],[0.6666666666666666,\"#ed7953\"],[0.7777777777777778,\"#fb9f3a\"],[0.8888888888888888,\"#fdca26\"],[1.0,\"#f0f921\"]],\"type\":\"histogram2d\"}],\"histogram\":[{\"marker\":{\"pattern\":{\"fillmode\":\"overlay\",\"size\":10,\"solidity\":0.2}},\"type\":\"histogram\"}],\"mesh3d\":[{\"colorbar\":{\"outlinewidth\":0,\"ticks\":\"\"},\"type\":\"mesh3d\"}],\"parcoords\":[{\"line\":{\"colorbar\":{\"outlinewidth\":0,\"ticks\":\"\"}},\"type\":\"parcoords\"}],\"pie\":[{\"automargin\":true,\"type\":\"pie\"}],\"scatter3d\":[{\"line\":{\"colorbar\":{\"outlinewidth\":0,\"ticks\":\"\"}},\"marker\":{\"colorbar\":{\"outlinewidth\":0,\"ticks\":\"\"}},\"type\":\"scatter3d\"}],\"scattercarpet\":[{\"marker\":{\"colorbar\":{\"outlinewidth\":0,\"ticks\":\"\"}},\"type\":\"scattercarpet\"}],\"scattergeo\":[{\"marker\":{\"colorbar\":{\"outlinewidth\":0,\"ticks\":\"\"}},\"type\":\"scattergeo\"}],\"scattergl\":[{\"marker\":{\"colorbar\":{\"outlinewidth\":0,\"ticks\":\"\"}},\"type\":\"scattergl\"}],\"scattermapbox\":[{\"marker\":{\"colorbar\":{\"outlinewidth\":0,\"ticks\":\"\"}},\"type\":\"scattermapbox\"}],\"scatterpolargl\":[{\"marker\":{\"colorbar\":{\"outlinewidth\":0,\"ticks\":\"\"}},\"type\":\"scatterpolargl\"}],\"scatterpolar\":[{\"marker\":{\"colorbar\":{\"outlinewidth\":0,\"ticks\":\"\"}},\"type\":\"scatterpolar\"}],\"scatter\":[{\"marker\":{\"colorbar\":{\"outlinewidth\":0,\"ticks\":\"\"}},\"type\":\"scatter\"}],\"scatterternary\":[{\"marker\":{\"colorbar\":{\"outlinewidth\":0,\"ticks\":\"\"}},\"type\":\"scatterternary\"}],\"surface\":[{\"colorbar\":{\"outlinewidth\":0,\"ticks\":\"\"},\"colorscale\":[[0.0,\"#0d0887\"],[0.1111111111111111,\"#46039f\"],[0.2222222222222222,\"#7201a8\"],[0.3333333333333333,\"#9c179e\"],[0.4444444444444444,\"#bd3786\"],[0.5555555555555556,\"#d8576b\"],[0.6666666666666666,\"#ed7953\"],[0.7777777777777778,\"#fb9f3a\"],[0.8888888888888888,\"#fdca26\"],[1.0,\"#f0f921\"]],\"type\":\"surface\"}],\"table\":[{\"cells\":{\"fill\":{\"color\":\"#EBF0F8\"},\"line\":{\"color\":\"white\"}},\"header\":{\"fill\":{\"color\":\"#C8D4E3\"},\"line\":{\"color\":\"white\"}},\"type\":\"table\"}]},\"layout\":{\"annotationdefaults\":{\"arrowcolor\":\"#2a3f5f\",\"arrowhead\":0,\"arrowwidth\":1},\"autotypenumbers\":\"strict\",\"coloraxis\":{\"colorbar\":{\"outlinewidth\":0,\"ticks\":\"\"}},\"colorscale\":{\"diverging\":[[0,\"#8e0152\"],[0.1,\"#c51b7d\"],[0.2,\"#de77ae\"],[0.3,\"#f1b6da\"],[0.4,\"#fde0ef\"],[0.5,\"#f7f7f7\"],[0.6,\"#e6f5d0\"],[0.7,\"#b8e186\"],[0.8,\"#7fbc41\"],[0.9,\"#4d9221\"],[1,\"#276419\"]],\"sequential\":[[0.0,\"#0d0887\"],[0.1111111111111111,\"#46039f\"],[0.2222222222222222,\"#7201a8\"],[0.3333333333333333,\"#9c179e\"],[0.4444444444444444,\"#bd3786\"],[0.5555555555555556,\"#d8576b\"],[0.6666666666666666,\"#ed7953\"],[0.7777777777777778,\"#fb9f3a\"],[0.8888888888888888,\"#fdca26\"],[1.0,\"#f0f921\"]],\"sequentialminus\":[[0.0,\"#0d0887\"],[0.1111111111111111,\"#46039f\"],[0.2222222222222222,\"#7201a8\"],[0.3333333333333333,\"#9c179e\"],[0.4444444444444444,\"#bd3786\"],[0.5555555555555556,\"#d8576b\"],[0.6666666666666666,\"#ed7953\"],[0.7777777777777778,\"#fb9f3a\"],[0.8888888888888888,\"#fdca26\"],[1.0,\"#f0f921\"]]},\"colorway\":[\"#636efa\",\"#EF553B\",\"#00cc96\",\"#ab63fa\",\"#FFA15A\",\"#19d3f3\",\"#FF6692\",\"#B6E880\",\"#FF97FF\",\"#FECB52\"],\"font\":{\"color\":\"#2a3f5f\"},\"geo\":{\"bgcolor\":\"white\",\"lakecolor\":\"white\",\"landcolor\":\"#E5ECF6\",\"showlakes\":true,\"showland\":true,\"subunitcolor\":\"white\"},\"hoverlabel\":{\"align\":\"left\"},\"hovermode\":\"closest\",\"mapbox\":{\"style\":\"light\"},\"paper_bgcolor\":\"white\",\"plot_bgcolor\":\"#E5ECF6\",\"polar\":{\"angularaxis\":{\"gridcolor\":\"white\",\"linecolor\":\"white\",\"ticks\":\"\"},\"bgcolor\":\"#E5ECF6\",\"radialaxis\":{\"gridcolor\":\"white\",\"linecolor\":\"white\",\"ticks\":\"\"}},\"scene\":{\"xaxis\":{\"backgroundcolor\":\"#E5ECF6\",\"gridcolor\":\"white\",\"gridwidth\":2,\"linecolor\":\"white\",\"showbackground\":true,\"ticks\":\"\",\"zerolinecolor\":\"white\"},\"yaxis\":{\"backgroundcolor\":\"#E5ECF6\",\"gridcolor\":\"white\",\"gridwidth\":2,\"linecolor\":\"white\",\"showbackground\":true,\"ticks\":\"\",\"zerolinecolor\":\"white\"},\"zaxis\":{\"backgroundcolor\":\"#E5ECF6\",\"gridcolor\":\"white\",\"gridwidth\":2,\"linecolor\":\"white\",\"showbackground\":true,\"ticks\":\"\",\"zerolinecolor\":\"white\"}},\"shapedefaults\":{\"line\":{\"color\":\"#2a3f5f\"}},\"ternary\":{\"aaxis\":{\"gridcolor\":\"white\",\"linecolor\":\"white\",\"ticks\":\"\"},\"baxis\":{\"gridcolor\":\"white\",\"linecolor\":\"white\",\"ticks\":\"\"},\"bgcolor\":\"#E5ECF6\",\"caxis\":{\"gridcolor\":\"white\",\"linecolor\":\"white\",\"ticks\":\"\"}},\"title\":{\"x\":0.05},\"xaxis\":{\"automargin\":true,\"gridcolor\":\"white\",\"linecolor\":\"white\",\"ticks\":\"\",\"title\":{\"standoff\":15},\"zerolinecolor\":\"white\",\"zerolinewidth\":2},\"yaxis\":{\"automargin\":true,\"gridcolor\":\"white\",\"linecolor\":\"white\",\"ticks\":\"\",\"title\":{\"standoff\":15},\"zerolinecolor\":\"white\",\"zerolinewidth\":2}}},\"title\":{\"font\":{\"color\":\"#4D5663\"},\"text\":\"Summary Text Length Distribution\"},\"xaxis\":{\"gridcolor\":\"#E1E5ED\",\"showgrid\":true,\"tickfont\":{\"color\":\"#4D5663\"},\"title\":{\"font\":{\"color\":\"#4D5663\"},\"text\":\"Summary Length\"},\"zerolinecolor\":\"#E1E5ED\"},\"yaxis\":{\"gridcolor\":\"#E1E5ED\",\"showgrid\":true,\"tickfont\":{\"color\":\"#4D5663\"},\"title\":{\"font\":{\"color\":\"#4D5663\"},\"text\":\"Count\"},\"zerolinecolor\":\"#E1E5ED\"}},                        {\"showLink\": true, \"linkText\": \"Export to plot.ly\", \"plotlyServerURL\": \"https://plot.ly\", \"responsive\": true}                    ).then(function(){\n",
       "                            \n",
       "var gd = document.getElementById('53a4d1d1-aefc-4911-b193-8cef41a3f6b7');\n",
       "var x = new MutationObserver(function (mutations, observer) {{\n",
       "        var display = window.getComputedStyle(gd).display;\n",
       "        if (!display || display === 'none') {{\n",
       "            console.log([gd, 'removed!']);\n",
       "            Plotly.purge(gd);\n",
       "            observer.disconnect();\n",
       "        }}\n",
       "}});\n",
       "\n",
       "// Listen for the removal of the full notebook cells\n",
       "var notebookContainer = gd.closest('#notebook-container');\n",
       "if (notebookContainer) {{\n",
       "    x.observe(notebookContainer, {childList: true});\n",
       "}}\n",
       "\n",
       "// Listen for the clearing of the current output cell\n",
       "var outputEl = gd.closest('.output');\n",
       "if (outputEl) {{\n",
       "    x.observe(outputEl, {childList: true});\n",
       "}}\n",
       "\n",
       "                        })                };                });            </script>        </div>"
      ]
     },
     "metadata": {},
     "output_type": "display_data"
    }
   ],
   "source": [
    "new['summary_len'].iplot(kind='hist', color='blue', bins=100, xTitle='Summary Length', yTitle='Count', title='Summary Text Length Distribution')"
   ]
  },
  {
   "cell_type": "code",
   "execution_count": 129,
   "id": "d2f198b8",
   "metadata": {},
   "outputs": [],
   "source": [
    "from sklearn.feature_extraction.text import CountVectorizer"
   ]
  },
  {
   "cell_type": "code",
   "execution_count": 130,
   "id": "30c340e0",
   "metadata": {},
   "outputs": [
    {
     "data": {
      "text/plain": [
       "[('datum', 2349),\n",
       " ('security', 2263),\n",
       " ('system', 1949),\n",
       " ('attack', 1637),\n",
       " ('model', 1374),\n",
       " ('network', 1315),\n",
       " ('cyber', 1236),\n",
       " ('cybersecurity', 1168),\n",
       " ('paper', 1074),\n",
       " ('propose', 1040),\n",
       " ('approach', 844),\n",
       " ('information', 843),\n",
       " ('detection', 786),\n",
       " ('provide', 766),\n",
       " ('method', 732),\n",
       " ('result', 718),\n",
       " ('threat', 699),\n",
       " ('present', 675),\n",
       " ('research', 670),\n",
       " ('user', 645),\n",
       " ('base', 633),\n",
       " ('application', 625),\n",
       " ('analysis', 592),\n",
       " ('use', 588),\n",
       " ('study', 576),\n",
       " ('new', 540),\n",
       " ('risk', 538),\n",
       " ('challenge', 535),\n",
       " ('learn', 534),\n",
       " ('technique', 534)]"
      ]
     },
     "execution_count": 130,
     "metadata": {},
     "output_type": "execute_result"
    }
   ],
   "source": [
    "x = new['lemmatized']\n",
    "vec = CountVectorizer().fit(x)\n",
    "def get_top_n_words(x, n):\n",
    "    vec = CountVectorizer().fit(x)\n",
    "bow=vec.transform(x)\n",
    "sum_words = bow.sum(axis=0)\n",
    "words_freq=[(word, sum_words[0, idx]) for word, idx in vec.vocabulary_.items()]\n",
    "words_freq=sorted(words_freq, key=lambda x: x[1], reverse=True)\n",
    "words_freq[:30]"
   ]
  },
  {
   "cell_type": "code",
   "execution_count": 131,
   "id": "dc68bcda",
   "metadata": {},
   "outputs": [
    {
     "data": {
      "application/vnd.plotly.v1+json": {
       "config": {
        "linkText": "Export to plot.ly",
        "plotlyServerURL": "https://plot.ly",
        "showLink": true
       },
       "data": [
        {
         "marker": {
          "color": "rgba(255, 153, 51, 0.6)",
          "line": {
           "color": "rgba(255, 153, 51, 1.0)",
           "width": 1
          }
         },
         "name": "Frequency",
         "orientation": "v",
         "text": "",
         "type": "bar",
         "x": [
          "datum",
          "security",
          "system",
          "attack",
          "model",
          "network",
          "cyber",
          "cybersecurity",
          "paper",
          "propose",
          "approach",
          "information",
          "detection",
          "provide",
          "method",
          "result",
          "threat",
          "present",
          "research",
          "user",
          "base",
          "application",
          "analysis",
          "use",
          "study",
          "new",
          "risk",
          "challenge",
          "learn",
          "technique"
         ],
         "y": [
          2349,
          2263,
          1949,
          1637,
          1374,
          1315,
          1236,
          1168,
          1074,
          1040,
          844,
          843,
          786,
          766,
          732,
          718,
          699,
          675,
          670,
          645,
          633,
          625,
          592,
          588,
          576,
          540,
          538,
          535,
          534,
          534
         ]
        }
       ],
       "layout": {
        "legend": {
         "bgcolor": "#F5F6F9",
         "font": {
          "color": "#4D5663"
         }
        },
        "paper_bgcolor": "#F5F6F9",
        "plot_bgcolor": "#F5F6F9",
        "template": {
         "data": {
          "bar": [
           {
            "error_x": {
             "color": "#2a3f5f"
            },
            "error_y": {
             "color": "#2a3f5f"
            },
            "marker": {
             "line": {
              "color": "#E5ECF6",
              "width": 0.5
             },
             "pattern": {
              "fillmode": "overlay",
              "size": 10,
              "solidity": 0.2
             }
            },
            "type": "bar"
           }
          ],
          "barpolar": [
           {
            "marker": {
             "line": {
              "color": "#E5ECF6",
              "width": 0.5
             },
             "pattern": {
              "fillmode": "overlay",
              "size": 10,
              "solidity": 0.2
             }
            },
            "type": "barpolar"
           }
          ],
          "carpet": [
           {
            "aaxis": {
             "endlinecolor": "#2a3f5f",
             "gridcolor": "white",
             "linecolor": "white",
             "minorgridcolor": "white",
             "startlinecolor": "#2a3f5f"
            },
            "baxis": {
             "endlinecolor": "#2a3f5f",
             "gridcolor": "white",
             "linecolor": "white",
             "minorgridcolor": "white",
             "startlinecolor": "#2a3f5f"
            },
            "type": "carpet"
           }
          ],
          "choropleth": [
           {
            "colorbar": {
             "outlinewidth": 0,
             "ticks": ""
            },
            "type": "choropleth"
           }
          ],
          "contour": [
           {
            "colorbar": {
             "outlinewidth": 0,
             "ticks": ""
            },
            "colorscale": [
             [
              0,
              "#0d0887"
             ],
             [
              0.1111111111111111,
              "#46039f"
             ],
             [
              0.2222222222222222,
              "#7201a8"
             ],
             [
              0.3333333333333333,
              "#9c179e"
             ],
             [
              0.4444444444444444,
              "#bd3786"
             ],
             [
              0.5555555555555556,
              "#d8576b"
             ],
             [
              0.6666666666666666,
              "#ed7953"
             ],
             [
              0.7777777777777778,
              "#fb9f3a"
             ],
             [
              0.8888888888888888,
              "#fdca26"
             ],
             [
              1,
              "#f0f921"
             ]
            ],
            "type": "contour"
           }
          ],
          "contourcarpet": [
           {
            "colorbar": {
             "outlinewidth": 0,
             "ticks": ""
            },
            "type": "contourcarpet"
           }
          ],
          "heatmap": [
           {
            "colorbar": {
             "outlinewidth": 0,
             "ticks": ""
            },
            "colorscale": [
             [
              0,
              "#0d0887"
             ],
             [
              0.1111111111111111,
              "#46039f"
             ],
             [
              0.2222222222222222,
              "#7201a8"
             ],
             [
              0.3333333333333333,
              "#9c179e"
             ],
             [
              0.4444444444444444,
              "#bd3786"
             ],
             [
              0.5555555555555556,
              "#d8576b"
             ],
             [
              0.6666666666666666,
              "#ed7953"
             ],
             [
              0.7777777777777778,
              "#fb9f3a"
             ],
             [
              0.8888888888888888,
              "#fdca26"
             ],
             [
              1,
              "#f0f921"
             ]
            ],
            "type": "heatmap"
           }
          ],
          "heatmapgl": [
           {
            "colorbar": {
             "outlinewidth": 0,
             "ticks": ""
            },
            "colorscale": [
             [
              0,
              "#0d0887"
             ],
             [
              0.1111111111111111,
              "#46039f"
             ],
             [
              0.2222222222222222,
              "#7201a8"
             ],
             [
              0.3333333333333333,
              "#9c179e"
             ],
             [
              0.4444444444444444,
              "#bd3786"
             ],
             [
              0.5555555555555556,
              "#d8576b"
             ],
             [
              0.6666666666666666,
              "#ed7953"
             ],
             [
              0.7777777777777778,
              "#fb9f3a"
             ],
             [
              0.8888888888888888,
              "#fdca26"
             ],
             [
              1,
              "#f0f921"
             ]
            ],
            "type": "heatmapgl"
           }
          ],
          "histogram": [
           {
            "marker": {
             "pattern": {
              "fillmode": "overlay",
              "size": 10,
              "solidity": 0.2
             }
            },
            "type": "histogram"
           }
          ],
          "histogram2d": [
           {
            "colorbar": {
             "outlinewidth": 0,
             "ticks": ""
            },
            "colorscale": [
             [
              0,
              "#0d0887"
             ],
             [
              0.1111111111111111,
              "#46039f"
             ],
             [
              0.2222222222222222,
              "#7201a8"
             ],
             [
              0.3333333333333333,
              "#9c179e"
             ],
             [
              0.4444444444444444,
              "#bd3786"
             ],
             [
              0.5555555555555556,
              "#d8576b"
             ],
             [
              0.6666666666666666,
              "#ed7953"
             ],
             [
              0.7777777777777778,
              "#fb9f3a"
             ],
             [
              0.8888888888888888,
              "#fdca26"
             ],
             [
              1,
              "#f0f921"
             ]
            ],
            "type": "histogram2d"
           }
          ],
          "histogram2dcontour": [
           {
            "colorbar": {
             "outlinewidth": 0,
             "ticks": ""
            },
            "colorscale": [
             [
              0,
              "#0d0887"
             ],
             [
              0.1111111111111111,
              "#46039f"
             ],
             [
              0.2222222222222222,
              "#7201a8"
             ],
             [
              0.3333333333333333,
              "#9c179e"
             ],
             [
              0.4444444444444444,
              "#bd3786"
             ],
             [
              0.5555555555555556,
              "#d8576b"
             ],
             [
              0.6666666666666666,
              "#ed7953"
             ],
             [
              0.7777777777777778,
              "#fb9f3a"
             ],
             [
              0.8888888888888888,
              "#fdca26"
             ],
             [
              1,
              "#f0f921"
             ]
            ],
            "type": "histogram2dcontour"
           }
          ],
          "mesh3d": [
           {
            "colorbar": {
             "outlinewidth": 0,
             "ticks": ""
            },
            "type": "mesh3d"
           }
          ],
          "parcoords": [
           {
            "line": {
             "colorbar": {
              "outlinewidth": 0,
              "ticks": ""
             }
            },
            "type": "parcoords"
           }
          ],
          "pie": [
           {
            "automargin": true,
            "type": "pie"
           }
          ],
          "scatter": [
           {
            "marker": {
             "colorbar": {
              "outlinewidth": 0,
              "ticks": ""
             }
            },
            "type": "scatter"
           }
          ],
          "scatter3d": [
           {
            "line": {
             "colorbar": {
              "outlinewidth": 0,
              "ticks": ""
             }
            },
            "marker": {
             "colorbar": {
              "outlinewidth": 0,
              "ticks": ""
             }
            },
            "type": "scatter3d"
           }
          ],
          "scattercarpet": [
           {
            "marker": {
             "colorbar": {
              "outlinewidth": 0,
              "ticks": ""
             }
            },
            "type": "scattercarpet"
           }
          ],
          "scattergeo": [
           {
            "marker": {
             "colorbar": {
              "outlinewidth": 0,
              "ticks": ""
             }
            },
            "type": "scattergeo"
           }
          ],
          "scattergl": [
           {
            "marker": {
             "colorbar": {
              "outlinewidth": 0,
              "ticks": ""
             }
            },
            "type": "scattergl"
           }
          ],
          "scattermapbox": [
           {
            "marker": {
             "colorbar": {
              "outlinewidth": 0,
              "ticks": ""
             }
            },
            "type": "scattermapbox"
           }
          ],
          "scatterpolar": [
           {
            "marker": {
             "colorbar": {
              "outlinewidth": 0,
              "ticks": ""
             }
            },
            "type": "scatterpolar"
           }
          ],
          "scatterpolargl": [
           {
            "marker": {
             "colorbar": {
              "outlinewidth": 0,
              "ticks": ""
             }
            },
            "type": "scatterpolargl"
           }
          ],
          "scatterternary": [
           {
            "marker": {
             "colorbar": {
              "outlinewidth": 0,
              "ticks": ""
             }
            },
            "type": "scatterternary"
           }
          ],
          "surface": [
           {
            "colorbar": {
             "outlinewidth": 0,
             "ticks": ""
            },
            "colorscale": [
             [
              0,
              "#0d0887"
             ],
             [
              0.1111111111111111,
              "#46039f"
             ],
             [
              0.2222222222222222,
              "#7201a8"
             ],
             [
              0.3333333333333333,
              "#9c179e"
             ],
             [
              0.4444444444444444,
              "#bd3786"
             ],
             [
              0.5555555555555556,
              "#d8576b"
             ],
             [
              0.6666666666666666,
              "#ed7953"
             ],
             [
              0.7777777777777778,
              "#fb9f3a"
             ],
             [
              0.8888888888888888,
              "#fdca26"
             ],
             [
              1,
              "#f0f921"
             ]
            ],
            "type": "surface"
           }
          ],
          "table": [
           {
            "cells": {
             "fill": {
              "color": "#EBF0F8"
             },
             "line": {
              "color": "white"
             }
            },
            "header": {
             "fill": {
              "color": "#C8D4E3"
             },
             "line": {
              "color": "white"
             }
            },
            "type": "table"
           }
          ]
         },
         "layout": {
          "annotationdefaults": {
           "arrowcolor": "#2a3f5f",
           "arrowhead": 0,
           "arrowwidth": 1
          },
          "autotypenumbers": "strict",
          "coloraxis": {
           "colorbar": {
            "outlinewidth": 0,
            "ticks": ""
           }
          },
          "colorscale": {
           "diverging": [
            [
             0,
             "#8e0152"
            ],
            [
             0.1,
             "#c51b7d"
            ],
            [
             0.2,
             "#de77ae"
            ],
            [
             0.3,
             "#f1b6da"
            ],
            [
             0.4,
             "#fde0ef"
            ],
            [
             0.5,
             "#f7f7f7"
            ],
            [
             0.6,
             "#e6f5d0"
            ],
            [
             0.7,
             "#b8e186"
            ],
            [
             0.8,
             "#7fbc41"
            ],
            [
             0.9,
             "#4d9221"
            ],
            [
             1,
             "#276419"
            ]
           ],
           "sequential": [
            [
             0,
             "#0d0887"
            ],
            [
             0.1111111111111111,
             "#46039f"
            ],
            [
             0.2222222222222222,
             "#7201a8"
            ],
            [
             0.3333333333333333,
             "#9c179e"
            ],
            [
             0.4444444444444444,
             "#bd3786"
            ],
            [
             0.5555555555555556,
             "#d8576b"
            ],
            [
             0.6666666666666666,
             "#ed7953"
            ],
            [
             0.7777777777777778,
             "#fb9f3a"
            ],
            [
             0.8888888888888888,
             "#fdca26"
            ],
            [
             1,
             "#f0f921"
            ]
           ],
           "sequentialminus": [
            [
             0,
             "#0d0887"
            ],
            [
             0.1111111111111111,
             "#46039f"
            ],
            [
             0.2222222222222222,
             "#7201a8"
            ],
            [
             0.3333333333333333,
             "#9c179e"
            ],
            [
             0.4444444444444444,
             "#bd3786"
            ],
            [
             0.5555555555555556,
             "#d8576b"
            ],
            [
             0.6666666666666666,
             "#ed7953"
            ],
            [
             0.7777777777777778,
             "#fb9f3a"
            ],
            [
             0.8888888888888888,
             "#fdca26"
            ],
            [
             1,
             "#f0f921"
            ]
           ]
          },
          "colorway": [
           "#636efa",
           "#EF553B",
           "#00cc96",
           "#ab63fa",
           "#FFA15A",
           "#19d3f3",
           "#FF6692",
           "#B6E880",
           "#FF97FF",
           "#FECB52"
          ],
          "font": {
           "color": "#2a3f5f"
          },
          "geo": {
           "bgcolor": "white",
           "lakecolor": "white",
           "landcolor": "#E5ECF6",
           "showlakes": true,
           "showland": true,
           "subunitcolor": "white"
          },
          "hoverlabel": {
           "align": "left"
          },
          "hovermode": "closest",
          "mapbox": {
           "style": "light"
          },
          "paper_bgcolor": "white",
          "plot_bgcolor": "#E5ECF6",
          "polar": {
           "angularaxis": {
            "gridcolor": "white",
            "linecolor": "white",
            "ticks": ""
           },
           "bgcolor": "#E5ECF6",
           "radialaxis": {
            "gridcolor": "white",
            "linecolor": "white",
            "ticks": ""
           }
          },
          "scene": {
           "xaxis": {
            "backgroundcolor": "#E5ECF6",
            "gridcolor": "white",
            "gridwidth": 2,
            "linecolor": "white",
            "showbackground": true,
            "ticks": "",
            "zerolinecolor": "white"
           },
           "yaxis": {
            "backgroundcolor": "#E5ECF6",
            "gridcolor": "white",
            "gridwidth": 2,
            "linecolor": "white",
            "showbackground": true,
            "ticks": "",
            "zerolinecolor": "white"
           },
           "zaxis": {
            "backgroundcolor": "#E5ECF6",
            "gridcolor": "white",
            "gridwidth": 2,
            "linecolor": "white",
            "showbackground": true,
            "ticks": "",
            "zerolinecolor": "white"
           }
          },
          "shapedefaults": {
           "line": {
            "color": "#2a3f5f"
           }
          },
          "ternary": {
           "aaxis": {
            "gridcolor": "white",
            "linecolor": "white",
            "ticks": ""
           },
           "baxis": {
            "gridcolor": "white",
            "linecolor": "white",
            "ticks": ""
           },
           "bgcolor": "#E5ECF6",
           "caxis": {
            "gridcolor": "white",
            "linecolor": "white",
            "ticks": ""
           }
          },
          "title": {
           "x": 0.05
          },
          "xaxis": {
           "automargin": true,
           "gridcolor": "white",
           "linecolor": "white",
           "ticks": "",
           "title": {
            "standoff": 15
           },
           "zerolinecolor": "white",
           "zerolinewidth": 2
          },
          "yaxis": {
           "automargin": true,
           "gridcolor": "white",
           "linecolor": "white",
           "ticks": "",
           "title": {
            "standoff": 15
           },
           "zerolinecolor": "white",
           "zerolinewidth": 2
          }
         }
        },
        "title": {
         "font": {
          "color": "#4D5663"
         },
         "text": "Top 30 Frequent Words"
        },
        "xaxis": {
         "gridcolor": "#E1E5ED",
         "showgrid": true,
         "tickfont": {
          "color": "#4D5663"
         },
         "title": {
          "font": {
           "color": "#4D5663"
          },
          "text": "Word"
         },
         "zerolinecolor": "#E1E5ED"
        },
        "yaxis": {
         "gridcolor": "#E1E5ED",
         "showgrid": true,
         "tickfont": {
          "color": "#4D5663"
         },
         "title": {
          "font": {
           "color": "#4D5663"
          },
          "text": "Count"
         },
         "zerolinecolor": "#E1E5ED"
        }
       }
      },
      "text/html": [
       "<div>                            <div id=\"d603324f-0e67-42e3-af38-a384157d0c1a\" class=\"plotly-graph-div\" style=\"height:525px; width:100%;\"></div>            <script type=\"text/javascript\">                require([\"plotly\"], function(Plotly) {                    window.PLOTLYENV=window.PLOTLYENV || {};\n",
       "                    window.PLOTLYENV.BASE_URL='https://plot.ly';                                    if (document.getElementById(\"d603324f-0e67-42e3-af38-a384157d0c1a\")) {                    Plotly.newPlot(                        \"d603324f-0e67-42e3-af38-a384157d0c1a\",                        [{\"marker\":{\"color\":\"rgba(255, 153, 51, 0.6)\",\"line\":{\"color\":\"rgba(255, 153, 51, 1.0)\",\"width\":1}},\"name\":\"Frequency\",\"orientation\":\"v\",\"text\":\"\",\"x\":[\"datum\",\"security\",\"system\",\"attack\",\"model\",\"network\",\"cyber\",\"cybersecurity\",\"paper\",\"propose\",\"approach\",\"information\",\"detection\",\"provide\",\"method\",\"result\",\"threat\",\"present\",\"research\",\"user\",\"base\",\"application\",\"analysis\",\"use\",\"study\",\"new\",\"risk\",\"challenge\",\"learn\",\"technique\"],\"y\":[2349,2263,1949,1637,1374,1315,1236,1168,1074,1040,844,843,786,766,732,718,699,675,670,645,633,625,592,588,576,540,538,535,534,534],\"type\":\"bar\"}],                        {\"legend\":{\"bgcolor\":\"#F5F6F9\",\"font\":{\"color\":\"#4D5663\"}},\"paper_bgcolor\":\"#F5F6F9\",\"plot_bgcolor\":\"#F5F6F9\",\"template\":{\"data\":{\"barpolar\":[{\"marker\":{\"line\":{\"color\":\"#E5ECF6\",\"width\":0.5},\"pattern\":{\"fillmode\":\"overlay\",\"size\":10,\"solidity\":0.2}},\"type\":\"barpolar\"}],\"bar\":[{\"error_x\":{\"color\":\"#2a3f5f\"},\"error_y\":{\"color\":\"#2a3f5f\"},\"marker\":{\"line\":{\"color\":\"#E5ECF6\",\"width\":0.5},\"pattern\":{\"fillmode\":\"overlay\",\"size\":10,\"solidity\":0.2}},\"type\":\"bar\"}],\"carpet\":[{\"aaxis\":{\"endlinecolor\":\"#2a3f5f\",\"gridcolor\":\"white\",\"linecolor\":\"white\",\"minorgridcolor\":\"white\",\"startlinecolor\":\"#2a3f5f\"},\"baxis\":{\"endlinecolor\":\"#2a3f5f\",\"gridcolor\":\"white\",\"linecolor\":\"white\",\"minorgridcolor\":\"white\",\"startlinecolor\":\"#2a3f5f\"},\"type\":\"carpet\"}],\"choropleth\":[{\"colorbar\":{\"outlinewidth\":0,\"ticks\":\"\"},\"type\":\"choropleth\"}],\"contourcarpet\":[{\"colorbar\":{\"outlinewidth\":0,\"ticks\":\"\"},\"type\":\"contourcarpet\"}],\"contour\":[{\"colorbar\":{\"outlinewidth\":0,\"ticks\":\"\"},\"colorscale\":[[0.0,\"#0d0887\"],[0.1111111111111111,\"#46039f\"],[0.2222222222222222,\"#7201a8\"],[0.3333333333333333,\"#9c179e\"],[0.4444444444444444,\"#bd3786\"],[0.5555555555555556,\"#d8576b\"],[0.6666666666666666,\"#ed7953\"],[0.7777777777777778,\"#fb9f3a\"],[0.8888888888888888,\"#fdca26\"],[1.0,\"#f0f921\"]],\"type\":\"contour\"}],\"heatmapgl\":[{\"colorbar\":{\"outlinewidth\":0,\"ticks\":\"\"},\"colorscale\":[[0.0,\"#0d0887\"],[0.1111111111111111,\"#46039f\"],[0.2222222222222222,\"#7201a8\"],[0.3333333333333333,\"#9c179e\"],[0.4444444444444444,\"#bd3786\"],[0.5555555555555556,\"#d8576b\"],[0.6666666666666666,\"#ed7953\"],[0.7777777777777778,\"#fb9f3a\"],[0.8888888888888888,\"#fdca26\"],[1.0,\"#f0f921\"]],\"type\":\"heatmapgl\"}],\"heatmap\":[{\"colorbar\":{\"outlinewidth\":0,\"ticks\":\"\"},\"colorscale\":[[0.0,\"#0d0887\"],[0.1111111111111111,\"#46039f\"],[0.2222222222222222,\"#7201a8\"],[0.3333333333333333,\"#9c179e\"],[0.4444444444444444,\"#bd3786\"],[0.5555555555555556,\"#d8576b\"],[0.6666666666666666,\"#ed7953\"],[0.7777777777777778,\"#fb9f3a\"],[0.8888888888888888,\"#fdca26\"],[1.0,\"#f0f921\"]],\"type\":\"heatmap\"}],\"histogram2dcontour\":[{\"colorbar\":{\"outlinewidth\":0,\"ticks\":\"\"},\"colorscale\":[[0.0,\"#0d0887\"],[0.1111111111111111,\"#46039f\"],[0.2222222222222222,\"#7201a8\"],[0.3333333333333333,\"#9c179e\"],[0.4444444444444444,\"#bd3786\"],[0.5555555555555556,\"#d8576b\"],[0.6666666666666666,\"#ed7953\"],[0.7777777777777778,\"#fb9f3a\"],[0.8888888888888888,\"#fdca26\"],[1.0,\"#f0f921\"]],\"type\":\"histogram2dcontour\"}],\"histogram2d\":[{\"colorbar\":{\"outlinewidth\":0,\"ticks\":\"\"},\"colorscale\":[[0.0,\"#0d0887\"],[0.1111111111111111,\"#46039f\"],[0.2222222222222222,\"#7201a8\"],[0.3333333333333333,\"#9c179e\"],[0.4444444444444444,\"#bd3786\"],[0.5555555555555556,\"#d8576b\"],[0.6666666666666666,\"#ed7953\"],[0.7777777777777778,\"#fb9f3a\"],[0.8888888888888888,\"#fdca26\"],[1.0,\"#f0f921\"]],\"type\":\"histogram2d\"}],\"histogram\":[{\"marker\":{\"pattern\":{\"fillmode\":\"overlay\",\"size\":10,\"solidity\":0.2}},\"type\":\"histogram\"}],\"mesh3d\":[{\"colorbar\":{\"outlinewidth\":0,\"ticks\":\"\"},\"type\":\"mesh3d\"}],\"parcoords\":[{\"line\":{\"colorbar\":{\"outlinewidth\":0,\"ticks\":\"\"}},\"type\":\"parcoords\"}],\"pie\":[{\"automargin\":true,\"type\":\"pie\"}],\"scatter3d\":[{\"line\":{\"colorbar\":{\"outlinewidth\":0,\"ticks\":\"\"}},\"marker\":{\"colorbar\":{\"outlinewidth\":0,\"ticks\":\"\"}},\"type\":\"scatter3d\"}],\"scattercarpet\":[{\"marker\":{\"colorbar\":{\"outlinewidth\":0,\"ticks\":\"\"}},\"type\":\"scattercarpet\"}],\"scattergeo\":[{\"marker\":{\"colorbar\":{\"outlinewidth\":0,\"ticks\":\"\"}},\"type\":\"scattergeo\"}],\"scattergl\":[{\"marker\":{\"colorbar\":{\"outlinewidth\":0,\"ticks\":\"\"}},\"type\":\"scattergl\"}],\"scattermapbox\":[{\"marker\":{\"colorbar\":{\"outlinewidth\":0,\"ticks\":\"\"}},\"type\":\"scattermapbox\"}],\"scatterpolargl\":[{\"marker\":{\"colorbar\":{\"outlinewidth\":0,\"ticks\":\"\"}},\"type\":\"scatterpolargl\"}],\"scatterpolar\":[{\"marker\":{\"colorbar\":{\"outlinewidth\":0,\"ticks\":\"\"}},\"type\":\"scatterpolar\"}],\"scatter\":[{\"marker\":{\"colorbar\":{\"outlinewidth\":0,\"ticks\":\"\"}},\"type\":\"scatter\"}],\"scatterternary\":[{\"marker\":{\"colorbar\":{\"outlinewidth\":0,\"ticks\":\"\"}},\"type\":\"scatterternary\"}],\"surface\":[{\"colorbar\":{\"outlinewidth\":0,\"ticks\":\"\"},\"colorscale\":[[0.0,\"#0d0887\"],[0.1111111111111111,\"#46039f\"],[0.2222222222222222,\"#7201a8\"],[0.3333333333333333,\"#9c179e\"],[0.4444444444444444,\"#bd3786\"],[0.5555555555555556,\"#d8576b\"],[0.6666666666666666,\"#ed7953\"],[0.7777777777777778,\"#fb9f3a\"],[0.8888888888888888,\"#fdca26\"],[1.0,\"#f0f921\"]],\"type\":\"surface\"}],\"table\":[{\"cells\":{\"fill\":{\"color\":\"#EBF0F8\"},\"line\":{\"color\":\"white\"}},\"header\":{\"fill\":{\"color\":\"#C8D4E3\"},\"line\":{\"color\":\"white\"}},\"type\":\"table\"}]},\"layout\":{\"annotationdefaults\":{\"arrowcolor\":\"#2a3f5f\",\"arrowhead\":0,\"arrowwidth\":1},\"autotypenumbers\":\"strict\",\"coloraxis\":{\"colorbar\":{\"outlinewidth\":0,\"ticks\":\"\"}},\"colorscale\":{\"diverging\":[[0,\"#8e0152\"],[0.1,\"#c51b7d\"],[0.2,\"#de77ae\"],[0.3,\"#f1b6da\"],[0.4,\"#fde0ef\"],[0.5,\"#f7f7f7\"],[0.6,\"#e6f5d0\"],[0.7,\"#b8e186\"],[0.8,\"#7fbc41\"],[0.9,\"#4d9221\"],[1,\"#276419\"]],\"sequential\":[[0.0,\"#0d0887\"],[0.1111111111111111,\"#46039f\"],[0.2222222222222222,\"#7201a8\"],[0.3333333333333333,\"#9c179e\"],[0.4444444444444444,\"#bd3786\"],[0.5555555555555556,\"#d8576b\"],[0.6666666666666666,\"#ed7953\"],[0.7777777777777778,\"#fb9f3a\"],[0.8888888888888888,\"#fdca26\"],[1.0,\"#f0f921\"]],\"sequentialminus\":[[0.0,\"#0d0887\"],[0.1111111111111111,\"#46039f\"],[0.2222222222222222,\"#7201a8\"],[0.3333333333333333,\"#9c179e\"],[0.4444444444444444,\"#bd3786\"],[0.5555555555555556,\"#d8576b\"],[0.6666666666666666,\"#ed7953\"],[0.7777777777777778,\"#fb9f3a\"],[0.8888888888888888,\"#fdca26\"],[1.0,\"#f0f921\"]]},\"colorway\":[\"#636efa\",\"#EF553B\",\"#00cc96\",\"#ab63fa\",\"#FFA15A\",\"#19d3f3\",\"#FF6692\",\"#B6E880\",\"#FF97FF\",\"#FECB52\"],\"font\":{\"color\":\"#2a3f5f\"},\"geo\":{\"bgcolor\":\"white\",\"lakecolor\":\"white\",\"landcolor\":\"#E5ECF6\",\"showlakes\":true,\"showland\":true,\"subunitcolor\":\"white\"},\"hoverlabel\":{\"align\":\"left\"},\"hovermode\":\"closest\",\"mapbox\":{\"style\":\"light\"},\"paper_bgcolor\":\"white\",\"plot_bgcolor\":\"#E5ECF6\",\"polar\":{\"angularaxis\":{\"gridcolor\":\"white\",\"linecolor\":\"white\",\"ticks\":\"\"},\"bgcolor\":\"#E5ECF6\",\"radialaxis\":{\"gridcolor\":\"white\",\"linecolor\":\"white\",\"ticks\":\"\"}},\"scene\":{\"xaxis\":{\"backgroundcolor\":\"#E5ECF6\",\"gridcolor\":\"white\",\"gridwidth\":2,\"linecolor\":\"white\",\"showbackground\":true,\"ticks\":\"\",\"zerolinecolor\":\"white\"},\"yaxis\":{\"backgroundcolor\":\"#E5ECF6\",\"gridcolor\":\"white\",\"gridwidth\":2,\"linecolor\":\"white\",\"showbackground\":true,\"ticks\":\"\",\"zerolinecolor\":\"white\"},\"zaxis\":{\"backgroundcolor\":\"#E5ECF6\",\"gridcolor\":\"white\",\"gridwidth\":2,\"linecolor\":\"white\",\"showbackground\":true,\"ticks\":\"\",\"zerolinecolor\":\"white\"}},\"shapedefaults\":{\"line\":{\"color\":\"#2a3f5f\"}},\"ternary\":{\"aaxis\":{\"gridcolor\":\"white\",\"linecolor\":\"white\",\"ticks\":\"\"},\"baxis\":{\"gridcolor\":\"white\",\"linecolor\":\"white\",\"ticks\":\"\"},\"bgcolor\":\"#E5ECF6\",\"caxis\":{\"gridcolor\":\"white\",\"linecolor\":\"white\",\"ticks\":\"\"}},\"title\":{\"x\":0.05},\"xaxis\":{\"automargin\":true,\"gridcolor\":\"white\",\"linecolor\":\"white\",\"ticks\":\"\",\"title\":{\"standoff\":15},\"zerolinecolor\":\"white\",\"zerolinewidth\":2},\"yaxis\":{\"automargin\":true,\"gridcolor\":\"white\",\"linecolor\":\"white\",\"ticks\":\"\",\"title\":{\"standoff\":15},\"zerolinecolor\":\"white\",\"zerolinewidth\":2}}},\"title\":{\"font\":{\"color\":\"#4D5663\"},\"text\":\"Top 30 Frequent Words\"},\"xaxis\":{\"gridcolor\":\"#E1E5ED\",\"showgrid\":true,\"tickfont\":{\"color\":\"#4D5663\"},\"title\":{\"font\":{\"color\":\"#4D5663\"},\"text\":\"Word\"},\"zerolinecolor\":\"#E1E5ED\"},\"yaxis\":{\"gridcolor\":\"#E1E5ED\",\"showgrid\":true,\"tickfont\":{\"color\":\"#4D5663\"},\"title\":{\"font\":{\"color\":\"#4D5663\"},\"text\":\"Count\"},\"zerolinecolor\":\"#E1E5ED\"}},                        {\"showLink\": true, \"linkText\": \"Export to plot.ly\", \"plotlyServerURL\": \"https://plot.ly\", \"responsive\": true}                    ).then(function(){\n",
       "                            \n",
       "var gd = document.getElementById('d603324f-0e67-42e3-af38-a384157d0c1a');\n",
       "var x = new MutationObserver(function (mutations, observer) {{\n",
       "        var display = window.getComputedStyle(gd).display;\n",
       "        if (!display || display === 'none') {{\n",
       "            console.log([gd, 'removed!']);\n",
       "            Plotly.purge(gd);\n",
       "            observer.disconnect();\n",
       "        }}\n",
       "}});\n",
       "\n",
       "// Listen for the removal of the full notebook cells\n",
       "var notebookContainer = gd.closest('#notebook-container');\n",
       "if (notebookContainer) {{\n",
       "    x.observe(notebookContainer, {childList: true});\n",
       "}}\n",
       "\n",
       "// Listen for the clearing of the current output cell\n",
       "var outputEl = gd.closest('.output');\n",
       "if (outputEl) {{\n",
       "    x.observe(outputEl, {childList: true});\n",
       "}}\n",
       "\n",
       "                        })                };                });            </script>        </div>"
      ]
     },
     "metadata": {},
     "output_type": "display_data"
    }
   ],
   "source": [
    "top_output=pd.DataFrame(words_freq[:30], columns = ['Word', 'Frequency'])\n",
    "top_output=top_output.set_index('Word')\n",
    "top_output.iplot(kind='bar', xTitle='Word', yTitle='Count', title='Top 30 Frequent Words')"
   ]
  },
  {
   "cell_type": "code",
   "execution_count": 132,
   "id": "e479d1bb",
   "metadata": {},
   "outputs": [
    {
     "data": {
      "text/plain": [
       "<seaborn.axisgrid.PairGrid at 0x270519f2c70>"
      ]
     },
     "execution_count": 132,
     "metadata": {},
     "output_type": "execute_result"
    },
    {
     "data": {
      "image/png": "[encoded data removed]",
      "text/plain": [
       "<Figure size 540x540 with 12 Axes>"
      ]
     },
     "metadata": {
      "needs_background": "light"
     },
     "output_type": "display_data"
    }
   ],
   "source": [
    "sns.pairplot(new)"
   ]
  },
  {
   "cell_type": "code",
   "execution_count": null,
   "id": "3c649816",
   "metadata": {},
   "outputs": [],
   "source": []
  }
 ],
 "metadata": {
  "kernelspec": {
   "display_name": "Python 3 (ipykernel)",
   "language": "python",
   "name": "python3"
  },
  "language_info": {
   "codemirror_mode": {
    "name": "ipython",
    "version": 3
   },
   "file_extension": ".py",
   "mimetype": "text/x-python",
   "name": "python",
   "nbconvert_exporter": "python",
   "pygments_lexer": "ipython3",
   "version": "3.9.7"
  }
 },
 "nbformat": 4,
 "nbformat_minor": 5
}
